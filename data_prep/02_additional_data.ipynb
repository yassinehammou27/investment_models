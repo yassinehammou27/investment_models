{
 "cells": [
  {
   "cell_type": "markdown",
   "metadata": {},
   "source": [
    "# 02 Additiona Data (Economic Data)\n",
    "\n",
    "In this notebook we merge the monthly and yearly economic data from the different counties together."
   ]
  },
  {
   "cell_type": "code",
   "execution_count": 188,
   "metadata": {},
   "outputs": [],
   "source": [
    "import pandas as pd\n",
    "import plotly.express as px\n",
    "import dask.dataframe as dd\n",
    "import dask\n",
    "import numpy as np"
   ]
  },
  {
   "cell_type": "markdown",
   "metadata": {},
   "source": [
    "### Additional Data"
   ]
  },
  {
   "cell_type": "markdown",
   "metadata": {},
   "source": [
    "- employment\n",
    "- unemployment\n",
    "- unemployment rate\n",
    "- population\n",
    "- poverty all\n",
    "- poverty young\n",
    "- poverty rate all\n",
    "- poverty rate young\n",
    "- household income\n",
    "- civilian labour force\n",
    "- HPI\n",
    "- new private housing structure"
   ]
  },
  {
   "cell_type": "markdown",
   "metadata": {},
   "source": [
    "#### 1. Empoyment"
   ]
  },
  {
   "cell_type": "code",
   "execution_count": 189,
   "metadata": {},
   "outputs": [],
   "source": [
    "fairfax_employment = pd.read_csv(\"../data/raw/additional_data/Fairfax/employment_fairfax.csv\")\n",
    "fairfield_employment = pd.read_csv(\"../data/raw/additional_data/Fairfield/employed_people_fairfield.csv\")\n",
    "hartford_employment = pd.read_csv(\"../data/raw/additional_data/Hartford/employed_hartford.csv\")\n",
    "litchfield_employment = pd.read_csv(\"../data/raw/additional_data/Litchfield/employed_litchfield.csv\")\n",
    "middlesex_employment = pd.read_csv(\"../data/raw/additional_data/Middlesex/employed_middlesex.csv\")\n",
    "newhaven_employment = pd.read_csv(\"../data/raw/additional_data/New Haven/employed_all.csv\")\n",
    "newlondon_employment = pd.read_csv(\"../data/raw/additional_data/New London/employed_newlondon.csv\")\n",
    "tolland_employment = pd.read_csv(\"../data/raw/additional_data/Tolland/employed_tolland.csv\")\n",
    "windham_employment = pd.read_csv(\"../data/raw/additional_data/Windham/employed_all_windham.csv\")"
   ]
  },
  {
   "cell_type": "code",
   "execution_count": 190,
   "metadata": {},
   "outputs": [],
   "source": [
    "fairfax_employment.columns = [\"date\", \"n_employed\"]\n",
    "fairfield_employment.columns = [\"date\", \"n_employed\"]\n",
    "hartford_employment.columns = [\"date\", \"n_employed\"]\n",
    "litchfield_employment.columns = [\"date\", \"n_employed\"]\n",
    "middlesex_employment.columns = [\"date\", \"n_employed\"]\n",
    "newhaven_employment.columns = [\"date\", \"n_employed\"]\n",
    "newlondon_employment.columns = [\"date\", \"n_employed\"]\n",
    "tolland_employment.columns = [\"date\", \"n_employed\"]\n",
    "windham_employment.columns = [\"date\", \"n_employed\"]"
   ]
  },
  {
   "cell_type": "code",
   "execution_count": 191,
   "metadata": {},
   "outputs": [],
   "source": [
    "fairfax_employment[\"county\"] = \"fairfax\"\n",
    "fairfield_employment[\"county\"] = \"fairfield\"\n",
    "hartford_employment[\"county\"] = \"hartford\"\n",
    "litchfield_employment[\"county\"] = \"litchfield\"\n",
    "middlesex_employment[\"county\"] = \"middlesex\"\n",
    "newhaven_employment[\"county\"] = \"new haven\"\n",
    "newlondon_employment[\"county\"] = \"new london\"\n",
    "tolland_employment[\"county\"] = \"tolland\"\n",
    "windham_employment[\"county\"] = \"windham\""
   ]
  },
  {
   "cell_type": "code",
   "execution_count": 192,
   "metadata": {},
   "outputs": [],
   "source": [
    "employment = pd.concat([fairfax_employment, \n",
    "           fairfield_employment,\n",
    "           hartford_employment,\n",
    "           litchfield_employment,\n",
    "           middlesex_employment,\n",
    "           newhaven_employment,\n",
    "           newlondon_employment,\n",
    "           tolland_employment,\n",
    "           windham_employment])"
   ]
  },
  {
   "cell_type": "code",
   "execution_count": 194,
   "metadata": {},
   "outputs": [],
   "source": [
    "employment.to_csv(\"../data/raw/econ/employment.csv\")"
   ]
  },
  {
   "cell_type": "markdown",
   "metadata": {},
   "source": [
    "#### 2. Unemployment"
   ]
  },
  {
   "cell_type": "code",
   "execution_count": 195,
   "metadata": {},
   "outputs": [],
   "source": [
    "fairfax_unemployment = pd.read_csv(\"../data/raw/additional_data/Fairfax/unemployed_fairfax.csv\")\n",
    "fairfield_unemployment = pd.read_csv(\"../data/raw/additional_data/Fairfield/unemployed_fairfield.csv\")\n",
    "hartford_unemployment = pd.read_csv(\"../data/raw/additional_data/Hartford/unemployed_hartford.csv\")\n",
    "litchfield_unemployment = pd.read_csv(\"../data/raw/additional_data/Litchfield/unemployed_litchfield.csv\")\n",
    "middlesex_unemployment = pd.read_csv(\"../data/raw/additional_data/Middlesex/unemployed_middlesex.csv\")\n",
    "newhaven_unemployment = pd.read_csv(\"../data/raw/additional_data/New Haven/unemployed_newhaven.csv\")\n",
    "newlondon_unemployment = pd.read_csv(\"../data/raw/additional_data/New London/unemployed_newlondon.csv\")\n",
    "tolland_unemployment = pd.read_csv(\"../data/raw/additional_data/Tolland/unemployed_tolland.csv\")\n",
    "windham_unemployment = pd.read_csv(\"../data/raw/additional_data/Windham/unemployed_windham.csv\")"
   ]
  },
  {
   "cell_type": "code",
   "execution_count": 196,
   "metadata": {},
   "outputs": [],
   "source": [
    "fairfax_unemployment.columns = [\"date\", \"n_unemployed\"]\n",
    "fairfield_unemployment.columns = [\"date\", \"n_unemployed\"]\n",
    "hartford_unemployment.columns = [\"date\", \"n_unemployed\"]\n",
    "litchfield_unemployment.columns = [\"date\", \"n_unemployed\"]\n",
    "middlesex_unemployment.columns = [\"date\", \"n_unemployed\"]\n",
    "newhaven_unemployment.columns = [\"date\", \"n_unemployed\"]\n",
    "newlondon_unemployment.columns = [\"date\", \"n_unemployed\"]\n",
    "tolland_unemployment.columns = [\"date\", \"n_unemployed\"]\n",
    "windham_unemployment.columns = [\"date\", \"n_unemployed\"]"
   ]
  },
  {
   "cell_type": "code",
   "execution_count": 197,
   "metadata": {},
   "outputs": [],
   "source": [
    "fairfax_unemployment[\"county\"] = \"fairfax\"\n",
    "fairfield_unemployment[\"county\"] = \"fairfield\"\n",
    "hartford_unemployment[\"county\"] = \"hartford\"\n",
    "litchfield_unemployment[\"county\"] = \"litchfield\"\n",
    "middlesex_unemployment[\"county\"] = \"middlesex\"\n",
    "newhaven_unemployment[\"county\"] = \"new haven\"\n",
    "newlondon_unemployment[\"county\"] = \"new london\"\n",
    "tolland_unemployment[\"county\"] = \"tolland\"\n",
    "windham_unemployment[\"county\"] = \"windham\""
   ]
  },
  {
   "cell_type": "code",
   "execution_count": 198,
   "metadata": {},
   "outputs": [],
   "source": [
    "unemployment = pd.concat([fairfax_unemployment, \n",
    "           fairfield_unemployment,\n",
    "           hartford_unemployment,\n",
    "           litchfield_unemployment,\n",
    "           middlesex_unemployment,\n",
    "           newhaven_unemployment,\n",
    "           newlondon_unemployment,\n",
    "           tolland_unemployment,\n",
    "           windham_unemployment])"
   ]
  },
  {
   "cell_type": "code",
   "execution_count": 200,
   "metadata": {},
   "outputs": [],
   "source": [
    "unemployment.to_csv(\"../data/raw/econ/unemployment.csv\")"
   ]
  },
  {
   "cell_type": "markdown",
   "metadata": {},
   "source": [
    "#### 3. Unemployment-Rate"
   ]
  },
  {
   "cell_type": "code",
   "execution_count": 201,
   "metadata": {},
   "outputs": [],
   "source": [
    "fairfax_unemployment_rate = pd.read_csv(\"../data/raw/additional_data/Fairfax/unemployment_rate_fairfax.csv\")\n",
    "fairfield_unemployment_rate = pd.read_csv(\"../data/raw/additional_data/Fairfield/unemployment_rate_fairfield.csv\")\n",
    "hartford_unemployment_rate = pd.read_csv(\"../data/raw/additional_data/Hartford/unemployment_rate_hartford.csv\")\n",
    "litchfield_unemployment_rate = pd.read_csv(\"../data/raw/additional_data/Litchfield/unemployment_rate_litchfield.csv\")\n",
    "middlesex_unemployment_rate = pd.read_csv(\"../data/raw/additional_data/Middlesex/unemployment_rate_middlesex.csv\")\n",
    "newhaven_unemployment_rate = pd.read_csv(\"../data/raw/additional_data/New Haven/unemployment_rate_newhaven.csv\")\n",
    "newlondon_unemployment_rate = pd.read_csv(\"../data/raw/additional_data/New London/unemployment_rate_newlondon.csv\")\n",
    "tolland_unemployment_rate = pd.read_csv(\"../data/raw/additional_data/Tolland/unemployment_rate_tolland.csv\")\n",
    "windham_unemployment_rate = pd.read_csv(\"../data/raw/additional_data/Windham/unemployment_rate_windham.csv\")"
   ]
  },
  {
   "cell_type": "code",
   "execution_count": 202,
   "metadata": {},
   "outputs": [],
   "source": [
    "fairfax_unemployment_rate.columns = [\"date\", \"unemployment_rate\"]\n",
    "fairfield_unemployment_rate.columns = [\"date\", \"unemployment_rate\"]\n",
    "hartford_unemployment_rate.columns = [\"date\", \"unemployment_rate\"]\n",
    "litchfield_unemployment_rate.columns = [\"date\", \"unemployment_rate\"]\n",
    "middlesex_unemployment_rate.columns = [\"date\", \"unemployment_rate\"]\n",
    "newhaven_unemployment_rate.columns = [\"date\", \"unemployment_rate\"]\n",
    "newlondon_unemployment_rate.columns = [\"date\", \"unemployment_rate\"]\n",
    "tolland_unemployment_rate.columns = [\"date\", \"unemployment_rate\"]\n",
    "windham_unemployment_rate.columns = [\"date\", \"unemployment_rate\"]"
   ]
  },
  {
   "cell_type": "code",
   "execution_count": 203,
   "metadata": {},
   "outputs": [],
   "source": [
    "fairfax_unemployment_rate[\"county\"] = \"fairfax\"\n",
    "fairfield_unemployment_rate[\"county\"] = \"fairfield\"\n",
    "hartford_unemployment_rate[\"county\"] = \"hartford\"\n",
    "litchfield_unemployment_rate[\"county\"] = \"litchfield\"\n",
    "middlesex_unemployment_rate[\"county\"] = \"middlesex\"\n",
    "newhaven_unemployment_rate[\"county\"] = \"new haven\"\n",
    "newlondon_unemployment_rate[\"county\"] = \"new london\"\n",
    "tolland_unemployment_rate[\"county\"] = \"tolland\"\n",
    "windham_unemployment_rate[\"county\"] = \"windham\""
   ]
  },
  {
   "cell_type": "code",
   "execution_count": 204,
   "metadata": {},
   "outputs": [],
   "source": [
    "unemployment_rate = pd.concat([fairfax_unemployment_rate, \n",
    "           fairfield_unemployment_rate,\n",
    "           hartford_unemployment_rate,\n",
    "           litchfield_unemployment_rate,\n",
    "           middlesex_unemployment_rate,\n",
    "           newhaven_unemployment_rate,\n",
    "           newlondon_unemployment_rate,\n",
    "           tolland_unemployment_rate,\n",
    "           windham_unemployment_rate])"
   ]
  },
  {
   "cell_type": "code",
   "execution_count": 206,
   "metadata": {},
   "outputs": [],
   "source": [
    "unemployment_rate.to_csv(\"../data/raw/econ/unemployment_rate.csv\")"
   ]
  },
  {
   "cell_type": "markdown",
   "metadata": {},
   "source": [
    "#### 4. Population"
   ]
  },
  {
   "cell_type": "code",
   "execution_count": 207,
   "metadata": {},
   "outputs": [],
   "source": [
    "fairfax_population = pd.read_csv(\"../data/raw/additional_data/Fairfax/population_fairfax.csv\")\n",
    "fairfield_population = pd.read_csv(\"../data/raw/additional_data/Fairfield/population_fairfield.csv\")\n",
    "hartford_population = pd.read_csv(\"../data/raw/additional_data/Hartford/population_hartford.csv\")\n",
    "litchfield_population = pd.read_csv(\"../data/raw/additional_data/Litchfield/population_litchfield.csv\")\n",
    "middlesex_population = pd.read_csv(\"../data/raw/additional_data/Middlesex/population_middlesex.csv\")\n",
    "newhaven_population = pd.read_csv(\"../data/raw/additional_data/New Haven/population_newhaven.csv\")\n",
    "newlondon_population = pd.read_csv(\"../data/raw/additional_data/New London/population_newlondon.csv\")\n",
    "tolland_population = pd.read_csv(\"../data/raw/additional_data/Tolland/population_tolland.csv\")\n",
    "windham_population = pd.read_csv(\"../data/raw/additional_data/Windham/population_windham.csv\")"
   ]
  },
  {
   "cell_type": "code",
   "execution_count": 208,
   "metadata": {},
   "outputs": [],
   "source": [
    "fairfax_population.columns = [\"date\", \"population\"]\n",
    "fairfield_population.columns = [\"date\", \"population\"]\n",
    "hartford_population.columns = [\"date\", \"population\"]\n",
    "litchfield_population.columns = [\"date\", \"population\"]\n",
    "middlesex_population.columns = [\"date\", \"population\"]\n",
    "newhaven_population.columns = [\"date\", \"population\"]\n",
    "newlondon_population.columns = [\"date\", \"population\"]\n",
    "tolland_population.columns = [\"date\", \"population\"]\n",
    "windham_population.columns = [\"date\", \"population\"]"
   ]
  },
  {
   "cell_type": "code",
   "execution_count": 209,
   "metadata": {},
   "outputs": [],
   "source": [
    "fairfax_population[\"county\"] = \"fairfax\"\n",
    "fairfield_population[\"county\"] = \"fairfield\"\n",
    "hartford_population[\"county\"] = \"hartford\"\n",
    "litchfield_population[\"county\"] = \"litchfield\"\n",
    "middlesex_population[\"county\"] = \"middlesex\"\n",
    "newhaven_population[\"county\"] = \"new haven\"\n",
    "newlondon_population[\"county\"] = \"new london\"\n",
    "tolland_population[\"county\"] = \"tolland\"\n",
    "windham_population[\"county\"] = \"windham\""
   ]
  },
  {
   "cell_type": "code",
   "execution_count": 210,
   "metadata": {},
   "outputs": [],
   "source": [
    "population = pd.concat([fairfax_population, \n",
    "           fairfield_population,\n",
    "           hartford_population,\n",
    "           litchfield_population,\n",
    "           middlesex_population,\n",
    "           newhaven_population,\n",
    "           newlondon_population,\n",
    "           tolland_population,\n",
    "           windham_population])"
   ]
  },
  {
   "cell_type": "code",
   "execution_count": 212,
   "metadata": {},
   "outputs": [],
   "source": [
    "population.to_csv(\"../data/raw/econ/population.csv\")"
   ]
  },
  {
   "cell_type": "markdown",
   "metadata": {},
   "source": [
    "#### 5. Poverty Young People"
   ]
  },
  {
   "cell_type": "code",
   "execution_count": 213,
   "metadata": {},
   "outputs": [],
   "source": [
    "fairfax_poverty_young = pd.read_csv(\"../data/raw/additional_data/Fairfax/poverty_young_fairfax.csv\")\n",
    "fairfield_poverty_young = pd.read_csv(\"../data/raw/additional_data/Fairfield/poverty_young_fairfield.csv\")\n",
    "hartford_poverty_young = pd.read_csv(\"../data/raw/additional_data/Hartford/poverty_young_hartford.csv\")\n",
    "litchfield_poverty_young = pd.read_csv(\"../data/raw/additional_data/Litchfield/poverty_young_litchfield.csv\")\n",
    "middlesex_poverty_young = pd.read_csv(\"../data/raw/additional_data/Middlesex/poverty_young_middlesex.csv\")\n",
    "newhaven_poverty_young = pd.read_csv(\"../data/raw/additional_data/New Haven/poverty_young_newhaven.csv\")\n",
    "newlondon_poverty_young = pd.read_csv(\"../data/raw/additional_data/New London/poverty_young_newlondon.csv\")\n",
    "tolland_poverty_young = pd.read_csv(\"../data/raw/additional_data/Tolland/poverty_young_tolland.csv\")\n",
    "windham_poverty_young = pd.read_csv(\"../data/raw/additional_data/Windham/poverty_young_windham.csv\")"
   ]
  },
  {
   "cell_type": "code",
   "execution_count": 214,
   "metadata": {},
   "outputs": [],
   "source": [
    "fairfax_poverty_young.columns = [\"date\", \"n_poverty_young\"]\n",
    "fairfield_poverty_young.columns = [\"date\", \"n_poverty_young\"]\n",
    "hartford_poverty_young.columns = [\"date\", \"n_poverty_young\"]\n",
    "litchfield_poverty_young.columns = [\"date\", \"n_poverty_young\"]\n",
    "middlesex_poverty_young.columns = [\"date\", \"n_poverty_young\"]\n",
    "newhaven_poverty_young.columns = [\"date\", \"n_poverty_young\"]\n",
    "newlondon_poverty_young.columns = [\"date\", \"n_poverty_young\"]\n",
    "tolland_poverty_young.columns = [\"date\", \"n_poverty_young\"]\n",
    "windham_poverty_young.columns = [\"date\", \"n_poverty_young\"]"
   ]
  },
  {
   "cell_type": "code",
   "execution_count": 215,
   "metadata": {},
   "outputs": [],
   "source": [
    "fairfax_poverty_young[\"county\"] = \"fairfax\"\n",
    "fairfield_poverty_young[\"county\"] = \"fairfield\"\n",
    "hartford_poverty_young[\"county\"] = \"hartford\"\n",
    "litchfield_poverty_young[\"county\"] = \"litchfield\"\n",
    "middlesex_poverty_young[\"county\"] = \"middlesex\"\n",
    "newhaven_poverty_young[\"county\"] = \"new haven\"\n",
    "newlondon_poverty_young[\"county\"] = \"new london\"\n",
    "tolland_poverty_young[\"county\"] = \"tolland\"\n",
    "windham_poverty_young[\"county\"] = \"windham\""
   ]
  },
  {
   "cell_type": "code",
   "execution_count": 216,
   "metadata": {},
   "outputs": [],
   "source": [
    "n_poverty_young = pd.concat([fairfax_poverty_young, \n",
    "           fairfield_poverty_young,\n",
    "           hartford_poverty_young,\n",
    "           litchfield_poverty_young,\n",
    "           middlesex_poverty_young,\n",
    "           newhaven_poverty_young,\n",
    "           newlondon_poverty_young,\n",
    "           tolland_poverty_young,\n",
    "           windham_poverty_young])"
   ]
  },
  {
   "cell_type": "code",
   "execution_count": 218,
   "metadata": {},
   "outputs": [],
   "source": [
    "n_poverty_young.to_csv(\"../data/raw/econ/poverty_young.csv\")"
   ]
  },
  {
   "cell_type": "markdown",
   "metadata": {},
   "source": [
    "#### 6. Poverty All"
   ]
  },
  {
   "cell_type": "code",
   "execution_count": 219,
   "metadata": {},
   "outputs": [],
   "source": [
    "fairfax_poverty_all = pd.read_csv(\"../data/raw/additional_data/Fairfax/poverty_all_fairfax.csv\")\n",
    "fairfield_poverty_all = pd.read_csv(\"../data/raw/additional_data/Fairfield/poverty_all_fairfield.csv\")\n",
    "hartford_poverty_all = pd.read_csv(\"../data/raw/additional_data/Hartford/poverty_all_hartford.csv\")\n",
    "litchfield_poverty_all = pd.read_csv(\"../data/raw/additional_data/Litchfield/poverty_all_litchfield.csv\")\n",
    "middlesex_poverty_all = pd.read_csv(\"../data/raw/additional_data/Middlesex/poverty_all_middlesex.csv\")\n",
    "newhaven_poverty_all = pd.read_csv(\"../data/raw/additional_data/New Haven/poverty_all_newhaven.csv\")\n",
    "newlondon_poverty_all = pd.read_csv(\"../data/raw/additional_data/New London/poverty_all_newlondon.csv\")\n",
    "tolland_poverty_all = pd.read_csv(\"../data/raw/additional_data/Tolland/poverty_all_tolland.csv\")\n",
    "windham_poverty_all = pd.read_csv(\"../data/raw/additional_data/Windham/poverty_all_windham.csv\")"
   ]
  },
  {
   "cell_type": "code",
   "execution_count": 220,
   "metadata": {},
   "outputs": [],
   "source": [
    "fairfax_poverty_all.columns = [\"date\", \"n_poverty\"]\n",
    "fairfield_poverty_all.columns = [\"date\", \"n_poverty\"]\n",
    "hartford_poverty_all.columns = [\"date\", \"n_poverty\"]\n",
    "litchfield_poverty_all.columns = [\"date\", \"n_poverty\"]\n",
    "middlesex_poverty_all.columns = [\"date\", \"n_poverty\"]\n",
    "newhaven_poverty_all.columns = [\"date\", \"n_poverty\"]\n",
    "newlondon_poverty_all.columns = [\"date\", \"n_poverty\"]\n",
    "tolland_poverty_all.columns = [\"date\", \"n_poverty\"]\n",
    "windham_poverty_all.columns = [\"date\", \"n_poverty\"]"
   ]
  },
  {
   "cell_type": "code",
   "execution_count": 221,
   "metadata": {},
   "outputs": [],
   "source": [
    "fairfax_poverty_all[\"county\"] = \"fairfax\"\n",
    "fairfield_poverty_all[\"county\"] = \"fairfield\"\n",
    "hartford_poverty_all[\"county\"] = \"hartford\"\n",
    "litchfield_poverty_all[\"county\"] = \"litchfield\"\n",
    "middlesex_poverty_all[\"county\"] = \"middlesex\"\n",
    "newhaven_poverty_all[\"county\"] = \"new haven\"\n",
    "newlondon_poverty_all[\"county\"] = \"new london\"\n",
    "tolland_poverty_all[\"county\"] = \"tolland\"\n",
    "windham_poverty_all[\"county\"] = \"windham\""
   ]
  },
  {
   "cell_type": "code",
   "execution_count": 222,
   "metadata": {},
   "outputs": [],
   "source": [
    "n_poverty = pd.concat([fairfax_poverty_all, \n",
    "           fairfield_poverty_all,\n",
    "           hartford_poverty_all,\n",
    "           litchfield_poverty_all,\n",
    "           middlesex_poverty_all,\n",
    "           newhaven_poverty_all,\n",
    "           newlondon_poverty_all,\n",
    "           tolland_poverty_all,\n",
    "           windham_poverty_all])"
   ]
  },
  {
   "cell_type": "code",
   "execution_count": 224,
   "metadata": {},
   "outputs": [],
   "source": [
    "n_poverty.to_csv(\"../data/raw/econ/poverty_all.csv\")"
   ]
  },
  {
   "cell_type": "markdown",
   "metadata": {},
   "source": [
    "#### 7. Poverty-Rate All"
   ]
  },
  {
   "cell_type": "code",
   "execution_count": 225,
   "metadata": {},
   "outputs": [],
   "source": [
    "fairfax_poverty_rate_all = pd.read_csv(\"../data/raw/additional_data/Fairfax/poverty_rate_all_fairfax.csv\")\n",
    "fairfield_poverty_rate_all = pd.read_csv(\"../data/raw/additional_data/Fairfield/poverty_rate_all_fairfield.csv\")\n",
    "hartford_poverty_rate_all = pd.read_csv(\"../data/raw/additional_data/Hartford/poverty_rate_all_hartford.csv\")\n",
    "litchfield_poverty_rate_all = pd.read_csv(\"../data/raw/additional_data/Litchfield/poverty_rate_all_litchfield.csv\")\n",
    "middlesex_poverty_rate_all = pd.read_csv(\"../data/raw/additional_data/Middlesex/poverty_rate_all_middlesex.csv\")\n",
    "newhaven_poverty_rate_all = pd.read_csv(\"../data/raw/additional_data/New Haven/poverty_rate_all_newhaven.csv\")\n",
    "newlondon_poverty_rate_all = pd.read_csv(\"../data/raw/additional_data/New London/poverty_rate_all_newlondon.csv\")\n",
    "tolland_poverty_rate_all = pd.read_csv(\"../data/raw/additional_data/Tolland/poverty_rate_all_tolland.csv\")\n",
    "windham_poverty_rate_all = pd.read_csv(\"../data/raw/additional_data/Windham/poverty_rate_all_windham.csv\")"
   ]
  },
  {
   "cell_type": "code",
   "execution_count": 226,
   "metadata": {},
   "outputs": [],
   "source": [
    "fairfax_poverty_rate_all.columns = [\"date\", \"poverty_rate\"]\n",
    "fairfield_poverty_rate_all.columns = [\"date\", \"poverty_rate\"]\n",
    "hartford_poverty_rate_all.columns = [\"date\", \"poverty_rate\"]\n",
    "litchfield_poverty_rate_all.columns = [\"date\", \"poverty_rate\"]\n",
    "middlesex_poverty_rate_all.columns = [\"date\", \"poverty_rate\"]\n",
    "newhaven_poverty_rate_all.columns = [\"date\", \"poverty_rate\"]\n",
    "newlondon_poverty_rate_all.columns = [\"date\", \"poverty_rate\"]\n",
    "tolland_poverty_rate_all.columns = [\"date\", \"poverty_rate\"]\n",
    "windham_poverty_rate_all.columns = [\"date\", \"poverty_rate\"]"
   ]
  },
  {
   "cell_type": "code",
   "execution_count": 227,
   "metadata": {},
   "outputs": [],
   "source": [
    "fairfax_poverty_rate_all[\"county\"] = \"fairfax\"\n",
    "fairfield_poverty_rate_all[\"county\"] = \"fairfield\"\n",
    "hartford_poverty_rate_all[\"county\"] = \"hartford\"\n",
    "litchfield_poverty_rate_all[\"county\"] = \"litchfield\"\n",
    "middlesex_poverty_rate_all[\"county\"] = \"middlesex\"\n",
    "newhaven_poverty_rate_all[\"county\"] = \"new haven\"\n",
    "newlondon_poverty_rate_all[\"county\"] = \"new london\"\n",
    "tolland_poverty_rate_all[\"county\"] = \"tolland\"\n",
    "windham_poverty_rate_all[\"county\"] = \"windham\""
   ]
  },
  {
   "cell_type": "code",
   "execution_count": 228,
   "metadata": {},
   "outputs": [],
   "source": [
    "poverty_rate = pd.concat([fairfax_poverty_rate_all, \n",
    "           fairfield_poverty_rate_all,\n",
    "           hartford_poverty_rate_all,\n",
    "           litchfield_poverty_rate_all,\n",
    "           middlesex_poverty_rate_all,\n",
    "           newhaven_poverty_rate_all,\n",
    "           newlondon_poverty_rate_all,\n",
    "           tolland_poverty_rate_all,\n",
    "           windham_poverty_rate_all])"
   ]
  },
  {
   "cell_type": "code",
   "execution_count": 230,
   "metadata": {},
   "outputs": [],
   "source": [
    "poverty_rate.to_csv(\"../data/raw/econ/poverty_rate_all.csv\")"
   ]
  },
  {
   "cell_type": "markdown",
   "metadata": {},
   "source": [
    "#### 8. Poverty-Rate Young"
   ]
  },
  {
   "cell_type": "code",
   "execution_count": 231,
   "metadata": {},
   "outputs": [],
   "source": [
    "fairfax_poverty_rate_young = pd.read_csv(\"../data/raw/additional_data/Fairfax/poverty_rate_young_fairfax.csv\")\n",
    "fairfield_poverty_rate_young = pd.read_csv(\"../data/raw/additional_data/Fairfield/poverty_rate_young_fairfield.csv\")\n",
    "hartford_poverty_rate_young = pd.read_csv(\"../data/raw/additional_data/Hartford/poverty_rate_young_hartford.csv\")\n",
    "litchfield_poverty_rate_young = pd.read_csv(\"../data/raw/additional_data/Litchfield/poverty_rate_young_litchfield.csv\")\n",
    "middlesex_poverty_rate_young = pd.read_csv(\"../data/raw/additional_data/Middlesex/poverty_rate_young_middlesex.csv\")\n",
    "newhaven_poverty_rate_young = pd.read_csv(\"../data/raw/additional_data/New Haven/poverty_rate_young_newhaven.csv\")\n",
    "newlondon_poverty_rate_young = pd.read_csv(\"../data/raw/additional_data/New London/poverty_rate_young_newlondon.csv\")\n",
    "tolland_poverty_rate_young = pd.read_csv(\"../data/raw/additional_data/Tolland/poverty_rate_young_tolland.csv\")\n",
    "windham_poverty_rate_young = pd.read_csv(\"../data/raw/additional_data/Windham/poverty_rate_young_windham.csv\")"
   ]
  },
  {
   "cell_type": "code",
   "execution_count": 232,
   "metadata": {},
   "outputs": [],
   "source": [
    "fairfax_poverty_rate_young.columns = [\"date\", \"poverty_rate_young\"]\n",
    "fairfield_poverty_rate_young.columns = [\"date\", \"poverty_rate_young\"]\n",
    "hartford_poverty_rate_young.columns = [\"date\", \"poverty_rate_young\"]\n",
    "litchfield_poverty_rate_young.columns = [\"date\", \"poverty_rate_young\"]\n",
    "middlesex_poverty_rate_young.columns = [\"date\", \"poverty_rate_young\"]\n",
    "newhaven_poverty_rate_young.columns = [\"date\", \"poverty_rate_young\"]\n",
    "newlondon_poverty_rate_young.columns = [\"date\", \"poverty_rate_young\"]\n",
    "tolland_poverty_rate_young.columns = [\"date\", \"poverty_rate_young\"]\n",
    "windham_poverty_rate_young.columns = [\"date\", \"poverty_rate_young\"]"
   ]
  },
  {
   "cell_type": "code",
   "execution_count": 233,
   "metadata": {},
   "outputs": [],
   "source": [
    "fairfax_poverty_rate_young[\"county\"] = \"fairfax\"\n",
    "fairfield_poverty_rate_young[\"county\"] = \"fairfield\"\n",
    "hartford_poverty_rate_young[\"county\"] = \"hartford\"\n",
    "litchfield_poverty_rate_young[\"county\"] = \"litchfield\"\n",
    "middlesex_poverty_rate_young[\"county\"] = \"middlesex\"\n",
    "newhaven_poverty_rate_young[\"county\"] = \"new haven\"\n",
    "newlondon_poverty_rate_young[\"county\"] = \"new london\"\n",
    "tolland_poverty_rate_young[\"county\"] = \"tolland\"\n",
    "windham_poverty_rate_young[\"county\"] = \"windham\""
   ]
  },
  {
   "cell_type": "code",
   "execution_count": 234,
   "metadata": {},
   "outputs": [],
   "source": [
    "poverty_rate_young = pd.concat([fairfax_poverty_rate_young, \n",
    "           fairfield_poverty_rate_young,\n",
    "           hartford_poverty_rate_young,\n",
    "           litchfield_poverty_rate_young,\n",
    "           middlesex_poverty_rate_young,\n",
    "           newhaven_poverty_rate_young,\n",
    "           newlondon_poverty_rate_young,\n",
    "           tolland_poverty_rate_young,\n",
    "           windham_poverty_rate_young])"
   ]
  },
  {
   "cell_type": "code",
   "execution_count": 236,
   "metadata": {},
   "outputs": [],
   "source": [
    "poverty_rate_young.to_csv(\"../data/raw/econ/poverty_rate_young.csv\")"
   ]
  },
  {
   "cell_type": "markdown",
   "metadata": {},
   "source": [
    "#### 9. Household Income"
   ]
  },
  {
   "cell_type": "code",
   "execution_count": 237,
   "metadata": {},
   "outputs": [],
   "source": [
    "fairfax_household_income = pd.read_csv(\"../data/raw/additional_data/Fairfax/household_income_fairfax.csv\")\n",
    "fairfield_household_income = pd.read_csv(\"../data/raw/additional_data/Fairfield/household_income_fairfield.csv\")\n",
    "hartford_household_income = pd.read_csv(\"../data/raw/additional_data/Hartford/household_income_hartford.csv\")\n",
    "litchfield_household_income = pd.read_csv(\"../data/raw/additional_data/Litchfield/household_income_litchfield.csv\")\n",
    "middlesex_household_income = pd.read_csv(\"../data/raw/additional_data/Middlesex/household_income_middlesex.csv\")\n",
    "newhaven_household_income = pd.read_csv(\"../data/raw/additional_data/New Haven/household_income_newhaven.csv\")\n",
    "newlondon_household_income = pd.read_csv(\"../data/raw/additional_data/New London/household_income_newlondon.csv\")\n",
    "tolland_household_income = pd.read_csv(\"../data/raw/additional_data/Tolland/household_income_tolland.csv\")\n",
    "windham_household_income = pd.read_csv(\"../data/raw/additional_data/Windham/household_income_windham.csv\")"
   ]
  },
  {
   "cell_type": "code",
   "execution_count": 238,
   "metadata": {},
   "outputs": [],
   "source": [
    "fairfax_household_income.columns = [\"date\", \"household_income\"]\n",
    "fairfield_household_income.columns = [\"date\", \"household_income\"]\n",
    "hartford_household_income.columns = [\"date\", \"household_income\"]\n",
    "litchfield_household_income.columns = [\"date\", \"household_income\"]\n",
    "middlesex_household_income.columns = [\"date\", \"household_income\"]\n",
    "newhaven_household_income.columns = [\"date\", \"household_income\"]\n",
    "newlondon_household_income.columns = [\"date\", \"household_income\"]\n",
    "tolland_household_income.columns = [\"date\", \"household_income\"]\n",
    "windham_household_income.columns = [\"date\", \"household_income\"]"
   ]
  },
  {
   "cell_type": "code",
   "execution_count": 239,
   "metadata": {},
   "outputs": [],
   "source": [
    "fairfax_household_income[\"county\"] = \"fairfax\"\n",
    "fairfield_household_income[\"county\"] = \"fairfield\"\n",
    "hartford_household_income[\"county\"] = \"hartford\"\n",
    "litchfield_household_income[\"county\"] = \"litchfield\"\n",
    "middlesex_household_income[\"county\"] = \"middlesex\"\n",
    "newhaven_household_income[\"county\"] = \"new haven\"\n",
    "newlondon_household_income[\"county\"] = \"new london\"\n",
    "tolland_household_income[\"county\"] = \"tolland\"\n",
    "windham_household_income[\"county\"] = \"windham\""
   ]
  },
  {
   "cell_type": "code",
   "execution_count": 240,
   "metadata": {},
   "outputs": [],
   "source": [
    "household_income = pd.concat([fairfax_household_income, \n",
    "           fairfield_household_income,\n",
    "           hartford_household_income,\n",
    "           litchfield_household_income,\n",
    "           middlesex_household_income,\n",
    "           newhaven_household_income,\n",
    "           newlondon_household_income,\n",
    "           tolland_household_income,\n",
    "           windham_household_income])"
   ]
  },
  {
   "cell_type": "code",
   "execution_count": 242,
   "metadata": {},
   "outputs": [],
   "source": [
    "household_income.to_csv(\"../data/raw/econ/household_income.csv\")"
   ]
  },
  {
   "cell_type": "markdown",
   "metadata": {},
   "source": [
    "#### 10. Civilian Labour"
   ]
  },
  {
   "cell_type": "code",
   "execution_count": 243,
   "metadata": {},
   "outputs": [],
   "source": [
    "fairfax_civilian_labour = pd.read_csv(\"../data/raw/additional_data/Fairfax/civilian_labour_fairfax.csv\")\n",
    "fairfield_civilian_labour = pd.read_csv(\"../data/raw/additional_data/Fairfield/civilian_labour_fairfield.csv\")\n",
    "hartford_civilian_labour = pd.read_csv(\"../data/raw/additional_data/Hartford/civilian_labour_hartford.csv\")\n",
    "litchfield_civilian_labour = pd.read_csv(\"../data/raw/additional_data/Litchfield/civilian_labour_litchfield.csv\")\n",
    "middlesex_civilian_labour = pd.read_csv(\"../data/raw/additional_data/Middlesex/civilian_labour_middlesex.csv\")\n",
    "newhaven_civilian_labour = pd.read_csv(\"../data/raw/additional_data/New Haven/civilian_labour_newhaven.csv\")\n",
    "newlondon_civilian_labour = pd.read_csv(\"../data/raw/additional_data/New London/civilian_labour_newlondon.csv\")\n",
    "tolland_civilian_labour = pd.read_csv(\"../data/raw/additional_data/Tolland/civilian_labour_tolland.csv\")\n",
    "windham_civilian_labour = pd.read_csv(\"../data/raw/additional_data/Windham/civilian_labour_windham.csv\")"
   ]
  },
  {
   "cell_type": "code",
   "execution_count": 244,
   "metadata": {},
   "outputs": [],
   "source": [
    "fairfax_civilian_labour.columns = [\"date\", \"civilian_labour\"]\n",
    "fairfield_civilian_labour.columns = [\"date\", \"civilian_labour\"]\n",
    "hartford_civilian_labour.columns = [\"date\", \"civilian_labour\"]\n",
    "litchfield_civilian_labour.columns = [\"date\", \"civilian_labour\"]\n",
    "middlesex_civilian_labour.columns = [\"date\", \"civilian_labour\"]\n",
    "newhaven_civilian_labour.columns = [\"date\", \"civilian_labour\"]\n",
    "newlondon_civilian_labour.columns = [\"date\", \"civilian_labour\"]\n",
    "tolland_civilian_labour.columns = [\"date\", \"civilian_labour\"]\n",
    "windham_civilian_labour.columns = [\"date\", \"civilian_labour\"]"
   ]
  },
  {
   "cell_type": "code",
   "execution_count": 245,
   "metadata": {},
   "outputs": [],
   "source": [
    "fairfax_civilian_labour[\"county\"] = \"fairfax\"\n",
    "fairfield_civilian_labour[\"county\"] = \"fairfield\"\n",
    "hartford_civilian_labour[\"county\"] = \"hartford\"\n",
    "litchfield_civilian_labour[\"county\"] = \"litchfield\"\n",
    "middlesex_civilian_labour[\"county\"] = \"middlesex\"\n",
    "newhaven_civilian_labour[\"county\"] = \"new haven\"\n",
    "newlondon_civilian_labour[\"county\"] = \"new london\"\n",
    "tolland_civilian_labour[\"county\"] = \"tolland\"\n",
    "windham_civilian_labour[\"county\"] = \"windham\""
   ]
  },
  {
   "cell_type": "code",
   "execution_count": 246,
   "metadata": {},
   "outputs": [],
   "source": [
    "civilian_labour = pd.concat([fairfax_civilian_labour, \n",
    "           fairfield_civilian_labour,\n",
    "           hartford_civilian_labour,\n",
    "           litchfield_civilian_labour,\n",
    "           middlesex_civilian_labour,\n",
    "           newhaven_civilian_labour,\n",
    "           newlondon_civilian_labour,\n",
    "           tolland_civilian_labour,\n",
    "           windham_civilian_labour])"
   ]
  },
  {
   "cell_type": "code",
   "execution_count": 248,
   "metadata": {},
   "outputs": [],
   "source": [
    "civilian_labour.to_csv(\"../data/raw/econ/civilian_labour.csv\")"
   ]
  },
  {
   "cell_type": "markdown",
   "metadata": {},
   "source": [
    "#### 11. Haus Price Index"
   ]
  },
  {
   "cell_type": "code",
   "execution_count": 249,
   "metadata": {},
   "outputs": [],
   "source": [
    "fairfax_hpi = pd.read_csv(\"../data/raw/additional_data/Fairfax/HPI_fairfax.csv\")\n",
    "fairfield_hpi = pd.read_csv(\"../data/raw/additional_data/Fairfield/HPI_fairfield.csv\")\n",
    "hartford_hpi = pd.read_csv(\"../data/raw/additional_data/Hartford/HPI_hartford.csv\")\n",
    "litchfield_hpi = pd.read_csv(\"../data/raw/additional_data/Litchfield/HPI_litchfield.csv\")\n",
    "middlesex_hpi = pd.read_csv(\"../data/raw/additional_data/Middlesex/HPI_middlesex.csv\")\n",
    "newhaven_hpi = pd.read_csv(\"../data/raw/additional_data/New Haven/HPI_newhaven.csv\")\n",
    "newlondon_hpi = pd.read_csv(\"../data/raw/additional_data/New London/HPI_newlondon.csv\")\n",
    "tolland_hpi = pd.read_csv(\"../data/raw/additional_data/Tolland/HPI_tolland.csv\")\n",
    "windham_hpi = pd.read_csv(\"../data/raw/additional_data/Windham/HPI_windham.csv\")"
   ]
  },
  {
   "cell_type": "code",
   "execution_count": 250,
   "metadata": {},
   "outputs": [],
   "source": [
    "fairfax_hpi.columns = [\"date\", \"hpi\"]\n",
    "fairfield_hpi.columns = [\"date\", \"hpi\"]\n",
    "hartford_hpi.columns = [\"date\", \"hpi\"]\n",
    "litchfield_hpi.columns = [\"date\", \"hpi\"]\n",
    "middlesex_hpi.columns = [\"date\", \"hpi\"]\n",
    "newhaven_hpi.columns = [\"date\", \"hpi\"]\n",
    "newlondon_hpi.columns = [\"date\", \"hpi\"]\n",
    "tolland_hpi.columns = [\"date\", \"hpi\"]\n",
    "windham_hpi.columns = [\"date\", \"hpi\"]"
   ]
  },
  {
   "cell_type": "code",
   "execution_count": 251,
   "metadata": {},
   "outputs": [],
   "source": [
    "fairfax_hpi[\"county\"] = \"fairfax\"\n",
    "fairfield_hpi[\"county\"] = \"fairfield\"\n",
    "hartford_hpi[\"county\"] = \"hartford\"\n",
    "litchfield_hpi[\"county\"] = \"litchfield\"\n",
    "middlesex_hpi[\"county\"] = \"middlesex\"\n",
    "newhaven_hpi[\"county\"] = \"new haven\"\n",
    "newlondon_hpi[\"county\"] = \"new london\"\n",
    "tolland_hpi[\"county\"] = \"tolland\"\n",
    "windham_hpi[\"county\"] = \"windham\""
   ]
  },
  {
   "cell_type": "code",
   "execution_count": 252,
   "metadata": {},
   "outputs": [],
   "source": [
    "hpi = pd.concat([fairfax_hpi, \n",
    "           fairfield_hpi,\n",
    "           hartford_hpi,\n",
    "           litchfield_hpi,\n",
    "           middlesex_hpi,\n",
    "           newhaven_hpi,\n",
    "           newlondon_hpi,\n",
    "           tolland_hpi,\n",
    "           windham_hpi])"
   ]
  },
  {
   "cell_type": "code",
   "execution_count": 254,
   "metadata": {},
   "outputs": [],
   "source": [
    "hpi.to_csv(\"../data/raw/econ/hpi.csv\")"
   ]
  },
  {
   "cell_type": "markdown",
   "metadata": {},
   "source": [
    "#### 12. New Private Housing Permits"
   ]
  },
  {
   "cell_type": "code",
   "execution_count": 255,
   "metadata": {},
   "outputs": [],
   "source": [
    "fairfax_housing = pd.read_csv(\"../data/raw/additional_data/Fairfax/new_private_housing_structures_fairfax.csv\")\n",
    "fairfield_housing = pd.read_csv(\"../data/raw/additional_data/Fairfield/new_private_housing_structures_fairfield.csv\")\n",
    "hartford_housing = pd.read_csv(\"../data/raw/additional_data/Hartford/new_private_housing_structures_hartford.csv\")\n",
    "litchfield_housing = pd.read_csv(\"../data/raw/additional_data/Litchfield/new_private_housing_structures_litchfield.csv\")\n",
    "middlesex_housing = pd.read_csv(\"../data/raw/additional_data/Middlesex/new_private_housing_structures_middlesex.csv\")\n",
    "newhaven_housing = pd.read_csv(\"../data/raw/additional_data/New Haven/new_private_housing_structures_newhaven.csv\")\n",
    "newlondon_housing = pd.read_csv(\"../data/raw/additional_data/New London/new_private_housing_structures_newlondon.csv\")\n",
    "tolland_housing = pd.read_csv(\"../data/raw/additional_data/Tolland/new_private_housing_structures_tolland.csv\")\n",
    "windham_housing = pd.read_csv(\"../data/raw/additional_data/Windham/new_private_housing_structures_windham.csv\")"
   ]
  },
  {
   "cell_type": "code",
   "execution_count": 256,
   "metadata": {},
   "outputs": [],
   "source": [
    "fairfax_housing.columns = [\"date\", \"new_housing\"]\n",
    "fairfield_housing.columns = [\"date\", \"new_housing\"]\n",
    "hartford_housing.columns = [\"date\", \"new_housing\"]\n",
    "litchfield_housing.columns = [\"date\", \"new_housing\"]\n",
    "middlesex_housing.columns = [\"date\", \"new_housing\"]\n",
    "newhaven_housing.columns = [\"date\", \"new_housing\"]\n",
    "newlondon_housing.columns = [\"date\", \"new_housing\"]\n",
    "tolland_housing.columns = [\"date\", \"new_housing\"]\n",
    "windham_housing.columns = [\"date\", \"new_housing\"]"
   ]
  },
  {
   "cell_type": "code",
   "execution_count": 257,
   "metadata": {},
   "outputs": [],
   "source": [
    "fairfax_housing[\"county\"] = \"fairfax\"\n",
    "fairfield_housing[\"county\"] = \"fairfield\"\n",
    "hartford_housing[\"county\"] = \"hartford\"\n",
    "litchfield_housing[\"county\"] = \"litchfield\"\n",
    "middlesex_housing[\"county\"] = \"middlesex\"\n",
    "newhaven_housing[\"county\"] = \"new haven\"\n",
    "newlondon_housing[\"county\"] = \"new london\"\n",
    "tolland_housing[\"county\"] = \"tolland\"\n",
    "windham_housing[\"county\"] = \"windham\""
   ]
  },
  {
   "cell_type": "code",
   "execution_count": 258,
   "metadata": {},
   "outputs": [],
   "source": [
    "housing = pd.concat([fairfax_housing, \n",
    "           fairfield_housing,\n",
    "           hartford_housing,\n",
    "           litchfield_housing,\n",
    "           middlesex_housing,\n",
    "           newhaven_housing,\n",
    "           newlondon_housing,\n",
    "           tolland_housing,\n",
    "           windham_housing])"
   ]
  },
  {
   "cell_type": "code",
   "execution_count": 260,
   "metadata": {},
   "outputs": [],
   "source": [
    "housing.to_csv(\"../data/raw/econ/new_private_housing_permits.csv\")"
   ]
  },
  {
   "cell_type": "markdown",
   "metadata": {},
   "source": [
    "### Merge Data together"
   ]
  },
  {
   "cell_type": "code",
   "execution_count": 261,
   "metadata": {},
   "outputs": [],
   "source": [
    "# monthly data\n",
    "unemployment_rate = pd.read_csv(\"../data/raw/econ/unemployment_rate.csv\", index_col=[0]) # monthly starting 1990\n",
    "unemployment = pd.read_csv(\"../data/raw/econ/unemployment.csv\", index_col=[0]) # monthly starting 1990\n",
    "civilian_labour = pd.read_csv(\"../data/raw/econ/civilian_labour.csv\", index_col=[0]) # monthly data starting 1990\n",
    "employment = pd.read_csv(\"../data/raw/econ/employment.csv\", index_col=[0]) # monthly data starting 1990"
   ]
  },
  {
   "cell_type": "code",
   "execution_count": 262,
   "metadata": {},
   "outputs": [],
   "source": [
    "# convert dates to datetime\n",
    "unemployment_rate[\"date\"] = pd.to_datetime(unemployment_rate[\"date\"])\n",
    "unemployment[\"date\"] = pd.to_datetime(unemployment[\"date\"])\n",
    "civilian_labour[\"date\"] = pd.to_datetime(civilian_labour[\"date\"])\n",
    "employment[\"date\"] = pd.to_datetime(employment[\"date\"])"
   ]
  },
  {
   "cell_type": "code",
   "execution_count": 263,
   "metadata": {},
   "outputs": [],
   "source": [
    "# merge data\n",
    "monthly_data = (unemployment.merge(unemployment_rate, how=\"outer\", on=[\"date\", \"county\"])\n",
    "            .merge(civilian_labour, how=\"outer\", on=[\"date\", \"county\"])\n",
    "            .merge(employment, how=\"outer\", on=[\"date\", \"county\"]))"
   ]
  },
  {
   "cell_type": "code",
   "execution_count": 264,
   "metadata": {},
   "outputs": [],
   "source": [
    "monthly_data[\"date\"] = pd.to_datetime(monthly_data.date)\n",
    "monthly_data = monthly_data[monthly_data.date.dt.year > 1989].reset_index(drop=True)\n",
    "monthly_data = monthly_data.replace(\".\", np.nan)"
   ]
  },
  {
   "cell_type": "code",
   "execution_count": 266,
   "metadata": {},
   "outputs": [],
   "source": [
    "monthly_data.to_csv(\"../data/cleaned/monthly_econ_data.csv\")"
   ]
  },
  {
   "cell_type": "code",
   "execution_count": 267,
   "metadata": {},
   "outputs": [],
   "source": [
    "# yearly data\n",
    "household_income = pd.read_csv(\"../data/raw/econ/household_income.csv\", index_col=[0]) # yearly data starting 1990\n",
    "hpi = pd.read_csv(\"../data/raw/econ/hpi.csv\", index_col=[0]) # yearly data starting 1975\n",
    "new_private_housing = pd.read_csv(\"../data/raw/econ/new_private_housing_permits.csv\", index_col=[0]) # yearly data starting 1990\n",
    "population = pd.read_csv(\"../data/raw/econ/population.csv\", index_col=[0]) # yearly starting 1970\n",
    "poverty_all = pd.read_csv(\"../data/raw/econ/poverty_all.csv\", index_col=[0]) # yearly starting 1989\n",
    "poverty_rate_all = pd.read_csv(\"../data/raw/econ/poverty_rate_all.csv\", index_col=[0]) # yearly starting 1989\n",
    "poverty_rate_young = pd.read_csv(\"../data/raw/econ/poverty_rate_young.csv\", index_col=[0]) # yearly starting 1989\n",
    "poverty_young = pd.read_csv(\"../data/raw/econ/poverty_young.csv\", index_col=[0]) # yearly starting 1989"
   ]
  },
  {
   "cell_type": "code",
   "execution_count": 268,
   "metadata": {},
   "outputs": [],
   "source": [
    "# convert dates to datetime\n",
    "household_income[\"date\"] = pd.to_datetime(household_income[\"date\"])\n",
    "hpi[\"date\"] = pd.to_datetime(hpi[\"date\"])\n",
    "new_private_housing[\"date\"] = pd.to_datetime(new_private_housing[\"date\"])\n",
    "population[\"date\"] = pd.to_datetime(population[\"date\"])\n",
    "poverty_all[\"date\"] = pd.to_datetime(poverty_all[\"date\"])\n",
    "poverty_rate_all[\"date\"] = pd.to_datetime(poverty_rate_all[\"date\"])\n",
    "poverty_rate_young[\"date\"] = pd.to_datetime(poverty_rate_young[\"date\"])\n",
    "poverty_young[\"date\"] = pd.to_datetime(poverty_young[\"date\"])"
   ]
  },
  {
   "cell_type": "code",
   "execution_count": 269,
   "metadata": {},
   "outputs": [],
   "source": [
    "# merge data\n",
    "yearly_data = (hpi.merge(household_income, how=\"outer\", on=[\"date\", \"county\"])\n",
    "            .merge(new_private_housing, how=\"outer\", on=[\"date\", \"county\"])\n",
    "            .merge(population, how=\"outer\", on=[\"date\", \"county\"])\n",
    "            .merge(poverty_all, how=\"outer\", on=[\"date\", \"county\"])\n",
    "            .merge(poverty_rate_all, how=\"outer\", on=[\"date\", \"county\"])\n",
    "            .merge(poverty_rate_young, how=\"outer\", on=[\"date\", \"county\"])\n",
    "            .merge(poverty_young, how=\"outer\", on=[\"date\", \"county\"])\n",
    "            )\n",
    "yearly_data[\"date\"] = pd.to_datetime(yearly_data.date)\n",
    "yearly_data = yearly_data[yearly_data.date.dt.year > 1989].reset_index(drop=True)\n",
    "yearly_data = yearly_data.replace(\".\", np.nan)"
   ]
  },
  {
   "cell_type": "code",
   "execution_count": 270,
   "metadata": {},
   "outputs": [],
   "source": [
    "# convert datatype\n",
    "yearly_data[['hpi', 'household_income', 'new_housing',\n",
    "       'population', 'n_poverty', 'poverty_rate', 'poverty_rate_young',\n",
    "       'n_poverty_young']] = yearly_data[['hpi', 'household_income', 'new_housing',\n",
    "       'population', 'n_poverty', 'poverty_rate', 'poverty_rate_young',\n",
    "       'n_poverty_young']].astype(\"float64\")"
   ]
  },
  {
   "cell_type": "code",
   "execution_count": 271,
   "metadata": {},
   "outputs": [
    {
     "name": "stderr",
     "output_type": "stream",
     "text": [
      "/var/folders/49/83yn42lx6x3ct4nw2k8rmdyh0000gn/T/ipykernel_8587/1082697270.py:4: FutureWarning: DataFrame.interpolate with object dtype is deprecated and will raise in a future version. Call obj.infer_objects(copy=False) before interpolating instead.\n",
      "  yearly_data[yearly_data.county == county] = yearly_data.loc[yearly_data.county == county].interpolate(method=\"linear\", limit_direction=\"both\")\n",
      "/var/folders/49/83yn42lx6x3ct4nw2k8rmdyh0000gn/T/ipykernel_8587/1082697270.py:4: FutureWarning: DataFrame.interpolate with object dtype is deprecated and will raise in a future version. Call obj.infer_objects(copy=False) before interpolating instead.\n",
      "  yearly_data[yearly_data.county == county] = yearly_data.loc[yearly_data.county == county].interpolate(method=\"linear\", limit_direction=\"both\")\n",
      "/var/folders/49/83yn42lx6x3ct4nw2k8rmdyh0000gn/T/ipykernel_8587/1082697270.py:4: FutureWarning: DataFrame.interpolate with object dtype is deprecated and will raise in a future version. Call obj.infer_objects(copy=False) before interpolating instead.\n",
      "  yearly_data[yearly_data.county == county] = yearly_data.loc[yearly_data.county == county].interpolate(method=\"linear\", limit_direction=\"both\")\n",
      "/var/folders/49/83yn42lx6x3ct4nw2k8rmdyh0000gn/T/ipykernel_8587/1082697270.py:4: FutureWarning: DataFrame.interpolate with object dtype is deprecated and will raise in a future version. Call obj.infer_objects(copy=False) before interpolating instead.\n",
      "  yearly_data[yearly_data.county == county] = yearly_data.loc[yearly_data.county == county].interpolate(method=\"linear\", limit_direction=\"both\")\n",
      "/var/folders/49/83yn42lx6x3ct4nw2k8rmdyh0000gn/T/ipykernel_8587/1082697270.py:4: FutureWarning: DataFrame.interpolate with object dtype is deprecated and will raise in a future version. Call obj.infer_objects(copy=False) before interpolating instead.\n",
      "  yearly_data[yearly_data.county == county] = yearly_data.loc[yearly_data.county == county].interpolate(method=\"linear\", limit_direction=\"both\")\n",
      "/var/folders/49/83yn42lx6x3ct4nw2k8rmdyh0000gn/T/ipykernel_8587/1082697270.py:4: FutureWarning: DataFrame.interpolate with object dtype is deprecated and will raise in a future version. Call obj.infer_objects(copy=False) before interpolating instead.\n",
      "  yearly_data[yearly_data.county == county] = yearly_data.loc[yearly_data.county == county].interpolate(method=\"linear\", limit_direction=\"both\")\n",
      "/var/folders/49/83yn42lx6x3ct4nw2k8rmdyh0000gn/T/ipykernel_8587/1082697270.py:4: FutureWarning: DataFrame.interpolate with object dtype is deprecated and will raise in a future version. Call obj.infer_objects(copy=False) before interpolating instead.\n",
      "  yearly_data[yearly_data.county == county] = yearly_data.loc[yearly_data.county == county].interpolate(method=\"linear\", limit_direction=\"both\")\n",
      "/var/folders/49/83yn42lx6x3ct4nw2k8rmdyh0000gn/T/ipykernel_8587/1082697270.py:4: FutureWarning: DataFrame.interpolate with object dtype is deprecated and will raise in a future version. Call obj.infer_objects(copy=False) before interpolating instead.\n",
      "  yearly_data[yearly_data.county == county] = yearly_data.loc[yearly_data.county == county].interpolate(method=\"linear\", limit_direction=\"both\")\n",
      "/var/folders/49/83yn42lx6x3ct4nw2k8rmdyh0000gn/T/ipykernel_8587/1082697270.py:4: FutureWarning: DataFrame.interpolate with object dtype is deprecated and will raise in a future version. Call obj.infer_objects(copy=False) before interpolating instead.\n",
      "  yearly_data[yearly_data.county == county] = yearly_data.loc[yearly_data.county == county].interpolate(method=\"linear\", limit_direction=\"both\")\n",
      "/var/folders/49/83yn42lx6x3ct4nw2k8rmdyh0000gn/T/ipykernel_8587/1082697270.py:4: FutureWarning: DataFrame.interpolate with object dtype is deprecated and will raise in a future version. Call obj.infer_objects(copy=False) before interpolating instead.\n",
      "  yearly_data[yearly_data.county == county] = yearly_data.loc[yearly_data.county == county].interpolate(method=\"linear\", limit_direction=\"both\")\n",
      "/var/folders/49/83yn42lx6x3ct4nw2k8rmdyh0000gn/T/ipykernel_8587/1082697270.py:4: FutureWarning: DataFrame.interpolate with object dtype is deprecated and will raise in a future version. Call obj.infer_objects(copy=False) before interpolating instead.\n",
      "  yearly_data[yearly_data.county == county] = yearly_data.loc[yearly_data.county == county].interpolate(method=\"linear\", limit_direction=\"both\")\n",
      "/var/folders/49/83yn42lx6x3ct4nw2k8rmdyh0000gn/T/ipykernel_8587/1082697270.py:4: FutureWarning: DataFrame.interpolate with object dtype is deprecated and will raise in a future version. Call obj.infer_objects(copy=False) before interpolating instead.\n",
      "  yearly_data[yearly_data.county == county] = yearly_data.loc[yearly_data.county == county].interpolate(method=\"linear\", limit_direction=\"both\")\n",
      "/var/folders/49/83yn42lx6x3ct4nw2k8rmdyh0000gn/T/ipykernel_8587/1082697270.py:4: FutureWarning: DataFrame.interpolate with object dtype is deprecated and will raise in a future version. Call obj.infer_objects(copy=False) before interpolating instead.\n",
      "  yearly_data[yearly_data.county == county] = yearly_data.loc[yearly_data.county == county].interpolate(method=\"linear\", limit_direction=\"both\")\n",
      "/var/folders/49/83yn42lx6x3ct4nw2k8rmdyh0000gn/T/ipykernel_8587/1082697270.py:4: FutureWarning: DataFrame.interpolate with object dtype is deprecated and will raise in a future version. Call obj.infer_objects(copy=False) before interpolating instead.\n",
      "  yearly_data[yearly_data.county == county] = yearly_data.loc[yearly_data.county == county].interpolate(method=\"linear\", limit_direction=\"both\")\n",
      "/var/folders/49/83yn42lx6x3ct4nw2k8rmdyh0000gn/T/ipykernel_8587/1082697270.py:4: FutureWarning: DataFrame.interpolate with object dtype is deprecated and will raise in a future version. Call obj.infer_objects(copy=False) before interpolating instead.\n",
      "  yearly_data[yearly_data.county == county] = yearly_data.loc[yearly_data.county == county].interpolate(method=\"linear\", limit_direction=\"both\")\n",
      "/var/folders/49/83yn42lx6x3ct4nw2k8rmdyh0000gn/T/ipykernel_8587/1082697270.py:4: FutureWarning: DataFrame.interpolate with object dtype is deprecated and will raise in a future version. Call obj.infer_objects(copy=False) before interpolating instead.\n",
      "  yearly_data[yearly_data.county == county] = yearly_data.loc[yearly_data.county == county].interpolate(method=\"linear\", limit_direction=\"both\")\n",
      "/var/folders/49/83yn42lx6x3ct4nw2k8rmdyh0000gn/T/ipykernel_8587/1082697270.py:4: FutureWarning: DataFrame.interpolate with object dtype is deprecated and will raise in a future version. Call obj.infer_objects(copy=False) before interpolating instead.\n",
      "  yearly_data[yearly_data.county == county] = yearly_data.loc[yearly_data.county == county].interpolate(method=\"linear\", limit_direction=\"both\")\n",
      "/var/folders/49/83yn42lx6x3ct4nw2k8rmdyh0000gn/T/ipykernel_8587/1082697270.py:4: FutureWarning: DataFrame.interpolate with object dtype is deprecated and will raise in a future version. Call obj.infer_objects(copy=False) before interpolating instead.\n",
      "  yearly_data[yearly_data.county == county] = yearly_data.loc[yearly_data.county == county].interpolate(method=\"linear\", limit_direction=\"both\")\n",
      "/var/folders/49/83yn42lx6x3ct4nw2k8rmdyh0000gn/T/ipykernel_8587/1082697270.py:4: FutureWarning: DataFrame.interpolate with object dtype is deprecated and will raise in a future version. Call obj.infer_objects(copy=False) before interpolating instead.\n",
      "  yearly_data[yearly_data.county == county] = yearly_data.loc[yearly_data.county == county].interpolate(method=\"linear\", limit_direction=\"both\")\n",
      "/var/folders/49/83yn42lx6x3ct4nw2k8rmdyh0000gn/T/ipykernel_8587/1082697270.py:4: FutureWarning: DataFrame.interpolate with object dtype is deprecated and will raise in a future version. Call obj.infer_objects(copy=False) before interpolating instead.\n",
      "  yearly_data[yearly_data.county == county] = yearly_data.loc[yearly_data.county == county].interpolate(method=\"linear\", limit_direction=\"both\")\n",
      "/var/folders/49/83yn42lx6x3ct4nw2k8rmdyh0000gn/T/ipykernel_8587/1082697270.py:4: FutureWarning: DataFrame.interpolate with object dtype is deprecated and will raise in a future version. Call obj.infer_objects(copy=False) before interpolating instead.\n",
      "  yearly_data[yearly_data.county == county] = yearly_data.loc[yearly_data.county == county].interpolate(method=\"linear\", limit_direction=\"both\")\n",
      "/var/folders/49/83yn42lx6x3ct4nw2k8rmdyh0000gn/T/ipykernel_8587/1082697270.py:4: FutureWarning: DataFrame.interpolate with object dtype is deprecated and will raise in a future version. Call obj.infer_objects(copy=False) before interpolating instead.\n",
      "  yearly_data[yearly_data.county == county] = yearly_data.loc[yearly_data.county == county].interpolate(method=\"linear\", limit_direction=\"both\")\n",
      "/var/folders/49/83yn42lx6x3ct4nw2k8rmdyh0000gn/T/ipykernel_8587/1082697270.py:4: FutureWarning: DataFrame.interpolate with object dtype is deprecated and will raise in a future version. Call obj.infer_objects(copy=False) before interpolating instead.\n",
      "  yearly_data[yearly_data.county == county] = yearly_data.loc[yearly_data.county == county].interpolate(method=\"linear\", limit_direction=\"both\")\n",
      "/var/folders/49/83yn42lx6x3ct4nw2k8rmdyh0000gn/T/ipykernel_8587/1082697270.py:4: FutureWarning: DataFrame.interpolate with object dtype is deprecated and will raise in a future version. Call obj.infer_objects(copy=False) before interpolating instead.\n",
      "  yearly_data[yearly_data.county == county] = yearly_data.loc[yearly_data.county == county].interpolate(method=\"linear\", limit_direction=\"both\")\n",
      "/var/folders/49/83yn42lx6x3ct4nw2k8rmdyh0000gn/T/ipykernel_8587/1082697270.py:4: FutureWarning: DataFrame.interpolate with object dtype is deprecated and will raise in a future version. Call obj.infer_objects(copy=False) before interpolating instead.\n",
      "  yearly_data[yearly_data.county == county] = yearly_data.loc[yearly_data.county == county].interpolate(method=\"linear\", limit_direction=\"both\")\n",
      "/var/folders/49/83yn42lx6x3ct4nw2k8rmdyh0000gn/T/ipykernel_8587/1082697270.py:4: FutureWarning: DataFrame.interpolate with object dtype is deprecated and will raise in a future version. Call obj.infer_objects(copy=False) before interpolating instead.\n",
      "  yearly_data[yearly_data.county == county] = yearly_data.loc[yearly_data.county == county].interpolate(method=\"linear\", limit_direction=\"both\")\n",
      "/var/folders/49/83yn42lx6x3ct4nw2k8rmdyh0000gn/T/ipykernel_8587/1082697270.py:4: FutureWarning: DataFrame.interpolate with object dtype is deprecated and will raise in a future version. Call obj.infer_objects(copy=False) before interpolating instead.\n",
      "  yearly_data[yearly_data.county == county] = yearly_data.loc[yearly_data.county == county].interpolate(method=\"linear\", limit_direction=\"both\")\n",
      "/var/folders/49/83yn42lx6x3ct4nw2k8rmdyh0000gn/T/ipykernel_8587/1082697270.py:4: FutureWarning: DataFrame.interpolate with object dtype is deprecated and will raise in a future version. Call obj.infer_objects(copy=False) before interpolating instead.\n",
      "  yearly_data[yearly_data.county == county] = yearly_data.loc[yearly_data.county == county].interpolate(method=\"linear\", limit_direction=\"both\")\n",
      "/var/folders/49/83yn42lx6x3ct4nw2k8rmdyh0000gn/T/ipykernel_8587/1082697270.py:4: FutureWarning: DataFrame.interpolate with object dtype is deprecated and will raise in a future version. Call obj.infer_objects(copy=False) before interpolating instead.\n",
      "  yearly_data[yearly_data.county == county] = yearly_data.loc[yearly_data.county == county].interpolate(method=\"linear\", limit_direction=\"both\")\n",
      "/var/folders/49/83yn42lx6x3ct4nw2k8rmdyh0000gn/T/ipykernel_8587/1082697270.py:4: FutureWarning: DataFrame.interpolate with object dtype is deprecated and will raise in a future version. Call obj.infer_objects(copy=False) before interpolating instead.\n",
      "  yearly_data[yearly_data.county == county] = yearly_data.loc[yearly_data.county == county].interpolate(method=\"linear\", limit_direction=\"both\")\n",
      "/var/folders/49/83yn42lx6x3ct4nw2k8rmdyh0000gn/T/ipykernel_8587/1082697270.py:4: FutureWarning: DataFrame.interpolate with object dtype is deprecated and will raise in a future version. Call obj.infer_objects(copy=False) before interpolating instead.\n",
      "  yearly_data[yearly_data.county == county] = yearly_data.loc[yearly_data.county == county].interpolate(method=\"linear\", limit_direction=\"both\")\n",
      "/var/folders/49/83yn42lx6x3ct4nw2k8rmdyh0000gn/T/ipykernel_8587/1082697270.py:4: FutureWarning: DataFrame.interpolate with object dtype is deprecated and will raise in a future version. Call obj.infer_objects(copy=False) before interpolating instead.\n",
      "  yearly_data[yearly_data.county == county] = yearly_data.loc[yearly_data.county == county].interpolate(method=\"linear\", limit_direction=\"both\")\n",
      "/var/folders/49/83yn42lx6x3ct4nw2k8rmdyh0000gn/T/ipykernel_8587/1082697270.py:4: FutureWarning: DataFrame.interpolate with object dtype is deprecated and will raise in a future version. Call obj.infer_objects(copy=False) before interpolating instead.\n",
      "  yearly_data[yearly_data.county == county] = yearly_data.loc[yearly_data.county == county].interpolate(method=\"linear\", limit_direction=\"both\")\n",
      "/var/folders/49/83yn42lx6x3ct4nw2k8rmdyh0000gn/T/ipykernel_8587/1082697270.py:4: FutureWarning: DataFrame.interpolate with object dtype is deprecated and will raise in a future version. Call obj.infer_objects(copy=False) before interpolating instead.\n",
      "  yearly_data[yearly_data.county == county] = yearly_data.loc[yearly_data.county == county].interpolate(method=\"linear\", limit_direction=\"both\")\n",
      "/var/folders/49/83yn42lx6x3ct4nw2k8rmdyh0000gn/T/ipykernel_8587/1082697270.py:4: FutureWarning: DataFrame.interpolate with object dtype is deprecated and will raise in a future version. Call obj.infer_objects(copy=False) before interpolating instead.\n",
      "  yearly_data[yearly_data.county == county] = yearly_data.loc[yearly_data.county == county].interpolate(method=\"linear\", limit_direction=\"both\")\n",
      "/var/folders/49/83yn42lx6x3ct4nw2k8rmdyh0000gn/T/ipykernel_8587/1082697270.py:4: FutureWarning: DataFrame.interpolate with object dtype is deprecated and will raise in a future version. Call obj.infer_objects(copy=False) before interpolating instead.\n",
      "  yearly_data[yearly_data.county == county] = yearly_data.loc[yearly_data.county == county].interpolate(method=\"linear\", limit_direction=\"both\")\n",
      "/var/folders/49/83yn42lx6x3ct4nw2k8rmdyh0000gn/T/ipykernel_8587/1082697270.py:4: FutureWarning: DataFrame.interpolate with object dtype is deprecated and will raise in a future version. Call obj.infer_objects(copy=False) before interpolating instead.\n",
      "  yearly_data[yearly_data.county == county] = yearly_data.loc[yearly_data.county == county].interpolate(method=\"linear\", limit_direction=\"both\")\n",
      "/var/folders/49/83yn42lx6x3ct4nw2k8rmdyh0000gn/T/ipykernel_8587/1082697270.py:4: FutureWarning: DataFrame.interpolate with object dtype is deprecated and will raise in a future version. Call obj.infer_objects(copy=False) before interpolating instead.\n",
      "  yearly_data[yearly_data.county == county] = yearly_data.loc[yearly_data.county == county].interpolate(method=\"linear\", limit_direction=\"both\")\n",
      "/var/folders/49/83yn42lx6x3ct4nw2k8rmdyh0000gn/T/ipykernel_8587/1082697270.py:4: FutureWarning: DataFrame.interpolate with object dtype is deprecated and will raise in a future version. Call obj.infer_objects(copy=False) before interpolating instead.\n",
      "  yearly_data[yearly_data.county == county] = yearly_data.loc[yearly_data.county == county].interpolate(method=\"linear\", limit_direction=\"both\")\n",
      "/var/folders/49/83yn42lx6x3ct4nw2k8rmdyh0000gn/T/ipykernel_8587/1082697270.py:4: FutureWarning: DataFrame.interpolate with object dtype is deprecated and will raise in a future version. Call obj.infer_objects(copy=False) before interpolating instead.\n",
      "  yearly_data[yearly_data.county == county] = yearly_data.loc[yearly_data.county == county].interpolate(method=\"linear\", limit_direction=\"both\")\n",
      "/var/folders/49/83yn42lx6x3ct4nw2k8rmdyh0000gn/T/ipykernel_8587/1082697270.py:4: FutureWarning: DataFrame.interpolate with object dtype is deprecated and will raise in a future version. Call obj.infer_objects(copy=False) before interpolating instead.\n",
      "  yearly_data[yearly_data.county == county] = yearly_data.loc[yearly_data.county == county].interpolate(method=\"linear\", limit_direction=\"both\")\n",
      "/var/folders/49/83yn42lx6x3ct4nw2k8rmdyh0000gn/T/ipykernel_8587/1082697270.py:4: FutureWarning: DataFrame.interpolate with object dtype is deprecated and will raise in a future version. Call obj.infer_objects(copy=False) before interpolating instead.\n",
      "  yearly_data[yearly_data.county == county] = yearly_data.loc[yearly_data.county == county].interpolate(method=\"linear\", limit_direction=\"both\")\n",
      "/var/folders/49/83yn42lx6x3ct4nw2k8rmdyh0000gn/T/ipykernel_8587/1082697270.py:4: FutureWarning: DataFrame.interpolate with object dtype is deprecated and will raise in a future version. Call obj.infer_objects(copy=False) before interpolating instead.\n",
      "  yearly_data[yearly_data.county == county] = yearly_data.loc[yearly_data.county == county].interpolate(method=\"linear\", limit_direction=\"both\")\n",
      "/var/folders/49/83yn42lx6x3ct4nw2k8rmdyh0000gn/T/ipykernel_8587/1082697270.py:4: FutureWarning: DataFrame.interpolate with object dtype is deprecated and will raise in a future version. Call obj.infer_objects(copy=False) before interpolating instead.\n",
      "  yearly_data[yearly_data.county == county] = yearly_data.loc[yearly_data.county == county].interpolate(method=\"linear\", limit_direction=\"both\")\n",
      "/var/folders/49/83yn42lx6x3ct4nw2k8rmdyh0000gn/T/ipykernel_8587/1082697270.py:4: FutureWarning: DataFrame.interpolate with object dtype is deprecated and will raise in a future version. Call obj.infer_objects(copy=False) before interpolating instead.\n",
      "  yearly_data[yearly_data.county == county] = yearly_data.loc[yearly_data.county == county].interpolate(method=\"linear\", limit_direction=\"both\")\n",
      "/var/folders/49/83yn42lx6x3ct4nw2k8rmdyh0000gn/T/ipykernel_8587/1082697270.py:4: FutureWarning: DataFrame.interpolate with object dtype is deprecated and will raise in a future version. Call obj.infer_objects(copy=False) before interpolating instead.\n",
      "  yearly_data[yearly_data.county == county] = yearly_data.loc[yearly_data.county == county].interpolate(method=\"linear\", limit_direction=\"both\")\n",
      "/var/folders/49/83yn42lx6x3ct4nw2k8rmdyh0000gn/T/ipykernel_8587/1082697270.py:4: FutureWarning: DataFrame.interpolate with object dtype is deprecated and will raise in a future version. Call obj.infer_objects(copy=False) before interpolating instead.\n",
      "  yearly_data[yearly_data.county == county] = yearly_data.loc[yearly_data.county == county].interpolate(method=\"linear\", limit_direction=\"both\")\n",
      "/var/folders/49/83yn42lx6x3ct4nw2k8rmdyh0000gn/T/ipykernel_8587/1082697270.py:4: FutureWarning: DataFrame.interpolate with object dtype is deprecated and will raise in a future version. Call obj.infer_objects(copy=False) before interpolating instead.\n",
      "  yearly_data[yearly_data.county == county] = yearly_data.loc[yearly_data.county == county].interpolate(method=\"linear\", limit_direction=\"both\")\n",
      "/var/folders/49/83yn42lx6x3ct4nw2k8rmdyh0000gn/T/ipykernel_8587/1082697270.py:4: FutureWarning: DataFrame.interpolate with object dtype is deprecated and will raise in a future version. Call obj.infer_objects(copy=False) before interpolating instead.\n",
      "  yearly_data[yearly_data.county == county] = yearly_data.loc[yearly_data.county == county].interpolate(method=\"linear\", limit_direction=\"both\")\n",
      "/var/folders/49/83yn42lx6x3ct4nw2k8rmdyh0000gn/T/ipykernel_8587/1082697270.py:4: FutureWarning: DataFrame.interpolate with object dtype is deprecated and will raise in a future version. Call obj.infer_objects(copy=False) before interpolating instead.\n",
      "  yearly_data[yearly_data.county == county] = yearly_data.loc[yearly_data.county == county].interpolate(method=\"linear\", limit_direction=\"both\")\n",
      "/var/folders/49/83yn42lx6x3ct4nw2k8rmdyh0000gn/T/ipykernel_8587/1082697270.py:4: FutureWarning: DataFrame.interpolate with object dtype is deprecated and will raise in a future version. Call obj.infer_objects(copy=False) before interpolating instead.\n",
      "  yearly_data[yearly_data.county == county] = yearly_data.loc[yearly_data.county == county].interpolate(method=\"linear\", limit_direction=\"both\")\n",
      "/var/folders/49/83yn42lx6x3ct4nw2k8rmdyh0000gn/T/ipykernel_8587/1082697270.py:4: FutureWarning: DataFrame.interpolate with object dtype is deprecated and will raise in a future version. Call obj.infer_objects(copy=False) before interpolating instead.\n",
      "  yearly_data[yearly_data.county == county] = yearly_data.loc[yearly_data.county == county].interpolate(method=\"linear\", limit_direction=\"both\")\n",
      "/var/folders/49/83yn42lx6x3ct4nw2k8rmdyh0000gn/T/ipykernel_8587/1082697270.py:4: FutureWarning: DataFrame.interpolate with object dtype is deprecated and will raise in a future version. Call obj.infer_objects(copy=False) before interpolating instead.\n",
      "  yearly_data[yearly_data.county == county] = yearly_data.loc[yearly_data.county == county].interpolate(method=\"linear\", limit_direction=\"both\")\n",
      "/var/folders/49/83yn42lx6x3ct4nw2k8rmdyh0000gn/T/ipykernel_8587/1082697270.py:4: FutureWarning: DataFrame.interpolate with object dtype is deprecated and will raise in a future version. Call obj.infer_objects(copy=False) before interpolating instead.\n",
      "  yearly_data[yearly_data.county == county] = yearly_data.loc[yearly_data.county == county].interpolate(method=\"linear\", limit_direction=\"both\")\n"
     ]
    }
   ],
   "source": [
    "# interpolation\n",
    "for col in yearly_data.columns[yearly_data.isna().any()]:\n",
    "    for county in yearly_data.county.unique():\n",
    "        yearly_data[yearly_data.county == county] = yearly_data.loc[yearly_data.county == county].interpolate(method=\"linear\", limit_direction=\"both\")"
   ]
  },
  {
   "cell_type": "code",
   "execution_count": 272,
   "metadata": {},
   "outputs": [],
   "source": [
    "yearly_data.to_csv(\"../data/cleaned/yearly_econ_data.csv\")"
   ]
  }
 ],
 "metadata": {
  "kernelspec": {
   "display_name": "Python 3",
   "language": "python",
   "name": "python3"
  },
  "language_info": {
   "codemirror_mode": {
    "name": "ipython",
    "version": 3
   },
   "file_extension": ".py",
   "mimetype": "text/x-python",
   "name": "python",
   "nbconvert_exporter": "python",
   "pygments_lexer": "ipython3",
   "version": "3.11.7"
  }
 },
 "nbformat": 4,
 "nbformat_minor": 2
}
