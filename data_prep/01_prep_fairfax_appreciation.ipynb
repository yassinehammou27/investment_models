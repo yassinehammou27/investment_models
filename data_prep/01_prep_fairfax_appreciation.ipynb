{
 "cells": [
  {
   "cell_type": "markdown",
   "metadata": {},
   "source": [
    "# 01 Preperation Appreciation Data Fairfax\n",
    "\n",
    "In this notebook we prepare and clean the data for our analysis and modelling steps for our house price appreciation prediction model."
   ]
  },
  {
   "cell_type": "code",
   "execution_count": 2,
   "metadata": {},
   "outputs": [],
   "source": [
    "import pandas as pd\n",
    "import plotly.express as px\n",
    "import numpy as np\n",
    "import dask.dataframe as dd"
   ]
  },
  {
   "cell_type": "markdown",
   "metadata": {},
   "source": [
    "### Fairfax County"
   ]
  },
  {
   "cell_type": "code",
   "execution_count": 3,
   "metadata": {},
   "outputs": [],
   "source": [
    "# read data\n",
    "df_fairfax = pd.read_csv(\"../data/cleaned/df_fairfax_cleaned.csv\", index_col=[0])"
   ]
  },
  {
   "cell_type": "code",
   "execution_count": 17,
   "metadata": {},
   "outputs": [],
   "source": [
    "# convert dates into datetime\n",
    "df_fairfax[\"saledate\"] = pd.to_datetime(df_fairfax.saledate)"
   ]
  },
  {
   "cell_type": "code",
   "execution_count": 18,
   "metadata": {},
   "outputs": [],
   "source": [
    "# only considere sale date after 1989\n",
    "df_fairfax = df_fairfax[df_fairfax.saledate.dt.year > 1989]"
   ]
  },
  {
   "cell_type": "code",
   "execution_count": 20,
   "metadata": {},
   "outputs": [],
   "source": [
    "# group transaction by house id\n",
    "grouped = df_fairfax.groupby(by=\"id\").size()"
   ]
  },
  {
   "cell_type": "code",
   "execution_count": 22,
   "metadata": {},
   "outputs": [],
   "source": [
    "# only consider houses with at least to transaction\n",
    "df_fairfax = df_fairfax[df_fairfax.id.isin(grouped[grouped > 1].index)]"
   ]
  },
  {
   "cell_type": "code",
   "execution_count": 25,
   "metadata": {},
   "outputs": [],
   "source": [
    "# calculate prior sale prices and sale dates\n",
    "df_fairfax[[\"prior_price\", \"prior_saledate\"]] = df_fairfax.sort_values(by=\"saledate\").groupby(by=\"id\")[[\"price\", \"saledate\"]].shift()"
   ]
  },
  {
   "cell_type": "code",
   "execution_count": 27,
   "metadata": {},
   "outputs": [],
   "source": [
    "# drop rows with missing values for the prior sale date or sale price\n",
    "df_fairfax = df_fairfax.dropna(subset=[\"prior_saledate\", \"prior_price\"])"
   ]
  },
  {
   "cell_type": "code",
   "execution_count": 28,
   "metadata": {},
   "outputs": [],
   "source": [
    "df_fairfax.to_csv(\"df_fairfax_appreciation_cleaned.csv\")"
   ]
  }
 ],
 "metadata": {
  "kernelspec": {
   "display_name": "Python 3",
   "language": "python",
   "name": "python3"
  },
  "language_info": {
   "codemirror_mode": {
    "name": "ipython",
    "version": 3
   },
   "file_extension": ".py",
   "mimetype": "text/x-python",
   "name": "python",
   "nbconvert_exporter": "python",
   "pygments_lexer": "ipython3",
   "version": "3.11.7"
  }
 },
 "nbformat": 4,
 "nbformat_minor": 2
}
