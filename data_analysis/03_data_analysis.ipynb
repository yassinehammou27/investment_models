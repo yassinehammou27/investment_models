{
 "cells": [
  {
   "cell_type": "markdown",
   "metadata": {},
   "source": [
    "# 03 Data Analysis (Correlation)\n",
    "\n",
    "In this notebook we have a look at the correlation between the features themselves as well as the correlation of the features with the target variable (house price)."
   ]
  },
  {
   "cell_type": "code",
   "execution_count": null,
   "metadata": {},
   "outputs": [],
   "source": [
    "import pandas as pd\n",
    "import seaborn as sns\n",
    "import matplotlib.pyplot as plt\n",
    "import plotly.express as px\n",
    "import math\n",
    "import numpy as np\n",
    "from sklearn.feature_selection import mutual_info_regression\n",
    "from shapely import wkt"
   ]
  },
  {
   "cell_type": "code",
   "execution_count": null,
   "metadata": {},
   "outputs": [],
   "source": [
    "df = pd.read_csv(\"../data/cleaned/df_final.csv\", index_col=0)"
   ]
  },
  {
   "cell_type": "code",
   "execution_count": null,
   "metadata": {},
   "outputs": [],
   "source": [
    "df_back = df.copy()"
   ]
  },
  {
   "cell_type": "markdown",
   "metadata": {},
   "source": [
    "### Preprocessing"
   ]
  },
  {
   "cell_type": "code",
   "execution_count": null,
   "metadata": {},
   "outputs": [],
   "source": [
    "# drop columns\n",
    "columns_to_drop = [\n",
    "    \"state_y\",\n",
    "    \"geometry_y\",\n",
    "    \"lag_month\",\n",
    "    \"lag_year_y\",\n",
    "    \"date_y\",\n",
    "    \"lag_year_x\",\n",
    "]\n",
    "df = df.drop(columns=columns_to_drop)"
   ]
  },
  {
   "cell_type": "code",
   "execution_count": null,
   "metadata": {},
   "outputs": [],
   "source": [
    "df[\"age\"] = (df.year - df.yrblt)\n",
    "df[\"eff_age\"] = (df.year - df.effyrblt)"
   ]
  },
  {
   "cell_type": "code",
   "execution_count": null,
   "metadata": {},
   "outputs": [],
   "source": [
    "# drop where age is negative\n",
    "df = df[df.age >= 0]"
   ]
  },
  {
   "cell_type": "code",
   "execution_count": null,
   "metadata": {},
   "outputs": [],
   "source": [
    "# set effyrblt and eff_age to NaN for the case where effyrblt > saledate (data leakage)\n",
    "df.loc[df.eff_age < 0, \"effyrblt\"] = np.nan\n",
    "df.loc[df.eff_age < 0, \"eff_age\"] = np.nan"
   ]
  },
  {
   "cell_type": "code",
   "execution_count": null,
   "metadata": {},
   "outputs": [],
   "source": [
    "# drop transactions with yrblt of zero\n",
    "df = df[df.yrblt != 0]"
   ]
  },
  {
   "cell_type": "code",
   "execution_count": null,
   "metadata": {},
   "outputs": [],
   "source": [
    "# drop transactions with yrblt of zero\n",
    "df = df[df.effyrblt != 0]"
   ]
  },
  {
   "cell_type": "code",
   "execution_count": null,
   "metadata": {},
   "outputs": [],
   "source": [
    "# create features longitude, latitude\n",
    "df[\"geometry_x\"] = df.geometry_x.apply(wkt.loads)\n",
    "df[\"geometry_x\"] = df.geometry_x.apply(lambda x: x.centroid)\n",
    "\n",
    "df[\"longitude\"] = df.geometry_x.apply(lambda x: x.x)\n",
    "df[\"latitude\"] = df.geometry_x.apply(lambda x: x.y)"
   ]
  },
  {
   "cell_type": "markdown",
   "metadata": {},
   "source": [
    "### Data Analysis"
   ]
  },
  {
   "cell_type": "markdown",
   "metadata": {},
   "source": [
    "#### Correlations"
   ]
  },
  {
   "cell_type": "code",
   "execution_count": null,
   "metadata": {},
   "outputs": [],
   "source": [
    "df.columns"
   ]
  },
  {
   "cell_type": "code",
   "execution_count": null,
   "metadata": {},
   "outputs": [],
   "source": [
    "### correlations\n",
    "corr = df.corr(numeric_only=True)\n",
    "\n",
    "# plot \n",
    "fig, ax = plt.subplots(figsize=(30,20))\n",
    "sns.heatmap(corr, xticklabels=corr.columns.values, yticklabels=corr.columns.values, ax=ax)\n",
    "\n",
    "#px.bar(corr.loc[\"Target\"].abs().sort_values(ascending=False)) # maybe leave out abs"
   ]
  },
  {
   "cell_type": "markdown",
   "metadata": {},
   "source": [
    "**Findings:**\n",
    "\n",
    "- the effective living area also seems to correlate with other core features like the number of bedrooms and the number of bathrooms\n",
    "\n",
    "- regarding the correlations we clearly see a positive correlation of most frequency geografic features with other geografic frequency features\n",
    "- mostly negative correlations between the distance geografix features and frequency geografic features. This makes sense because if the number of healthcare facilities in a 5 km radius is high. its is more likely that the distance to a hospital which is included in the healthcare facilies is small\n",
    "- besides that we have a great positive correlations between the different economic factors, such as betweeen the population and the number of employed persons. In this specific case this makes sense, because in bigger cities or counties with larger populations the total number of employed peope is more likely to be higher compared to counties with a very small population. However if we take a closer look there is not a big correlation between population and the unemployment rate. because the unemployment rate is relative to the population and therefore can differ form county to county without the population having a clear effect.\n",
    "- within the economic factors there are also some negative correlated features. Such as the poverty_rate and n_employed which economically also makes sense. if the poverty is high it is more likely that there are less employed people which generally indicates a negative economic state.\n",
    "the same is the case for economic factors such as unemployment_rate and household_incomre. A high unemployment_rate suggests a bad state of the economy and therefore it makes sense that the average household_incomre would be small.\n",
    "- another interesting point is that we have strong positive correlation between the house price index and the number of new housing permits. Since the house price index capture the price development of houses it makes sense if the prices for houses generally go up that also the interest to build a house or accuire a house increase. However the hpi does not seem to strongly correlated with other econmic features.\n",
    "\n",
    "- another interesing thing is that we have a very strong correlation between an economic or demografic factor such as the population and some geografical distance features. \n",
    "- for the population we see a very strong negative correlation with the distance to railway station. This is probably or there tend to be there are maybe more railway stations in cities or counties with a higher population. therefore generelly the distance to railway stations would be smaller than in counties with a very low population. The same effect can be seen for the economic factor of number of employed people. this is also the case because we have a strong positive correlation between number of employed people and th population.\n",
    "\n",
    "\n",
    "Price (price):\n",
    "\n",
    "Shows moderate correlation with variables like household_income and hpi.\n",
    "Household Income (household_income):\n",
    "\n",
    "Strongly positively correlated with hpi and new_housing.\n",
    "Strongly negatively correlated with poverty_rate, unemployment_rate, and n_unemployed.\n",
    "Employment-related Variables:\n",
    "\n",
    "unemployment_rate and n_unemployed are positively correlated.\n",
    "These variables are negatively correlated with household_income and n_employed"
   ]
  },
  {
   "cell_type": "code",
   "execution_count": null,
   "metadata": {},
   "outputs": [],
   "source": [
    "px.bar(corr.loc[\"price\"].sort_values(ascending=False).drop(\"price\"),\n",
    "             labels={'index': 'Features', 'value': 'Correlation Coefficient'},\n",
    "             title='Feature Correlation with Price')"
   ]
  },
  {
   "cell_type": "markdown",
   "metadata": {},
   "source": [
    "**Findings:**\n",
    "\n",
    "- regarding the correlation with with the target the sale price, we cann see that there is no feature that has a signifiant high correlation with the price.\n",
    "- +++ the feature with the highest correlation of 0.5 is the effective living area with \n",
    "- -- the feature with the highes correlation of 0.45 is the number of the bathrooms\n",
    "- ++ the number of bathrooms and the living area follow after with correlation of 0.45 and 0.4 \n",
    "- the household_income and the house price index as econmic factor follow after that. \n",
    "- Regarding the distance geografical features the distance to the airport is the one with the highest correlation with the price\n",
    "- what is intersting is that the frequency features seem to have very low correlation with price which is also refelcted by our previous analysis"
   ]
  },
  {
   "cell_type": "markdown",
   "metadata": {},
   "source": [
    "##### Mutual Information"
   ]
  },
  {
   "cell_type": "code",
   "execution_count": null,
   "metadata": {},
   "outputs": [],
   "source": [
    "X = df.drop(columns=\"price\").select_dtypes(exclude=[\"object\"])\n",
    "y = df.loc[:, \"price\"]"
   ]
  },
  {
   "cell_type": "code",
   "execution_count": null,
   "metadata": {},
   "outputs": [],
   "source": [
    "X = X.fillna(0)"
   ]
  },
  {
   "cell_type": "code",
   "execution_count": null,
   "metadata": {},
   "outputs": [],
   "source": [
    "### mutual information (maybe also after encoding of categorical variables)\n",
    "mi_scores = mutual_info_regression(X, y)\n",
    "mi_scores = pd.Series(mi_scores, name=\"MI Scores\", index=X.columns)\n",
    "mi_scores = mi_scores.sort_values(ascending=False)\n",
    "\n",
    "\n",
    "\n",
    "# plot\n",
    "px.bar(y=mi_scores, x=mi_scores.index, orientation=\"v\")"
   ]
  },
  {
   "cell_type": "markdown",
   "metadata": {},
   "source": [
    "- regarding the mutial information we can see some differences compared to the correlation\n",
    "- what significantly differs is that number of people in poverty and numer of young people in poverty seem to have a high impact on the price\n",
    "- but in this case we can see that the house price index and the household income still have to have a high impact"
   ]
  }
 ],
 "metadata": {
  "kernelspec": {
   "display_name": "Python 3",
   "language": "python",
   "name": "python3"
  },
  "language_info": {
   "codemirror_mode": {
    "name": "ipython",
    "version": 3
   },
   "file_extension": ".py",
   "mimetype": "text/x-python",
   "name": "python",
   "nbconvert_exporter": "python",
   "pygments_lexer": "ipython3",
   "version": "3.11.7"
  }
 },
 "nbformat": 4,
 "nbformat_minor": 2
}
