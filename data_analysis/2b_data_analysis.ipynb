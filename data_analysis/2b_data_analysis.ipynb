{
 "cells": [
  {
   "cell_type": "markdown",
   "metadata": {},
   "source": [
    "# 02 Data Analysis Appreciation (Target Plotting)\n",
    "\n",
    "In this notebook we have a look at the relationship between or different features and our target variable the house price appreciation."
   ]
  },
  {
   "cell_type": "code",
   "execution_count": 1,
   "metadata": {},
   "outputs": [],
   "source": [
    "import pandas as pd\n",
    "import seaborn as sns\n",
    "import matplotlib.pyplot as plt\n",
    "import plotly.express as px\n",
    "import math\n",
    "import numpy as np"
   ]
  },
  {
   "cell_type": "code",
   "execution_count": 2,
   "metadata": {},
   "outputs": [],
   "source": [
    "df_origin = pd.read_csv(\"../data/cleaned/df_appreciation_final.csv\", index_col=0)"
   ]
  },
  {
   "cell_type": "code",
   "execution_count": 3,
   "metadata": {},
   "outputs": [],
   "source": [
    "df = df_origin.copy()"
   ]
  },
  {
   "cell_type": "markdown",
   "metadata": {},
   "source": [
    "### Preprocessing"
   ]
  },
  {
   "cell_type": "code",
   "execution_count": 4,
   "metadata": {},
   "outputs": [],
   "source": [
    "# drop columns\n",
    "columns_to_drop = [\n",
    "    \"state_y\",\n",
    "    \"geometry_y\",\n",
    "    \"lag_month\",\n",
    "    \"lag_year_y\",\n",
    "    \"date_y\",\n",
    "    \"lag_year_x\",\n",
    "]\n",
    "df = df.drop(columns=columns_to_drop)"
   ]
  },
  {
   "cell_type": "code",
   "execution_count": 5,
   "metadata": {},
   "outputs": [],
   "source": [
    "df[\"age\"] = (df.year - df.yrblt)\n",
    "df[\"eff_age\"] = (df.year - df.effyrblt)"
   ]
  },
  {
   "cell_type": "code",
   "execution_count": 6,
   "metadata": {},
   "outputs": [],
   "source": [
    "# drop where age is negative\n",
    "df = df[df.age >= 0]"
   ]
  },
  {
   "cell_type": "code",
   "execution_count": 7,
   "metadata": {},
   "outputs": [],
   "source": [
    "# set effyrblt and eff_age to NaN for the case where effyrblt > saledate (data leakage)\n",
    "df.loc[df.eff_age < 0, \"effyrblt\"] = np.nan\n",
    "df.loc[df.eff_age < 0, \"eff_age\"] = np.nan"
   ]
  },
  {
   "cell_type": "code",
   "execution_count": 8,
   "metadata": {},
   "outputs": [],
   "source": [
    "# drop transactions with yrblt of zero\n",
    "df = df[df.yrblt != 0]"
   ]
  },
  {
   "cell_type": "code",
   "execution_count": 9,
   "metadata": {},
   "outputs": [],
   "source": [
    "# drop transactions with yrblt of zero\n",
    "df = df[df.effyrblt != 0]"
   ]
  },
  {
   "cell_type": "markdown",
   "metadata": {},
   "source": [
    "- prior_price\n",
    "- price\n",
    "- saledate\n",
    "- prior_saledate\n",
    "- year\n",
    "- prior_year\n",
    "- month\n",
    "- prior_month"
   ]
  },
  {
   "cell_type": "code",
   "execution_count": null,
   "metadata": {},
   "outputs": [],
   "source": [
    "# calculate appreciation in percent\n",
    "df[\"appreciation\"] = (df[\"price\"] - df[\"prior_price\"])/df.prior_price"
   ]
  },
  {
   "cell_type": "code",
   "execution_count": null,
   "metadata": {},
   "outputs": [],
   "source": [
    "df[\"saledate\"] = pd.to_datetime(df.saledate)\n",
    "df[\"prior_saledate\"] = pd.to_datetime(df.prior_saledate)"
   ]
  },
  {
   "cell_type": "code",
   "execution_count": null,
   "metadata": {},
   "outputs": [],
   "source": [
    "df[\"appreciation_time\"] = df.saledate - df.prior_saledate"
   ]
  },
  {
   "cell_type": "code",
   "execution_count": null,
   "metadata": {},
   "outputs": [],
   "source": [
    "df[\"appreciation_time\"] = df.appreciation_time.dt.days"
   ]
  },
  {
   "cell_type": "code",
   "execution_count": null,
   "metadata": {},
   "outputs": [],
   "source": [
    "# drop cases where the saleprice is the same (no appreciation) most of the time double recording of transactions\n",
    "df = df[df.saledate != df.prior_saledate]"
   ]
  },
  {
   "cell_type": "code",
   "execution_count": null,
   "metadata": {},
   "outputs": [],
   "source": [
    "# drop negatvie appreciation time (only four cases)\n",
    "df = df[df.appreciation_time > 0]"
   ]
  },
  {
   "cell_type": "code",
   "execution_count": null,
   "metadata": {},
   "outputs": [],
   "source": [
    "# calculate the appreciation per day\n",
    "df[\"appreciation_per_day\"] = np.where(df.appreciation_time == 0, df.appreciation, (df[\"appreciation\"] / df.appreciation_time))"
   ]
  },
  {
   "cell_type": "code",
   "execution_count": null,
   "metadata": {},
   "outputs": [],
   "source": [
    "df[df.appreciation_per_day > 10][[\"appreciation_per_day\", \"price\", \"prior_price\", \"appreciation_time\"]]\n",
    "# we have to filter out very small prior_prices (e.g. 10 euro)"
   ]
  },
  {
   "cell_type": "code",
   "execution_count": null,
   "metadata": {},
   "outputs": [],
   "source": [
    "# filter out prior prices smaller than 100\n",
    "df = df[df.prior_price > 100]"
   ]
  },
  {
   "cell_type": "code",
   "execution_count": null,
   "metadata": {},
   "outputs": [],
   "source": [
    "df[df.appreciation_per_day > 10][[\"appreciation_per_day\", \"price\", \"prior_price\", \"appreciation_time\"]]"
   ]
  },
  {
   "cell_type": "code",
   "execution_count": null,
   "metadata": {},
   "outputs": [],
   "source": [
    "df[df.appreciation_per_day.abs() > 1][[\"appreciation_per_day\", \"price\", \"prior_price\", \"appreciation_time\"]]"
   ]
  },
  {
   "cell_type": "code",
   "execution_count": null,
   "metadata": {},
   "outputs": [],
   "source": [
    "df[\"appreciation_per_year\"] = df.appreciation_per_day * 360 "
   ]
  },
  {
   "cell_type": "code",
   "execution_count": null,
   "metadata": {},
   "outputs": [],
   "source": [
    "df[(df[\"appreciation_per_year\"] > 100) & (df[\"appreciation_time\"] < 360)][[\"price\", \"prior_price\", \"saledate\", \"prior_saledate\", \"appreciation_per_year\", \"appreciation_time\"]]"
   ]
  },
  {
   "cell_type": "code",
   "execution_count": null,
   "metadata": {},
   "outputs": [],
   "source": [
    "# delete some outliers \n",
    "df = df[df[\"appreciation_per_year\"].abs() <= 100]"
   ]
  },
  {
   "cell_type": "markdown",
   "metadata": {},
   "source": [
    "### Data Analysis"
   ]
  },
  {
   "cell_type": "markdown",
   "metadata": {},
   "source": [
    "#### Target Plotting"
   ]
  },
  {
   "cell_type": "markdown",
   "metadata": {},
   "source": [
    "##### age and eff_age"
   ]
  },
  {
   "cell_type": "code",
   "execution_count": null,
   "metadata": {},
   "outputs": [],
   "source": [
    "fig, ax = plt.subplots(figsize=(10,5))\n",
    "sns.scatterplot(df, y=\"appreciation_per_day\", x=\"age\", alpha=.5, ax=ax)"
   ]
  },
  {
   "cell_type": "code",
   "execution_count": null,
   "metadata": {},
   "outputs": [],
   "source": [
    "df_copy = df.copy()"
   ]
  },
  {
   "cell_type": "code",
   "execution_count": null,
   "metadata": {},
   "outputs": [],
   "source": [
    "df_copy[\"age_range\"] = pd.cut(df_copy.age ,bins=20)\n",
    "df_copy[\"age_range_q\"] = pd.qcut(df_copy.age ,q=20, duplicates=\"drop\")"
   ]
  },
  {
   "cell_type": "code",
   "execution_count": null,
   "metadata": {},
   "outputs": [],
   "source": [
    "fig, ax = plt.subplots(figsize=(30,10))\n",
    "sns.barplot(df_copy, y=\"appreciation_per_year\", x=\"age_range\", ax=ax)"
   ]
  },
  {
   "cell_type": "code",
   "execution_count": null,
   "metadata": {},
   "outputs": [],
   "source": [
    "fig, ax = plt.subplots(figsize=(30,10))\n",
    "sns.barplot(df_copy, y=\"appreciation_per_year\", x=\"age_range\", ax=ax, estimator=np.median)"
   ]
  },
  {
   "cell_type": "markdown",
   "metadata": {},
   "source": [
    "**Finding:**\n",
    "- we can see a large appreciation value for new houses\n",
    "- but in general we can see that we have a quadratic relationship between the age and the appreciation per year\n",
    "- the appreication first increases with the age up until an age of around 130 to 150 years and after that the appreciation seems to decrease\n",
    "- there are still some extreme cases where we have very old houses with large appreciation values, but if we blent out these extreme case, we can generall see this relationship\n",
    "\n",
    "- same picture can be seen if we consider the median values and not the mean values"
   ]
  },
  {
   "cell_type": "code",
   "execution_count": null,
   "metadata": {},
   "outputs": [],
   "source": [
    "fig, ax = plt.subplots(figsize=(30,10))\n",
    "sns.barplot(df_copy, y=\"appreciation_per_day\", x=\"age_range_q\", ax=ax)"
   ]
  },
  {
   "cell_type": "code",
   "execution_count": null,
   "metadata": {},
   "outputs": [],
   "source": [
    "fig, ax = plt.subplots(figsize=(30,10))\n",
    "sns.scatterplot(df, y=\"appreciation_per_day\", x=\"eff_age\", alpha=.5, ax=ax)"
   ]
  },
  {
   "cell_type": "code",
   "execution_count": null,
   "metadata": {},
   "outputs": [],
   "source": [
    "df_copy[\"eff_age_range\"] = pd.cut(df_copy.eff_age ,bins=20)\n",
    "df_copy[\"eff_age_range_q\"] = pd.qcut(df_copy.eff_age, q=20)"
   ]
  },
  {
   "cell_type": "code",
   "execution_count": null,
   "metadata": {},
   "outputs": [],
   "source": [
    "fig, ax = plt.subplots(figsize=(30,10))\n",
    "sns.barplot(df_copy, y=\"appreciation_per_year\", x=\"eff_age_range\", ax=ax)"
   ]
  },
  {
   "cell_type": "code",
   "execution_count": null,
   "metadata": {},
   "outputs": [],
   "source": [
    "fig, ax = plt.subplots(figsize=(30,10))\n",
    "sns.barplot(df_copy, y=\"appreciation_per_year\", x=\"eff_age_range_q\", ax=ax)"
   ]
  },
  {
   "cell_type": "markdown",
   "metadata": {},
   "source": [
    "##### city"
   ]
  },
  {
   "cell_type": "code",
   "execution_count": null,
   "metadata": {},
   "outputs": [],
   "source": [
    "# city\n",
    "fig, ax = plt.subplots(figsize=(30,10))\n",
    "sns.barplot(df_copy, y=\"appreciation_per_year\", x=\"city\", ax=ax)"
   ]
  },
  {
   "cell_type": "code",
   "execution_count": null,
   "metadata": {},
   "outputs": [],
   "source": [
    "# city\n",
    "# Set display format to avoid e-notation\n",
    "pd.options.display.float_format = '{:.9f}'.format\n",
    "df_copy.groupby(by=\"city\")[\"appreciation_per_day\"].mean().sort_values(ascending=False) * 100"
   ]
  },
  {
   "cell_type": "code",
   "execution_count": null,
   "metadata": {},
   "outputs": [],
   "source": [
    "# city\n",
    "# Set display format to avoid e-notation\n",
    "pd.options.display.float_format = '{:.9f}'.format\n",
    "df_copy.groupby(by=\"city\")[\"appreciation_per_day\"].median().sort_values(ascending=False) * 100"
   ]
  },
  {
   "cell_type": "markdown",
   "metadata": {},
   "source": [
    "**Findings**:\n",
    "- City with the largest appreciation is chaplin with mean value of 117 %, afterthat are Colchester, windsor and Lebanon which have yearly appreciation values in mean of more than 100 %.\n",
    "- the Cities with the lowest appreicaiton are Dunn Loring with an mean apprication of areound 8,14 %, Oakton, Fairfax Station, Reston and Burke alos have low appreciation values smaller than 9 %.\n",
    "\n",
    "- However it must be noted that chaplin also only has 141 transaction, therefore the appreication of individual transaction have an bigger effect on the mean values\n",
    "\n",
    "- Therefore, to decrease the effect of outliers we also have a look at the median values (if we do this we have clearly other results)\n",
    "- We do this because we have many outliers in this dataset regarding the appreciation\n",
    "- Regarding the median values, we can see that bridgeport has the highest median values of 11,6 % then hartford (10,65%) then New Britain\n",
    "- The lowest median vlaues can be seen in stafford with 0,51%, Weston (1,22%) and Redding (1,56%)\n"
   ]
  },
  {
   "cell_type": "code",
   "execution_count": null,
   "metadata": {},
   "outputs": [],
   "source": [
    "# city\n",
    "# Set display format to avoid e-notation\n",
    "# problem if we calculate yearly appreciation, it could be the case that this appreciation was not realized because the appreciation time is below one year\n",
    "# but this problem can be neglected because for the most the appreciation time is over one year\n",
    "pd.options.display.float_format = '{:.9f}'.format\n",
    "df_copy.groupby(by=\"city\")[\"appreciation_per_year\"].median().sort_values(ascending=False) * 100"
   ]
  },
  {
   "cell_type": "code",
   "execution_count": null,
   "metadata": {},
   "outputs": [],
   "source": [
    "# city\n",
    "# Set display format to avoid e-notation\n",
    "# problem if we calculate yearly appreciation, it could be the case that this appreciation was not realized because the appreciation time is below one year\n",
    "# but this problem can be neglected because for the most the appreciation time is over one year\n",
    "pd.options.display.float_format = '{:.9f}'.format\n",
    "df_copy.groupby(by=\"city\")[\"appreciation_per_year\"].mean().sort_values(ascending=False) * 100"
   ]
  },
  {
   "cell_type": "code",
   "execution_count": null,
   "metadata": {},
   "outputs": [],
   "source": [
    "# county\n",
    "# Set display format to avoid e-notation\n",
    "pd.options.display.float_format = '{:.9f}'.format\n",
    "df_copy.groupby(by=\"county\")[\"appreciation_per_year\"].mean().sort_values(ascending=False) * 100"
   ]
  },
  {
   "cell_type": "code",
   "execution_count": null,
   "metadata": {},
   "outputs": [],
   "source": [
    "# county\n",
    "# Set display format to avoid e-notation\n",
    "pd.options.display.float_format = '{:.9f}'.format\n",
    "df_copy.groupby(by=\"county\")[\"appreciation_per_year\"].median().sort_values(ascending=False) * 100"
   ]
  },
  {
   "cell_type": "markdown",
   "metadata": {},
   "source": [
    "**Findings:**\n",
    "- County with the highest appreciation of 83,37 % is windham, after that are new london and tolland\n",
    "- Counties with the lowest are fairfax with 10,36 %, Fairfield (32,72%) and Hartford (37,52%)\n",
    "\n",
    "- Regarding the median values we can see that Windham still has the highest with 6,66 %, then Fairfax (6,34%) and then New London (5,29%)"
   ]
  },
  {
   "cell_type": "code",
   "execution_count": null,
   "metadata": {},
   "outputs": [],
   "source": [
    "pd.set_option(\"display.max_rows\", None)\n",
    "df_copy.groupby(by=\"city\").size().sort_values(ascending=False)"
   ]
  },
  {
   "cell_type": "markdown",
   "metadata": {},
   "source": [
    "##### Condition Description"
   ]
  },
  {
   "cell_type": "code",
   "execution_count": null,
   "metadata": {},
   "outputs": [],
   "source": [
    "fig, ax = plt.subplots(figsize=(30,10))\n",
    "sns.barplot(df_copy, y=\"appreciation_per_year\", x=\"cond_desc\", ax=ax)"
   ]
  },
  {
   "cell_type": "code",
   "execution_count": null,
   "metadata": {},
   "outputs": [],
   "source": [
    "fig, ax = plt.subplots(figsize=(30,10))\n",
    "sns.barplot(df_copy, y=\"age\", x=\"cond_desc\", ax=ax)"
   ]
  },
  {
   "cell_type": "code",
   "execution_count": null,
   "metadata": {},
   "outputs": [],
   "source": [
    "fig, ax = plt.subplots(figsize=(30,10))\n",
    "sns.barplot(df_copy, y=\"appreciation_time\", x=\"cond_desc\", ax=ax)"
   ]
  },
  {
   "cell_type": "markdown",
   "metadata": {},
   "source": [
    "**Findings:**\n",
    "- regarding the relationship between the condition and the appreciation, we cannot say that a better condition at the time of the sale leads to better appreciation\n",
    "- actionally we can see that regarding the mean appreciation for each condition category, that the poor condition category clearly exibits the highes mean appreciation, after that we can see that the fair condition category has the second highest mean apprecation value.\n",
    "- the difference between the other contition categories regarding the appreciation is not that high, for average plus we can overall see the lowest mean appreciation\n",
    "- this can be connected to the age of the house, since we already have seen that up to a certain age we can see an increase in the appreciation\n",
    "- if we check that we can see that the poor condtion category as well as the fair condition category have the highes mean age compared to the other categories, with the mean value being still under 100\n",
    "- as mentioned before the appreciation values seemed to increase up to an age of 150\n",
    "\n",
    "- if we have a look ath the median appreciation values we can not clearly see a difference between the cateogries. ther are all at around 5 % t0 6 % appreciation"
   ]
  },
  {
   "cell_type": "code",
   "execution_count": null,
   "metadata": {},
   "outputs": [],
   "source": [
    "px.box(df_copy, y=\"appreciation_per_year\", x=\"cond_desc\")"
   ]
  },
  {
   "cell_type": "code",
   "execution_count": null,
   "metadata": {},
   "outputs": [],
   "source": [
    "df_copy.groupby(\"cond_desc\")[\"appreciation_per_year\"].median().sort_values()"
   ]
  },
  {
   "cell_type": "code",
   "execution_count": null,
   "metadata": {},
   "outputs": [],
   "source": [
    "df_copy.groupby(\"cond_desc\").size().sort_values()"
   ]
  },
  {
   "cell_type": "markdown",
   "metadata": {},
   "source": [
    "##### Sale Year"
   ]
  },
  {
   "cell_type": "code",
   "execution_count": null,
   "metadata": {},
   "outputs": [],
   "source": [
    "# date\n",
    "fig, ax = plt.subplots(figsize=(30,10))\n",
    "sns.scatterplot(df_copy, y=\"appreciation_per_year\", x=\"saledate\", ax=ax)"
   ]
  },
  {
   "cell_type": "code",
   "execution_count": null,
   "metadata": {},
   "outputs": [],
   "source": [
    "px.bar(df_copy.groupby(\"year\")[\"appreciation_per_year\"].mean())"
   ]
  },
  {
   "cell_type": "code",
   "execution_count": null,
   "metadata": {},
   "outputs": [],
   "source": [
    "px.bar(df_copy.groupby(\"year\")[\"appreciation_per_year\"].median())"
   ]
  },
  {
   "cell_type": "markdown",
   "metadata": {},
   "source": [
    "**Findings:**\n",
    "- Regarding the development of the apprecation over the years we can see that we do not have a clear trend over the year, we have a many fluctuations\n",
    "- we can see peaks at 1980, 1986, 1994, 2005, a similar picture is seen if we have a look at the median values\n",
    "- overall we cann see that the appreciation on is low level compared to the years before since 2009\n",
    "- howeve the appreciation seems to increase since 2015"
   ]
  },
  {
   "cell_type": "markdown",
   "metadata": {},
   "source": [
    "##### Sale Month"
   ]
  },
  {
   "cell_type": "code",
   "execution_count": null,
   "metadata": {},
   "outputs": [],
   "source": [
    "# month\n",
    "fig, ax = plt.subplots(figsize=(20,10))\n",
    "sns.barplot(df_copy, y=\"appreciation_per_year\", x=\"month\", ax=ax)"
   ]
  },
  {
   "cell_type": "markdown",
   "metadata": {},
   "source": [
    "**Findings:**\n",
    "- Overall we cann see hiher appreciation in the winter months (especially from january to april) and the lowest appreicaiton in sale months during the summer especially june july"
   ]
  },
  {
   "cell_type": "code",
   "execution_count": null,
   "metadata": {},
   "outputs": [],
   "source": [
    "# month\n",
    "fig, ax = plt.subplots(figsize=(20,10))\n",
    "sns.barplot(df_copy, y=\"appreciation_per_year\", x=\"month\", ax=ax, estimator=np.median)"
   ]
  },
  {
   "cell_type": "code",
   "execution_count": null,
   "metadata": {},
   "outputs": [],
   "source": [
    "df_copy.groupby(by=\"month\")[\"appreciation_per_year\"].mean().sort_values(ascending=False)"
   ]
  },
  {
   "cell_type": "code",
   "execution_count": null,
   "metadata": {},
   "outputs": [],
   "source": [
    "df_copy.groupby(by=\"month\")[\"appreciation_per_year\"].median().sort_values(ascending=False)"
   ]
  },
  {
   "cell_type": "markdown",
   "metadata": {},
   "source": [
    "##### Bedrooms"
   ]
  },
  {
   "cell_type": "code",
   "execution_count": null,
   "metadata": {},
   "outputs": [],
   "source": [
    "# bedrooms\n",
    "fig, ax = plt.subplots(figsize=(40,20))\n",
    "sns.barplot(df_copy[df_copy.nbed < 10], y=\"appreciation_per_year\", x=\"nbed\", ax=ax)"
   ]
  },
  {
   "cell_type": "code",
   "execution_count": null,
   "metadata": {},
   "outputs": [],
   "source": [
    "# bedrooms\n",
    "fig, ax = plt.subplots(figsize=(40,20))\n",
    "sns.barplot(df_copy[df_copy.nbed < 10], y=\"appreciation_per_year\", x=\"nbed\", ax=ax, estimator=np.median)"
   ]
  },
  {
   "cell_type": "markdown",
   "metadata": {},
   "source": [
    "**Findings:**\n",
    "- Some extreme cases regarding the number of bedrooms\n",
    "- if we have a look at the  mean values regarding the appreciation, we can not clearly see a pattern (high appreciation for zero and one bedroom lower appreciation for 2 to 5 than increase again)\n",
    "- however looking at the median vlaues it seems that a higher number of bedrooms leads to higher median appreciation "
   ]
  },
  {
   "cell_type": "markdown",
   "metadata": {},
   "source": [
    "##### Bathrooms and Half-Bathrooms"
   ]
  },
  {
   "cell_type": "code",
   "execution_count": null,
   "metadata": {},
   "outputs": [],
   "source": [
    "# bathrooms\n",
    "fig, ax = plt.subplots(figsize=(40,20))\n",
    "sns.barplot(df_copy, y=\"appreciation_per_year\", x=\"nbath\", ax=ax)"
   ]
  },
  {
   "cell_type": "code",
   "execution_count": null,
   "metadata": {},
   "outputs": [],
   "source": [
    "# bathrooms\n",
    "fig, ax = plt.subplots(figsize=(40,20))\n",
    "sns.barplot(df_copy, y=\"appreciation_per_year\", x=\"nbath\", ax=ax, estimator=np.median)"
   ]
  },
  {
   "cell_type": "code",
   "execution_count": null,
   "metadata": {},
   "outputs": [],
   "source": [
    "px.box(df_copy, y=\"nbath\")"
   ]
  },
  {
   "cell_type": "code",
   "execution_count": null,
   "metadata": {},
   "outputs": [],
   "source": [
    "# number of bathrooms (upper fence 4)\n",
    "px.histogram(df_copy, \"nbath\")"
   ]
  },
  {
   "cell_type": "code",
   "execution_count": null,
   "metadata": {},
   "outputs": [],
   "source": [
    "fig, ax = plt.subplots(figsize=(40,20))\n",
    "sns.barplot(df_copy[df_copy.nbath < 7], y=\"appreciation_per_year\", x=\"nbath\", ax=ax)"
   ]
  },
  {
   "cell_type": "code",
   "execution_count": null,
   "metadata": {},
   "outputs": [],
   "source": [
    "fig, ax = plt.subplots(figsize=(40,20))\n",
    "sns.barplot(df_copy[df_copy.nhalfbath < 4], y=\"appreciation_per_year\", x=\"nhalfbath\", ax=ax)"
   ]
  },
  {
   "cell_type": "markdown",
   "metadata": {},
   "source": [
    "**Finding:**\n",
    "- no clear pattern for the number of bathrooms nor for half bathrooms"
   ]
  },
  {
   "cell_type": "markdown",
   "metadata": {},
   "source": [
    "##### distance_aerodrome"
   ]
  },
  {
   "cell_type": "code",
   "execution_count": null,
   "metadata": {},
   "outputs": [],
   "source": [
    "fig, ax = plt.subplots(figsize=(30,10))\n",
    "sns.scatterplot(df_copy, y=\"appreciation_per_year\", x=\"distance_aerodrome\", ax=ax)"
   ]
  },
  {
   "cell_type": "code",
   "execution_count": null,
   "metadata": {},
   "outputs": [],
   "source": [
    "df_copy[\"bins_aerodrome\"] = pd.cut(df_copy.distance_aerodrome, bins=40)"
   ]
  },
  {
   "cell_type": "code",
   "execution_count": null,
   "metadata": {},
   "outputs": [],
   "source": [
    "fig, ax = plt.subplots(figsize=(30,10))\n",
    "sns.barplot(df_copy, y=\"appreciation_per_year\", x=\"bins_aerodrome\", ax=ax, estimator=np.median)"
   ]
  },
  {
   "cell_type": "code",
   "execution_count": null,
   "metadata": {},
   "outputs": [],
   "source": [
    "fig, ax = plt.subplots(figsize=(30,10))\n",
    "sns.barplot(df_copy, y=\"appreciation_per_year\", x=\"bins_aerodrome\", ax=ax)"
   ]
  },
  {
   "cell_type": "markdown",
   "metadata": {},
   "source": [
    "**Findings:**\n",
    "- No clear pattern for the distance to airport, also mean and median values give use very different pictures"
   ]
  },
  {
   "cell_type": "markdown",
   "metadata": {},
   "source": [
    "##### distance_ferry_terminal"
   ]
  },
  {
   "cell_type": "code",
   "execution_count": null,
   "metadata": {},
   "outputs": [],
   "source": [
    "fig, ax = plt.subplots(figsize=(30,10))\n",
    "sns.scatterplot(df_copy, y=\"appreciation_per_year\", x=\"distance_ferry_terminal\", ax=ax)"
   ]
  },
  {
   "cell_type": "code",
   "execution_count": null,
   "metadata": {},
   "outputs": [],
   "source": [
    "df_copy[\"bins_ferry\"] = pd.cut(df_copy.distance_ferry_terminal, bins=30)"
   ]
  },
  {
   "cell_type": "code",
   "execution_count": null,
   "metadata": {},
   "outputs": [],
   "source": [
    "fig, ax = plt.subplots(figsize=(30,10))\n",
    "sns.barplot(df_copy, y=\"appreciation_per_year\", x=\"bins_ferry\", ax=ax, estimator=np.median)"
   ]
  },
  {
   "cell_type": "code",
   "execution_count": null,
   "metadata": {},
   "outputs": [],
   "source": [
    "fig, ax = plt.subplots(figsize=(30,10))\n",
    "sns.barplot(df_copy, y=\"appreciation_per_year\", x=\"bins_ferry\", ax=ax)"
   ]
  },
  {
   "cell_type": "code",
   "execution_count": null,
   "metadata": {},
   "outputs": [],
   "source": [
    "df_copy.groupby(\"bins_ferry\")[\"appreciation_per_year\"].mean()"
   ]
  },
  {
   "cell_type": "markdown",
   "metadata": {},
   "source": [
    "**Findings:**\n",
    "- no clear and simple relationship between appreciation and distance to ferry terminal\n",
    "- decrease until 10 km then increase again until 30 to 38 km then decrease again unitl 46 km then increase again (overall no clear relationship)"
   ]
  },
  {
   "cell_type": "markdown",
   "metadata": {},
   "source": [
    "##### distance_hospital"
   ]
  },
  {
   "cell_type": "code",
   "execution_count": null,
   "metadata": {},
   "outputs": [],
   "source": [
    "fig, ax = plt.subplots(figsize=(30,10))\n",
    "sns.scatterplot(df_copy, y=\"appreciation_per_year\", x=\"distance_hospital\", ax=ax)"
   ]
  },
  {
   "cell_type": "code",
   "execution_count": null,
   "metadata": {},
   "outputs": [],
   "source": [
    "df_copy[\"bins_hospital\"] = pd.cut(df_copy.distance_hospital, bins=30)"
   ]
  },
  {
   "cell_type": "code",
   "execution_count": null,
   "metadata": {},
   "outputs": [],
   "source": [
    "# fig, ax = plt.subplots(figsize=(30,10))\n",
    "#px.box(df_copy, y=\"appreciation_per_year\", x=\"bins_hospital\")"
   ]
  },
  {
   "cell_type": "code",
   "execution_count": null,
   "metadata": {},
   "outputs": [],
   "source": [
    "fig, ax = plt.subplots(figsize=(30,10))\n",
    "sns.barplot(df_copy, y=\"appreciation_per_year\", x=\"bins_hospital\", ax=ax)"
   ]
  },
  {
   "cell_type": "code",
   "execution_count": null,
   "metadata": {},
   "outputs": [],
   "source": [
    "fig, ax = plt.subplots(figsize=(30,10))\n",
    "sns.barplot(df_copy, y=\"appreciation_per_year\", x=\"bins_hospital\", ax=ax, estimator=np.median)"
   ]
  },
  {
   "cell_type": "markdown",
   "metadata": {},
   "source": [
    "**Findings:**\n",
    "- For the distance to the hospital we seem to have a quadratic relationship where the appreciation decreases with the distance and then increaseses again, this is the case if we only look at the mean values for the appreciation\n",
    "- if we have a look at the median values, wee can overall see and decrease in appreciation with an increasing distance of the distances"
   ]
  },
  {
   "cell_type": "markdown",
   "metadata": {},
   "source": [
    "##### distance_hotel"
   ]
  },
  {
   "cell_type": "code",
   "execution_count": null,
   "metadata": {},
   "outputs": [],
   "source": [
    "fig, ax = plt.subplots(figsize=(30,10))\n",
    "sns.scatterplot(df_copy, y=\"appreciation_per_year\", x=\"distance_hotel\", ax=ax)"
   ]
  },
  {
   "cell_type": "code",
   "execution_count": null,
   "metadata": {},
   "outputs": [],
   "source": [
    "df_copy[\"bins_hotel\"] = pd.cut(df_copy.distance_hotel, bins=30)"
   ]
  },
  {
   "cell_type": "code",
   "execution_count": null,
   "metadata": {},
   "outputs": [],
   "source": [
    "fig, ax = plt.subplots(figsize=(30,10))\n",
    "sns.boxplot(df_copy, y=\"appreciation_per_year\", x=\"bins_hotel\", ax=ax)"
   ]
  },
  {
   "cell_type": "code",
   "execution_count": null,
   "metadata": {},
   "outputs": [],
   "source": [
    "fig, ax = plt.subplots(figsize=(30,10))\n",
    "sns.barplot(df_copy, y=\"appreciation_per_year\", x=\"bins_hotel\", ax=ax)"
   ]
  },
  {
   "cell_type": "markdown",
   "metadata": {},
   "source": [
    "**Findings:**\n",
    "- regarding the distance to the closest hotel, we can say that the mean values of the appreciation suggest an relationhip of increasing appreciaiton with an increasing distance to the hotel\n",
    "- looking at the median value we can not see an clear cut pattern since the median values for the differnt distances are very close together and do not significantly differ"
   ]
  },
  {
   "cell_type": "code",
   "execution_count": null,
   "metadata": {},
   "outputs": [],
   "source": [
    "fig, ax = plt.subplots(figsize=(30,10))\n",
    "sns.barplot(df_copy, y=\"appreciation_per_year\", x=\"bins_hotel\", ax=ax, estimator=np.median)"
   ]
  },
  {
   "cell_type": "code",
   "execution_count": null,
   "metadata": {},
   "outputs": [],
   "source": [
    "df_copy.groupby(by=\"bins_hotel\")[\"price\"].mean()"
   ]
  },
  {
   "cell_type": "code",
   "execution_count": null,
   "metadata": {},
   "outputs": [],
   "source": [
    "df_copy.groupby(by=\"bins_hotel\")[\"price\"].median()"
   ]
  },
  {
   "cell_type": "markdown",
   "metadata": {},
   "source": [
    "##### distance_market"
   ]
  },
  {
   "cell_type": "code",
   "execution_count": null,
   "metadata": {},
   "outputs": [],
   "source": [
    "fig, ax = plt.subplots(figsize=(30,10))\n",
    "sns.scatterplot(df_copy, y=\"appreciation_per_year\", x=\"distance_market\", ax=ax, alpha=.3)"
   ]
  },
  {
   "cell_type": "code",
   "execution_count": null,
   "metadata": {},
   "outputs": [],
   "source": [
    "df_copy[\"bins_market\"] = pd.cut(df_copy.distance_market, bins=30)"
   ]
  },
  {
   "cell_type": "code",
   "execution_count": null,
   "metadata": {},
   "outputs": [],
   "source": [
    "fig, ax = plt.subplots(figsize=(30,10))\n",
    "sns.boxplot(df_copy, y=\"appreciation_per_year\", x=\"bins_market\", ax=ax)"
   ]
  },
  {
   "cell_type": "code",
   "execution_count": null,
   "metadata": {},
   "outputs": [],
   "source": [
    "fig, ax = plt.subplots(figsize=(30,10))\n",
    "sns.barplot(df_copy, y=\"appreciation_per_year\", x=\"bins_market\", ax=ax)"
   ]
  },
  {
   "cell_type": "code",
   "execution_count": null,
   "metadata": {},
   "outputs": [],
   "source": [
    "fig, ax = plt.subplots(figsize=(30,10))\n",
    "sns.barplot(df_copy, y=\"appreciation_per_year\", x=\"bins_market\", ax=ax, estimator=np.median)"
   ]
  },
  {
   "cell_type": "markdown",
   "metadata": {},
   "source": [
    "**Findings:**\n",
    "- no clear pattern, median and mean values different results"
   ]
  },
  {
   "cell_type": "markdown",
   "metadata": {},
   "source": [
    "##### distance_museum"
   ]
  },
  {
   "cell_type": "code",
   "execution_count": null,
   "metadata": {},
   "outputs": [],
   "source": [
    "fig, ax = plt.subplots(figsize=(30,10))\n",
    "sns.scatterplot(df_copy, y=\"appreciation_per_year\", x=\"distance_museum\", ax=ax, alpha=.3)"
   ]
  },
  {
   "cell_type": "code",
   "execution_count": null,
   "metadata": {},
   "outputs": [],
   "source": [
    "df_copy[\"bins_museum\"] = pd.cut(df_copy.distance_museum, bins=20)"
   ]
  },
  {
   "cell_type": "code",
   "execution_count": null,
   "metadata": {},
   "outputs": [],
   "source": [
    "fig, ax = plt.subplots(figsize=(30,10))\n",
    "sns.boxplot(df_copy, y=\"appreciation_per_year\", x=\"bins_museum\", ax=ax)"
   ]
  },
  {
   "cell_type": "code",
   "execution_count": null,
   "metadata": {},
   "outputs": [],
   "source": [
    "df_copy.groupby(by=\"bins_museum\")[\"appreciation_per_year\"].median()"
   ]
  },
  {
   "cell_type": "code",
   "execution_count": null,
   "metadata": {},
   "outputs": [],
   "source": [
    "fig, ax = plt.subplots(figsize=(30,10))\n",
    "sns.barplot(df_copy, y=\"appreciation_per_year\", x=\"bins_museum\", ax=ax)"
   ]
  },
  {
   "cell_type": "code",
   "execution_count": null,
   "metadata": {},
   "outputs": [],
   "source": [
    "fig, ax = plt.subplots(figsize=(30,10))\n",
    "sns.barplot(df_copy, y=\"appreciation_per_year\", x=\"bins_museum\", ax=ax, estimator=np.median)"
   ]
  },
  {
   "cell_type": "markdown",
   "metadata": {},
   "source": [
    "**Findings:**\n",
    "- no clear relationship, the distance to museums does not seem to effect the appreciation"
   ]
  },
  {
   "cell_type": "markdown",
   "metadata": {},
   "source": [
    "##### distance_railway_station"
   ]
  },
  {
   "cell_type": "code",
   "execution_count": null,
   "metadata": {},
   "outputs": [],
   "source": [
    "fig, ax = plt.subplots(figsize=(30,10))\n",
    "sns.scatterplot(df_copy, y=\"appreciation_per_year\", x=\"distance_railway_station\", ax=ax, alpha=.3)"
   ]
  },
  {
   "cell_type": "code",
   "execution_count": null,
   "metadata": {},
   "outputs": [],
   "source": [
    "df_copy[\"bins_railway\"] = pd.cut(df_copy.distance_railway_station, bins=20)"
   ]
  },
  {
   "cell_type": "code",
   "execution_count": null,
   "metadata": {},
   "outputs": [],
   "source": [
    "fig, ax = plt.subplots(figsize=(30,10))\n",
    "sns.boxplot(df_copy, y=\"appreciation_per_year\", x=\"bins_railway\", ax=ax)"
   ]
  },
  {
   "cell_type": "code",
   "execution_count": null,
   "metadata": {},
   "outputs": [],
   "source": [
    "mean = np.mean(df_copy.appreciation_per_year)\n",
    "upper = mean + 2* np.std(df_copy.appreciation_per_year)\n",
    "lower = mean - 2* np.std(df_copy.appreciation_per_year)"
   ]
  },
  {
   "cell_type": "code",
   "execution_count": null,
   "metadata": {},
   "outputs": [],
   "source": [
    "pd.set_option(\"display.max_rows\", 20)\n",
    "df_test = df_copy.copy()\n",
    "df_test = df_test[(df_test.appreciation_per_year < upper) & (df_test.appreciation_per_year > lower)]"
   ]
  },
  {
   "cell_type": "code",
   "execution_count": null,
   "metadata": {},
   "outputs": [],
   "source": [
    "fig, ax = plt.subplots(figsize=(30,10))\n",
    "sns.barplot(df_test, y=\"appreciation_per_year\", x=\"bins_railway\", ax=ax)"
   ]
  },
  {
   "cell_type": "code",
   "execution_count": null,
   "metadata": {},
   "outputs": [],
   "source": [
    "fig, ax = plt.subplots(figsize=(30,10))\n",
    "sns.barplot(df_copy, y=\"appreciation_per_year\", x=\"bins_railway\", ax=ax)"
   ]
  },
  {
   "cell_type": "code",
   "execution_count": null,
   "metadata": {},
   "outputs": [],
   "source": [
    "fig, ax = plt.subplots(figsize=(30,10))\n",
    "sns.barplot(df_test, y=\"appreciation_per_year\", x=\"bins_railway\", ax=ax, estimator=np.median)"
   ]
  },
  {
   "cell_type": "code",
   "execution_count": null,
   "metadata": {},
   "outputs": [],
   "source": [
    "df_copy.groupby(by=\"bins_railway\")[\"appreciation_per_year\"].mean()"
   ]
  },
  {
   "cell_type": "code",
   "execution_count": null,
   "metadata": {},
   "outputs": [],
   "source": [
    "df_copy.groupby(by=\"bins_railway\")[\"appreciation_per_year\"].median()"
   ]
  },
  {
   "cell_type": "markdown",
   "metadata": {},
   "source": [
    "**Findings:**\n",
    "- no clear pattern can be identified, even when we filter out outliers using the mean and astandard deviation\n",
    "- still median and mean sresult in different patterns, therefore its not clear how the relationship is"
   ]
  },
  {
   "cell_type": "markdown",
   "metadata": {},
   "source": [
    "##### n_accommodation"
   ]
  },
  {
   "cell_type": "code",
   "execution_count": null,
   "metadata": {},
   "outputs": [],
   "source": [
    "fig, ax = plt.subplots(figsize=(30,10))\n",
    "sns.barplot(df_copy, y=\"appreciation_per_year\", x=\"n_accommodation\", ax=ax)"
   ]
  },
  {
   "cell_type": "code",
   "execution_count": null,
   "metadata": {},
   "outputs": [],
   "source": [
    "fig, ax = plt.subplots(figsize=(30,10))\n",
    "sns.barplot(df_copy, y=\"appreciation_per_year\", x=\"n_accommodation\", ax=ax, estimator=np.median)"
   ]
  },
  {
   "cell_type": "code",
   "execution_count": null,
   "metadata": {},
   "outputs": [],
   "source": [
    "fig, ax = plt.subplots(figsize=(30,10))\n",
    "sns.boxplot(df_copy, y=\"appreciation_per_year\", x=\"n_accommodation\", ax=ax)"
   ]
  },
  {
   "cell_type": "code",
   "execution_count": null,
   "metadata": {},
   "outputs": [],
   "source": [
    "px.bar(df_copy.groupby(by=\"n_accommodation\")[\"appreciation_per_year\"].median())"
   ]
  },
  {
   "cell_type": "code",
   "execution_count": null,
   "metadata": {},
   "outputs": [],
   "source": [
    "df_copy[\"bins_acc\"] = pd.cut(df_copy.n_accommodation, bins=10)"
   ]
  },
  {
   "cell_type": "code",
   "execution_count": null,
   "metadata": {},
   "outputs": [],
   "source": [
    "fig, ax = plt.subplots(figsize=(30,10))\n",
    "sns.barplot(df_copy, y=\"appreciation_per_year\", x=\"bins_acc\", ax=ax)"
   ]
  },
  {
   "cell_type": "code",
   "execution_count": null,
   "metadata": {},
   "outputs": [],
   "source": [
    "fig, ax = plt.subplots(figsize=(30,10))\n",
    "sns.barplot(df_copy, y=\"appreciation_per_year\", x=\"bins_acc\", ax=ax, estimator=np.median)"
   ]
  },
  {
   "cell_type": "markdown",
   "metadata": {},
   "source": [
    "**Findings:**\n",
    "- No clear patter, median and mean different results\n",
    "- mean -> increasing number acco leads to decrasing appreciation\n",
    "- median the other way around"
   ]
  },
  {
   "cell_type": "markdown",
   "metadata": {},
   "source": [
    "##### n_food_drink"
   ]
  },
  {
   "cell_type": "code",
   "execution_count": null,
   "metadata": {},
   "outputs": [],
   "source": [
    "df_copy[\"bins_food\"] = pd.cut(df_copy.n_food_drink, bins=10)\n",
    "df_test[\"bins_food\"] = pd.cut(df_test.n_food_drink, bins=10)"
   ]
  },
  {
   "cell_type": "code",
   "execution_count": null,
   "metadata": {},
   "outputs": [],
   "source": [
    "fig, ax = plt.subplots(figsize=(30,10))\n",
    "sns.barplot(df_copy, y=\"appreciation_per_year\", x=\"bins_food\", ax=ax)"
   ]
  },
  {
   "cell_type": "code",
   "execution_count": null,
   "metadata": {},
   "outputs": [],
   "source": [
    "fig, ax = plt.subplots(figsize=(30,10))\n",
    "sns.barplot(df_test, y=\"appreciation_per_year\", x=\"bins_food\", ax=ax)"
   ]
  },
  {
   "cell_type": "code",
   "execution_count": null,
   "metadata": {},
   "outputs": [],
   "source": [
    "df_copy[\"bins_food\"] = pd.cut(df_copy.n_food_drink, bins=10, labels=range(10))\n",
    "px.bar(df_copy.groupby(by=\"bins_food\")[\"appreciation_per_year\"].median())"
   ]
  },
  {
   "cell_type": "code",
   "execution_count": null,
   "metadata": {},
   "outputs": [],
   "source": [
    "fig, ax = plt.subplots(figsize=(30,10))\n",
    "sns.scatterplot(df_copy, y=\"appreciation_per_year\", x=\"n_food_drink\", ax=ax, alpha=.3)"
   ]
  },
  {
   "cell_type": "markdown",
   "metadata": {},
   "source": [
    "##### n_adults_entertain"
   ]
  },
  {
   "cell_type": "code",
   "execution_count": null,
   "metadata": {},
   "outputs": [],
   "source": [
    "df_copy.n_adults_entertain.unique()"
   ]
  },
  {
   "cell_type": "code",
   "execution_count": null,
   "metadata": {},
   "outputs": [],
   "source": [
    "fig, ax = plt.subplots(figsize=(30,10))\n",
    "sns.barplot(df_copy, y=\"price\", x=\"n_adults_entertain\", ax=ax)"
   ]
  },
  {
   "cell_type": "code",
   "execution_count": null,
   "metadata": {},
   "outputs": [],
   "source": [
    "fig, ax = plt.subplots(figsize=(30,10))\n",
    "sns.scatterplot(df_copy, y=\"price\", x=\"n_adults_entertain\", ax=ax, alpha=.4)"
   ]
  },
  {
   "cell_type": "code",
   "execution_count": null,
   "metadata": {},
   "outputs": [],
   "source": [
    "df_copy[\"bins_adults\"] = pd.cut(df_copy.n_adults_entertain, bins=20)"
   ]
  },
  {
   "cell_type": "code",
   "execution_count": null,
   "metadata": {},
   "outputs": [],
   "source": [
    "fig, ax = plt.subplots(figsize=(30,10))\n",
    "sns.barplot(df_copy, y=\"price\", x=\"bins_adults\", ax=ax)"
   ]
  },
  {
   "cell_type": "code",
   "execution_count": null,
   "metadata": {},
   "outputs": [],
   "source": [
    "df_copy[\"bins_adults\"] = pd.cut(df_copy.n_food_drink, bins=20, labels=range(20))\n",
    "px.bar(df_copy.groupby(by=\"bins_adults\")[\"price\"].median())"
   ]
  },
  {
   "cell_type": "markdown",
   "metadata": {},
   "source": [
    "##### frequency_features"
   ]
  },
  {
   "cell_type": "code",
   "execution_count": null,
   "metadata": {},
   "outputs": [],
   "source": [
    "df_copy = df.copy()"
   ]
  },
  {
   "cell_type": "code",
   "execution_count": null,
   "metadata": {},
   "outputs": [],
   "source": [
    "columns= [\n",
    "'n_animalcare',\n",
    " 'n_commu_serv',\n",
    " 'n_commu_venu',\n",
    " 'n_edu_fac',\n",
    " 'n_emergency',\n",
    " 'n_entertainment',\n",
    " 'n_financial',\n",
    " 'n_food_drink',\n",
    " 'n_government_civic',\n",
    " 'n_healthcare',\n",
    " 'n_recreational',\n",
    " 'n_reli_inst',\n",
    " 'n_shopping',\n",
    " 'n_sports',\n",
    " 'n_transport',\n",
    " 'n_utilities',\n",
    "]"
   ]
  },
  {
   "cell_type": "code",
   "execution_count": null,
   "metadata": {},
   "outputs": [],
   "source": [
    "for col in columns:\n",
    "    print(col)\n",
    "    df_copy[f\"bins_{col}\"] = pd.cut(df_copy[col], bins=20)\n",
    "    fig, ax = plt.subplots(figsize=(30,10))\n",
    "    sns.barplot(df_copy, y=\"price\", x=f\"bins_{col}\", ax=ax) \n",
    "    plt.show()"
   ]
  },
  {
   "cell_type": "code",
   "execution_count": null,
   "metadata": {},
   "outputs": [],
   "source": [
    "for col in columns:\n",
    "    print(col)\n",
    "    df_copy[f\"bins_{col}\"] = pd.cut(df_copy[col], bins=20)\n",
    "    fig, ax = plt.subplots(figsize=(30,10))\n",
    "    sns.barplot(df_copy, y=\"price\", x=f\"bins_{col}\", ax=ax, estimator=np.median) \n",
    "    plt.show()"
   ]
  },
  {
   "cell_type": "markdown",
   "metadata": {},
   "source": [
    "### Results"
   ]
  },
  {
   "cell_type": "markdown",
   "metadata": {},
   "source": [
    "in most frequency features there is no clear cut pattern that can be seen.\n",
    "\n",
    "n_utilities: \n",
    "- we can see that higher frequency leads to lower price\n",
    "\n",
    "n_shopping:\n",
    "- we can see that increasing frquency leads to higher price\n",
    "\n",
    "reli_institions, entertianment, healthcare:\n",
    "- we can see that there is first an decrease in price with increasing frequency and then we can see an increase in price agian. indicateds and quadrartic relatinship\n",
    "\n",
    "financial, transport:\n",
    "- in this case it the other way around, we can see in increase in price first and the na sudden decrease\n",
    "\n",
    "\n",
    "n_adults_entertain:\n",
    "- no clear cut pattern, we can see an increase in price with increasing freuqncy and then a decrese in price again\n",
    "\n",
    "n_food_drink:\n",
    "- up to an frequency of 260, we can see that there is an continous increase of the mean price and median price\n",
    "\n",
    "n_accomodation:\n",
    "- no clear cut pattern can be seen\n",
    "\n",
    "\n",
    "distnace to railway station:\n",
    "- we can see an decrase in the price with an increasing distance to the railway station. But at some point the prices somehow increase again. But there are significalty less house with large distances to the railway station which then have higher effect on the mean price. We can see an increase again at distance of around 62 km.\n",
    "\n",
    "\n",
    "distance to musuem:\n",
    "- with increasing distance we can generally see and decrease in the mean price as well as in the median price\n",
    "\n",
    "distance to market (eventuell löschen): \n",
    "- we cannot see a clear pattern\n",
    "\n",
    "\n",
    "distance to hotel:\n",
    "- with higher distance the price increases slightly. \n",
    "- but we can clearly see that with some high distance to hotels we can see that the mean price is quite small and decreases. starting from distance of 15 km we can see that the price nearly continously decreases\n",
    "- same is the case for median price\n",
    "\n",
    "\n",
    "\n",
    "distnace to hospital:\n",
    "- we can see a decrease in the median price with higher distance to the hospital. first a littly increase but then we can see clear decrease\n",
    "- the same is the case for the mean price.\n",
    "\n",
    "\n",
    "distance ferry terminal:\n",
    "- the median price does not really differ for different distances to a ferry terminal\n",
    "- the mean price varies, but not really with a clear linear pattern. This can be due to the effect of outliers on the mean. The amount of outliers is varies and is similar to the effect on the mean price.\n",
    "\n",
    "distance aerodrome:\n",
    "- we can see a slight increase of the price with an increasing distance to the airport.\n",
    "- after a certain distance to the airport the median and also mean price decreases again.\n",
    "- this can maybe be explained because airports tend to be outside of the cities\n",
    "- therefore being near to an airport could indicate being far away from the city center\n",
    "\n",
    "Number of halfbaths:\n",
    "- upper fence already at 2\n",
    "- generally we can also see the same effect as for number of bathrooms, when we do not consider the outliers, or extrem values in the dataset\n",
    "- increasing number of halfbathrooms increasing price\n",
    "- but we can say that we generally do not have many houses with many halfbathrooms\n",
    "\n",
    "\n",
    "Number of bathrooms:\n",
    "- varies greatly (most values around 0 to 4 upper fence)\n",
    "- some extrem values (seen in descriptive analysis)\n",
    "- if we do not consider the outlier values (bigger than 6), do not want to get biased picture through extreme cases\n",
    "- generally we can see that there is an increase in price with increasing numbber of bathrooms\n",
    "- interesting point, some buildings without bathrooms\n",
    "\n",
    "\n",
    "Number of Bedrooms:\n",
    "- for the number the bedrooms we see that there is an increase of the sales price with increasing number of bbedrooms up until a number of 5 bedrooms. \n",
    "- after that we do not see this effect as clearly, which is also because the upper fence of the boxplot is at 5, we have only very little numbber of houses with more than 5 bedrooms\n",
    "\n",
    "Sale Month:\n",
    "- we see an slight increase in the mean sales price for the summer month (june july, august) \n",
    "- in the winter months it is lower (january, novermber, oktober)\n",
    "\n",
    "Sales Year:\n",
    "- we see an increase in the mean sales price per year until year 1990 (first decrease), then slight decrease in the sales price.\n",
    "- very significant decrease in mean sales price in year 2008 and 2009, then again a slight increase\n",
    "- then 2015 and 2016 again slight decrease\n",
    "\n",
    "\n",
    "Condition:\n",
    "- since we have very different number houses for the different conditions, especially for poor condition houses we have very small number of houses (1537 only vs 610260 for Average). Therefore, mean prices for the different categories would lead to a much different image than for the median, since the different transaction have an higher effect for the poor category.\n",
    "For the median price for each category, we get the expected image that the median is lowest for poor - > fair -> average -> average plus -> good.\n",
    "\n",
    "\n",
    "City:\n",
    "- highes mean price in cities Greenwich, Westport and New Canaan.\n",
    "- very high mean price for Greenwich with 2.072.040,71 \n",
    "- lowest mean price in cities Plainville, Norwich and East Hartford.\n",
    "- very low mean price in city Plainville with 133.000 dollars\n",
    "\n",
    "\n",
    "\n",
    "Age:\n",
    "- we observe more houses with higher prices with in low age e.g. 0 to 20 years of age, however in needs to be considered that we have more younger houses in our dataset (with most having age 0)\n",
    "- when we examine the average price for different age ranges we can see that the average price for the price ranges decreases with increasing price and the goes up with increasing age. However we have to keep in mind that older houses are less freqent in our dataset which results to individual transaction having an hgiher effect on the mean for this age range\n",
    "\n",
    "effective age:\n",
    "- for the effective age we see similar effects\n",
    "- if we take the average of different qunatiles we see that there is general the effect that with an increasing age there is a decreasing price up until one point where it slightly increases again"
   ]
  }
 ],
 "metadata": {
  "kernelspec": {
   "display_name": "Python 3 (ipykernel)",
   "language": "python",
   "name": "python3"
  },
  "language_info": {
   "codemirror_mode": {
    "name": "ipython",
    "version": 3
   },
   "file_extension": ".py",
   "mimetype": "text/x-python",
   "name": "python",
   "nbconvert_exporter": "python",
   "pygments_lexer": "ipython3",
   "version": "3.11.7"
  }
 },
 "nbformat": 4,
 "nbformat_minor": 4
}
