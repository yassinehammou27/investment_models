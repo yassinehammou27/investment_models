{
 "cells": [
  {
   "cell_type": "markdown",
   "metadata": {},
   "source": [
    "# 01 Data Analysis (Descriptive Statistics)\n",
    "\n",
    "In this notebook we have a look at the descriptive statistics of our features. We use boxplots and histograms to have a look at the values distribution of different features."
   ]
  },
  {
   "cell_type": "code",
   "execution_count": null,
   "metadata": {},
   "outputs": [],
   "source": [
    "import pandas as pd\n",
    "import seaborn as sns\n",
    "import matplotlib.pyplot as plt\n",
    "import plotly.express as px\n",
    "import math\n",
    "import numpy as np\n",
    "from shapely import wkt"
   ]
  },
  {
   "cell_type": "code",
   "execution_count": null,
   "metadata": {},
   "outputs": [],
   "source": [
    "df = pd.read_csv(\"../data/cleaned/df_final.csv\", index_col=0)"
   ]
  },
  {
   "cell_type": "code",
   "execution_count": null,
   "metadata": {},
   "outputs": [],
   "source": [
    "df_back = df.copy()"
   ]
  },
  {
   "cell_type": "markdown",
   "metadata": {},
   "source": [
    "### Preprocessing"
   ]
  },
  {
   "cell_type": "code",
   "execution_count": null,
   "metadata": {},
   "outputs": [],
   "source": [
    "# drop columns\n",
    "columns_to_drop = [\n",
    "    \"state_y\",\n",
    "    \"geometry_y\",\n",
    "    \"lag_month\",\n",
    "    \"lag_year_y\",\n",
    "    \"date_y\",\n",
    "    \"lag_year_x\",\n",
    "]\n",
    "df = df.drop(columns=columns_to_drop)"
   ]
  },
  {
   "cell_type": "code",
   "execution_count": null,
   "metadata": {},
   "outputs": [],
   "source": [
    "df[\"age\"] = (df.year - df.yrblt)\n",
    "df[\"eff_age\"] = (df.year - df.effyrblt)"
   ]
  },
  {
   "cell_type": "code",
   "execution_count": null,
   "metadata": {},
   "outputs": [],
   "source": [
    "# drop where age is negative\n",
    "df = df[df.age >= 0]"
   ]
  },
  {
   "cell_type": "code",
   "execution_count": null,
   "metadata": {},
   "outputs": [],
   "source": [
    "# set effyrblt and eff_age to NaN for the case where effyrblt > saledate (data leakage)\n",
    "df.loc[df.eff_age < 0, \"effyrblt\"] = np.nan\n",
    "df.loc[df.eff_age < 0, \"eff_age\"] = np.nan"
   ]
  },
  {
   "cell_type": "code",
   "execution_count": null,
   "metadata": {},
   "outputs": [],
   "source": [
    "# drop transactions with yrblt of zero\n",
    "df = df[df.yrblt != 0]"
   ]
  },
  {
   "cell_type": "code",
   "execution_count": null,
   "metadata": {},
   "outputs": [],
   "source": [
    "# drop transactions with yrblt of zero\n",
    "df = df[df.effyrblt != 0]"
   ]
  },
  {
   "cell_type": "code",
   "execution_count": null,
   "metadata": {},
   "outputs": [],
   "source": [
    "# create features longitude, latitude\n",
    "df[\"geometry_x\"] = df.geometry_x.apply(wkt.loads)\n",
    "df[\"geometry_x\"] = df.geometry_x.apply(lambda x: x.centroid)\n",
    "\n",
    "df[\"longitude\"] = df.geometry_x.apply(lambda x: x.x)\n",
    "df[\"latitude\"] = df.geometry_x.apply(lambda x: x.y)"
   ]
  },
  {
   "cell_type": "markdown",
   "metadata": {},
   "source": [
    "### Data Analysis"
   ]
  },
  {
   "cell_type": "markdown",
   "metadata": {},
   "source": [
    "#### Descriptive"
   ]
  },
  {
   "cell_type": "code",
   "execution_count": null,
   "metadata": {},
   "outputs": [],
   "source": [
    "df.info()"
   ]
  },
  {
   "cell_type": "code",
   "execution_count": null,
   "metadata": {},
   "outputs": [],
   "source": [
    "df.describe()"
   ]
  },
  {
   "cell_type": "code",
   "execution_count": null,
   "metadata": {},
   "outputs": [],
   "source": [
    "pd.options.display.float_format = '{:.2f}'.format\n",
    "# Assuming df is your DataFrame\n",
    "summary = df.describe().transpose()\n",
    "\n",
    "# Drop the 'count' row\n",
    "summary = summary.drop(columns='count')\n"
   ]
  },
  {
   "cell_type": "code",
   "execution_count": null,
   "metadata": {},
   "outputs": [],
   "source": [
    "summary"
   ]
  },
  {
   "cell_type": "markdown",
   "metadata": {},
   "source": [
    "- nbed, nbath, nhalfbath have very high max values"
   ]
  },
  {
   "cell_type": "code",
   "execution_count": null,
   "metadata": {},
   "outputs": [],
   "source": [
    "pd.options.display.float_format = '{:.2f}'.format\n",
    "# Assuming df is your DataFrame\n",
    "summary = df.describe(include=\"O\").transpose()\n",
    "\n",
    "# Drop the 'count' row\n",
    "summary = summary.drop(columns='count')\n"
   ]
  },
  {
   "cell_type": "code",
   "execution_count": null,
   "metadata": {},
   "outputs": [],
   "source": [
    "summary.rename(index={\"state_x\":\"state\"}).drop(index=[\"addr\", \"id\", \"geometry_x\", \"date_x\"])"
   ]
  },
  {
   "cell_type": "markdown",
   "metadata": {},
   "source": [
    "#### Plots"
   ]
  },
  {
   "cell_type": "code",
   "execution_count": null,
   "metadata": {},
   "outputs": [],
   "source": [
    "px.histogram(df.nbed)"
   ]
  },
  {
   "cell_type": "code",
   "execution_count": null,
   "metadata": {},
   "outputs": [],
   "source": [
    "px.histogram(df.nbath)"
   ]
  },
  {
   "cell_type": "code",
   "execution_count": null,
   "metadata": {},
   "outputs": [],
   "source": [
    "px.box(df.age)"
   ]
  },
  {
   "cell_type": "code",
   "execution_count": null,
   "metadata": {},
   "outputs": [],
   "source": [
    "px.histogram(df.eff_age)"
   ]
  },
  {
   "cell_type": "code",
   "execution_count": null,
   "metadata": {},
   "outputs": [],
   "source": [
    "px.box(df.eff_age)"
   ]
  },
  {
   "cell_type": "code",
   "execution_count": null,
   "metadata": {},
   "outputs": [],
   "source": [
    "px.histogram(df.yrblt)"
   ]
  },
  {
   "cell_type": "code",
   "execution_count": null,
   "metadata": {},
   "outputs": [],
   "source": [
    "px.box(df.yrblt)"
   ]
  },
  {
   "cell_type": "code",
   "execution_count": null,
   "metadata": {},
   "outputs": [],
   "source": [
    "px.box(df.effyrblt)"
   ]
  },
  {
   "cell_type": "code",
   "execution_count": null,
   "metadata": {},
   "outputs": [],
   "source": [
    "px.histogram(df.effyrblt)"
   ]
  },
  {
   "cell_type": "code",
   "execution_count": null,
   "metadata": {},
   "outputs": [],
   "source": [
    "px.histogram(df.city)"
   ]
  },
  {
   "cell_type": "code",
   "execution_count": null,
   "metadata": {},
   "outputs": [],
   "source": [
    "df.groupby(by=\"city\").size().sort_values()"
   ]
  },
  {
   "cell_type": "code",
   "execution_count": null,
   "metadata": {},
   "outputs": [],
   "source": [
    "df.groupby(by=\"county\").size().sort_values()"
   ]
  },
  {
   "cell_type": "code",
   "execution_count": null,
   "metadata": {},
   "outputs": [],
   "source": [
    "df.groupby(by=\"cond_desc\").size().sort_values() / df.shape[0]"
   ]
  },
  {
   "cell_type": "code",
   "execution_count": null,
   "metadata": {},
   "outputs": [],
   "source": [
    "px.histogram(df.cond_desc)"
   ]
  },
  {
   "cell_type": "code",
   "execution_count": null,
   "metadata": {},
   "outputs": [],
   "source": [
    "px.histogram(df.distance_aerodrome)"
   ]
  },
  {
   "cell_type": "code",
   "execution_count": null,
   "metadata": {},
   "outputs": [],
   "source": [
    "px.box(df.distance_aerodrome)"
   ]
  },
  {
   "cell_type": "code",
   "execution_count": null,
   "metadata": {},
   "outputs": [],
   "source": [
    "px.box(df.distance_aerodrome)"
   ]
  },
  {
   "cell_type": "code",
   "execution_count": null,
   "metadata": {},
   "outputs": [],
   "source": [
    "px.box(df.distance_ferry_terminal)"
   ]
  },
  {
   "cell_type": "code",
   "execution_count": null,
   "metadata": {},
   "outputs": [],
   "source": [
    "px.box(df.distance_hospital)"
   ]
  },
  {
   "cell_type": "code",
   "execution_count": null,
   "metadata": {},
   "outputs": [],
   "source": [
    "px.box(df.livarea)"
   ]
  },
  {
   "cell_type": "code",
   "execution_count": null,
   "metadata": {},
   "outputs": [],
   "source": [
    "px.box(df.efflivarea)"
   ]
  },
  {
   "cell_type": "markdown",
   "metadata": {},
   "source": [
    "#### Insights:\n",
    "Livarea:\n",
    "- most houses have around 1300 to 2500 sq feet\n",
    "\n",
    "\n",
    "\n",
    "Distance ferry terminal:\n",
    "- most houses are around 17 to 40 km away from the nearest ferry terminal\n",
    "\n",
    "Distance Aerodrome:\n",
    "- most houses are around 6 to 13 km away from the airport\n",
    "\n",
    "Condition Description:\n",
    "- most houses have around 60 % have average condition and around 26 % have a good condition\n",
    "\n",
    "City:\n",
    "- most transactions in the cities Alexandria, Fairfax and Springfield\n",
    "- the least number of transactions in Plainville, Darien, Arlington\n",
    "\n",
    "County:\n",
    "- most transactions in Fairfax, hartford and New haven\n",
    "- the least amount of transaction in Windham, Middlesex, Tollandcv\n",
    "\n",
    "Bedrooms:\n",
    "- most houses have three bedrooms\n",
    "- some outliers with the house with the most bedrooms having 124 \n",
    "- the particular house with 124 bedrooms is a hotel\n",
    "\n",
    "Bathrooms:\n",
    "- most houses have two bathrooms\n",
    "- building with number of bathrooms of 239 is a real estate agency\n",
    "\n",
    "Age:\n",
    "- most houses were sold directly after they were built having an age of 0 to one year\n",
    "- most houses are between 0 (14) to 116 years old at time of sale\n",
    "\n",
    "Effective Age:\n",
    "- most houses are effectively 18 to 27 years old at time of sale\n",
    "\n",
    "Yrblt: \n",
    "- most houses were built in 1986 and overall most built between 1956 and 1988\n",
    "\n",
    "Effyrblt:\n",
    "- most houses were refurbische around 1987 to 2001\n",
    "- most houses were refurbisched at 1992\n"
   ]
  }
 ],
 "metadata": {
  "kernelspec": {
   "display_name": "Python 3",
   "language": "python",
   "name": "python3"
  },
  "language_info": {
   "codemirror_mode": {
    "name": "ipython",
    "version": 3
   },
   "file_extension": ".py",
   "mimetype": "text/x-python",
   "name": "python",
   "nbconvert_exporter": "python",
   "pygments_lexer": "ipython3",
   "version": "3.11.7"
  }
 },
 "nbformat": 4,
 "nbformat_minor": 2
}
