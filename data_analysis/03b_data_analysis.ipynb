{
 "cells": [
  {
   "cell_type": "markdown",
   "metadata": {},
   "source": [
    "# 03b Data Analysis Appreciation (Correlation)\n",
    "\n",
    "In this notebook we have a look at the correlation between the features themselves as well as the correlation of the features with the target variable (house price appreciation)."
   ]
  },
  {
   "cell_type": "code",
   "execution_count": null,
   "metadata": {},
   "outputs": [],
   "source": [
    "import pandas as pd\n",
    "import seaborn as sns\n",
    "import matplotlib.pyplot as plt\n",
    "import plotly.express as px\n",
    "import math\n",
    "import numpy as np\n",
    "from sklearn.feature_selection import mutual_info_regression\n",
    "from shapely import wkt"
   ]
  },
  {
   "cell_type": "code",
   "execution_count": null,
   "metadata": {},
   "outputs": [],
   "source": [
    "df_origin = pd.read_csv(\"../data/cleaned/df_appreciation_final.csv\", index_col=0)"
   ]
  },
  {
   "cell_type": "code",
   "execution_count": null,
   "metadata": {},
   "outputs": [],
   "source": [
    "df = df_origin.copy()"
   ]
  },
  {
   "cell_type": "markdown",
   "metadata": {},
   "source": [
    "### Preprocessing"
   ]
  },
  {
   "cell_type": "code",
   "execution_count": null,
   "metadata": {},
   "outputs": [],
   "source": [
    "# drop columns\n",
    "columns_to_drop = [\n",
    "    \"state_y\",\n",
    "    \"geometry_y\",\n",
    "    \"lag_month\",\n",
    "    \"lag_year_y\",\n",
    "    \"date_y\",\n",
    "    \"lag_year_x\",\n",
    "]\n",
    "df = df.drop(columns=columns_to_drop)"
   ]
  },
  {
   "cell_type": "code",
   "execution_count": null,
   "metadata": {},
   "outputs": [],
   "source": [
    "df[\"age\"] = (df.year - df.yrblt)\n",
    "df[\"eff_age\"] = (df.year - df.effyrblt)"
   ]
  },
  {
   "cell_type": "code",
   "execution_count": null,
   "metadata": {},
   "outputs": [],
   "source": [
    "# drop where age is negative\n",
    "df = df[df.age >= 0]"
   ]
  },
  {
   "cell_type": "code",
   "execution_count": null,
   "metadata": {},
   "outputs": [],
   "source": [
    "# set effyrblt and eff_age to NaN for the case where effyrblt > saledate (data leakage)\n",
    "df.loc[df.eff_age < 0, \"effyrblt\"] = np.nan\n",
    "df.loc[df.eff_age < 0, \"eff_age\"] = np.nan"
   ]
  },
  {
   "cell_type": "code",
   "execution_count": null,
   "metadata": {},
   "outputs": [],
   "source": [
    "# drop transactions with yrblt of zero\n",
    "df = df[df.yrblt != 0]"
   ]
  },
  {
   "cell_type": "code",
   "execution_count": null,
   "metadata": {},
   "outputs": [],
   "source": [
    "# drop transactions with yrblt of zero\n",
    "df = df[df.effyrblt != 0]"
   ]
  },
  {
   "cell_type": "code",
   "execution_count": null,
   "metadata": {},
   "outputs": [],
   "source": [
    "# calculate appreciation in percent\n",
    "df[\"appreciation\"] = (df[\"price\"] - df[\"prior_price\"])/df.prior_price"
   ]
  },
  {
   "cell_type": "code",
   "execution_count": null,
   "metadata": {},
   "outputs": [],
   "source": [
    "df[\"saledate\"] = pd.to_datetime(df.saledate)\n",
    "df[\"prior_saledate\"] = pd.to_datetime(df.prior_saledate)"
   ]
  },
  {
   "cell_type": "code",
   "execution_count": null,
   "metadata": {},
   "outputs": [],
   "source": [
    "df[\"appreciation_time\"] = df.saledate - df.prior_saledate"
   ]
  },
  {
   "cell_type": "code",
   "execution_count": null,
   "metadata": {},
   "outputs": [],
   "source": [
    "df[\"appreciation_time\"] = df.appreciation_time.dt.days"
   ]
  },
  {
   "cell_type": "code",
   "execution_count": null,
   "metadata": {},
   "outputs": [],
   "source": [
    "# drop cases where the saleprice is the same (no appreciation) most of the time double recording of transactions\n",
    "df = df[df.saledate != df.prior_saledate]"
   ]
  },
  {
   "cell_type": "code",
   "execution_count": null,
   "metadata": {},
   "outputs": [],
   "source": [
    "# drop negatvie appreciation time (only four cases)\n",
    "df = df[df.appreciation_time > 0]"
   ]
  },
  {
   "cell_type": "code",
   "execution_count": null,
   "metadata": {},
   "outputs": [],
   "source": [
    "# filter out prior prices smaller than 100\n",
    "df = df[df.prior_price > 100]"
   ]
  },
  {
   "cell_type": "code",
   "execution_count": null,
   "metadata": {},
   "outputs": [],
   "source": [
    "# create features longitude, latitude\n",
    "df[\"geometry_x\"] = df.geometry_x.apply(wkt.loads)\n",
    "df[\"geometry_x\"] = df.geometry_x.apply(lambda x: x.centroid)\n",
    "\n",
    "df[\"longitude\"] = df.geometry_x.apply(lambda x: x.x)\n",
    "df[\"latitude\"] = df.geometry_x.apply(lambda x: x.y)"
   ]
  },
  {
   "cell_type": "markdown",
   "metadata": {},
   "source": [
    "### Data Analysis"
   ]
  },
  {
   "cell_type": "markdown",
   "metadata": {},
   "source": [
    "#### Correlations"
   ]
  },
  {
   "cell_type": "code",
   "execution_count": null,
   "metadata": {},
   "outputs": [],
   "source": [
    "### correlations\n",
    "corr = df.corr(numeric_only=True)\n",
    "\n",
    "# plot \n",
    "fig, ax = plt.subplots(figsize=(30,20))\n",
    "sns.heatmap(corr, xticklabels=corr.columns.values, yticklabels=corr.columns.values, ax=ax)\n",
    "\n",
    "#px.bar(corr.loc[\"Target\"].abs().sort_values(ascending=False)) # maybe leave out abs"
   ]
  },
  {
   "cell_type": "markdown",
   "metadata": {},
   "source": [
    "**Findings:**\n",
    "\n",
    "- the correlation pattern between the features are the same as for the dataset that we will use for the initial house price prediciton model\n",
    "- also the addtitional features like appreciation_time, prior_year, prior_month and prior_price do not have any remarkable correlations with other features"
   ]
  },
  {
   "cell_type": "code",
   "execution_count": null,
   "metadata": {},
   "outputs": [],
   "source": [
    "px.bar(corr.loc[\"appreciation\"].sort_values(ascending=False).drop([\"appreciation\", \"price\"]),\n",
    "             labels={'index': 'Features', 'value': 'Correlation Coefficient'},\n",
    "             title='Feature Correlation with Appreciation')"
   ]
  },
  {
   "cell_type": "markdown",
   "metadata": {},
   "source": [
    "**Findings:**\n",
    "\n",
    "- overall we can see that we do not have any feature with high correlation with the appreciation\n",
    "- the feature with the highest correlation is the appreciation time, which also only has a correlation of 0.07, after tha comes the prior sale year with a negative correlation of - 0.06 and the prior or initial price with - 0.04\n",
    "- also we we plot the different features against our target, we can not observe any obvious or clear patterns\n",
    "- all of this indicates the possibility that it would be better to indrectly preidct the appreciation throug prediction the future price and the manually calculating the appreciation\n",
    "- if we look at the correlations with the future price, we can clearly observe same correlation pattern as for the inital price, the only main difference is that the prior_price, as expected has the highest correlation with the future price, with a correlation of 0.76.\n",
    "- this support the idea predict the future price and the calculate the resulting predicted appreciation instead of directly predicting the appreciation"
   ]
  },
  {
   "cell_type": "code",
   "execution_count": null,
   "metadata": {},
   "outputs": [],
   "source": [
    "px.bar(corr.loc[\"price\"].sort_values(ascending=False).drop([\"appreciation\", \"price\"]),\n",
    "             labels={'index': 'Features', 'value': 'Correlation Coefficient'},\n",
    "             title='Feature Correlation with Future Price')"
   ]
  },
  {
   "cell_type": "markdown",
   "metadata": {},
   "source": [
    "##### Mutual Information"
   ]
  },
  {
   "cell_type": "code",
   "execution_count": null,
   "metadata": {},
   "outputs": [],
   "source": [
    "X = df.drop(columns=\"price\").select_dtypes(exclude=[\"object\"])\n",
    "y = df.loc[:, \"price\"]"
   ]
  },
  {
   "cell_type": "code",
   "execution_count": null,
   "metadata": {},
   "outputs": [],
   "source": [
    "X = X.fillna(0)"
   ]
  },
  {
   "cell_type": "code",
   "execution_count": null,
   "metadata": {},
   "outputs": [],
   "source": [
    "### mutual information (maybe also after encoding of categorical variables)\n",
    "mi_scores = mutual_info_regression(X, y)\n",
    "mi_scores = pd.Series(mi_scores, name=\"MI Scores\", index=X.columns)\n",
    "mi_scores = mi_scores.sort_values(ascending=False)\n",
    "\n",
    "\n",
    "\n",
    "# plot\n",
    "px.bar(y=mi_scores, x=mi_scores.index, orientation=\"v\")"
   ]
  },
  {
   "cell_type": "markdown",
   "metadata": {},
   "source": [
    "**Findings:**\n",
    "\n",
    "- regarding the mutial information we can see some differences compared to the correlation\n",
    "- what significantly differs is that number of people in poverty and numer of young people in poverty seem to have a high impact on the price\n",
    "- but in this case we can see that the house price index and the household income still have to have a high impact"
   ]
  }
 ],
 "metadata": {
  "kernelspec": {
   "display_name": "Python 3",
   "language": "python",
   "name": "python3"
  },
  "language_info": {
   "codemirror_mode": {
    "name": "ipython",
    "version": 3
   },
   "file_extension": ".py",
   "mimetype": "text/x-python",
   "name": "python",
   "nbconvert_exporter": "python",
   "pygments_lexer": "ipython3",
   "version": "3.11.7"
  }
 },
 "nbformat": 4,
 "nbformat_minor": 2
}
