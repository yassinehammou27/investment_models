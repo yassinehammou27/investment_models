{
 "cells": [
  {
   "cell_type": "markdown",
   "metadata": {},
   "source": [
    "# 04 Data Analysis (Economic Data)\n",
    "\n",
    "In this notebook we analyse the development of different economic indicators in different counties over time."
   ]
  },
  {
   "cell_type": "code",
   "execution_count": null,
   "metadata": {},
   "outputs": [],
   "source": [
    "import pandas as pd\n",
    "import seaborn as sns\n",
    "import matplotlib.pyplot as plt\n",
    "import plotly.express as px\n",
    "import math\n",
    "import numpy as np\n",
    "from sklearn.feature_selection import mutual_info_regression"
   ]
  },
  {
   "cell_type": "code",
   "execution_count": null,
   "metadata": {},
   "outputs": [],
   "source": [
    "df_econ_monthly = pd.read_csv(\"../data/cleaned/monthly_econ_data.csv\", index_col=0)\n",
    "df_econ_yearly = pd.read_csv(\"../data/cleaned/yearly_econ_data.csv\", index_col=0)"
   ]
  },
  {
   "cell_type": "code",
   "execution_count": null,
   "metadata": {},
   "outputs": [],
   "source": [
    "df = pd.read_csv(\"../data/cleaned/df_final.csv\", index_col=0)"
   ]
  },
  {
   "cell_type": "code",
   "execution_count": null,
   "metadata": {},
   "outputs": [],
   "source": [
    "df_average_sale_price = df.groupby(by=[\"year\", \"county\"])[\"price\"].mean().reset_index()"
   ]
  },
  {
   "cell_type": "code",
   "execution_count": null,
   "metadata": {},
   "outputs": [],
   "source": [
    "df_average_sale_price"
   ]
  },
  {
   "cell_type": "code",
   "execution_count": null,
   "metadata": {},
   "outputs": [],
   "source": [
    "# development of the sale price over time\n",
    "px.line(df_average_sale_price, x=\"year\", y=\"price\", color=\"county\")"
   ]
  },
  {
   "cell_type": "markdown",
   "metadata": {},
   "source": [
    "**Findings:**\n",
    "- the average price is the highest for faifield county and for fairfax county, the other counties are on a lower level\n",
    "- we can se that there is a significant decrease in the average sale price in the year 2009"
   ]
  },
  {
   "cell_type": "markdown",
   "metadata": {},
   "source": [
    "#### Monthly Economic Features"
   ]
  },
  {
   "cell_type": "code",
   "execution_count": null,
   "metadata": {},
   "outputs": [],
   "source": [
    "df_econ_monthly"
   ]
  },
  {
   "cell_type": "code",
   "execution_count": null,
   "metadata": {},
   "outputs": [],
   "source": [
    "px.line(df_econ_monthly, x=\"date\", y=\"n_unemployed\", color=\"county\")"
   ]
  },
  {
   "cell_type": "code",
   "execution_count": null,
   "metadata": {},
   "outputs": [],
   "source": [
    "px.line(df_econ_monthly, x=\"date\", y=\"unemployment_rate\", color=\"county\")"
   ]
  },
  {
   "cell_type": "code",
   "execution_count": null,
   "metadata": {},
   "outputs": [],
   "source": [
    "px.line(df_econ_monthly, x=\"date\", y=\"civilian_labour\", color=\"county\")"
   ]
  },
  {
   "cell_type": "code",
   "execution_count": null,
   "metadata": {},
   "outputs": [],
   "source": [
    "px.line(df_econ_monthly, x=\"date\", y=\"n_employed\", color=\"county\")"
   ]
  },
  {
   "cell_type": "markdown",
   "metadata": {},
   "source": [
    "#### Yearly Economic Features"
   ]
  },
  {
   "cell_type": "code",
   "execution_count": null,
   "metadata": {},
   "outputs": [],
   "source": [
    "df_econ_yearly"
   ]
  },
  {
   "cell_type": "code",
   "execution_count": null,
   "metadata": {},
   "outputs": [],
   "source": [
    "px.line(df_econ_yearly, x=\"date\", y=\"hpi\", color=\"county\")"
   ]
  },
  {
   "cell_type": "code",
   "execution_count": null,
   "metadata": {},
   "outputs": [],
   "source": [
    "px.line(df_econ_yearly, x=\"date\", y=\"household_income\", color=\"county\", labels={\"household_income\": \"Household Income ($)\"}, title=\"Household Income\")"
   ]
  },
  {
   "cell_type": "code",
   "execution_count": null,
   "metadata": {},
   "outputs": [],
   "source": [
    "px.line(df_econ_yearly, x=\"date\", y=\"new_housing\", color=\"county\", labels={\"new_housing\": \"New Housing Permits\"}, title=\"New Housing Permits\")"
   ]
  },
  {
   "cell_type": "code",
   "execution_count": null,
   "metadata": {},
   "outputs": [],
   "source": [
    "px.line(df_econ_yearly, x=\"date\", y=\"population\", color=\"county\",\n",
    "    labels={\"population\": \"Population (in thousands)\"},\n",
    "    title=\"Population\"\n",
    "    )\n"
   ]
  },
  {
   "cell_type": "code",
   "execution_count": null,
   "metadata": {},
   "outputs": [],
   "source": [
    "df_econ_yearly[\"population\"]"
   ]
  },
  {
   "cell_type": "code",
   "execution_count": null,
   "metadata": {},
   "outputs": [],
   "source": [
    "px.line(df_econ_yearly, x=\"date\", y=\"n_poverty\", color=\"county\")"
   ]
  },
  {
   "cell_type": "code",
   "execution_count": null,
   "metadata": {},
   "outputs": [],
   "source": [
    "px.line(\n",
    "    df_econ_yearly, \n",
    "    x=\"date\", \n",
    "    y=\"poverty_rate\", \n",
    "    color=\"county\",\n",
    "    labels={\"poverty_rate\": \"Poverty Rate (%)\"},  # Customize y-axis label\n",
    "    title=\"Poverty Rate\"\n",
    ")"
   ]
  },
  {
   "cell_type": "code",
   "execution_count": null,
   "metadata": {},
   "outputs": [],
   "source": [
    "px.line(df_econ_yearly, x=\"date\", y=\"poverty_rate_young\", color=\"county\")"
   ]
  },
  {
   "cell_type": "code",
   "execution_count": null,
   "metadata": {},
   "outputs": [],
   "source": [
    "px.line(df_econ_yearly, x=\"date\", y=\"n_poverty_young\", color=\"county\")"
   ]
  },
  {
   "cell_type": "markdown",
   "metadata": {},
   "source": [
    "**Findings:**\n",
    "\n",
    "- poverty rate for new haven, hartford and windham over all the years much higher than for the other counteies. Fairfield lies in the middle\n",
    "- regarding the population we can see that over the years the population in fairfax county is the highest and also increased the most compared to the other counties\n",
    "- fairfield, hartford and new haven also have population on a high level, over 800.000, the other counties have significantly less population. under 200.000\n",
    "- the number of new housing permits is suprisingly low for fairfax county although it has the highest population compared the other counties\n",
    "- generally the number of new housing permits was the lowest at around 2009 to 2010, the number of housing permits increased in fairfield county signifiacntly in the year 2011 and over shooted the number of housing permits in the other counties. However in the years before the housing permits was also on a high level in fairfield. The other counties where the number of new housing permits is also on a high level are new haven and hartford. For these it also makes sense, sinse they have higher populations compated to the other counties (excluding fairfax and fairfield county)\n",
    "\n",
    "- the household income is significantly higher in fairfax county compared to the other counties, for windham and new haven they are the two counties with the lowers household income\n",
    "- in 2022 the gap between the household income between fairfax (144.000) county and fairfield (100.000) (second highest) is 40.000\n",
    "- the house price index was very close together in the years before 2000 after that year the house price index rose much stronger in for fairfax county\n",
    "- overall we can see a peak of the house price index in 2006 and in the years after especially in the years 2007 to 2009 it decreased significantly and increased again in the recent years. Especially 2015 onwards\n",
    "\n",
    "\n",
    "\n",
    "\n",
    "\n",
    "- the average price is the highest for faifield county and for fairfax county, the other counties are on a lower level\n",
    "- we can se that there is a significant decrease in the average sale price in the year 2009"
   ]
  }
 ],
 "metadata": {
  "kernelspec": {
   "display_name": "Python 3",
   "language": "python",
   "name": "python3"
  },
  "language_info": {
   "codemirror_mode": {
    "name": "ipython",
    "version": 3
   },
   "file_extension": ".py",
   "mimetype": "text/x-python",
   "name": "python",
   "nbconvert_exporter": "python",
   "pygments_lexer": "ipython3",
   "version": "3.11.7"
  }
 },
 "nbformat": 4,
 "nbformat_minor": 2
}
