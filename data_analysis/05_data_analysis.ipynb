{
 "cells": [
  {
   "cell_type": "markdown",
   "metadata": {},
   "source": [
    "# Data Analysis (Geo Analysis)\n",
    "\n",
    "In this notebook, we geographically analyze different geo features."
   ]
  },
  {
   "cell_type": "code",
   "execution_count": null,
   "metadata": {},
   "outputs": [],
   "source": [
    "import pandas as pd\n",
    "import seaborn as sns\n",
    "import matplotlib.pyplot as plt\n",
    "import plotly.express as px\n",
    "import math\n",
    "import numpy as np\n",
    "import folium\n",
    "from shapely import wkt\n",
    "import matplotlib.colors as mcolors\n",
    "import h3\n",
    "from shapely.geometry import Polygon\n",
    "import geopandas as gpd\n",
    "import mapclassify"
   ]
  },
  {
   "cell_type": "markdown",
   "metadata": {},
   "source": [
    "### Preprocessing"
   ]
  },
  {
   "cell_type": "code",
   "execution_count": null,
   "metadata": {},
   "outputs": [],
   "source": [
    "df_econ_monthly = pd.read_csv(\"../data/cleaned/monthly_econ_data.csv\", index_col=0)\n",
    "df_econ_yearly = pd.read_csv(\"../data/cleaned/yearly_econ_data.csv\", index_col=0)"
   ]
  },
  {
   "cell_type": "code",
   "execution_count": null,
   "metadata": {},
   "outputs": [],
   "source": [
    "df = pd.read_csv(\"../data/cleaned/df_final.csv\", index_col=0)"
   ]
  },
  {
   "cell_type": "code",
   "execution_count": null,
   "metadata": {},
   "outputs": [],
   "source": [
    "df.loc[:, \"geometry_y\"] = df[\"geometry_y\"].apply(wkt.loads)"
   ]
  },
  {
   "cell_type": "code",
   "execution_count": null,
   "metadata": {},
   "outputs": [],
   "source": [
    "df_conn = df.loc[df.state_y == \"Connecticut\"]\n",
    "df_conn_2020 = df_conn.loc[df_conn.year == 2020]"
   ]
  },
  {
   "cell_type": "code",
   "execution_count": null,
   "metadata": {},
   "outputs": [],
   "source": [
    "df_fair = df.loc[df.county == \"Fairfax\"]\n",
    "df_fair_2021 = df_fair.loc[df_fair.year == 2021]"
   ]
  },
  {
   "cell_type": "code",
   "execution_count": null,
   "metadata": {},
   "outputs": [],
   "source": [
    "# for testing\n",
    "df_conn_test = df_conn_2020.head(10000)"
   ]
  },
  {
   "cell_type": "code",
   "execution_count": null,
   "metadata": {},
   "outputs": [],
   "source": [
    "# remove outliers\n",
    "df_conn_test = df_conn_test.loc[df_conn_test.price > 1000]\n",
    "df_conn_test = df_conn_test.loc[df_conn_test.price < 800000]"
   ]
  },
  {
   "cell_type": "markdown",
   "metadata": {},
   "source": [
    "#### Price"
   ]
  },
  {
   "cell_type": "code",
   "execution_count": null,
   "metadata": {},
   "outputs": [],
   "source": [
    "# PRICE\n",
    "\n",
    "# Create a map centered around Connecticut\n",
    "m = folium.Map(location=[41.6032, -73.0877], zoom_start=8)\n",
    "\n",
    "# Normalize the prices for color mapping\n",
    "min_price = df_conn_test['price'].min()\n",
    "max_price = df_conn_test['price'].max()\n",
    "\n",
    "# Define a color scale\n",
    "#colormap = folium.LinearColormap(colors=['blue', 'green', 'yellow', 'orange', 'red'], vmin=min_price, vmax=max_price)\n",
    "# Normalize the prices for color mapping\n",
    "colormap = folium.LinearColormap(colors=['#f0f8ff', '#0000ff'], vmin=min_price, vmax=max_price)\n",
    "colormap.caption = 'House Prices in Connecticut'\n",
    "\n",
    "\n",
    "# Add points to the map\n",
    "for _, row in df_conn_test.iterrows():\n",
    "    norm_price = (row['price'] - min_price) / (max_price - min_price)\n",
    "    folium.CircleMarker(\n",
    "        location=(row['geometry_y'].y, row['geometry_y'].x),\n",
    "        radius=5,\n",
    "        popup=f'Price: ${row[\"price\"]}',\n",
    "        color=colormap(row['price']),\n",
    "        fill=True,\n",
    "        fill_color=colormap(row['price'])\n",
    "    ).add_to(m)\n",
    "\n",
    "# Add color scale to map\n",
    "colormap.add_to(m)\n",
    "m"
   ]
  },
  {
   "cell_type": "code",
   "execution_count": null,
   "metadata": {},
   "outputs": [],
   "source": [
    "# NORM PRICE\n",
    "\n",
    "# Create a map centered around Connecticut\n",
    "m = folium.Map(location=[41.6032, -73.0877], zoom_start=8)\n",
    "\n",
    "# Normalize the prices for color mapping\n",
    "min_price = df_conn_test['price'].min()\n",
    "max_price = df_conn_test['price'].max()\n",
    "norm_prices = (df_conn_test['price'] - min_price) / (max_price - min_price)\n",
    "\n",
    "# Define a color scale\n",
    "colormap = folium.LinearColormap(colors=['blue', 'green', 'yellow', 'orange', 'red'],  vmin=norm_prices.min(), vmax=norm_prices.max())\n",
    "# Normalize the prices for color mapping\n",
    "#colormap = folium.LinearColormap(colors=['#f0f8ff', '#0000ff'], vmin=norm_prices.min(), vmax=norm_prices.max())\n",
    "colormap.caption = 'House Prices in Connecticut'\n",
    "\n",
    "\n",
    "# Add points to the map\n",
    "for _, row in df_conn_test.iterrows():\n",
    "    norm_price = (row['price'] - min_price) / (max_price - min_price)\n",
    "    folium.CircleMarker(\n",
    "        location=(row['geometry_y'].y, row['geometry_y'].x),\n",
    "        radius=5,\n",
    "        popup=f'Price: ${row[\"price\"]}',\n",
    "        color=colormap(norm_price),\n",
    "        fill=True,\n",
    "        fill_color=colormap(norm_price)\n",
    "    ).add_to(m)\n",
    "\n",
    "# Add color scale to map\n",
    "#colormap.caption = 'House Prices in Connecticut'\n",
    "colormap.add_to(m)\n",
    "m"
   ]
  },
  {
   "cell_type": "code",
   "execution_count": null,
   "metadata": {},
   "outputs": [],
   "source": [
    "# Create a map centered around Connecticut\n",
    "m = folium.Map(location=[41.6032, -73.0877], zoom_start=8)\n",
    "\n",
    "df_conn_test[\"log_price\"] = np.log(df_conn_test.price)\n",
    "# Normalize the prices for color mapping\n",
    "min_price = df_conn_test['log_price'].min()\n",
    "max_price = df_conn_test['log_price'].max()\n",
    "norm_prices = (df_conn_test['log_price'] - min_price) / (max_price - min_price)\n",
    "\n",
    "# Define a color scale\n",
    "colormap = folium.LinearColormap(colors=['blue', 'green', 'yellow', 'orange', 'red'], vmin=min_price, vmax=max_price)\n",
    "# Normalize the prices for color mapping\n",
    "#colormap = folium.LinearColormap(colors=['#f0f8ff', '#0000ff'], vmin=min_price, vmax=max_price)\n",
    "colormap.caption = 'House Prices in Connecticut'\n",
    "\n",
    "\n",
    "# Add points to the map\n",
    "for _, row in df_conn_test.iterrows():\n",
    "    norm_price = (row['log_price'] - min_price) / (max_price - min_price)\n",
    "    row[\"geometry_y\"] = row.geometry_y.centroid\n",
    "    folium.CircleMarker(\n",
    "        location=(row['geometry_y'].y, row['geometry_y'].x),\n",
    "        radius=5,\n",
    "        popup=f'Price: ${row[\"price\"]}',\n",
    "        color=colormap(row['log_price']),\n",
    "        fill=True,\n",
    "        fill_color=colormap(row['log_price'])\n",
    "    ).add_to(m)\n",
    "\n",
    "# Add color scale to map\n",
    "#colormap.caption = 'House Prices in Connecticut'\n",
    "colormap.add_to(m)\n",
    "m"
   ]
  },
  {
   "cell_type": "markdown",
   "metadata": {},
   "source": [
    "##### Features"
   ]
  },
  {
   "cell_type": "code",
   "execution_count": null,
   "metadata": {},
   "outputs": [],
   "source": [
    "\n",
    "def plot_map(df, feature, one_color=False, log=False, norm=False):\n",
    "    # Create a map centered around Connecticut\n",
    "    m = folium.Map(location=[41.6032, -73.0877], zoom_start=8)\n",
    "    df_map = df.copy()\n",
    "    if log:\n",
    "        df_map[feature] = np.log(df_map[feature])\n",
    "    if norm:\n",
    "        min = df_map[feature].min()\n",
    "        max = df_map[feature].max()\n",
    "        df_map[feature] = (df_map[feature] - min) / (max - min)\n",
    "\n",
    "    # Normalize the prices for color mapping\n",
    "    min = df_map[feature].min()\n",
    "    max = df_map[feature].max()\n",
    "\n",
    "    if one_color:\n",
    "        colormap = folium.LinearColormap(colors=['#f0f8ff', '#0000ff'], vmin=min, vmax=max)\n",
    "    else: \n",
    "        colormap = folium.LinearColormap(colors=['blue', 'green', 'yellow', 'orange', 'red'], vmin=min, vmax=max)\n",
    "\n",
    "    colormap.caption = feature\n",
    "\n",
    "\n",
    "    # Add points to the map\n",
    "    for _, row in df_map.iterrows():\n",
    "        #norm = (row['distance_ferry_terminal'] - min_price) / (max_price - min_price)\n",
    "        row[\"geometry_y\"] = row.geometry_y.centroid\n",
    "        folium.CircleMarker(\n",
    "            location=(row['geometry_y'].y, row['geometry_y'].x),\n",
    "            radius=5,\n",
    "            popup=f'{feature}: {row[feature]}',\n",
    "            color=colormap(row[feature]),\n",
    "            fill=True,\n",
    "            fill_color=colormap(row[feature])\n",
    "        ).add_to(m)\n",
    "\n",
    "    # Add color scale to map\n",
    "    colormap.add_to(m)\n",
    "    return m"
   ]
  },
  {
   "cell_type": "markdown",
   "metadata": {},
   "source": [
    "##### Price"
   ]
  },
  {
   "cell_type": "code",
   "execution_count": null,
   "metadata": {},
   "outputs": [],
   "source": [
    "plot_map(df_conn_2020, \"price\", log=True)"
   ]
  },
  {
   "cell_type": "code",
   "execution_count": null,
   "metadata": {},
   "outputs": [],
   "source": [
    "plot_map(df_conn[df_conn.year == 2000], \"price\", log=True)"
   ]
  },
  {
   "cell_type": "code",
   "execution_count": null,
   "metadata": {},
   "outputs": [],
   "source": [
    "plot_map(df_conn[df_conn.year == 2005], \"price\", log=True)"
   ]
  },
  {
   "cell_type": "code",
   "execution_count": null,
   "metadata": {},
   "outputs": [],
   "source": [
    "plot_map(df_conn[df_conn.year == 2021], \"price\", log=True)"
   ]
  },
  {
   "cell_type": "code",
   "execution_count": null,
   "metadata": {},
   "outputs": [],
   "source": [
    "plot_map(df_fair_2021, \"price\", log=True)"
   ]
  },
  {
   "cell_type": "markdown",
   "metadata": {},
   "source": [
    "##### Features"
   ]
  },
  {
   "cell_type": "code",
   "execution_count": null,
   "metadata": {},
   "outputs": [],
   "source": [
    "df_conn_2021 = df_conn[df_conn[\"year\"] == 2021]"
   ]
  },
  {
   "cell_type": "code",
   "execution_count": null,
   "metadata": {},
   "outputs": [],
   "source": [
    "df_conn_2021.columns"
   ]
  },
  {
   "cell_type": "code",
   "execution_count": null,
   "metadata": {},
   "outputs": [],
   "source": [
    "plot_map(df_conn_2021, \"livarea\")"
   ]
  },
  {
   "cell_type": "code",
   "execution_count": null,
   "metadata": {},
   "outputs": [],
   "source": [
    "plot_map(df_conn_2021, \"distance_aerodrome\")"
   ]
  },
  {
   "cell_type": "code",
   "execution_count": null,
   "metadata": {},
   "outputs": [],
   "source": [
    "plot_map(df_fair_2021, \"distance_aerodrome\")"
   ]
  },
  {
   "cell_type": "code",
   "execution_count": null,
   "metadata": {},
   "outputs": [],
   "source": [
    "plot_map(df_conn_2021, \"distance_ferry_terminal\")"
   ]
  },
  {
   "cell_type": "code",
   "execution_count": null,
   "metadata": {},
   "outputs": [],
   "source": [
    "plot_map(df_fair_2021, \"distance_ferry_terminal\")"
   ]
  },
  {
   "cell_type": "code",
   "execution_count": null,
   "metadata": {},
   "outputs": [],
   "source": [
    "plot_map(df_conn_2021, \"distance_railway_station\")"
   ]
  },
  {
   "cell_type": "code",
   "execution_count": null,
   "metadata": {},
   "outputs": [],
   "source": [
    "plot_map(df_fair_2021, \"distance_railway_station\")"
   ]
  },
  {
   "cell_type": "code",
   "execution_count": null,
   "metadata": {},
   "outputs": [],
   "source": [
    "plot_map(df_conn_2021, \"distance_market\")"
   ]
  },
  {
   "cell_type": "code",
   "execution_count": null,
   "metadata": {},
   "outputs": [],
   "source": [
    "plot_map(df_fair_2021, \"distance_market\")"
   ]
  },
  {
   "cell_type": "code",
   "execution_count": null,
   "metadata": {},
   "outputs": [],
   "source": [
    "plot_map(df_conn_2021, \"distance_hospital\")"
   ]
  },
  {
   "cell_type": "code",
   "execution_count": null,
   "metadata": {},
   "outputs": [],
   "source": [
    "plot_map(df_fair_2021, \"distance_hospital\")"
   ]
  },
  {
   "cell_type": "code",
   "execution_count": null,
   "metadata": {},
   "outputs": [],
   "source": [
    "plot_map(df_conn_2021, \"distance_hotel\")"
   ]
  },
  {
   "cell_type": "code",
   "execution_count": null,
   "metadata": {},
   "outputs": [],
   "source": [
    "plot_map(df_fair_2021, \"distance_hotel\")"
   ]
  },
  {
   "cell_type": "code",
   "execution_count": null,
   "metadata": {},
   "outputs": [],
   "source": [
    "plot_map(df_conn_2021, \"distance_museum\")"
   ]
  },
  {
   "cell_type": "code",
   "execution_count": null,
   "metadata": {},
   "outputs": [],
   "source": [
    "plot_map(df_fair_2021, \"distance_museum\")"
   ]
  },
  {
   "cell_type": "markdown",
   "metadata": {},
   "source": [
    "### Uber H3"
   ]
  },
  {
   "cell_type": "code",
   "execution_count": null,
   "metadata": {},
   "outputs": [],
   "source": [
    "def geometry_to_h3(geometry, resolution):\n",
    "    return h3.geo_to_h3(geometry.y, geometry.x, resolution=resolution)"
   ]
  },
  {
   "cell_type": "code",
   "execution_count": null,
   "metadata": {},
   "outputs": [],
   "source": [
    "def h3_to_geometry(h3_index):\n",
    "    return Polygon(h3.h3_to_geo_boundary(h3_index, geo_json=True))"
   ]
  },
  {
   "cell_type": "code",
   "execution_count": null,
   "metadata": {},
   "outputs": [],
   "source": [
    "def get_grouped_h3_df(df, feature, resolution, log=False, county=None):\n",
    "    if county:\n",
    "        df = df[df[\"county\"] == county]\n",
    "    df[\"h3\"] = df.geometry_y.map(lambda x: geometry_to_h3(x, resolution))\n",
    "    grouped = df.groupby(by=\"h3\")[feature].mean().to_frame().reset_index()\n",
    "    grouped[\"geometry\"] = grouped.h3.map(h3_to_geometry)\n",
    "    if log:\n",
    "        grouped[feature] = np.log(grouped[feature])\n",
    "    return gpd.GeoDataFrame(grouped, crs='EPSG:4326', geometry='geometry')"
   ]
  },
  {
   "cell_type": "code",
   "execution_count": null,
   "metadata": {},
   "outputs": [],
   "source": [
    "df_conn_2021[\"geometry_y\"] = df_conn_2021.geometry_y.map(lambda x: x.centroid)"
   ]
  },
  {
   "cell_type": "code",
   "execution_count": null,
   "metadata": {},
   "outputs": [],
   "source": [
    "df_fair_2021[\"geometry_y\"] = df_fair_2021.geometry_y.map(lambda x: x.centroid)"
   ]
  },
  {
   "cell_type": "markdown",
   "metadata": {},
   "source": [
    "##### Price"
   ]
  },
  {
   "cell_type": "code",
   "execution_count": null,
   "metadata": {},
   "outputs": [],
   "source": [
    "grouped = get_grouped_h3_df(df_fair_2021, \"price\", 7, log=False, county=\"Fairfax\")\n",
    "m = folium.Map(location=[41.6032, -73.0877], zoom_start=11)\n",
    "grouped.explore(column=grouped['price'], vmax = grouped['price'].quantile(0.75), tooltip=True, cmap=\"viridis\", m = m)"
   ]
  },
  {
   "cell_type": "code",
   "execution_count": null,
   "metadata": {},
   "outputs": [],
   "source": [
    "grouped = get_grouped_h3_df(df_conn_2021, \"price\", 7, log=False)\n",
    "m = folium.Map(location=[41.6032, -73.0877], zoom_start=11)\n",
    "grouped.explore(column=grouped['price'], vmax = grouped['price'].quantile(0.75), tooltip=True, cmap=\"viridis\", m = m)"
   ]
  },
  {
   "cell_type": "markdown",
   "metadata": {},
   "source": [
    "##### Features"
   ]
  },
  {
   "cell_type": "code",
   "execution_count": null,
   "metadata": {},
   "outputs": [],
   "source": [
    "grouped = get_grouped_h3_df(df_conn_2021, \"distance_aerodrome\", 7)\n",
    "m = folium.Map(location=[41.6032, -73.0877], zoom_start=11)\n",
    "grouped.explore(column=grouped['distance_aerodrome'], vmax = grouped['distance_aerodrome'].quantile(0.75), tooltip=True, cmap=\"viridis\", m = m)"
   ]
  },
  {
   "cell_type": "code",
   "execution_count": null,
   "metadata": {},
   "outputs": [],
   "source": [
    "location = [38.877716, -77.297486]\n",
    "feature = \"n_utilities\"\n",
    "#location=[41.6032, -73.0877]\n",
    "grouped = get_grouped_h3_df(df_fair_2021, feature, 7)\n",
    "m = folium.Map(location=location, zoom_start=10)\n",
    "grouped.explore(column=grouped[feature], vmax = grouped[feature].quantile(0.75), tooltip=True, cmap=\"viridis\", m = m)"
   ]
  },
  {
   "cell_type": "code",
   "execution_count": null,
   "metadata": {},
   "outputs": [],
   "source": [
    "grouped = get_grouped_h3_df(df_conn_test, \"distance_aerodrome\", 7,  county=\"Fairfield\")\n",
    "m = folium.Map(location=[41.6032, -73.0877], zoom_start=11)\n",
    "grouped.explore(column=grouped['distance_aerodrome'], vmax = grouped['distance_aerodrome'].quantile(0.75), tooltip=True, cmap=\"viridis\", m = m)"
   ]
  },
  {
   "cell_type": "code",
   "execution_count": null,
   "metadata": {},
   "outputs": [],
   "source": [
    "grouped = get_grouped_h3_df(df_conn_test, \"distance_aerodrome\", 7)\n",
    "m = folium.Map(location=[41.6032, -73.0877], zoom_start=11)\n",
    "grouped.explore(column=grouped['distance_aerodrome'], vmax = grouped['distance_aerodrome'].quantile(0.75), tooltip=True, cmap=\"viridis\", m = m)"
   ]
  },
  {
   "cell_type": "markdown",
   "metadata": {},
   "source": [
    "#### Geo Feature"
   ]
  },
  {
   "cell_type": "code",
   "execution_count": null,
   "metadata": {},
   "outputs": [],
   "source": [
    "df_poi_fairfield = pd.read_csv(\"../data/poi_geo/fairfield.csv\")\n",
    "df_poi_fairfax = pd.read_csv(\"../data/poi_geo/fairfax.csv\")\n",
    "df_poi_hartford = pd.read_csv(\"../data/poi_geo/hartford.csv\")\n",
    "df_poi_litchfield = pd.read_csv(\"../data/poi_geo/litchfield.csv\")\n",
    "df_poi_middlesex = pd.read_csv(\"../data/poi_geo/middlesex.csv\")\n",
    "df_poi_new_haven = pd.read_csv(\"../data/poi_geo/new_haven.csv\")\n",
    "df_poi_new_london = pd.read_csv(\"../data/poi_geo/new_london.csv\")\n",
    "df_poi_tolland = pd.read_csv(\"../data/poi_geo/tolland.csv\")\n",
    "df_poi_windham = pd.read_csv(\"../data/poi_geo//windham.csv\")"
   ]
  },
  {
   "cell_type": "code",
   "execution_count": null,
   "metadata": {},
   "outputs": [],
   "source": [
    "df_poi_fairfield[\"county\"] = \"Fairfield\"\n",
    "df_poi_fairfax [\"county\"] = \"Fairfax\"\n",
    "df_poi_hartford[\"county\"] = \"Hartford\"\n",
    "df_poi_litchfield[\"county\"] = \"Litchfield\"\n",
    "df_poi_middlesex[\"county\"] = \"Middlesex\"\n",
    "df_poi_new_haven[\"county\"] = \"New Haven\"\n",
    "df_poi_new_london[\"county\"] = \"New London\"\n",
    "df_poi_tolland[\"county\"] = \"Tolland\"\n",
    "df_poi_windham[\"county\"] = \"Windham\""
   ]
  },
  {
   "cell_type": "code",
   "execution_count": null,
   "metadata": {},
   "outputs": [],
   "source": [
    "df_poi = pd.concat([df_poi_fairfield,\n",
    "          df_poi_fairfax,\n",
    "          df_poi_hartford,\n",
    "          df_poi_litchfield,\n",
    "          df_poi_middlesex,\n",
    "          df_poi_new_haven,\n",
    "          df_poi_new_london,\n",
    "          df_poi_tolland,\n",
    "          df_poi_windham])"
   ]
  },
  {
   "cell_type": "code",
   "execution_count": null,
   "metadata": {},
   "outputs": [],
   "source": [
    "columns = [\"building\", \n",
    "        \"amenity\",\n",
    "        \"atm\",\n",
    "        \"bus\",\n",
    "        \"public_transport\", \n",
    "        \"tourism\", \n",
    "        \"geometry\", \n",
    "        \"aeroway\", \n",
    "        \"ferry\",\n",
    "        \"healthcare\",\n",
    "        \"government\",\n",
    "        \"bar\",\n",
    "        \"railway\",\n",
    "        \"highway\",\n",
    "        \"school\", \n",
    "        \"preschool\",\n",
    "        \"museum\",\n",
    "        \"county\"]\n",
    "df_poi = df_poi[columns]"
   ]
  },
  {
   "cell_type": "code",
   "execution_count": null,
   "metadata": {},
   "outputs": [],
   "source": [
    "df_poi.loc[:, \"bus\"] = np.where((~df_poi.bus.isna()), \"bus_\"+df_poi.public_transport, df_poi.bus)\n",
    "df_poi.loc[:, \"ferry\"] = np.where((~df_poi.ferry.isna()), \"ferry_\"+df_poi.public_transport, df_poi.ferry)\n",
    "df_poi.loc[:, \"railway\"] = \"railway_\" +df_poi.loc[:,\"railway\"]\n",
    "df_poi.loc[:, \"school\"] = np.where(df_poi.school == \"yes\", \"school\", df_poi.school)\n",
    "df_poi.loc[:, \"preschool\"] = np.where(df_poi.preschool == \"yes\", \"preschool\", df_poi.preschool)\n",
    "df_poi.loc[:, \"museum\"] = np.where((~df_poi.museum.isna()), \"museum\", df_poi.museum)\n",
    "df_poi.loc[:,\"amenity\"] = np.where(df_poi.amenity.isna(), df_poi.tourism, df_poi.amenity)\n",
    "df_poi.loc[:,\"amenity\"] = np.where(df_poi.amenity.isna(), df_poi.aeroway, df_poi.amenity)\n",
    "df_poi.loc[:,\"amenity\"] = np.where(df_poi.amenity.isna(), df_poi.healthcare, df_poi.amenity)\n",
    "df_poi.loc[:,\"amenity\"] = np.where(df_poi.amenity.isna(), df_poi.bus, df_poi.amenity)\n",
    "df_poi.loc[:,\"amenity\"] = np.where(df_poi.amenity.isna(), df_poi.ferry, df_poi.amenity)\n",
    "df_poi.loc[:,\"amenity\"] = np.where(df_poi.amenity.isna(), df_poi.railway, df_poi.amenity)\n",
    "df_poi.loc[:,\"amenity\"] = np.where(df_poi.amenity.isna(), df_poi.school, df_poi.amenity)\n",
    "df_poi.loc[:,\"amenity\"] = np.where(df_poi.amenity.isna(), df_poi.preschool, df_poi.amenity)\n",
    "df_poi.loc[:,\"amenity\"] = np.where(df_poi.amenity.isna(), df_poi.museum, df_poi.amenity)"
   ]
  },
  {
   "cell_type": "code",
   "execution_count": null,
   "metadata": {},
   "outputs": [],
   "source": [
    "df_poi = df_poi.dropna(subset=\"geometry\")"
   ]
  },
  {
   "cell_type": "code",
   "execution_count": null,
   "metadata": {},
   "outputs": [],
   "source": [
    "df_poi['geometry'] = df_poi['geometry'].apply(wkt.loads)\n",
    "df_geo = gpd.GeoDataFrame(df_poi, crs='epsg:4326')\n",
    "df_geo[\"geometry\"] = df_geo.geometry.map(lambda x: x.centroid)"
   ]
  },
  {
   "cell_type": "code",
   "execution_count": null,
   "metadata": {},
   "outputs": [],
   "source": [
    "points_of_interest = {\n",
    "    \"reli_inst\": [\"place_of_worship\",\n",
    "                  \"monastery\"],\n",
    "    \"edu_fac\": [\"school\", \n",
    "           \"university\", \n",
    "           \"college\", \n",
    "           \"library\",\n",
    "           \"kindergarten\",\n",
    "           \"music_school\",\n",
    "           \"prep_school\",\n",
    "           \"driving_school\",\n",
    "           \"childcare\"],\n",
    "    \"healthcare\": [\"dentist\", \n",
    "              \"clinic\", \n",
    "              \"hospital\", \n",
    "              \"doctors\", \n",
    "              \"nursing_home\"],\n",
    "    \"emergency\": [\"fire_station\", \"police\"],\n",
    "    \"animalcare\": [\"shelter\",\"animal_shelter\", \"animal_boarding\"],\n",
    "    \"commu_venu\": [\"social_facility\", \n",
    "              \"community_centre\",\n",
    "              \"exhibition_centre\",\n",
    "              \"conference_centre\",\n",
    "              \"social_centre\", \n",
    "              \"townhall\",\n",
    "              \"coworking_space\"],\n",
    "    \"commu_serv\": [\n",
    "              \"charity\",\n",
    "              \"public_building\",\n",
    "              \"grave_yard\",\n",
    "              \"crematorium\",\n",
    "              \"mortuary\",\n",
    "              \"ranger_station\",\n",
    "              \"post_depot\",\n",
    "              \"mail_room\",\n",
    "              \"public_bath\"\n",
    "              \"public_bookcase\"],\n",
    "    \"shopping\": [\"marketplace\", \"market\"],\n",
    "    \"food_drink\": [\"restaurant\",\n",
    "              \"fast_food\",\n",
    "              \"ice_cream\",\n",
    "              \"cafe\",\n",
    "              \"bbq\",\n",
    "              \"canteen\"],\n",
    "    \"financial\": [\"bank\",\n",
    "             \"atm\",\n",
    "             \"finance\",\n",
    "             \"money_transfer\",\n",
    "             \"check_cashing\"],\n",
    "    \"transport\": [\"aerodrome\",\n",
    "             \"railway_platform\",\n",
    "             \"ferry_terminal\",\n",
    "             \"bus_station\",\n",
    "             \"boat_storage\",\n",
    "             \"bus_platform\",\n",
    "             \"taxi\",\n",
    "             \"railway_halt\",\n",
    "             \"railway_car_shuttle\",\n",
    "             \"car_sharing\",\n",
    "             \"railway_station\",\n",
    "             \"bus_stop_position\",\n",
    "             \"ferry_stop_position\"],\n",
    "    \"entertainment\": [\"museum\",\n",
    "                 \"arts_centre\",\n",
    "                 \"theme_park\",\n",
    "                 \"stadium_seating\",\n",
    "                 \"cinema\",\n",
    "                 \"theatre\",\n",
    "                 \"attraction\",\n",
    "                 \"amusement\",\n",
    "                 \"events_venue\",\n",
    "                 \"karaoke_box\",\n",
    "                 \"music_venue\",\n",
    "                 \"planetarium\",\n",
    "                 \"lounge\",\n",
    "                 \"internet_cafe\"\n",
    "                 ],\n",
    "    \"adults_entertain\": [\n",
    "                     'hookah',\n",
    "                     'hookah_lounge',\n",
    "                     \"biergarten\",\n",
    "                     \"casino\",\n",
    "                     \"nightclub\",\n",
    "                    \"pub\",\n",
    "                    \"stripclub\",\n",
    "                    \"bar\",\n",
    "                    \"love_hotel\"],\n",
    "    \"sports\": [\"dancing_school\",\n",
    "               \"dojo\",\n",
    "               \"ski_school\", \n",
    "               \"ski_rental\"],\n",
    "    \"utilities\": [\"charging_station\",\n",
    "                  'compressed_air', \n",
    "                  'sanitary_dump_station', \n",
    "                  \"vacuum_cleaner\",\n",
    "                  \"waste_transfer_station\",\n",
    "              \"waste_disposal\"],\n",
    "    \"accommodation\": [\"motel\", \"hotel\", \"hostel\"],\n",
    "    \"government_civic\": [\"courthouse\", \"prison\"],\n",
    "    \"recreational\": [\"park\",\n",
    "                \"campground\",\n",
    "                \"camp_site\",\n",
    "                \"picnic_site\",\n",
    "                \"zoo\",\n",
    "                \"aquarium\",\n",
    "                \"viewpoint\",\n",
    "                \"boat_rental\",\n",
    "                \"bicycle_rental\"]\n",
    "}\n"
   ]
  },
  {
   "cell_type": "code",
   "execution_count": null,
   "metadata": {},
   "outputs": [],
   "source": [
    "df_geo[\"amenity_group\"] = np.nan"
   ]
  },
  {
   "cell_type": "code",
   "execution_count": null,
   "metadata": {},
   "outputs": [],
   "source": [
    "for key, value in points_of_interest.items():\n",
    "    df_geo.loc[df_geo.amenity.isin(value), \"amenity_group\"] = key"
   ]
  },
  {
   "cell_type": "code",
   "execution_count": null,
   "metadata": {},
   "outputs": [],
   "source": [
    "df_geo.amenity_group.unique()"
   ]
  },
  {
   "cell_type": "code",
   "execution_count": null,
   "metadata": {},
   "outputs": [],
   "source": [
    "location = [38.877716, -77.297486]\n",
    "feature = \"shopping\"\n",
    "#location=[41.6032, -73.0877]\n",
    "\n",
    "df_geo_am = df_geo[df_geo[\"amenity_group\"] == feature]\n",
    "\n",
    "# Create a map centered around Connecticut\n",
    "m = folium.Map(location=location, zoom_start=10)\n",
    "\n",
    "# Add points to the map\n",
    "for _, row in df_geo_am.iterrows():\n",
    "    folium.CircleMarker(\n",
    "        location=(row['geometry'].y, row['geometry'].x),\n",
    "        radius=5,\n",
    "        popup=f'{row[\"amenity\"]}',\n",
    "        color=\"blue\",\n",
    "    ).add_to(m)\n",
    "\n",
    "m"
   ]
  },
  {
   "cell_type": "code",
   "execution_count": null,
   "metadata": {},
   "outputs": [],
   "source": [
    "df_geo[\"h3\"] = df_geo.geometry.map(lambda x: geometry_to_h3(x, resolution=9))"
   ]
  },
  {
   "cell_type": "code",
   "execution_count": null,
   "metadata": {},
   "outputs": [],
   "source": [
    "df_geo_am = df_geo[df_geo[\"amenity_group\"] == \"edu_fac\"]\n",
    "df_geo_am = df_geo_am[df_geo_am[\"county\"] == \"Fairfield\"]"
   ]
  },
  {
   "cell_type": "code",
   "execution_count": null,
   "metadata": {},
   "outputs": [],
   "source": [
    "df_geo.amenity_group.unique()"
   ]
  },
  {
   "cell_type": "code",
   "execution_count": null,
   "metadata": {},
   "outputs": [],
   "source": [
    "df_geo_am = df_geo[df_geo[\"amenity_group\"] == \"shopping\"]\n",
    "df_geo_am.groupby(by=[\"h3\"])\n",
    "\n",
    "# Create a map centered around Connecticut\n",
    "m = folium.Map(location=[41.6032, -73.0877], zoom_start=8)\n",
    "\n",
    "# Add points to the map\n",
    "for _, row in df_geo_am.iterrows():\n",
    "    folium.CircleMarker(\n",
    "        location=(row['geometry'].y, row['geometry'].x),\n",
    "        radius=5,\n",
    "        popup=f'{row[\"amenity\"]}',\n",
    "        color=\"blue\",\n",
    "    ).add_to(m)\n",
    "\n",
    "m"
   ]
  },
  {
   "cell_type": "code",
   "execution_count": null,
   "metadata": {},
   "outputs": [],
   "source": [
    "def poi_h3_df(df, resolution=9, county=None, amenity_group=None, log=None):\n",
    "    df_geo_am = df.copy()\n",
    "    if amenity_group:\n",
    "        df_geo_am = df_geo_am[df_geo_am[\"amenity_group\"] == amenity_group]\n",
    "    if county:\n",
    "        df_geo_am = df_geo_am[df_geo_am[\"county\"] == county]\n",
    "    df_geo_am[\"h3\"] = df_geo_am.geometry.map(lambda x: geometry_to_h3(x, resolution=resolution))\n",
    "    df_h3 = df_geo_am.groupby(by=\"h3\").size().to_frame().reset_index().rename(columns={0: \"freq\"})\n",
    "    df_h3[\"geometry\"] = df_h3.h3.map(h3_to_geometry)\n",
    "    if log:\n",
    "        df_h3[\"freq\"] = np.log(df_h3[\"freq\"])\n",
    "    return gpd.GeoDataFrame(df_h3, crs='EPSG:4326', geometry='geometry')\n",
    "\n"
   ]
  },
  {
   "cell_type": "code",
   "execution_count": null,
   "metadata": {},
   "outputs": [],
   "source": [
    "grouped = poi_h3_df(df_geo, county=\"Fairfield\", amenity_group=\"edu_fac\", resolution=7, log=True)\n",
    "m = folium.Map(location=[41.6032, -73.0877], zoom_start=11)\n",
    "grouped.explore(column=grouped['freq'], vmax = grouped['freq'].max(), tooltip=True, cmap=\"viridis\", m = m)"
   ]
  },
  {
   "cell_type": "code",
   "execution_count": null,
   "metadata": {},
   "outputs": [],
   "source": [
    "df_geo.amenity_group.unique()"
   ]
  },
  {
   "cell_type": "code",
   "execution_count": null,
   "metadata": {},
   "outputs": [],
   "source": [
    "location = [38.877716, -77.297486]\n",
    "feature = \"shopping\"\n",
    "#location=[41.6032, -73.0877]\n",
    "\n",
    "grouped = poi_h3_df(df_geo, amenity_group=feature, resolution=7, log=True)\n",
    "m = folium.Map(location=location, zoom_start=10)\n",
    "grouped.explore(column=grouped['freq'], vmax = grouped['freq'].max(), tooltip=True, cmap=\"viridis\", m = m)"
   ]
  },
  {
   "cell_type": "code",
   "execution_count": null,
   "metadata": {},
   "outputs": [],
   "source": [
    "grouped = poi_h3_df(df_geo, county=\"Fairfield\", amenity_group=\"reli_inst\", resolution=7, log=True)\n",
    "m = folium.Map(location=[41.6032, -73.0877], zoom_start=11)\n",
    "grouped.explore(column=grouped['freq'], vmax = grouped['freq'].max(), tooltip=True, cmap=\"viridis\", m = m)"
   ]
  },
  {
   "cell_type": "code",
   "execution_count": null,
   "metadata": {},
   "outputs": [],
   "source": [
    "grouped = poi_h3_df(df_geo, county=\"Fairfield\", amenity_group=\"food_drink\", resolution=7, log=True)\n",
    "m = folium.Map(location=[41.6032, -73.0877], zoom_start=11)\n",
    "grouped.explore(column=grouped['freq'], vmax = grouped['freq'].max(), tooltip=True, cmap=\"viridis\", m = m)"
   ]
  }
 ],
 "metadata": {
  "kernelspec": {
   "display_name": "Python 3",
   "language": "python",
   "name": "python3"
  },
  "language_info": {
   "codemirror_mode": {
    "name": "ipython",
    "version": 3
   },
   "file_extension": ".py",
   "mimetype": "text/x-python",
   "name": "python",
   "nbconvert_exporter": "python",
   "pygments_lexer": "ipython3",
   "version": "3.11.7"
  }
 },
 "nbformat": 4,
 "nbformat_minor": 2
}
