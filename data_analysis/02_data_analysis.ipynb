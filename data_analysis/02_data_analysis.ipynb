{
 "cells": [
  {
   "cell_type": "markdown",
   "metadata": {},
   "source": [
    "# 02 Data Analysis (Target Plotting)\n",
    "\n",
    "In this notebook we have a look at the relationship between or different features and our target variable the house price."
   ]
  },
  {
   "cell_type": "code",
   "execution_count": null,
   "metadata": {},
   "outputs": [],
   "source": [
    "import pandas as pd\n",
    "import seaborn as sns\n",
    "import matplotlib.pyplot as plt\n",
    "import plotly.express as px\n",
    "import math\n",
    "import numpy as np\n",
    "from shapely import wkt"
   ]
  },
  {
   "cell_type": "code",
   "execution_count": null,
   "metadata": {},
   "outputs": [],
   "source": [
    "df = pd.read_csv(\"../data/cleaned/df_final.csv\", index_col=0)"
   ]
  },
  {
   "cell_type": "code",
   "execution_count": null,
   "metadata": {},
   "outputs": [],
   "source": [
    "df_back = df.copy()"
   ]
  },
  {
   "cell_type": "markdown",
   "metadata": {},
   "source": [
    "### Preprocessing"
   ]
  },
  {
   "cell_type": "code",
   "execution_count": null,
   "metadata": {},
   "outputs": [],
   "source": [
    "# drop columns\n",
    "columns_to_drop = [\n",
    "    \"state_y\",\n",
    "    \"geometry_y\",\n",
    "    \"lag_month\",\n",
    "    \"lag_year_y\",\n",
    "    \"date_y\",\n",
    "    \"lag_year_x\",\n",
    "]\n",
    "df = df.drop(columns=columns_to_drop)"
   ]
  },
  {
   "cell_type": "code",
   "execution_count": null,
   "metadata": {},
   "outputs": [],
   "source": [
    "df[\"age\"] = (df.year - df.yrblt)\n",
    "df[\"eff_age\"] = (df.year - df.effyrblt)"
   ]
  },
  {
   "cell_type": "code",
   "execution_count": null,
   "metadata": {},
   "outputs": [],
   "source": [
    "# drop where age is negative\n",
    "df = df[df.age >= 0]"
   ]
  },
  {
   "cell_type": "code",
   "execution_count": null,
   "metadata": {},
   "outputs": [],
   "source": [
    "# set effyrblt and eff_age to NaN for the case where effyrblt > saledate (data leakage)\n",
    "df.loc[df.eff_age < 0, \"effyrblt\"] = np.nan\n",
    "df.loc[df.eff_age < 0, \"eff_age\"] = np.nan"
   ]
  },
  {
   "cell_type": "code",
   "execution_count": null,
   "metadata": {},
   "outputs": [],
   "source": [
    "# drop transactions with yrblt of zero\n",
    "df = df[df.yrblt != 0]"
   ]
  },
  {
   "cell_type": "code",
   "execution_count": null,
   "metadata": {},
   "outputs": [],
   "source": [
    "# drop transactions with yrblt of zero\n",
    "df = df[df.effyrblt != 0]"
   ]
  },
  {
   "cell_type": "code",
   "execution_count": null,
   "metadata": {},
   "outputs": [],
   "source": [
    "# create features longitude, latitude\n",
    "df[\"geometry_x\"] = df.geometry_x.apply(wkt.loads)\n",
    "df[\"geometry_x\"] = df.geometry_x.apply(lambda x: x.centroid)\n",
    "\n",
    "df[\"longitude\"] = df.geometry_x.apply(lambda x: x.x)\n",
    "df[\"latitude\"] = df.geometry_x.apply(lambda x: x.y)"
   ]
  },
  {
   "cell_type": "markdown",
   "metadata": {},
   "source": [
    "### Data Analysis"
   ]
  },
  {
   "cell_type": "markdown",
   "metadata": {},
   "source": [
    "#### Target Plotting"
   ]
  },
  {
   "cell_type": "markdown",
   "metadata": {},
   "source": [
    "#### livarea and efflivarea"
   ]
  },
  {
   "cell_type": "code",
   "execution_count": null,
   "metadata": {},
   "outputs": [],
   "source": [
    "df_copy = df.copy()"
   ]
  },
  {
   "cell_type": "code",
   "execution_count": null,
   "metadata": {},
   "outputs": [],
   "source": [
    "df_copy[\"livarea_rage\"] = pd.cut(df_copy.livarea ,bins=20)"
   ]
  },
  {
   "cell_type": "code",
   "execution_count": null,
   "metadata": {},
   "outputs": [],
   "source": [
    "fig, ax = plt.subplots(figsize=(30,10))\n",
    "sns.barplot(df_copy, y=\"price\", x=\"livarea_rage\", ax=ax)\n",
    "\n",
    "# Adjusting the y-axis to display prices in thousands\n",
    "ax.set_ylabel('Price ($ in thousands)', fontsize=20)\n",
    "ax.set_xlabel(\"Living Area Ranges (in Square Feet)\",fontsize=20)\n",
    "ax.set_yticklabels([f'{int(label/1000)}' for label in ax.get_yticks()])\n",
    "ax.tick_params(axis='x', which='major', labelrotation=45, labelsize=14)\n",
    "ax.tick_params(axis='y', which='major', labelsize=14)\n",
    "ax.set_title(\"livarea\", fontsize=24,weight=\"bold\")\n",
    "plt.show()"
   ]
  },
  {
   "cell_type": "code",
   "execution_count": null,
   "metadata": {},
   "outputs": [],
   "source": [
    "df_copy[\"efflivarea_rage\"] = pd.cut(df_copy.efflivarea ,bins=10)"
   ]
  },
  {
   "cell_type": "code",
   "execution_count": null,
   "metadata": {},
   "outputs": [],
   "source": [
    "fig, ax = plt.subplots(figsize=(30,10))\n",
    "sns.barplot(df_copy, y=\"price\", x=\"efflivarea_rage\", ax=ax)\n",
    "# Adjusting the y-axis to display prices in thousands\n",
    "ax.set_ylabel('Price ($ in thousands)', fontsize=20)\n",
    "ax.set_xlabel(\"Effective Living Area Ranges (in Square Feet)\",fontsize=20)\n",
    "ax.set_yticklabels([f'{int(label/1000)}' for label in ax.get_yticks()])\n",
    "ax.tick_params(axis='x', which='major', labelrotation=45, labelsize=14)\n",
    "ax.tick_params(axis='y', which='major', labelsize=14)\n",
    "ax.set_title(\"efflivarea\", fontsize=24,weight=\"bold\")\n",
    "plt.show()"
   ]
  },
  {
   "cell_type": "markdown",
   "metadata": {},
   "source": [
    "##### age and eff_age"
   ]
  },
  {
   "cell_type": "code",
   "execution_count": null,
   "metadata": {},
   "outputs": [],
   "source": [
    "fig, ax = plt.subplots(figsize=(10,5))\n",
    "sns.scatterplot(df, y=\"price\", x=\"age\", alpha=.5, ax=ax)"
   ]
  },
  {
   "cell_type": "code",
   "execution_count": null,
   "metadata": {},
   "outputs": [],
   "source": [
    "df_copy[\"age_range\"] = pd.cut(df_copy.age ,bins=20)\n",
    "df_copy[\"age_range_q\"] = pd.qcut(df_copy.age ,q=20, duplicates=\"drop\")"
   ]
  },
  {
   "cell_type": "code",
   "execution_count": null,
   "metadata": {},
   "outputs": [],
   "source": [
    "df_copy.price"
   ]
  },
  {
   "cell_type": "code",
   "execution_count": null,
   "metadata": {},
   "outputs": [],
   "source": [
    "fig, ax = plt.subplots(figsize=(30,10))\n",
    "sns.barplot(df_copy, y=\"price\", x=\"age_range\", ax=ax)"
   ]
  },
  {
   "cell_type": "code",
   "execution_count": null,
   "metadata": {},
   "outputs": [],
   "source": [
    "fig, ax = plt.subplots(figsize=(30,10))\n",
    "sns.barplot(df_copy, y=\"price\", x=\"age_range\", ax=ax)\n",
    "\n",
    "# Adjusting the y-axis to display prices in thousands\n",
    "ax.set_ylabel('Price ($ in thousands)', fontsize=20)\n",
    "ax.set_xlabel(\"Age Range\",fontsize=20)\n",
    "ax.set_yticklabels([f'{int(label/1000)}' for label in ax.get_yticks()])\n",
    "ax.tick_params(axis='x', which='major', labelrotation=45, labelsize=14)\n",
    "ax.tick_params(axis='y', which='major', labelsize=14)\n",
    "ax.set_title(\"age\", fontsize=24, weight=\"bold\")\n",
    "\n",
    "plt.show()"
   ]
  },
  {
   "cell_type": "code",
   "execution_count": null,
   "metadata": {},
   "outputs": [],
   "source": [
    "fig, ax = plt.subplots(figsize=(30,10))\n",
    "sns.barplot(df_copy, y=\"price\", x=\"age_range_q\", ax=ax)"
   ]
  },
  {
   "cell_type": "code",
   "execution_count": null,
   "metadata": {},
   "outputs": [],
   "source": [
    "fig, ax = plt.subplots(figsize=(30,10))\n",
    "sns.scatterplot(df, y=\"price\", x=\"eff_age\", alpha=.5, ax=ax)"
   ]
  },
  {
   "cell_type": "code",
   "execution_count": null,
   "metadata": {},
   "outputs": [],
   "source": [
    "df_copy[\"eff_age_range\"] = pd.cut(df_copy.eff_age ,bins=20)\n",
    "df_copy[\"eff_age_range_q\"] = pd.qcut(df_copy.eff_age, q=20)"
   ]
  },
  {
   "cell_type": "code",
   "execution_count": null,
   "metadata": {},
   "outputs": [],
   "source": [
    "fig, ax = plt.subplots(figsize=(30,10))\n",
    "sns.barplot(df_copy, y=\"price\", x=\"eff_age_range\", ax=ax)\n",
    "# Adjusting the y-axis to display prices in thousands\n",
    "ax.set_ylabel('Price ($ in thousands)', fontsize=20)\n",
    "ax.set_xlabel(\"Effective Age\",fontsize=20)\n",
    "ax.set_yticklabels([f'{int(label/1000)}' for label in ax.get_yticks()])\n",
    "ax.tick_params(axis='x', which='major', labelrotation=45, labelsize=14)\n",
    "ax.tick_params(axis='y', which='major', labelsize=14)\n",
    "ax.set_title(\"eff_age\", fontsize=24,weight=\"bold\")\n",
    "plt.show()"
   ]
  },
  {
   "cell_type": "code",
   "execution_count": null,
   "metadata": {},
   "outputs": [],
   "source": [
    "fig, ax = plt.subplots(figsize=(30,10))\n",
    "sns.barplot(df_copy, y=\"price\", x=\"eff_age_range_q\", ax=ax)"
   ]
  },
  {
   "cell_type": "markdown",
   "metadata": {},
   "source": [
    "##### city"
   ]
  },
  {
   "cell_type": "code",
   "execution_count": null,
   "metadata": {},
   "outputs": [],
   "source": [
    "# city\n",
    "fig, ax = plt.subplots(figsize=(30,10))\n",
    "sns.barplot(df_copy, y=\"price\", x=\"city\", ax=ax)"
   ]
  },
  {
   "cell_type": "code",
   "execution_count": null,
   "metadata": {},
   "outputs": [],
   "source": [
    "# city\n",
    "# Set display format to avoid e-notation\n",
    "pd.options.display.float_format = '{:.2f}'.format\n",
    "df_copy.groupby(by=\"city\")[\"price\"].mean().sort_values(ascending=False)"
   ]
  },
  {
   "cell_type": "code",
   "execution_count": null,
   "metadata": {},
   "outputs": [],
   "source": [
    "pd.set_option(\"display.max_rows\", None)\n",
    "df_copy.groupby(by=\"city\").size().sort_values(ascending=False)"
   ]
  },
  {
   "cell_type": "markdown",
   "metadata": {},
   "source": [
    "##### Condition Description"
   ]
  },
  {
   "cell_type": "code",
   "execution_count": null,
   "metadata": {},
   "outputs": [],
   "source": [
    "fig, ax = plt.subplots(figsize=(30,10))\n",
    "sns.barplot(df_copy, y=\"price\", x=\"cond_desc\", ax=ax)"
   ]
  },
  {
   "cell_type": "code",
   "execution_count": null,
   "metadata": {},
   "outputs": [],
   "source": [
    "fig, ax = plt.subplots(figsize=(30,10))\n",
    "sns.barplot(df_copy, y=\"price\", x=\"cond_desc\", ax=ax, estimator=np.median)\n",
    "\n",
    "# Adjusting the y-axis to display prices in thousands\n",
    "ax.set_ylabel('Price ($ in thousands)', fontsize=20)\n",
    "ax.set_xlabel(\"Condition\",fontsize=20)\n",
    "ax.set_yticklabels([f'{int(label/1000)}' for label in ax.get_yticks()])\n",
    "ax.tick_params(axis='x', which='major', labelrotation=0, labelsize=14)\n",
    "ax.tick_params(axis='y', which='major', labelsize=14)\n",
    "ax.set_title(\"cond_desc\", fontsize=24, weight=\"bold\")\n",
    "plt.show()"
   ]
  },
  {
   "cell_type": "code",
   "execution_count": null,
   "metadata": {},
   "outputs": [],
   "source": [
    "px.box(df_copy, y=\"price\", x=\"cond_desc\")"
   ]
  },
  {
   "cell_type": "code",
   "execution_count": null,
   "metadata": {},
   "outputs": [],
   "source": [
    "df_copy.groupby(\"cond_desc\")[\"price\"].median().sort_values()"
   ]
  },
  {
   "cell_type": "code",
   "execution_count": null,
   "metadata": {},
   "outputs": [],
   "source": [
    "df_copy.groupby(\"cond_desc\").size().sort_values()"
   ]
  },
  {
   "cell_type": "markdown",
   "metadata": {},
   "source": [
    "##### Sale Year"
   ]
  },
  {
   "cell_type": "code",
   "execution_count": null,
   "metadata": {},
   "outputs": [],
   "source": [
    "# date\n",
    "fig, ax = plt.subplots(figsize=(30,10))\n",
    "sns.scatterplot(df_copy, y=\"price\", x=\"saledate\", ax=ax)"
   ]
  },
  {
   "cell_type": "code",
   "execution_count": null,
   "metadata": {},
   "outputs": [],
   "source": [
    "px.bar(df_copy, y=\"price\", x=\"year\")"
   ]
  },
  {
   "cell_type": "code",
   "execution_count": null,
   "metadata": {},
   "outputs": [],
   "source": [
    "# year\n",
    "fig, ax = plt.subplots(figsize=(30,10))\n",
    "sns.scatterplot(df_copy, y=\"price\", x=\"year\", ax=ax)"
   ]
  },
  {
   "cell_type": "code",
   "execution_count": null,
   "metadata": {},
   "outputs": [],
   "source": [
    "# year\n",
    "fig, ax = plt.subplots(figsize=(40,20))\n",
    "sns.barplot(df_copy, y=\"price\", x=\"year\", ax=ax)"
   ]
  },
  {
   "cell_type": "code",
   "execution_count": null,
   "metadata": {},
   "outputs": [],
   "source": [
    "# year\n",
    "fig, ax = plt.subplots(figsize=(40,20))\n",
    "sns.lineplot(df_copy, y=\"price\", x=\"year\", ax=ax)\n",
    "\n",
    "# Adjusting the y-axis to display prices in thousands\n",
    "ax.set_ylabel('Price ($ in thousands)', fontsize=20)\n",
    "ax.set_xlabel(\"Sale Year\",fontsize=20)\n",
    "ax.set_yticklabels([f'{int(label/1000)}' for label in ax.get_yticks()])\n",
    "ax.tick_params(axis='x', which='major', labelrotation=0, labelsize=14)\n",
    "ax.tick_params(axis='y', which='major', labelsize=14)\n",
    "ax.set_title(\"year\", fontsize=24,weight=\"bold\")\n",
    "plt.show()"
   ]
  },
  {
   "cell_type": "markdown",
   "metadata": {},
   "source": [
    "##### Sale Month"
   ]
  },
  {
   "cell_type": "code",
   "execution_count": null,
   "metadata": {},
   "outputs": [],
   "source": [
    "# month\n",
    "fig, ax = plt.subplots(figsize=(40,20))\n",
    "sns.lineplot(df_copy, y=\"price\", x=\"month\", ax=ax)\n",
    "\n",
    "# Adjusting the y-axis to display prices in thousands\n",
    "ax.set_ylabel('Price ($ in thousands)', fontsize=20)\n",
    "ax.set_xlabel(\"Sale Month\",fontsize=20)\n",
    "ax.set_yticklabels([f'{int(label/1000)}' for label in ax.get_yticks()])\n",
    "ax.set_xticks(range(0,13,1))\n",
    "ax.tick_params(axis='x', which='major', labelrotation=0, labelsize=16)\n",
    "ax.tick_params(axis='y', which='major', labelsize=16)\n",
    "ax.set_title(\"month\", fontsize=24,weight=\"bold\")\n",
    "plt.show()"
   ]
  },
  {
   "cell_type": "code",
   "execution_count": null,
   "metadata": {},
   "outputs": [],
   "source": [
    "# month\n",
    "px.box(df_copy, y=\"price\", x=\"month\")"
   ]
  },
  {
   "cell_type": "code",
   "execution_count": null,
   "metadata": {},
   "outputs": [],
   "source": [
    "df_copy.groupby(by=\"month\")[\"price\"].mean().sort_values(ascending=False)"
   ]
  },
  {
   "cell_type": "code",
   "execution_count": null,
   "metadata": {},
   "outputs": [],
   "source": [
    "df_copy.groupby(by=\"month\")[\"price\"].median().sort_values(ascending=False)"
   ]
  },
  {
   "cell_type": "markdown",
   "metadata": {},
   "source": [
    "##### Bedrooms"
   ]
  },
  {
   "cell_type": "code",
   "execution_count": null,
   "metadata": {},
   "outputs": [],
   "source": [
    "# bedrooms\n",
    "fig, ax = plt.subplots(figsize=(40,20))\n",
    "sns.barplot(df_copy, y=\"price\", x=\"nbed\", ax=ax)"
   ]
  },
  {
   "cell_type": "code",
   "execution_count": null,
   "metadata": {},
   "outputs": [],
   "source": [
    "# bedrooms\n",
    "fig, ax = plt.subplots(figsize=(40,20))\n",
    "sns.barplot(df_copy, y=\"price\", x=\"nbed\", ax=ax, estimator=np.median)"
   ]
  },
  {
   "cell_type": "code",
   "execution_count": null,
   "metadata": {},
   "outputs": [],
   "source": [
    "# bedrooms\n",
    "fig, ax = plt.subplots(figsize=(40,20))\n",
    "sns.boxplot(df_copy, y=\"price\", x=\"nbed\", ax=ax)\n",
    "\n",
    "# Adjusting the y-axis to display prices in thousands\n",
    "ax.set_ylabel('Price ($ in thousands)', fontsize=20)\n",
    "ax.set_xlabel(\"Number of Bedrooms\",fontsize=20)\n",
    "ax.set_yticklabels([f'{int(label/1000)}' for label in ax.get_yticks()])\n",
    "ax.tick_params(axis='x', which='major', labelrotation=0, labelsize=14)\n",
    "ax.tick_params(axis='y', which='major', labelsize=14)\n",
    "ax.set_title(\"nbed\", fontsize=24, weight=\"bold\")\n",
    "\n",
    "plt.show()"
   ]
  },
  {
   "cell_type": "code",
   "execution_count": null,
   "metadata": {},
   "outputs": [],
   "source": [
    "# bedrooms\n",
    "fig, ax = plt.subplots(figsize=(40,20))\n",
    "sns.regplot(df_copy, y=\"price\", x=\"nbed\", ax=ax)"
   ]
  },
  {
   "cell_type": "code",
   "execution_count": null,
   "metadata": {},
   "outputs": [],
   "source": [
    "px.box(df_copy, y=\"nbed\")"
   ]
  },
  {
   "cell_type": "code",
   "execution_count": null,
   "metadata": {},
   "outputs": [],
   "source": [
    "px.histogram(df_copy, x=\"nbed\")"
   ]
  },
  {
   "cell_type": "code",
   "execution_count": null,
   "metadata": {},
   "outputs": [],
   "source": [
    "# we have some extreme cases regarding the number of the bedrooms (upper fence = 5)\n",
    "# bedrooms\n",
    "\n",
    "#fig, ax = plt.subplots(figsize=(40,20))\n",
    "px.box(df_copy[df_copy.nbed < 10], y=\"price\", x=\"nbed\")"
   ]
  },
  {
   "cell_type": "markdown",
   "metadata": {},
   "source": [
    "##### Bathrooms and Half-Bathrooms"
   ]
  },
  {
   "cell_type": "code",
   "execution_count": null,
   "metadata": {},
   "outputs": [],
   "source": [
    "# bathrooms\n",
    "fig, ax = plt.subplots(figsize=(40,20))\n",
    "sns.barplot(df_copy, y=\"price\", x=\"nbath\", ax=ax)"
   ]
  },
  {
   "cell_type": "code",
   "execution_count": null,
   "metadata": {},
   "outputs": [],
   "source": [
    "px.box(df_copy, y=\"nbath\")"
   ]
  },
  {
   "cell_type": "code",
   "execution_count": null,
   "metadata": {},
   "outputs": [],
   "source": [
    "# number of bathrooms (upper fence 4)\n",
    "px.histogram(df_copy, \"nbath\")"
   ]
  },
  {
   "cell_type": "code",
   "execution_count": null,
   "metadata": {},
   "outputs": [],
   "source": [
    "fig, ax = plt.subplots(figsize=(40,20))\n",
    "sns.regplot(df_copy[df_copy.nbath < 7], y=\"price\", x=\"nbath\", ax=ax)"
   ]
  },
  {
   "cell_type": "code",
   "execution_count": null,
   "metadata": {},
   "outputs": [],
   "source": [
    "fig, ax = plt.subplots(figsize=(40,20))\n",
    "sns.boxplot(df_copy[df_copy.nbath < 7], y=\"price\", x=\"nbath\", ax=ax)\n",
    "\n",
    "# Adjusting the y-axis to display prices in thousands\n",
    "ax.set_ylabel('Price ($ in thousands)', fontsize=20)\n",
    "ax.set_xlabel(\"Number of Bathrooms\",fontsize=20)\n",
    "ax.set_yticklabels([f'{int(label/1000)}' for label in ax.get_yticks()])\n",
    "ax.tick_params(axis='x', which='major', labelrotation=0, labelsize=14)\n",
    "ax.tick_params(axis='y', which='major', labelsize=14)\n",
    "ax.set_title(\"nbath\", fontsize=24, weight=\"bold\")\n",
    "\n",
    "plt.show()"
   ]
  },
  {
   "cell_type": "code",
   "execution_count": null,
   "metadata": {},
   "outputs": [],
   "source": [
    "fig, ax = plt.subplots(figsize=(40,20))\n",
    "sns.barplot(df_copy[df_copy.nbath < 7], y=\"price\", x=\"nbath\", ax=ax)"
   ]
  },
  {
   "cell_type": "code",
   "execution_count": null,
   "metadata": {},
   "outputs": [],
   "source": [
    "fig, ax = plt.subplots(figsize=(40,20))\n",
    "sns.boxplot(df_copy[df_copy.nhalfbath < 4], y=\"price\", x=\"nhalfbath\", ax=ax)\n",
    "\n",
    "# Adjusting the y-axis to display prices in thousands\n",
    "ax.set_ylabel('Price ($ in thousands)', fontsize=20)\n",
    "ax.set_xlabel(\"Number of Half Bathrooms\",fontsize=20)\n",
    "ax.set_yticklabels([f'{int(label/1000)}' for label in ax.get_yticks()])\n",
    "ax.tick_params(axis='x', which='major', labelrotation=0, labelsize=14)\n",
    "ax.tick_params(axis='y', which='major', labelsize=14)\n",
    "ax.set_title(\"nhalfbath\", fontsize=24, weight=\"bold\")\n",
    "plt.show()"
   ]
  },
  {
   "cell_type": "code",
   "execution_count": null,
   "metadata": {},
   "outputs": [],
   "source": [
    "fig, ax = plt.subplots(figsize=(40,20))\n",
    "sns.barplot(df_copy[df_copy.nhalfbath < 4], y=\"price\", x=\"nhalfbath\", ax=ax)"
   ]
  },
  {
   "cell_type": "code",
   "execution_count": null,
   "metadata": {},
   "outputs": [],
   "source": [
    "# upper fence at 2\n",
    "px.box(df_copy, \"nhalfbath\")"
   ]
  },
  {
   "cell_type": "markdown",
   "metadata": {},
   "source": [
    "##### distance_aerodrome"
   ]
  },
  {
   "cell_type": "code",
   "execution_count": null,
   "metadata": {},
   "outputs": [],
   "source": [
    "fig, ax = plt.subplots(figsize=(30,10))\n",
    "sns.scatterplot(df_copy, y=\"price\", x=\"distance_aerodrome\", ax=ax)"
   ]
  },
  {
   "cell_type": "code",
   "execution_count": null,
   "metadata": {},
   "outputs": [],
   "source": [
    "df_copy[\"bins_aerodrome\"] = pd.cut(df_copy.distance_aerodrome, bins=40)"
   ]
  },
  {
   "cell_type": "code",
   "execution_count": null,
   "metadata": {},
   "outputs": [],
   "source": [
    "fig, ax = plt.subplots(figsize=(30,10))\n",
    "sns.boxplot(df_copy, y=\"price\", x=\"bins_aerodrome\", ax=ax)"
   ]
  },
  {
   "cell_type": "code",
   "execution_count": null,
   "metadata": {},
   "outputs": [],
   "source": [
    "fig, ax = plt.subplots(figsize=(30,10))\n",
    "sns.barplot(df_copy, y=\"price\", x=\"bins_aerodrome\", ax=ax)\n",
    "# Adjusting the y-axis to display prices in thousands\n",
    "ax.set_ylabel('Price ($ in thousands)', fontsize=20)\n",
    "ax.set_xlabel(\"Distance Aerodrome (in Kilometers)\",fontsize=20)\n",
    "ax.set_yticklabels([f'{int(label/1000)}' for label in ax.get_yticks()])\n",
    "ax.tick_params(axis='x', which='major', labelrotation=90, labelsize=14)\n",
    "ax.tick_params(axis='y', which='major', labelsize=14)\n",
    "ax.set_title(\"distance_aerodrome\", fontsize=24, weight=\"bold\")\n",
    "plt.show()"
   ]
  },
  {
   "cell_type": "markdown",
   "metadata": {},
   "source": [
    "##### distance_ferry_terminal"
   ]
  },
  {
   "cell_type": "code",
   "execution_count": null,
   "metadata": {},
   "outputs": [],
   "source": [
    "fig, ax = plt.subplots(figsize=(30,10))\n",
    "sns.scatterplot(df_copy, y=\"price\", x=\"distance_ferry_terminal\", ax=ax)"
   ]
  },
  {
   "cell_type": "code",
   "execution_count": null,
   "metadata": {},
   "outputs": [],
   "source": [
    "df_copy[\"bins_ferry\"] = pd.cut(df_copy.distance_ferry_terminal, bins=30)"
   ]
  },
  {
   "cell_type": "code",
   "execution_count": null,
   "metadata": {},
   "outputs": [],
   "source": [
    "fig, ax = plt.subplots(figsize=(30,10))\n",
    "sns.boxplot(df_copy, y=\"price\", x=\"bins_ferry\", ax=ax)"
   ]
  },
  {
   "cell_type": "code",
   "execution_count": null,
   "metadata": {},
   "outputs": [],
   "source": [
    "fig, ax = plt.subplots(figsize=(30,10))\n",
    "sns.barplot(df_copy, y=\"price\", x=\"bins_ferry\", ax=ax)\n",
    "ax.set_ylabel('Price ($ in thousands)', fontsize=20)\n",
    "ax.set_xlabel(\"Distance Ferry Terminal (in Kilometers)\",fontsize=20)\n",
    "ax.set_yticklabels([f'{int(label/1000)}' for label in ax.get_yticks()])\n",
    "ax.tick_params(axis='x', which='major', labelrotation=90, labelsize=14)\n",
    "ax.tick_params(axis='y', which='major', labelsize=14)\n",
    "ax.set_title(\"distance_ferry_terminal\", fontsize=24, weight=\"bold\")\n",
    "plt.show()"
   ]
  },
  {
   "cell_type": "markdown",
   "metadata": {},
   "source": [
    "##### distance_hospital"
   ]
  },
  {
   "cell_type": "code",
   "execution_count": null,
   "metadata": {},
   "outputs": [],
   "source": [
    "fig, ax = plt.subplots(figsize=(30,10))\n",
    "sns.scatterplot(df_copy, y=\"price\", x=\"distance_hospital\", ax=ax)"
   ]
  },
  {
   "cell_type": "code",
   "execution_count": null,
   "metadata": {},
   "outputs": [],
   "source": [
    "df_copy[\"bins_hospital\"] = pd.cut(df_copy.distance_hospital, bins=30, labels=range(0,30))"
   ]
  },
  {
   "cell_type": "code",
   "execution_count": null,
   "metadata": {},
   "outputs": [],
   "source": [
    "# fig, ax = plt.subplots(figsize=(30,10))\n",
    "px.box(df_copy, y=\"price\", x=\"bins_hospital\")"
   ]
  },
  {
   "cell_type": "code",
   "execution_count": null,
   "metadata": {},
   "outputs": [],
   "source": [
    "fig, ax = plt.subplots(figsize=(30,10))\n",
    "sns.barplot(df_copy, y=\"price\", x=\"bins_hospital\", ax=ax)\n",
    "\n",
    "ax.set_ylabel('Price ($ in thousands)', fontsize=20)\n",
    "ax.set_xlabel(\"Distance Hospital (in Kilometers)\",fontsize=20)\n",
    "ax.set_yticklabels([f'{int(label/1000)}' for label in ax.get_yticks()])\n",
    "ax.tick_params(axis='x', which='major', labelrotation=0, labelsize=14)\n",
    "ax.tick_params(axis='y', which='major', labelsize=14)\n",
    "ax.set_title(\"distance_hospital\", fontsize=24, weight=\"bold\")\n",
    "plt.show()"
   ]
  },
  {
   "cell_type": "markdown",
   "metadata": {},
   "source": [
    "##### distance_hotel"
   ]
  },
  {
   "cell_type": "code",
   "execution_count": null,
   "metadata": {},
   "outputs": [],
   "source": [
    "fig, ax = plt.subplots(figsize=(30,10))\n",
    "sns.scatterplot(df_copy, y=\"price\", x=\"distance_hotel\", ax=ax)"
   ]
  },
  {
   "cell_type": "code",
   "execution_count": null,
   "metadata": {},
   "outputs": [],
   "source": [
    "df_copy[\"bins_hotel\"] = pd.cut(df_copy.distance_hotel, bins=30)"
   ]
  },
  {
   "cell_type": "code",
   "execution_count": null,
   "metadata": {},
   "outputs": [],
   "source": [
    "fig, ax = plt.subplots(figsize=(30,10))\n",
    "sns.boxplot(df_copy, y=\"price\", x=\"bins_hotel\", ax=ax)"
   ]
  },
  {
   "cell_type": "code",
   "execution_count": null,
   "metadata": {},
   "outputs": [],
   "source": [
    "fig, ax = plt.subplots(figsize=(30,10))\n",
    "sns.barplot(df_copy, y=\"price\", x=\"bins_hotel\", ax=ax)\n",
    "ax.set_ylabel('Price ($ in thousands)', fontsize=20)\n",
    "ax.set_xlabel(\"Distance Hotel (in Kilometers)\",fontsize=20)\n",
    "ax.set_yticklabels([f'{int(label/1000)}' for label in ax.get_yticks()])\n",
    "ax.tick_params(axis='x', which='major', labelrotation=90, labelsize=14)\n",
    "ax.tick_params(axis='y', which='major', labelsize=14)\n",
    "ax.set_title(\"distance_hotel\", fontsize=24, weight=\"bold\")\n",
    "plt.show()"
   ]
  },
  {
   "cell_type": "code",
   "execution_count": null,
   "metadata": {},
   "outputs": [],
   "source": [
    "df_copy.groupby(by=\"bins_hotel\")[\"price\"].mean()"
   ]
  },
  {
   "cell_type": "code",
   "execution_count": null,
   "metadata": {},
   "outputs": [],
   "source": [
    "df_copy.groupby(by=\"bins_hotel\")[\"price\"].median()"
   ]
  },
  {
   "cell_type": "markdown",
   "metadata": {},
   "source": [
    "##### distance_market"
   ]
  },
  {
   "cell_type": "code",
   "execution_count": null,
   "metadata": {},
   "outputs": [],
   "source": [
    "fig, ax = plt.subplots(figsize=(30,10))\n",
    "sns.scatterplot(df_copy, y=\"price\", x=\"distance_market\", ax=ax, alpha=.3)"
   ]
  },
  {
   "cell_type": "code",
   "execution_count": null,
   "metadata": {},
   "outputs": [],
   "source": [
    "df_copy[\"bins_market\"] = pd.cut(df_copy.distance_market, bins=30)"
   ]
  },
  {
   "cell_type": "code",
   "execution_count": null,
   "metadata": {},
   "outputs": [],
   "source": [
    "fig, ax = plt.subplots(figsize=(30,10))\n",
    "sns.boxplot(df_copy, y=\"price\", x=\"bins_market\", ax=ax)"
   ]
  },
  {
   "cell_type": "code",
   "execution_count": null,
   "metadata": {},
   "outputs": [],
   "source": [
    "fig, ax = plt.subplots(figsize=(30,10))\n",
    "sns.barplot(df_copy, y=\"price\", x=\"bins_market\", ax=ax)\n",
    "ax.set_ylabel('Price ($ in thousands)', fontsize=20)\n",
    "ax.set_xlabel(\"Distance Market (in Kilometers)\",fontsize=20)\n",
    "ax.set_yticklabels([f'{int(label/1000)}' for label in ax.get_yticks()])\n",
    "ax.tick_params(axis='x', which='major', labelrotation=90, labelsize=14)\n",
    "ax.tick_params(axis='y', which='major', labelsize=14)\n",
    "ax.set_title(\"distance_market\", fontsize=24, weight=\"bold\")\n",
    "plt.show()"
   ]
  },
  {
   "cell_type": "markdown",
   "metadata": {},
   "source": [
    "##### distance_museum"
   ]
  },
  {
   "cell_type": "code",
   "execution_count": null,
   "metadata": {},
   "outputs": [],
   "source": [
    "fig, ax = plt.subplots(figsize=(30,10))\n",
    "sns.scatterplot(df_copy, y=\"price\", x=\"distance_museum\", ax=ax, alpha=.3)"
   ]
  },
  {
   "cell_type": "code",
   "execution_count": null,
   "metadata": {},
   "outputs": [],
   "source": [
    "df_copy[\"bins_museum\"] = pd.cut(df_copy.distance_museum, bins=10)"
   ]
  },
  {
   "cell_type": "code",
   "execution_count": null,
   "metadata": {},
   "outputs": [],
   "source": [
    "fig, ax = plt.subplots(figsize=(30,10))\n",
    "sns.boxplot(df_copy, y=\"price\", x=\"bins_museum\", ax=ax)"
   ]
  },
  {
   "cell_type": "code",
   "execution_count": null,
   "metadata": {},
   "outputs": [],
   "source": [
    "df_copy.groupby(by=\"bins_museum\")[\"price\"].median()"
   ]
  },
  {
   "cell_type": "code",
   "execution_count": null,
   "metadata": {},
   "outputs": [],
   "source": [
    "fig, ax = plt.subplots(figsize=(30,10))\n",
    "sns.barplot(df_copy, y=\"price\", x=\"bins_museum\", ax=ax)\n",
    "# Adjusting the y-axis to display prices in thousands\n",
    "ax.set_ylabel('Price ($ in thousands)', fontsize=20)\n",
    "ax.set_xlabel(\"Distance to Museum\",fontsize=20)\n",
    "ax.set_yticklabels([f'{int(label/1000)}' for label in ax.get_yticks()])\n",
    "ax.tick_params(axis='x', which='major', labelrotation=45, labelsize=14)\n",
    "ax.tick_params(axis='y', which='major', labelsize=14)\n",
    "ax.set_title(\"distance_museum\", fontsize=24, weight=\"bold\")\n",
    "plt.show()"
   ]
  },
  {
   "cell_type": "markdown",
   "metadata": {},
   "source": [
    "##### distance_railway_station"
   ]
  },
  {
   "cell_type": "code",
   "execution_count": null,
   "metadata": {},
   "outputs": [],
   "source": [
    "fig, ax = plt.subplots(figsize=(30,10))\n",
    "sns.scatterplot(df_copy, y=\"price\", x=\"distance_railway_station\", ax=ax, alpha=.3)"
   ]
  },
  {
   "cell_type": "code",
   "execution_count": null,
   "metadata": {},
   "outputs": [],
   "source": [
    "df_copy[\"bins_railway\"] = pd.cut(df_copy.distance_railway_station, bins=20)"
   ]
  },
  {
   "cell_type": "code",
   "execution_count": null,
   "metadata": {},
   "outputs": [],
   "source": [
    "fig, ax = plt.subplots(figsize=(30,10))\n",
    "sns.boxplot(df_copy, y=\"price\", x=\"bins_railway\", ax=ax)"
   ]
  },
  {
   "cell_type": "code",
   "execution_count": null,
   "metadata": {},
   "outputs": [],
   "source": [
    "fig, ax = plt.subplots(figsize=(30,10))\n",
    "sns.barplot(df_copy, y=\"price\", x=\"bins_railway\", ax=ax)\n",
    "ax.set_ylabel('Price ($ in thousands)', fontsize=20)\n",
    "ax.set_xlabel(\"Distance Railway Station (in Kilometers)\",fontsize=20)\n",
    "ax.set_yticklabels([f'{int(label/1000)}' for label in ax.get_yticks()])\n",
    "ax.tick_params(axis='x', which='major', labelrotation=90, labelsize=14)\n",
    "ax.tick_params(axis='y', which='major', labelsize=14)\n",
    "ax.set_title(\"distance_railway_station\", fontsize=24, weight=\"bold\")\n",
    "plt.show()"
   ]
  },
  {
   "cell_type": "code",
   "execution_count": null,
   "metadata": {},
   "outputs": [],
   "source": [
    "df_copy.groupby(by=\"bins_railway\")[\"price\"].mean()"
   ]
  },
  {
   "cell_type": "code",
   "execution_count": null,
   "metadata": {},
   "outputs": [],
   "source": [
    "df_copy.groupby(by=\"bins_railway\")[\"price\"].median()"
   ]
  },
  {
   "cell_type": "markdown",
   "metadata": {},
   "source": [
    "##### n_accommodation"
   ]
  },
  {
   "cell_type": "code",
   "execution_count": null,
   "metadata": {},
   "outputs": [],
   "source": [
    "fig, ax = plt.subplots(figsize=(30,10))\n",
    "sns.barplot(df_copy, y=\"price\", x=\"n_accommodation\", ax=ax)"
   ]
  },
  {
   "cell_type": "code",
   "execution_count": null,
   "metadata": {},
   "outputs": [],
   "source": [
    "fig, ax = plt.subplots(figsize=(30,10))\n",
    "sns.boxplot(df_copy, y=\"price\", x=\"n_accommodation\", ax=ax)"
   ]
  },
  {
   "cell_type": "code",
   "execution_count": null,
   "metadata": {},
   "outputs": [],
   "source": [
    "px.bar(df_copy.groupby(by=\"n_accommodation\")[\"price\"].median())"
   ]
  },
  {
   "cell_type": "code",
   "execution_count": null,
   "metadata": {},
   "outputs": [],
   "source": [
    "df_copy[\"bins_acc\"] = pd.cut(df_copy.n_accommodation, bins=10)"
   ]
  },
  {
   "cell_type": "code",
   "execution_count": null,
   "metadata": {},
   "outputs": [],
   "source": [
    "fig, ax = plt.subplots(figsize=(30,10))\n",
    "sns.barplot(df_copy, y=\"price\", x=\"bins_acc\", ax=ax)\n"
   ]
  },
  {
   "cell_type": "markdown",
   "metadata": {},
   "source": [
    "##### n_food_drink"
   ]
  },
  {
   "cell_type": "code",
   "execution_count": null,
   "metadata": {},
   "outputs": [],
   "source": [
    "df_copy[\"bins_food\"] = pd.cut(df_copy.n_food_drink, bins=10)"
   ]
  },
  {
   "cell_type": "code",
   "execution_count": null,
   "metadata": {},
   "outputs": [],
   "source": [
    "fig, ax = plt.subplots(figsize=(30,10))\n",
    "sns.barplot(df_copy, y=\"price\", x=\"bins_food\", ax=ax)"
   ]
  },
  {
   "cell_type": "code",
   "execution_count": null,
   "metadata": {},
   "outputs": [],
   "source": [
    "df_copy[\"bins_food\"] = pd.cut(df_copy.n_food_drink, bins=10, labels=range(10))\n",
    "px.bar(df_copy.groupby(by=\"bins_food\")[\"price\"].median())"
   ]
  },
  {
   "cell_type": "code",
   "execution_count": null,
   "metadata": {},
   "outputs": [],
   "source": [
    "fig, ax = plt.subplots(figsize=(30,10))\n",
    "sns.scatterplot(df_copy, y=\"price\", x=\"n_food_drink\", ax=ax, alpha=.3)"
   ]
  },
  {
   "cell_type": "markdown",
   "metadata": {},
   "source": [
    "##### n_adults_entertain"
   ]
  },
  {
   "cell_type": "code",
   "execution_count": null,
   "metadata": {},
   "outputs": [],
   "source": [
    "df_copy.n_adults_entertain.unique()"
   ]
  },
  {
   "cell_type": "code",
   "execution_count": null,
   "metadata": {},
   "outputs": [],
   "source": [
    "fig, ax = plt.subplots(figsize=(30,10))\n",
    "sns.barplot(df_copy, y=\"price\", x=\"n_adults_entertain\", ax=ax)"
   ]
  },
  {
   "cell_type": "code",
   "execution_count": null,
   "metadata": {},
   "outputs": [],
   "source": [
    "fig, ax = plt.subplots(figsize=(30,10))\n",
    "sns.scatterplot(df_copy, y=\"price\", x=\"n_adults_entertain\", ax=ax, alpha=.4)"
   ]
  },
  {
   "cell_type": "code",
   "execution_count": null,
   "metadata": {},
   "outputs": [],
   "source": [
    "df_copy[\"bins_adults\"] = pd.cut(df_copy.n_adults_entertain, bins=20)"
   ]
  },
  {
   "cell_type": "code",
   "execution_count": null,
   "metadata": {},
   "outputs": [],
   "source": [
    "fig, ax = plt.subplots(figsize=(30,10))\n",
    "sns.barplot(df_copy, y=\"price\", x=\"bins_adults\", ax=ax)"
   ]
  },
  {
   "cell_type": "code",
   "execution_count": null,
   "metadata": {},
   "outputs": [],
   "source": [
    "df_copy[\"bins_adults\"] = pd.cut(df_copy.n_food_drink, bins=20, labels=range(20))\n",
    "px.bar(df_copy.groupby(by=\"bins_adults\")[\"price\"].median())"
   ]
  },
  {
   "cell_type": "markdown",
   "metadata": {},
   "source": [
    "##### frequency_features"
   ]
  },
  {
   "cell_type": "code",
   "execution_count": null,
   "metadata": {},
   "outputs": [],
   "source": [
    "df_copy = df.copy()"
   ]
  },
  {
   "cell_type": "code",
   "execution_count": null,
   "metadata": {},
   "outputs": [],
   "source": [
    "columns= [\n",
    "#'n_animalcare',\n",
    "##'n_commu_serv',\n",
    " #'n_commu_venu',\n",
    " #'n_edu_fac',\n",
    " #'n_emergency',\n",
    " 'n_entertainment',\n",
    " #'n_financial',\n",
    " #'n_food_drink',\n",
    " #'n_government_civic',\n",
    " 'n_healthcare',\n",
    " #'n_recreational',\n",
    " 'n_reli_inst',\n",
    " #'n_shopping',\n",
    " #'n_sports',\n",
    " #'n_transport',\n",
    " 'n_utilities',\n",
    "]"
   ]
  },
  {
   "cell_type": "code",
   "execution_count": null,
   "metadata": {},
   "outputs": [],
   "source": [
    "for col in columns:\n",
    "    print(col)\n",
    "    df_copy[f\"bins_{col}\"] = pd.cut(df_copy[col], bins=20)\n",
    "    fig, ax = plt.subplots(figsize=(30,10))\n",
    "    sns.barplot(df_copy, y=\"price\", x=f\"bins_{col}\", ax=ax) \n",
    "    plt.show()"
   ]
  },
  {
   "cell_type": "code",
   "execution_count": null,
   "metadata": {},
   "outputs": [],
   "source": [
    "for col in columns:\n",
    "    print(col)\n",
    "    df_copy[f\"bins_{col}\"] = pd.cut(df_copy[col], bins=20)\n",
    "    fig, ax = plt.subplots(figsize=(30,10))\n",
    "    sns.barplot(df_copy, y=\"price\", x=f\"bins_{col}\", ax=ax, estimator=np.median) \n",
    "    plt.show()"
   ]
  },
  {
   "cell_type": "code",
   "execution_count": null,
   "metadata": {},
   "outputs": [],
   "source": [
    "\n",
    "df_copy[f\"bins_n_utilities\"] = pd.cut(df_copy[\"n_utilities\"], bins=20)\n",
    "fig, ax = plt.subplots(figsize=(30,10))\n",
    "sns.barplot(df_copy, y=\"price\", x=f\"bins_n_utilities\", ax=ax, estimator=np.median) \n",
    "ax.set_ylabel('Price ($ in thousands)', fontsize=20)\n",
    "ax.set_xlabel(\"Number of Utility Facilities\",fontsize=20)\n",
    "ax.set_yticklabels([f'{int(label/1000)}' for label in ax.get_yticks()])\n",
    "ax.tick_params(axis='x', which='major', labelrotation=90, labelsize=14)\n",
    "ax.tick_params(axis='y', which='major', labelsize=14)\n",
    "ax.set_title(\"n_utilities\", fontsize=24, weight=\"bold\")\n",
    "plt.show()"
   ]
  },
  {
   "cell_type": "code",
   "execution_count": null,
   "metadata": {},
   "outputs": [],
   "source": [
    "\n",
    "df_copy[f\"bins_n_reli_inst\"] = pd.cut(df_copy[\"n_reli_inst\"], bins=20)\n",
    "fig, ax = plt.subplots(figsize=(30,10))\n",
    "sns.barplot(df_copy, y=\"price\", x=f\"bins_n_reli_inst\", ax=ax, estimator=np.median) \n",
    "ax.set_ylabel('Price ($ in thousands)', fontsize=20)\n",
    "ax.set_xlabel(\"Number of Religious Institutions\",fontsize=20)\n",
    "ax.set_yticklabels([f'{int(label/1000)}' for label in ax.get_yticks()])\n",
    "ax.tick_params(axis='x', which='major', labelrotation=90, labelsize=14)\n",
    "ax.tick_params(axis='y', which='major', labelsize=14)\n",
    "ax.set_title(\"n_reli_inst\", fontsize=24, weight=\"bold\")\n",
    "plt.show()"
   ]
  },
  {
   "cell_type": "code",
   "execution_count": null,
   "metadata": {},
   "outputs": [],
   "source": [
    "\n",
    "df_copy[f\"bins_n_healthcare\"] = pd.cut(df_copy[\"n_healthcare\"], bins=20)\n",
    "fig, ax = plt.subplots(figsize=(30,10))\n",
    "sns.barplot(df_copy, y=\"price\", x=f\"bins_n_healthcare\", ax=ax, estimator=np.median) \n",
    "ax.set_ylabel('Price ($ in thousands)', fontsize=20)\n",
    "ax.set_xlabel(\"Number of Healthcare Facilities\",fontsize=20)\n",
    "ax.set_yticklabels([f'{int(label/1000)}' for label in ax.get_yticks()])\n",
    "ax.tick_params(axis='x', which='major', labelrotation=90, labelsize=14)\n",
    "ax.tick_params(axis='y', which='major', labelsize=14)\n",
    "ax.set_title(\"n_healthcare\", fontsize=24, weight=\"bold\")\n",
    "plt.show()"
   ]
  },
  {
   "cell_type": "code",
   "execution_count": null,
   "metadata": {},
   "outputs": [],
   "source": [
    "\n",
    "df_copy[f\"bins_n_entertainment\"] = pd.cut(df_copy[\"n_entertainment\"], bins=20)\n",
    "fig, ax = plt.subplots(figsize=(30,10))\n",
    "sns.barplot(df_copy, y=\"price\", x=f\"bins_n_entertainment\", ax=ax, estimator=np.median) \n",
    "ax.set_ylabel('Price ($ in thousands)', fontsize=20)\n",
    "ax.set_xlabel(\"Number of Entertainment Facilities\",fontsize=20)\n",
    "ax.set_yticklabels([f'{int(label/1000)}' for label in ax.get_yticks()])\n",
    "ax.tick_params(axis='x', which='major', labelrotation=90, labelsize=14)\n",
    "ax.tick_params(axis='y', which='major', labelsize=14)\n",
    "ax.set_title(\"n_entertainment\", fontsize=24, weight=\"bold\")\n",
    "plt.show()"
   ]
  },
  {
   "cell_type": "markdown",
   "metadata": {},
   "source": [
    "### Results"
   ]
  },
  {
   "cell_type": "markdown",
   "metadata": {},
   "source": [
    "in most frequency features there is no clear cut pattern that can be seen.\n",
    "\n",
    "n_utilities: \n",
    "- we can see that higher frequency leads to lower price\n",
    "\n",
    "n_shopping:\n",
    "- we can see that increasing frquency leads to higher price\n",
    "\n",
    "reli_institions, entertianment, healthcare:\n",
    "- we can see that there is first an decrease in price with increasing frequency and then we can see an increase in price agian. indicateds and quadrartic relatinship\n",
    "\n",
    "financial, transport:\n",
    "- in this case it the other way around, we can see in increase in price first and the na sudden decrease\n",
    "\n",
    "\n",
    "n_adults_entertain:\n",
    "- no clear cut pattern, we can see an increase in price with increasing freuqncy and then a decrese in price again\n",
    "\n",
    "n_food_drink:\n",
    "- up to an frequency of 260, we can see that there is an continous increase of the mean price and median price\n",
    "\n",
    "n_accomodation:\n",
    "- no clear cut pattern can be seen\n",
    "\n",
    "\n",
    "distnace to railway station:\n",
    "- we can see an decrase in the price with an increasing distance to the railway station. But at some point the prices somehow increase again. But there are significalty less house with large distances to the railway station which then have higher effect on the mean price. We can see an increase again at distance of around 62 km.\n",
    "\n",
    "\n",
    "distance to musuem:\n",
    "- with increasing distance we can generally see and decrease in the mean price as well as in the median price\n",
    "\n",
    "distance to market (eventuell löschen): \n",
    "- we cannot see a clear pattern\n",
    "\n",
    "\n",
    "distance to hotel:\n",
    "- with higher distance the price increases slightly. \n",
    "- but we can clearly see that with some high distance to hotels we can see that the mean price is quite small and decreases. starting from distance of 15 km we can see that the price nearly continously decreases\n",
    "- same is the case for median price\n",
    "\n",
    "\n",
    "\n",
    "distnace to hospital:\n",
    "- we can see a decrease in the median price with higher distance to the hospital. first a littly increase but then we can see clear decrease\n",
    "- the same is the case for the mean price.\n",
    "\n",
    "\n",
    "distance ferry terminal:\n",
    "- the median price does not really differ for different distances to a ferry terminal\n",
    "- the mean price varies, but not really with a clear linear pattern. This can be due to the effect of outliers on the mean. The amount of outliers is varies and is similar to the effect on the mean price.\n",
    "\n",
    "distance aerodrome:\n",
    "- we can see a slight increase of the price with an increasing distance to the airport.\n",
    "- after a certain distance to the airport the median and also mean price decreases again.\n",
    "- this can maybe be explained because airports tend to be outside of the cities\n",
    "- therefore being near to an airport could indicate being far away from the city center\n",
    "\n",
    "Number of halfbaths:\n",
    "- upper fence already at 2\n",
    "- generally we can also see the same effect as for number of bathrooms, when we do not consider the outliers, or extrem values in the dataset\n",
    "- increasing number of halfbathrooms increasing price\n",
    "- but we can say that we generally do not have many houses with many halfbathrooms\n",
    "\n",
    "\n",
    "Number of bathrooms:\n",
    "- varies greatly (most values around 0 to 4 upper fence)\n",
    "- some extrem values (seen in descriptive analysis)\n",
    "- if we do not consider the outlier values (bigger than 6), do not want to get biased picture through extreme cases\n",
    "- generally we can see that there is an increase in price with increasing numbber of bathrooms\n",
    "- interesting point, some buildings without bathrooms\n",
    "\n",
    "\n",
    "Number of Bedrooms:\n",
    "- for the number the bedrooms we see that there is an increase of the sales price with increasing number of bbedrooms up until a number of 5 bedrooms. \n",
    "- after that we do not see this effect as clearly, which is also because the upper fence of the boxplot is at 5, we have only very little numbber of houses with more than 5 bedrooms\n",
    "\n",
    "Sale Month:\n",
    "- we see an slight increase in the mean sales price for the summer month (june july, august) \n",
    "- in the winter months it is lower (january, novermber, oktober)\n",
    "\n",
    "Sales Year:\n",
    "- we see an increase in the mean sales price per year until year 1990 (first decrease), then slight decrease in the sales price.\n",
    "- very significant decrease in mean sales price in year 2008 and 2009, then again a slight increase\n",
    "- then 2015 and 2016 again slight decrease\n",
    "\n",
    "\n",
    "Condition:\n",
    "- since we have very different number houses for the different conditions, especially for poor condition houses we have very small number of houses (1537 only vs 610260 for Average). Therefore, mean prices for the different categories would lead to a much different image than for the median, since the different transaction have an higher effect for the poor category.\n",
    "For the median price for each category, we get the expected image that the median is lowest for poor - > fair -> average -> average plus -> good.\n",
    "\n",
    "\n",
    "City:\n",
    "- highes mean price in cities Greenwich, Westport and New Canaan.\n",
    "- very high mean price for Greenwich with 2.072.040,71 \n",
    "- lowest mean price in cities Plainville, Norwich and East Hartford.\n",
    "- very low mean price in city Plainville with 133.000 dollars\n",
    "\n",
    "\n",
    "\n",
    "Age:\n",
    "- we observe more houses with higher prices with in low age e.g. 0 to 20 years of age, however in needs to be considered that we have more younger houses in our dataset (with most having age 0)\n",
    "- when we examine the average price for different age ranges we can see that the average price for the price ranges decreases with increasing price and the goes up with increasing age. However we have to keep in mind that older houses are less freqent in our dataset which results to individual transaction having an hgiher effect on the mean for this age range\n",
    "\n",
    "effective age:\n",
    "- for the effective age we see similar effects\n",
    "- if we take the average of different qunatiles we see that there is general the effect that with an increasing age there is a decreasing price up until one point where it slightly increases again\n",
    "\n",
    "**livarea:\n",
    "- for living area we slightly see the effect, that we have an increasing price, with an increase in the living area. However, this is not the case for every house, there are also houses with more livingarea, but still a lower price compared to other houses. This is also clear, because this is not the only factor influencing the price."
   ]
  }
 ],
 "metadata": {
  "kernelspec": {
   "display_name": "Python 3",
   "language": "python",
   "name": "python3"
  },
  "language_info": {
   "codemirror_mode": {
    "name": "ipython",
    "version": 3
   },
   "file_extension": ".py",
   "mimetype": "text/x-python",
   "name": "python",
   "nbconvert_exporter": "python",
   "pygments_lexer": "ipython3",
   "version": "3.11.7"
  }
 },
 "nbformat": 4,
 "nbformat_minor": 2
}
