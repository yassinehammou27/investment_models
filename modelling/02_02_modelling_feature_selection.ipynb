{
 "cells": [
  {
   "cell_type": "markdown",
   "metadata": {},
   "source": [
    "# 02 Modelling (Feature Selection)\n",
    "\n",
    "In this notebook, we test different feature selection strategies (MRMR, SelectKBest, RFE)."
   ]
  },
  {
   "cell_type": "code",
   "execution_count": 1,
   "metadata": {},
   "outputs": [],
   "source": [
    "import pandas as pd\n",
    "import numpy as np\n",
    "from sklearn.metrics import mean_squared_error, r2_score, mean_absolute_error, mean_absolute_percentage_error\n",
    "\n",
    "from xgboost import XGBRegressor\n",
    "from sklearn.feature_selection import SelectKBest, mutual_info_regression, RFE\n",
    "from skfeature.function.information_theoretical_based import MRMR\n",
    "\n",
    "from sklearn.linear_model import LinearRegression"
   ]
  },
  {
   "cell_type": "code",
   "execution_count": 2,
   "metadata": {},
   "outputs": [],
   "source": [
    "df_train = pd.read_csv(\"data/df_train_2.csv\", index_col=0)\n",
    "df_test = pd.read_csv(\"data/df_test_2.csv\", index_col=0)\n",
    "df_val = pd.read_csv(\"data/df_val_2.csv\", index_col=0)"
   ]
  },
  {
   "cell_type": "code",
   "execution_count": 3,
   "metadata": {},
   "outputs": [],
   "source": [
    "X_train = df_train.drop(columns=[\"price\", \"id\"])\n",
    "X_test = df_test.drop(columns=[\"price\", \"id\"])\n",
    "X_val = df_val.drop(columns=[\"price\", \"id\"])\n",
    "\n",
    "y_train = df_train.loc[:, \"price\"]\n",
    "y_test = df_test.loc[:, \"price\"]\n",
    "y_val = df_val.loc[:, \"price\"]"
   ]
  },
  {
   "cell_type": "code",
   "execution_count": 4,
   "metadata": {},
   "outputs": [],
   "source": [
    "# some loss functions\n",
    "def rmse(y_true, y_pred):\n",
    "    return np.sqrt(np.mean((y_pred - y_true) ** 2))\n",
    "\n",
    "def smape(y_true, y_pred):\n",
    "    return np.mean(200 * np.abs(y_pred - y_true) / (np.abs(y_true) + np.abs(y_pred)))\n",
    "\n",
    "def rmspe(y_true, y_pred):\n",
    "    epsilon = 1e-6  # Small constant to avoid division by zero\n",
    "    return np.sqrt(np.mean(((y_true - y_pred) / (y_true + epsilon)) ** 2))"
   ]
  },
  {
   "cell_type": "markdown",
   "metadata": {},
   "source": [
    "### MRMR"
   ]
  },
  {
   "cell_type": "code",
   "execution_count": 5,
   "metadata": {},
   "outputs": [],
   "source": [
    "# Apply mRMR feature selection\n",
    "k = 10  # Number of features to select\n",
    "selected_features = MRMR.mrmr(X_train.values, y_train.values, n_selected_features=k)\n"
   ]
  },
  {
   "cell_type": "code",
   "execution_count": 6,
   "metadata": {},
   "outputs": [
    {
     "data": {
      "text/plain": [
       "(array([ 9, 66, 14, 59, 11, 55, 12, 64, 13, 58]),\n",
       " array([ 8.97218251, -0.01135385,  0.32457738, -0.01337415,  0.32216236,\n",
       "        -0.0208459 ,  0.31808128, -0.03281177,  0.31144909, -0.05780968]),\n",
       " array([8.97218251e+00, 4.45756273e-03, 8.97217254e+00, 3.41725120e-03,\n",
       "        8.97208314e+00, 6.14227908e-03, 8.97205674e+00, 1.38188469e-02,\n",
       "        8.97195161e+00, 1.72433108e-02]))"
      ]
     },
     "execution_count": 6,
     "metadata": {},
     "output_type": "execute_result"
    }
   ],
   "source": [
    "selected_features"
   ]
  },
  {
   "cell_type": "code",
   "execution_count": 7,
   "metadata": {},
   "outputs": [
    {
     "data": {
      "text/plain": [
       "array([ 9, 66, 14, 59, 11, 55, 12, 64, 13, 58])"
      ]
     },
     "execution_count": 7,
     "metadata": {},
     "output_type": "execute_result"
    }
   ],
   "source": [
    "selected_features[0]"
   ]
  },
  {
   "cell_type": "code",
   "execution_count": 8,
   "metadata": {},
   "outputs": [],
   "source": [
    "X_train_mrmr = X_train.iloc[:, selected_features[0]]\n",
    "X_test_mrmr = X_test.iloc[:, selected_features[0]]\n",
    "X_val_mrmr = X_val.iloc[:, selected_features[0]]"
   ]
  },
  {
   "cell_type": "code",
   "execution_count": 9,
   "metadata": {},
   "outputs": [
    {
     "name": "stdout",
     "output_type": "stream",
     "text": [
      "MSE: 109066479139.45757\n",
      "MAE: 170022.34642273994\n",
      "MAPE: 29.593937994729774\n",
      "R2: 0.4784581438379205\n",
      "RMSE: 330252.1447916085\n",
      "SMAPE: 43.75452198115559\n",
      "RMSPE: 2629.7537485714556\n"
     ]
    }
   ],
   "source": [
    "parameters = {\"objective\": 'reg:squarederror',\n",
    "            \"n_estimators\":350,  # Number of boosting rounds\n",
    "            \"learning_rate\":0.1,  # Step size shrinkage\n",
    "            \"max_depth\":10,  # Maximum depth of a tree\n",
    "            }\n",
    "\n",
    "    \n",
    "model = XGBRegressor(**parameters)\n",
    "model.fit(X_train_mrmr, y_train)\n",
    "y_hat = model.predict(X_val_mrmr)\n",
    "\n",
    "print(f\"MSE: {mean_squared_error(y_true=y_val, y_pred=y_hat)}\")\n",
    "print(f\"MAE: {mean_absolute_error(y_true=y_val, y_pred=y_hat)}\")\n",
    "print(f\"MAPE: {mean_absolute_percentage_error(y_true=y_val, y_pred=y_hat)}\")\n",
    "print(f\"R2: {r2_score(y_true=y_val, y_pred=y_hat)}\")\n",
    "print(f\"RMSE: {rmse(y_true=y_val, y_pred=y_hat)}\")\n",
    "print(f\"SMAPE: {smape(y_true=y_val, y_pred=y_hat)}\")\n",
    "print(f\"RMSPE: {rmspe(y_true=y_val, y_pred=y_hat)}\")"
   ]
  },
  {
   "cell_type": "code",
   "execution_count": 10,
   "metadata": {},
   "outputs": [
    {
     "name": "stdout",
     "output_type": "stream",
     "text": [
      "MSE: 115914455764.22357\n",
      "MAE: 170206.83254689796\n",
      "MAPE: 20.436272959254566\n",
      "R2: 0.4485124268958164\n",
      "RMSE: 340462.12089485605\n",
      "SMAPE: 43.6771322240549\n",
      "RMSPE: 913.2130165092813\n"
     ]
    }
   ],
   "source": [
    "parameters = {\"objective\": 'reg:squarederror',\n",
    "            \"n_estimators\":350,  # Number of boosting rounds\n",
    "            \"learning_rate\":0.1,  # Step size shrinkage\n",
    "            \"max_depth\":10,  # Maximum depth of a tree\n",
    "            }\n",
    "\n",
    "    \n",
    "model = XGBRegressor(**parameters)\n",
    "model.fit(X_train_mrmr, y_train)\n",
    "y_hat = model.predict(X_test_mrmr)\n",
    "\n",
    "print(f\"MSE: {mean_squared_error(y_true=y_test, y_pred=y_hat)}\")\n",
    "print(f\"MAE: {mean_absolute_error(y_true=y_test, y_pred=y_hat)}\")\n",
    "print(f\"MAPE: {mean_absolute_percentage_error(y_true=y_test, y_pred=y_hat)}\")\n",
    "print(f\"R2: {r2_score(y_true=y_test, y_pred=y_hat)}\")\n",
    "print(f\"RMSE: {rmse(y_true=y_test, y_pred=y_hat)}\")\n",
    "print(f\"SMAPE: {smape(y_true=y_test, y_pred=y_hat)}\")\n",
    "print(f\"RMSPE: {rmspe(y_true=y_test, y_pred=y_hat)}\")"
   ]
  },
  {
   "cell_type": "markdown",
   "metadata": {},
   "source": [
    "### SelectKBest (mutual information)"
   ]
  },
  {
   "cell_type": "code",
   "execution_count": 11,
   "metadata": {},
   "outputs": [],
   "source": [
    "# Select top k features using mutual information\n",
    "k = 10\n",
    "selector_mi = SelectKBest(score_func=mutual_info_regression, k=k)\n",
    "X_selected_mi = selector_mi.fit_transform(X_train, y_train)\n",
    "\n",
    "selected_feature_names_mi = X_train.columns[selector_mi.get_support()]\n"
   ]
  },
  {
   "cell_type": "code",
   "execution_count": 12,
   "metadata": {},
   "outputs": [],
   "source": [
    "X_train_mi = X_train[selected_feature_names_mi]\n",
    "X_test_mi = X_test[selected_feature_names_mi]\n",
    "X_val_mi = X_val[selected_feature_names_mi]"
   ]
  },
  {
   "cell_type": "code",
   "execution_count": 13,
   "metadata": {},
   "outputs": [
    {
     "name": "stdout",
     "output_type": "stream",
     "text": [
      "MSE: 161557788976.78708\n",
      "MAE: 181929.92293517585\n",
      "MAPE: 24.822141107119954\n",
      "R2: 0.22745146074938993\n",
      "RMSE: 401942.51949350553\n",
      "SMAPE: 43.10971910757757\n",
      "RMSPE: 1177.7680450018383\n"
     ]
    }
   ],
   "source": [
    "parameters = {\"objective\": 'reg:squarederror',\n",
    "            \"n_estimators\":350,  # Number of boosting rounds\n",
    "            \"learning_rate\":0.1,  # Step size shrinkage\n",
    "            \"max_depth\":10,  # Maximum depth of a tree\n",
    "            }\n",
    "\n",
    "    \n",
    "model = XGBRegressor(**parameters)\n",
    "model.fit(X_train_mi, y_train)\n",
    "y_hat = model.predict(X_val_mi)\n",
    "\n",
    "print(f\"MSE: {mean_squared_error(y_true=y_val, y_pred=y_hat)}\")\n",
    "print(f\"MAE: {mean_absolute_error(y_true=y_val, y_pred=y_hat)}\")\n",
    "print(f\"MAPE: {mean_absolute_percentage_error(y_true=y_val, y_pred=y_hat)}\")\n",
    "print(f\"R2: {r2_score(y_true=y_val, y_pred=y_hat)}\")\n",
    "print(f\"RMSE: {rmse(y_true=y_val, y_pred=y_hat)}\")\n",
    "print(f\"SMAPE: {smape(y_true=y_val, y_pred=y_hat)}\")\n",
    "print(f\"RMSPE: {rmspe(y_true=y_val, y_pred=y_hat)}\")"
   ]
  },
  {
   "cell_type": "code",
   "execution_count": 14,
   "metadata": {},
   "outputs": [
    {
     "name": "stdout",
     "output_type": "stream",
     "text": [
      "MSE: 162582000138.378\n",
      "MAE: 182216.91787008522\n",
      "MAPE: 26.23100631541109\n",
      "R2: 0.22648170070249485\n",
      "RMSE: 403214.5832412042\n",
      "SMAPE: 43.26171412154254\n",
      "RMSPE: 1228.6340408770625\n"
     ]
    }
   ],
   "source": [
    "parameters = {\"objective\": 'reg:squarederror',\n",
    "            \"n_estimators\":350,  # Number of boosting rounds\n",
    "            \"learning_rate\":0.1,  # Step size shrinkage\n",
    "            \"max_depth\":10,  # Maximum depth of a tree\n",
    "            }\n",
    "\n",
    "    \n",
    "model = XGBRegressor(**parameters)\n",
    "model.fit(X_train_mi, y_train)\n",
    "y_hat = model.predict(X_test_mi)\n",
    "\n",
    "print(f\"MSE: {mean_squared_error(y_true=y_test, y_pred=y_hat)}\")\n",
    "print(f\"MAE: {mean_absolute_error(y_true=y_test, y_pred=y_hat)}\")\n",
    "print(f\"MAPE: {mean_absolute_percentage_error(y_true=y_test, y_pred=y_hat)}\")\n",
    "print(f\"R2: {r2_score(y_true=y_test, y_pred=y_hat)}\")\n",
    "print(f\"RMSE: {rmse(y_true=y_test, y_pred=y_hat)}\")\n",
    "print(f\"SMAPE: {smape(y_true=y_test, y_pred=y_hat)}\")\n",
    "print(f\"RMSPE: {rmspe(y_true=y_test, y_pred=y_hat)}\")"
   ]
  },
  {
   "cell_type": "markdown",
   "metadata": {},
   "source": [
    "### RFE"
   ]
  },
  {
   "cell_type": "code",
   "execution_count": 15,
   "metadata": {},
   "outputs": [],
   "source": [
    "# Use XGBoost model for RFE\n",
    "parameters = {\"objective\": 'reg:squarederror',\n",
    "            \"n_estimators\":350,  # Number of boosting rounds\n",
    "            \"learning_rate\":0.1,  # Step size shrinkage\n",
    "            \"max_depth\":10,  # Maximum depth of a tree\n",
    "            }\n",
    "\n",
    "    \n",
    "estimator = XGBRegressor(**parameters)\n",
    "selector_rfe = RFE(estimator, n_features_to_select=55, step=1)\n",
    "X_selected_rfe = selector_rfe.fit_transform(X_train, y_train)\n",
    "\n",
    "selected_feature_names_rfe = X_train.columns[selector_rfe.get_support()]\n"
   ]
  },
  {
   "cell_type": "code",
   "execution_count": 16,
   "metadata": {},
   "outputs": [],
   "source": [
    "X_train_rfe = X_train[selected_feature_names_rfe]\n",
    "X_test_rfe = X_test[selected_feature_names_rfe]\n",
    "X_val_rfe = X_val[selected_feature_names_rfe]"
   ]
  },
  {
   "cell_type": "code",
   "execution_count": 17,
   "metadata": {},
   "outputs": [
    {
     "name": "stdout",
     "output_type": "stream",
     "text": [
      "MSE: 39139954732.50104\n",
      "MAE: 60026.28633276946\n",
      "MAPE: 26.843362576905424\n",
      "R2: 0.8128377774514278\n",
      "RMSE: 197838.20342012064\n",
      "SMAPE: 15.685094777927645\n",
      "RMSPE: 1772.2296761862274\n"
     ]
    }
   ],
   "source": [
    "parameters = {\"objective\": 'reg:squarederror',\n",
    "            \"n_estimators\":350,  # Number of boosting rounds\n",
    "            \"learning_rate\":0.1,  # Step size shrinkage\n",
    "            \"max_depth\":10,  # Maximum depth of a tree\n",
    "            }\n",
    "\n",
    "    \n",
    "model = XGBRegressor(**parameters)\n",
    "model.fit(X_train_rfe, y_train)\n",
    "y_hat = model.predict(X_val_rfe)\n",
    "\n",
    "print(f\"MSE: {mean_squared_error(y_true=y_val, y_pred=y_hat)}\")\n",
    "print(f\"MAE: {mean_absolute_error(y_true=y_val, y_pred=y_hat)}\")\n",
    "print(f\"MAPE: {mean_absolute_percentage_error(y_true=y_val, y_pred=y_hat)}\")\n",
    "print(f\"R2: {r2_score(y_true=y_val, y_pred=y_hat)}\")\n",
    "print(f\"RMSE: {rmse(y_true=y_val, y_pred=y_hat)}\")\n",
    "print(f\"SMAPE: {smape(y_true=y_val, y_pred=y_hat)}\")\n",
    "print(f\"RMSPE: {rmspe(y_true=y_val, y_pred=y_hat)}\")"
   ]
  },
  {
   "cell_type": "code",
   "execution_count": 18,
   "metadata": {},
   "outputs": [
    {
     "name": "stdout",
     "output_type": "stream",
     "text": [
      "MSE: 41982461750.9394\n",
      "MAE: 60455.27642792355\n",
      "MAPE: 20.400995884203834\n",
      "R2: 0.8002595466517233\n",
      "RMSE: 204896.22190499122\n",
      "SMAPE: 15.776542853204715\n",
      "RMSPE: 975.6298177669254\n"
     ]
    }
   ],
   "source": [
    "parameters = {\"objective\": 'reg:squarederror',\n",
    "            \"n_estimators\":350,  # Number of boosting rounds\n",
    "            \"learning_rate\":0.1,  # Step size shrinkage\n",
    "            \"max_depth\":10,  # Maximum depth of a tree\n",
    "            }\n",
    "\n",
    "    \n",
    "model = XGBRegressor(**parameters)\n",
    "model.fit(X_train_rfe, y_train)\n",
    "y_hat = model.predict(X_test_rfe)\n",
    "\n",
    "print(f\"MSE: {mean_squared_error(y_true=y_test, y_pred=y_hat)}\")\n",
    "print(f\"MAE: {mean_absolute_error(y_true=y_test, y_pred=y_hat)}\")\n",
    "print(f\"MAPE: {mean_absolute_percentage_error(y_true=y_test, y_pred=y_hat)}\")\n",
    "print(f\"R2: {r2_score(y_true=y_test, y_pred=y_hat)}\")\n",
    "print(f\"RMSE: {rmse(y_true=y_test, y_pred=y_hat)}\")\n",
    "print(f\"SMAPE: {smape(y_true=y_test, y_pred=y_hat)}\")\n",
    "print(f\"RMSPE: {rmspe(y_true=y_test, y_pred=y_hat)}\")"
   ]
  },
  {
   "cell_type": "code",
   "execution_count": 20,
   "metadata": {},
   "outputs": [],
   "source": [
    "# Use XGBoost model for RFE\n",
    "parameters = {\"objective\": 'reg:squarederror',\n",
    "            \"n_estimators\":350,  # Number of boosting rounds\n",
    "            \"learning_rate\":0.1,  # Step size shrinkage\n",
    "            \"max_depth\":10,  # Maximum depth of a tree\n",
    "            }\n",
    "\n",
    "    \n",
    "estimator = XGBRegressor(**parameters)\n",
    "selector_rfe = RFE(estimator, n_features_to_select=50, step=1)\n",
    "X_selected_rfe = selector_rfe.fit_transform(X_train, y_train)\n",
    "\n",
    "selected_feature_names_rfe = X_train.columns[selector_rfe.get_support()]\n"
   ]
  },
  {
   "cell_type": "code",
   "execution_count": 21,
   "metadata": {},
   "outputs": [
    {
     "data": {
      "text/plain": [
       "Index(['city', 'yrblt', 'effyrblt', 'nbed', 'nbath', 'nhalfbath', 'livarea',\n",
       "       'efflivarea', 'distance_aerodrome', 'distance_ferry_terminal',\n",
       "       'distance_railway_station', 'distance_market', 'distance_hospital',\n",
       "       'distance_hotel', 'distance_museum', 'n_reli_inst', 'n_edu_fac',\n",
       "       'n_healthcare', 'n_emergency', 'n_animalcare', 'n_commu_venu',\n",
       "       'n_commu_serv', 'n_food_drink', 'n_financial', 'n_transport',\n",
       "       'n_entertainment', 'n_sports', 'n_utilities', 'n_accommodation',\n",
       "       'n_government_civic', 'n_recreational', 'year', 'hpi',\n",
       "       'household_income', 'new_housing', 'population', 'n_poverty',\n",
       "       'n_poverty_young', 'unemployment_rate', 'n_employed', 'age', 'eff_age',\n",
       "       'longitude', 'latitude', 'county_Fairfield', 'county_Litchfield',\n",
       "       'cond_desc_Average', 'cond_desc_Fair', 'cond_desc_Good',\n",
       "       'cond_desc_Poor'],\n",
       "      dtype='object')"
      ]
     },
     "execution_count": 21,
     "metadata": {},
     "output_type": "execute_result"
    }
   ],
   "source": [
    "selected_feature_names_rfe"
   ]
  },
  {
   "cell_type": "code",
   "execution_count": 22,
   "metadata": {},
   "outputs": [],
   "source": [
    "X_train_rfe = X_train[selected_feature_names_rfe]\n",
    "X_test_rfe = X_test[selected_feature_names_rfe]\n",
    "X_val_rfe = X_val[selected_feature_names_rfe]"
   ]
  },
  {
   "cell_type": "code",
   "execution_count": 23,
   "metadata": {},
   "outputs": [
    {
     "name": "stdout",
     "output_type": "stream",
     "text": [
      "MSE: 39127435488.808556\n",
      "MAE: 60071.32587975346\n",
      "MAPE: 28.01581486794406\n",
      "R2: 0.8128976428623647\n",
      "RMSE: 197806.56078302496\n",
      "SMAPE: 15.692555953301708\n",
      "RMSPE: 1878.978749028425\n"
     ]
    }
   ],
   "source": [
    "parameters = {\"objective\": 'reg:squarederror',\n",
    "            \"n_estimators\":350,  # Number of boosting rounds\n",
    "            \"learning_rate\":0.1,  # Step size shrinkage\n",
    "            \"max_depth\":10,  # Maximum depth of a tree\n",
    "            }\n",
    "\n",
    "    \n",
    "model = XGBRegressor(**parameters)\n",
    "model.fit(X_train_rfe, y_train)\n",
    "y_hat = model.predict(X_val_rfe)\n",
    "\n",
    "print(f\"MSE: {mean_squared_error(y_true=y_val, y_pred=y_hat)}\")\n",
    "print(f\"MAE: {mean_absolute_error(y_true=y_val, y_pred=y_hat)}\")\n",
    "print(f\"MAPE: {mean_absolute_percentage_error(y_true=y_val, y_pred=y_hat)}\")\n",
    "print(f\"R2: {r2_score(y_true=y_val, y_pred=y_hat)}\")\n",
    "print(f\"RMSE: {rmse(y_true=y_val, y_pred=y_hat)}\")\n",
    "print(f\"SMAPE: {smape(y_true=y_val, y_pred=y_hat)}\")\n",
    "print(f\"RMSPE: {rmspe(y_true=y_val, y_pred=y_hat)}\")"
   ]
  },
  {
   "cell_type": "code",
   "execution_count": 24,
   "metadata": {},
   "outputs": [
    {
     "name": "stdout",
     "output_type": "stream",
     "text": [
      "MSE: 41637620494.6193\n",
      "MAE: 60414.97664862687\n",
      "MAPE: 20.453423300975334\n",
      "R2: 0.8019002019634387\n",
      "RMSE: 204052.98452759592\n",
      "SMAPE: 15.758015716652533\n",
      "RMSPE: 974.7378292905348\n"
     ]
    }
   ],
   "source": [
    "parameters = {\"objective\": 'reg:squarederror',\n",
    "            \"n_estimators\":350,  # Number of boosting rounds\n",
    "            \"learning_rate\":0.1,  # Step size shrinkage\n",
    "            \"max_depth\":10,  # Maximum depth of a tree\n",
    "            }\n",
    "\n",
    "    \n",
    "model = XGBRegressor(**parameters)\n",
    "model.fit(X_train_rfe, y_train)\n",
    "y_hat = model.predict(X_test_rfe)\n",
    "\n",
    "print(f\"MSE: {mean_squared_error(y_true=y_test, y_pred=y_hat)}\")\n",
    "print(f\"MAE: {mean_absolute_error(y_true=y_test, y_pred=y_hat)}\")\n",
    "print(f\"MAPE: {mean_absolute_percentage_error(y_true=y_test, y_pred=y_hat)}\")\n",
    "print(f\"R2: {r2_score(y_true=y_test, y_pred=y_hat)}\")\n",
    "print(f\"RMSE: {rmse(y_true=y_test, y_pred=y_hat)}\")\n",
    "print(f\"SMAPE: {smape(y_true=y_test, y_pred=y_hat)}\")\n",
    "print(f\"RMSPE: {rmspe(y_true=y_test, y_pred=y_hat)}\")"
   ]
  }
 ],
 "metadata": {
  "kernelspec": {
   "display_name": "base",
   "language": "python",
   "name": "python3"
  },
  "language_info": {
   "codemirror_mode": {
    "name": "ipython",
    "version": 3
   },
   "file_extension": ".py",
   "mimetype": "text/x-python",
   "name": "python",
   "nbconvert_exporter": "python",
   "pygments_lexer": "ipython3",
   "version": "3.11.7"
  }
 },
 "nbformat": 4,
 "nbformat_minor": 2
}
