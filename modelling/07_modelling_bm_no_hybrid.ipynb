{
 "cells": [
  {
   "cell_type": "markdown",
   "metadata": {},
   "source": [
    "# 07 Modelling (Business Model)\n",
    "\n",
    "In this notebook, we test the novel business model without making use of the hybrid model architecture."
   ]
  },
  {
   "cell_type": "code",
   "execution_count": 1,
   "metadata": {},
   "outputs": [],
   "source": [
    "import pandas as pd\n",
    "import numpy as np\n",
    "from sklearn.metrics import mean_squared_error, r2_score, mean_absolute_error, mean_absolute_percentage_error\n",
    "\n",
    "from xgboost import XGBRegressor\n",
    "import plotly.express as px\n",
    "from sklearn.preprocessing import StandardScaler\n",
    "from sklearn.decomposition import PCA\n",
    "from sklearn.cluster import KMeans\n",
    "from sklearn.neighbors import KNeighborsClassifier\n"
   ]
  },
  {
   "cell_type": "code",
   "execution_count": 2,
   "metadata": {},
   "outputs": [],
   "source": [
    "df_train = pd.read_csv(\"data/df_train_app.csv\", index_col=0).dropna(subset=\"population\")\n",
    "df_test = pd.read_csv(\"data/df_test_app.csv\", index_col=0).dropna(subset=\"population\")\n",
    "df_val = pd.read_csv(\"data/df_val_app.csv\", index_col=0).dropna(subset=\"population\")"
   ]
  },
  {
   "cell_type": "code",
   "execution_count": 3,
   "metadata": {},
   "outputs": [],
   "source": [
    "# some loss functions\n",
    "def rmse(y_true, y_pred):\n",
    "    return np.sqrt(np.mean((y_pred - y_true) ** 2))\n",
    "\n",
    "def smape(y_true, y_pred):\n",
    "    return np.mean(200 * np.abs(y_pred - y_true) / (np.abs(y_true) + np.abs(y_pred)))\n",
    "\n",
    "def rmspe(y_true, y_pred):\n",
    "    epsilon = 1e-6  # Small constant to avoid division by zero\n",
    "    return np.sqrt(np.mean(((y_true - y_pred) / (y_true + epsilon)) ** 2))"
   ]
  },
  {
   "cell_type": "code",
   "execution_count": 4,
   "metadata": {},
   "outputs": [],
   "source": [
    "df_train_2 = df_train.dropna(subset=\"population\")\n",
    "df_test_2 = df_test.dropna(subset=\"population\")\n",
    "df_val_2 = df_val.dropna(subset=\"population\")"
   ]
  },
  {
   "cell_type": "code",
   "execution_count": 5,
   "metadata": {},
   "outputs": [],
   "source": [
    "df = pd.concat([df_train_2, df_test_2, df_val_2])"
   ]
  },
  {
   "cell_type": "code",
   "execution_count": 6,
   "metadata": {},
   "outputs": [],
   "source": [
    "df_select = df[(round(df.appreciation_time/366, 0) == 5) & (df.prior_year == 2017)].sample(1000, random_state=42)"
   ]
  },
  {
   "cell_type": "code",
   "execution_count": 7,
   "metadata": {},
   "outputs": [],
   "source": [
    "df_train = df[df.prior_year < 2017]"
   ]
  },
  {
   "cell_type": "markdown",
   "metadata": {},
   "source": [
    "### Prepare the data"
   ]
  },
  {
   "cell_type": "code",
   "execution_count": 8,
   "metadata": {},
   "outputs": [],
   "source": [
    "X_train_prior = df_train.drop(columns=[\"appreciation\", \"price\", \"id\", \"prior_saledate\", \"prior_price\"])\n",
    "X_select_prior = df_select.drop(columns=[\"appreciation\",\"price\", \"id\", \"prior_saledate\", \"prior_price\"])\n",
    "\n",
    "y_train = df_train.loc[:, \"price\"]\n",
    "y_select = df_select.loc[:, \"price\"]\n",
    "\n",
    "y_train_prior = df_train.loc[:, \"prior_price\"]\n",
    "y_select_prior = df_select.loc[:, \"prior_price\"]"
   ]
  },
  {
   "cell_type": "code",
   "execution_count": 9,
   "metadata": {},
   "outputs": [],
   "source": [
    "columns = ['city', 'yrblt', 'effyrblt', 'nbed', 'nbath', 'nhalfbath', 'livarea',\n",
    "       'efflivarea', 'distance_aerodrome', 'distance_ferry_terminal',\n",
    "       'distance_railway_station', 'distance_market', 'distance_hospital',\n",
    "       'distance_hotel', 'distance_museum', 'n_reli_inst', 'n_edu_fac',\n",
    "       'n_healthcare', 'n_emergency', 'n_animalcare', 'n_commu_venu',\n",
    "       'n_commu_serv', 'n_food_drink', 'n_financial', 'n_transport',\n",
    "       'n_entertainment', 'n_sports', 'n_utilities', 'n_accommodation',\n",
    "       'n_government_civic', 'n_recreational', 'year', 'hpi',\n",
    "       'household_income', 'new_housing', 'population', 'n_poverty',\n",
    "       'n_poverty_young', 'unemployment_rate', 'n_employed', 'age', 'eff_age',\n",
    "       'longitude', 'latitude', 'county_Fairfield', 'county_Litchfield',\n",
    "       'cond_desc_Average', 'cond_desc_Fair', 'cond_desc_Good',\n",
    "       'cond_desc_Poor']"
   ]
  },
  {
   "cell_type": "code",
   "execution_count": 10,
   "metadata": {},
   "outputs": [],
   "source": [
    "X_train_prior = X_train_prior[columns]\n",
    "X_select_prior = X_select_prior[columns]"
   ]
  },
  {
   "cell_type": "code",
   "execution_count": 11,
   "metadata": {},
   "outputs": [],
   "source": [
    "pca = PCA(n_components=3)"
   ]
  },
  {
   "cell_type": "code",
   "execution_count": 12,
   "metadata": {},
   "outputs": [],
   "source": [
    "X_train_prior_2 = pd.concat([X_train_prior, pd.DataFrame(pca.fit_transform(X_train_prior), index=X_train_prior.index)], axis=1)\n",
    "X_select_prior_2 = pd.concat([X_select_prior, pd.DataFrame(pca.fit_transform(X_select_prior), index=X_select_prior.index)], axis=1)"
   ]
  },
  {
   "cell_type": "code",
   "execution_count": 13,
   "metadata": {},
   "outputs": [],
   "source": [
    "columns = ['longitude', 'latitude', 'county_Fairfax', 'county_Fairfield',\n",
    "       'county_Hartford', 'county_Litchfield', 'county_Middlesex',\n",
    "       'county_New Haven', 'county_New London', 'county_Tolland',\n",
    "       'county_Windham', 'state_Connecticut', 'state_Virginia',\n",
    "       'cond_desc_Average', 'cond_desc_Average Plus', 'cond_desc_Fair',\n",
    "       'cond_desc_Good', 'cond_desc_Poor']\n",
    "columns = list(set(X_train_prior_2.columns) & set(columns))\n",
    "X_train_prior_2 = X_train_prior_2.rename(columns={0:\"pca_0\", 1:\"pca_1\", 2:\"pca_2\"})\n",
    "X_select_prior_2 = X_select_prior_2.rename(columns={0:\"pca_0\", 1:\"pca_1\", 2:\"pca_2\"})\n",
    "\n",
    "scaler = StandardScaler()\n",
    "\n",
    "X_train_scaled = X_train_prior_2.drop(columns=columns)\n",
    "X_select_scaled = X_select_prior_2.drop(columns=columns)\n",
    "X_train_scaled = pd.DataFrame(scaler.fit_transform(X_train_scaled), columns=X_train_scaled.columns, index=X_train_scaled.index)\n",
    "X_select_scaled = pd.DataFrame(scaler.transform(X_select_scaled), columns=X_select_scaled.columns, index=X_select_scaled.index)\n",
    "X_train_scaled = pd.concat([X_train_prior.loc[:, columns], X_train_scaled], axis=1)\n",
    "X_select_scaled = pd.concat([X_select_prior.loc[:, columns], X_select_scaled], axis=1)"
   ]
  },
  {
   "cell_type": "code",
   "execution_count": 14,
   "metadata": {},
   "outputs": [
    {
     "name": "stderr",
     "output_type": "stream",
     "text": [
      "/opt/anaconda3/lib/python3.11/site-packages/sklearn/cluster/_kmeans.py:870: FutureWarning: The default value of `n_init` will change from 10 to 'auto' in 1.4. Set the value of `n_init` explicitly to suppress the warning\n",
      "  warnings.warn(\n"
     ]
    },
    {
     "data": {
      "text/html": [
       "<style>#sk-container-id-1 {color: black;background-color: white;}#sk-container-id-1 pre{padding: 0;}#sk-container-id-1 div.sk-toggleable {background-color: white;}#sk-container-id-1 label.sk-toggleable__label {cursor: pointer;display: block;width: 100%;margin-bottom: 0;padding: 0.3em;box-sizing: border-box;text-align: center;}#sk-container-id-1 label.sk-toggleable__label-arrow:before {content: \"▸\";float: left;margin-right: 0.25em;color: #696969;}#sk-container-id-1 label.sk-toggleable__label-arrow:hover:before {color: black;}#sk-container-id-1 div.sk-estimator:hover label.sk-toggleable__label-arrow:before {color: black;}#sk-container-id-1 div.sk-toggleable__content {max-height: 0;max-width: 0;overflow: hidden;text-align: left;background-color: #f0f8ff;}#sk-container-id-1 div.sk-toggleable__content pre {margin: 0.2em;color: black;border-radius: 0.25em;background-color: #f0f8ff;}#sk-container-id-1 input.sk-toggleable__control:checked~div.sk-toggleable__content {max-height: 200px;max-width: 100%;overflow: auto;}#sk-container-id-1 input.sk-toggleable__control:checked~label.sk-toggleable__label-arrow:before {content: \"▾\";}#sk-container-id-1 div.sk-estimator input.sk-toggleable__control:checked~label.sk-toggleable__label {background-color: #d4ebff;}#sk-container-id-1 div.sk-label input.sk-toggleable__control:checked~label.sk-toggleable__label {background-color: #d4ebff;}#sk-container-id-1 input.sk-hidden--visually {border: 0;clip: rect(1px 1px 1px 1px);clip: rect(1px, 1px, 1px, 1px);height: 1px;margin: -1px;overflow: hidden;padding: 0;position: absolute;width: 1px;}#sk-container-id-1 div.sk-estimator {font-family: monospace;background-color: #f0f8ff;border: 1px dotted black;border-radius: 0.25em;box-sizing: border-box;margin-bottom: 0.5em;}#sk-container-id-1 div.sk-estimator:hover {background-color: #d4ebff;}#sk-container-id-1 div.sk-parallel-item::after {content: \"\";width: 100%;border-bottom: 1px solid gray;flex-grow: 1;}#sk-container-id-1 div.sk-label:hover label.sk-toggleable__label {background-color: #d4ebff;}#sk-container-id-1 div.sk-serial::before {content: \"\";position: absolute;border-left: 1px solid gray;box-sizing: border-box;top: 0;bottom: 0;left: 50%;z-index: 0;}#sk-container-id-1 div.sk-serial {display: flex;flex-direction: column;align-items: center;background-color: white;padding-right: 0.2em;padding-left: 0.2em;position: relative;}#sk-container-id-1 div.sk-item {position: relative;z-index: 1;}#sk-container-id-1 div.sk-parallel {display: flex;align-items: stretch;justify-content: center;background-color: white;position: relative;}#sk-container-id-1 div.sk-item::before, #sk-container-id-1 div.sk-parallel-item::before {content: \"\";position: absolute;border-left: 1px solid gray;box-sizing: border-box;top: 0;bottom: 0;left: 50%;z-index: -1;}#sk-container-id-1 div.sk-parallel-item {display: flex;flex-direction: column;z-index: 1;position: relative;background-color: white;}#sk-container-id-1 div.sk-parallel-item:first-child::after {align-self: flex-end;width: 50%;}#sk-container-id-1 div.sk-parallel-item:last-child::after {align-self: flex-start;width: 50%;}#sk-container-id-1 div.sk-parallel-item:only-child::after {width: 0;}#sk-container-id-1 div.sk-dashed-wrapped {border: 1px dashed gray;margin: 0 0.4em 0.5em 0.4em;box-sizing: border-box;padding-bottom: 0.4em;background-color: white;}#sk-container-id-1 div.sk-label label {font-family: monospace;font-weight: bold;display: inline-block;line-height: 1.2em;}#sk-container-id-1 div.sk-label-container {text-align: center;}#sk-container-id-1 div.sk-container {/* jupyter's `normalize.less` sets `[hidden] { display: none; }` but bootstrap.min.css set `[hidden] { display: none !important; }` so we also need the `!important` here to be able to override the default hidden behavior on the sphinx rendered scikit-learn.org. See: https://github.com/scikit-learn/scikit-learn/issues/21755 */display: inline-block !important;position: relative;}#sk-container-id-1 div.sk-text-repr-fallback {display: none;}</style><div id=\"sk-container-id-1\" class=\"sk-top-container\"><div class=\"sk-text-repr-fallback\"><pre>KMeans(n_clusters=6, random_state=42)</pre><b>In a Jupyter environment, please rerun this cell to show the HTML representation or trust the notebook. <br />On GitHub, the HTML representation is unable to render, please try loading this page with nbviewer.org.</b></div><div class=\"sk-container\" hidden><div class=\"sk-item\"><div class=\"sk-estimator sk-toggleable\"><input class=\"sk-toggleable__control sk-hidden--visually\" id=\"sk-estimator-id-1\" type=\"checkbox\" checked><label for=\"sk-estimator-id-1\" class=\"sk-toggleable__label sk-toggleable__label-arrow\">KMeans</label><div class=\"sk-toggleable__content\"><pre>KMeans(n_clusters=6, random_state=42)</pre></div></div></div></div></div>"
      ],
      "text/plain": [
       "KMeans(n_clusters=6, random_state=42)"
      ]
     },
     "execution_count": 14,
     "metadata": {},
     "output_type": "execute_result"
    }
   ],
   "source": [
    "k = 6 # You can choose the number of clusters based on your analysis\n",
    "kmeans = KMeans(n_clusters=k, random_state=42)\n",
    "kmeans.fit(X_train_scaled)"
   ]
  },
  {
   "cell_type": "code",
   "execution_count": 15,
   "metadata": {},
   "outputs": [],
   "source": [
    "X_train_prior_2 = pd.concat([X_train_prior_2, pd.DataFrame(kmeans.transform(X_train_scaled), index=X_train_prior_2.index)], axis=1)\n",
    "X_select_prior_2 = pd.concat([X_select_prior_2, pd.DataFrame(kmeans.transform(X_select_scaled), index=X_select_prior_2.index)], axis=1)"
   ]
  },
  {
   "cell_type": "markdown",
   "metadata": {},
   "source": [
    "### Predict Prior Price"
   ]
  },
  {
   "cell_type": "code",
   "execution_count": 16,
   "metadata": {},
   "outputs": [],
   "source": [
    "# predict prior price\n",
    "parameters = {\"objective\": 'reg:squarederror',\n",
    "            \"n_estimators\":350,  # Number of boosting rounds\n",
    "            \"learning_rate\":0.1,  # Step size shrinkage\n",
    "            \"max_depth\":10,  # Maximum depth of a tree\n",
    "            }\n",
    "\n",
    "    \n",
    "model_prior = XGBRegressor(**parameters)\n",
    "model_prior.fit(X_train_prior_2, y_train_prior)\n",
    "y_hat_select_prior = model_prior.predict(X_select_prior_2)"
   ]
  },
  {
   "cell_type": "code",
   "execution_count": 17,
   "metadata": {},
   "outputs": [],
   "source": [
    "y_hat_train_prior = model_prior.predict(X_train_prior_2)\n",
    "y_hat_select_prior = model_prior.predict(X_select_prior_2)"
   ]
  },
  {
   "cell_type": "code",
   "execution_count": 18,
   "metadata": {},
   "outputs": [],
   "source": [
    "X_train_appr_2 = X_train_prior_2.copy()\n",
    "X_select_appr_2 = X_select_prior_2.copy()"
   ]
  },
  {
   "cell_type": "code",
   "execution_count": 19,
   "metadata": {},
   "outputs": [],
   "source": [
    "X_train_appr_2[\"pred_prior_price\"] = y_hat_train_prior\n",
    "X_select_appr_2[\"pred_prior_price\"] = y_hat_select_prior"
   ]
  },
  {
   "cell_type": "code",
   "execution_count": 20,
   "metadata": {},
   "outputs": [],
   "source": [
    "# predict future price\n",
    "parameters = {\"objective\": 'reg:squarederror',\n",
    "            \"n_estimators\":350,  # Number of boosting rounds\n",
    "            \"learning_rate\":0.1,  # Step size shrinkage\n",
    "            \"max_depth\":10,  # Maximum depth of a tree\n",
    "            }\n",
    "\n",
    "    \n",
    "model = XGBRegressor(**parameters)\n",
    "model.fit(X_train_appr_2, y_train)\n",
    "y_hat_select = model.predict(X_select_appr_2)\n",
    "y_hat_train = model.predict(X_train_appr_2)"
   ]
  },
  {
   "cell_type": "code",
   "execution_count": 21,
   "metadata": {},
   "outputs": [],
   "source": [
    "y_hat_appr = (y_hat_select - y_hat_select_prior)/y_hat_select_prior\n",
    "y_appr = (y_select - y_hat_select_prior)/y_hat_select_prior\n",
    "y_appr_core = (y_select - y_select_prior)/y_select_prior"
   ]
  },
  {
   "cell_type": "code",
   "execution_count": 22,
   "metadata": {},
   "outputs": [],
   "source": [
    "X_select_cl = X_select_appr_2.copy()"
   ]
  },
  {
   "cell_type": "code",
   "execution_count": 23,
   "metadata": {},
   "outputs": [],
   "source": [
    "X_select_cl[\"pred_future_price\"] = y_hat_select\n",
    "X_select_cl[\"true_future_price\"] = y_select\n",
    "X_select_cl[\"true_prior_price\"] = y_select_prior\n",
    "X_select_cl[\"pred_appr\"] = y_hat_appr\n",
    "X_select_cl[\"true_appr_basis_pred\"] = y_appr\n",
    "X_select_cl[\"true_appr_basis_true\"] = y_appr_core"
   ]
  },
  {
   "cell_type": "code",
   "execution_count": 24,
   "metadata": {},
   "outputs": [],
   "source": [
    "X_select_cl = X_select_cl.sort_values(by=\"pred_appr\", ascending=False)"
   ]
  },
  {
   "cell_type": "code",
   "execution_count": 25,
   "metadata": {},
   "outputs": [],
   "source": [
    "X_select_cl[\"absolut_increase_basis_pred\"] = X_select_cl.true_future_price - X_select_cl.pred_prior_price\n",
    "X_select_cl[\"absolut_increase_basis_true\"] = X_select_cl.true_future_price - X_select_cl.true_prior_price"
   ]
  },
  {
   "cell_type": "code",
   "execution_count": 26,
   "metadata": {},
   "outputs": [],
   "source": [
    "X_select_cl[\"one_perc_pred_prior_price\"] = X_select_cl.pred_prior_price * 0.01\n",
    "X_select_cl[\"one_perc_true_prior_price\"] = X_select_cl.true_prior_price * 0.01\n",
    "X_select_cl[\"one_perc_increase_basis_pred\"] = X_select_cl.absolut_increase_basis_pred * 0.01\n",
    "X_select_cl[\"pos_one_perc_increase_basis_pred\"] = np.where(X_select_cl.one_perc_increase_basis_pred < 0, 0, X_select_cl.one_perc_increase_basis_pred)\n",
    "X_select_cl[\"one_perc_increase_basis_true\"] = X_select_cl.absolut_increase_basis_true * 0.01\n",
    "X_select_cl[\"pos_one_perc_increase_basis_true\"] = np.where(X_select_cl.one_perc_increase_basis_true < 0, 0, X_select_cl.one_perc_increase_basis_true)\n",
    "X_select_cl[\"payment_difference\"] = X_select_cl.pos_one_perc_increase_basis_pred - X_select_cl.pos_one_perc_increase_basis_true"
   ]
  },
  {
   "cell_type": "code",
   "execution_count": 27,
   "metadata": {},
   "outputs": [],
   "source": [
    "pd.set_option('display.float_format', lambda x: '%.2f' % x)"
   ]
  },
  {
   "cell_type": "code",
   "execution_count": 28,
   "metadata": {},
   "outputs": [],
   "source": [
    "X_select_cl[\"cumsum_prior_price\"] = X_select_cl.one_perc_pred_prior_price.cumsum()"
   ]
  },
  {
   "cell_type": "markdown",
   "metadata": {},
   "source": [
    "### Calculate Revenue"
   ]
  },
  {
   "cell_type": "code",
   "execution_count": 29,
   "metadata": {},
   "outputs": [
    {
     "data": {
      "text/plain": [
       "1.81788241953125"
      ]
     },
     "execution_count": 29,
     "metadata": {},
     "output_type": "execute_result"
    }
   ],
   "source": [
    "X_select_cl[X_select_cl[\"cumsum_prior_price\"] < 50000].one_perc_increase_basis_pred.sum() / 50000"
   ]
  },
  {
   "cell_type": "code",
   "execution_count": 30,
   "metadata": {},
   "outputs": [],
   "source": [
    "# invest remaining budget (under 1 % of prior_price)\n",
    "remaining_budget = 50000 - X_select_cl[X_select_cl[\"cumsum_prior_price\"] < 50000].cumsum_prior_price.max()\n",
    "additional_index = X_select_cl[X_select_cl[\"cumsum_prior_price\"] < 50000].reset_index().index[-1] + 1\n",
    "percentage = remaining_budget / X_select_cl.reset_index().loc[additional_index][\"pred_prior_price\"]\n",
    "additional_revenue = X_select_cl.reset_index().loc[additional_index][\"absolut_increase_basis_pred\"] * percentage\n",
    "additional_revenue = additional_revenue if additional_revenue >= 0 else 0"
   ]
  },
  {
   "cell_type": "code",
   "execution_count": 31,
   "metadata": {},
   "outputs": [],
   "source": [
    "selection_predicted = X_select_cl.iloc[:additional_index].index"
   ]
  },
  {
   "cell_type": "code",
   "execution_count": 32,
   "metadata": {},
   "outputs": [],
   "source": [
    "# combine (if negative increase is shared!!)\n",
    "revenue = X_select_cl[X_select_cl[\"cumsum_prior_price\"] < 50000].pos_one_perc_increase_basis_pred.sum() + additional_revenue"
   ]
  },
  {
   "cell_type": "code",
   "execution_count": 33,
   "metadata": {},
   "outputs": [
    {
     "data": {
      "text/plain": [
       "0.2421346772498656"
      ]
     },
     "execution_count": 33,
     "metadata": {},
     "output_type": "execute_result"
    }
   ],
   "source": [
    "# yearly increase\n",
    "pow((revenue + 50000) / 50000, 1/5) - 1"
   ]
  },
  {
   "cell_type": "markdown",
   "metadata": {},
   "source": [
    "#### True Appreciation with true prior price"
   ]
  },
  {
   "cell_type": "code",
   "execution_count": 34,
   "metadata": {},
   "outputs": [],
   "source": [
    "X_select_cl[\"cumsum_true_prior_price\"] = X_select_cl.one_perc_true_prior_price.cumsum()"
   ]
  },
  {
   "cell_type": "code",
   "execution_count": 35,
   "metadata": {},
   "outputs": [
    {
     "data": {
      "text/plain": [
       "1.48629"
      ]
     },
     "execution_count": 35,
     "metadata": {},
     "output_type": "execute_result"
    }
   ],
   "source": [
    "X_select_cl[X_select_cl[\"cumsum_true_prior_price\"] < 50000].one_perc_increase_basis_true.sum() / 50000"
   ]
  },
  {
   "cell_type": "code",
   "execution_count": 36,
   "metadata": {},
   "outputs": [],
   "source": [
    "# invest remaining budget (under 1 % of prior_price)\n",
    "remaining_budget = 50000 - X_select_cl[X_select_cl[\"cumsum_true_prior_price\"] < 50000].cumsum_prior_price.max()\n",
    "additional_index_tmp = X_select_cl[X_select_cl[\"cumsum_true_prior_price\"] < 50000].reset_index().index[-1] + 1\n",
    "percentage = remaining_budget / X_select_cl.reset_index().loc[additional_index_tmp][\"true_prior_price\"]\n",
    "additional_revenue = X_select_cl.reset_index().loc[additional_index_tmp][\"absolut_increase_basis_true\"] * percentage\n",
    "additional_revenue = additional_revenue if additional_revenue >= 0 else 0"
   ]
  },
  {
   "cell_type": "code",
   "execution_count": 37,
   "metadata": {},
   "outputs": [],
   "source": [
    "# combine (if negative increase is shared!!)\n",
    "revenue = X_select_cl[X_select_cl[\"cumsum_true_prior_price\"] < 50000].pos_one_perc_increase_basis_pred.sum() + additional_revenue"
   ]
  },
  {
   "cell_type": "code",
   "execution_count": 38,
   "metadata": {},
   "outputs": [
    {
     "data": {
      "text/plain": [
       "0.2190234725134319"
      ]
     },
     "execution_count": 38,
     "metadata": {},
     "output_type": "execute_result"
    }
   ],
   "source": [
    "# yearly increase\n",
    "pow((revenue + 50000) / 50000, 1/5) - 1"
   ]
  },
  {
   "cell_type": "markdown",
   "metadata": {},
   "source": [
    "#### Analyse payment difference"
   ]
  },
  {
   "cell_type": "code",
   "execution_count": 39,
   "metadata": {},
   "outputs": [
    {
     "data": {
      "text/plain": [
       "385.17114728009267"
      ]
     },
     "execution_count": 39,
     "metadata": {},
     "output_type": "execute_result"
    }
   ],
   "source": [
    "# lets see how much each party pays to much/ gets less\n",
    "X_select_cl.iloc[:additional_index].payment_difference.mean()"
   ]
  },
  {
   "cell_type": "code",
   "execution_count": 40,
   "metadata": {},
   "outputs": [
    {
     "data": {
      "text/plain": [
       "0.23684903232635204"
      ]
     },
     "execution_count": 40,
     "metadata": {},
     "output_type": "execute_result"
    }
   ],
   "source": [
    "# how much in percent does \n",
    "(X_select_cl.payment_difference/ X_select_cl.pos_one_perc_increase_basis_pred).iloc[:additional_index].mean()"
   ]
  },
  {
   "cell_type": "code",
   "execution_count": 41,
   "metadata": {},
   "outputs": [
    {
     "data": {
      "text/plain": [
       "8"
      ]
     },
     "execution_count": 41,
     "metadata": {},
     "output_type": "execute_result"
    }
   ],
   "source": [
    "# in 13 cases the investor receaved less\n",
    "(X_select_cl.iloc[:additional_index].payment_difference < 0).sum()"
   ]
  },
  {
   "cell_type": "code",
   "execution_count": 42,
   "metadata": {},
   "outputs": [
    {
     "data": {
      "text/plain": [
       "-1171.5260888671874"
      ]
     },
     "execution_count": 42,
     "metadata": {},
     "output_type": "execute_result"
    }
   ],
   "source": [
    "X_select_cl.iloc[:additional_index].loc[(X_select_cl.iloc[:additional_index].payment_difference < 0)].payment_difference.mean()"
   ]
  },
  {
   "cell_type": "code",
   "execution_count": 43,
   "metadata": {},
   "outputs": [
    {
     "data": {
      "text/plain": [
       "19"
      ]
     },
     "execution_count": 43,
     "metadata": {},
     "output_type": "execute_result"
    }
   ],
   "source": [
    "# in 21 cases the investor receaved more \n",
    "(X_select_cl.iloc[:additional_index].payment_difference > 0).sum()"
   ]
  },
  {
   "cell_type": "code",
   "execution_count": 44,
   "metadata": {},
   "outputs": [
    {
     "data": {
      "text/plain": [
       "1040.622615131579"
      ]
     },
     "execution_count": 44,
     "metadata": {},
     "output_type": "execute_result"
    }
   ],
   "source": [
    "X_select_cl.iloc[:additional_index].loc[(X_select_cl.iloc[:additional_index].payment_difference > 0)].payment_difference.mean()"
   ]
  },
  {
   "cell_type": "code",
   "execution_count": 45,
   "metadata": {},
   "outputs": [
    {
     "data": {
      "text/plain": [
       "3366.4489250578704"
      ]
     },
     "execution_count": 45,
     "metadata": {},
     "output_type": "execute_result"
    }
   ],
   "source": [
    "# average payment\n",
    "X_select_cl.iloc[:additional_index].pos_one_perc_increase_basis_pred.mean()"
   ]
  },
  {
   "cell_type": "markdown",
   "metadata": {},
   "source": [
    "### Calculate Revenue with Random Selection"
   ]
  },
  {
   "cell_type": "code",
   "execution_count": 46,
   "metadata": {},
   "outputs": [],
   "source": [
    "X_select_random = X_select_cl.sample(frac=1, random_state=42)"
   ]
  },
  {
   "cell_type": "code",
   "execution_count": 47,
   "metadata": {},
   "outputs": [],
   "source": [
    "X_select_random[\"cumsum_prior_price\"] = X_select_random.one_perc_pred_prior_price.cumsum()"
   ]
  },
  {
   "cell_type": "code",
   "execution_count": 48,
   "metadata": {},
   "outputs": [
    {
     "data": {
      "text/plain": [
       "0.35543552812499996"
      ]
     },
     "execution_count": 48,
     "metadata": {},
     "output_type": "execute_result"
    }
   ],
   "source": [
    "X_select_random[X_select_random[\"cumsum_prior_price\"] < 50000].pos_one_perc_increase_basis_pred.sum() / 50000"
   ]
  },
  {
   "cell_type": "code",
   "execution_count": 49,
   "metadata": {},
   "outputs": [],
   "source": [
    "# invest remaining budget (under 1 % of prior_price)\n",
    "remaining_budget = 50000 - X_select_random[X_select_random[\"cumsum_prior_price\"] < 50000].cumsum_prior_price.max()\n",
    "additional_index = X_select_random[X_select_random[\"cumsum_prior_price\"] < 50000].reset_index().index[-1] + 1\n",
    "percentage = remaining_budget / X_select_random.reset_index().loc[additional_index][\"pred_prior_price\"]\n",
    "additional_revenue = X_select_random.reset_index().loc[additional_index][\"absolut_increase_basis_pred\"] * percentage\n",
    "additional_revenue = additional_revenue if additional_revenue >= 0 else 0"
   ]
  },
  {
   "cell_type": "code",
   "execution_count": 50,
   "metadata": {},
   "outputs": [],
   "source": [
    "# combine \n",
    "revenue = X_select_random[X_select_random[\"cumsum_prior_price\"] < 50000].pos_one_perc_increase_basis_pred.sum() + additional_revenue"
   ]
  },
  {
   "cell_type": "code",
   "execution_count": 51,
   "metadata": {},
   "outputs": [
    {
     "data": {
      "text/plain": [
       "0.0640806888417862"
      ]
     },
     "execution_count": 51,
     "metadata": {},
     "output_type": "execute_result"
    }
   ],
   "source": [
    "# yearly increase\n",
    "pow((revenue + 50000) / 50000, 1/5) - 1"
   ]
  },
  {
   "cell_type": "markdown",
   "metadata": {},
   "source": [
    "#### True appreciation with true prior price"
   ]
  },
  {
   "cell_type": "code",
   "execution_count": 52,
   "metadata": {},
   "outputs": [],
   "source": [
    "X_select_random[\"cumsum_true_prior_price\"] = X_select_random.one_perc_true_prior_price.cumsum()"
   ]
  },
  {
   "cell_type": "code",
   "execution_count": 53,
   "metadata": {},
   "outputs": [
    {
     "data": {
      "text/plain": [
       "0.3520718"
      ]
     },
     "execution_count": 53,
     "metadata": {},
     "output_type": "execute_result"
    }
   ],
   "source": [
    "X_select_random[X_select_random[\"cumsum_true_prior_price\"] < 50000].one_perc_increase_basis_true.sum() / 50000"
   ]
  },
  {
   "cell_type": "code",
   "execution_count": 54,
   "metadata": {},
   "outputs": [],
   "source": [
    "# invest remaining budget (under 1 % of prior_price)\n",
    "remaining_budget = 50000 - X_select_random[X_select_random[\"cumsum_true_prior_price\"] < 50000].cumsum_prior_price.max()\n",
    "additional_index_tmp = X_select_random[X_select_random[\"cumsum_true_prior_price\"] < 50000].reset_index().index[-1] + 1\n",
    "percentage = remaining_budget / X_select_random.reset_index().loc[additional_index_tmp][\"true_prior_price\"]\n",
    "additional_revenue = X_select_random.reset_index().loc[additional_index_tmp][\"absolut_increase_basis_true\"] * percentage\n",
    "additional_revenue = additional_revenue if additional_revenue >= 0 else 0"
   ]
  },
  {
   "cell_type": "code",
   "execution_count": 55,
   "metadata": {},
   "outputs": [],
   "source": [
    "# combine (if negative increase is shared!!)\n",
    "revenue = X_select_random[X_select_random[\"cumsum_true_prior_price\"] < 50000].pos_one_perc_increase_basis_pred.sum() + additional_revenue"
   ]
  },
  {
   "cell_type": "code",
   "execution_count": 56,
   "metadata": {},
   "outputs": [
    {
     "data": {
      "text/plain": [
       "0.06389230159134729"
      ]
     },
     "execution_count": 56,
     "metadata": {},
     "output_type": "execute_result"
    }
   ],
   "source": [
    "# yearly increase\n",
    "pow((revenue + 50000) / 50000, 1/5) - 1"
   ]
  },
  {
   "cell_type": "markdown",
   "metadata": {},
   "source": [
    "### Calculate Revenue with Perfect Selection"
   ]
  },
  {
   "cell_type": "code",
   "execution_count": 57,
   "metadata": {},
   "outputs": [],
   "source": [
    "X_select_perfect = X_select_cl.sort_values(by=\"true_appr_basis_pred\", ascending=False)"
   ]
  },
  {
   "cell_type": "code",
   "execution_count": 58,
   "metadata": {},
   "outputs": [],
   "source": [
    "X_select_perfect[\"cumsum_prior_price\"] = X_select_perfect.one_perc_pred_prior_price.cumsum()"
   ]
  },
  {
   "cell_type": "code",
   "execution_count": 59,
   "metadata": {},
   "outputs": [
    {
     "data": {
      "text/plain": [
       "2.7925390546875"
      ]
     },
     "execution_count": 59,
     "metadata": {},
     "output_type": "execute_result"
    }
   ],
   "source": [
    "X_select_perfect[X_select_perfect[\"cumsum_prior_price\"] < 50000].one_perc_increase_basis_pred.sum() / 50000"
   ]
  },
  {
   "cell_type": "code",
   "execution_count": 60,
   "metadata": {},
   "outputs": [],
   "source": [
    "# invest remaining budget (under 1 % of prior_price)\n",
    "remaining_budget = 50000 - X_select_perfect[X_select_perfect[\"cumsum_prior_price\"] < 50000].cumsum_prior_price.max()\n",
    "additional_index = X_select_perfect[X_select_perfect[\"cumsum_prior_price\"] < 50000].reset_index().index[-1] + 1\n",
    "percentage = remaining_budget / X_select_perfect.reset_index().loc[additional_index][\"pred_prior_price\"]\n",
    "additional_revenue = X_select_perfect.reset_index().loc[additional_index][\"absolut_increase_basis_pred\"] * percentage\n",
    "additional_revenue = additional_revenue if additional_revenue >= 0 else 0"
   ]
  },
  {
   "cell_type": "code",
   "execution_count": 61,
   "metadata": {},
   "outputs": [],
   "source": [
    "selection_perfect = X_select_perfect.iloc[:additional_index].index"
   ]
  },
  {
   "cell_type": "code",
   "execution_count": 62,
   "metadata": {},
   "outputs": [],
   "source": [
    "# combine \n",
    "revenue = X_select_perfect[X_select_perfect[\"cumsum_prior_price\"] < 50000].pos_one_perc_increase_basis_pred.sum() + additional_revenue"
   ]
  },
  {
   "cell_type": "code",
   "execution_count": 63,
   "metadata": {},
   "outputs": [
    {
     "data": {
      "text/plain": [
       "0.3089577654350446"
      ]
     },
     "execution_count": 63,
     "metadata": {},
     "output_type": "execute_result"
    }
   ],
   "source": [
    "# yearly increase\n",
    "pow((revenue + 50000) / 50000, 1/5) - 1"
   ]
  },
  {
   "cell_type": "markdown",
   "metadata": {},
   "source": [
    "#### True appreciation with true prior price"
   ]
  },
  {
   "cell_type": "code",
   "execution_count": 64,
   "metadata": {},
   "outputs": [],
   "source": [
    "X_select_perfect[\"cumsum_true_prior_price\"] = X_select_perfect.one_perc_true_prior_price.cumsum()"
   ]
  },
  {
   "cell_type": "code",
   "execution_count": 65,
   "metadata": {},
   "outputs": [
    {
     "data": {
      "text/plain": [
       "1.3316435999999998"
      ]
     },
     "execution_count": 65,
     "metadata": {},
     "output_type": "execute_result"
    }
   ],
   "source": [
    "X_select_perfect[X_select_perfect[\"cumsum_true_prior_price\"] < 50000].one_perc_increase_basis_true.sum() / 50000"
   ]
  },
  {
   "cell_type": "code",
   "execution_count": 66,
   "metadata": {},
   "outputs": [],
   "source": [
    "# invest remaining budget (under 1 % of prior_price)\n",
    "remaining_budget = 50000 - X_select_perfect[X_select_perfect[\"cumsum_true_prior_price\"] < 50000].cumsum_prior_price.max()\n",
    "additional_index_tmp = X_select_perfect[X_select_perfect[\"cumsum_true_prior_price\"] < 50000].reset_index().index[-1] + 1\n",
    "percentage = remaining_budget / X_select_perfect.reset_index().loc[additional_index_tmp][\"true_prior_price\"]\n",
    "additional_revenue = X_select_perfect.reset_index().loc[additional_index_tmp][\"absolut_increase_basis_true\"] * percentage\n",
    "additional_revenue = additional_revenue if additional_revenue >= 0 else 0"
   ]
  },
  {
   "cell_type": "code",
   "execution_count": 67,
   "metadata": {},
   "outputs": [],
   "source": [
    "# combine (if negative increase is shared!!)\n",
    "revenue = X_select_perfect[X_select_perfect[\"cumsum_true_prior_price\"] < 50000].pos_one_perc_increase_basis_pred.sum() + additional_revenue"
   ]
  },
  {
   "cell_type": "code",
   "execution_count": 68,
   "metadata": {},
   "outputs": [
    {
     "data": {
      "text/plain": [
       "0.4879685820272186"
      ]
     },
     "execution_count": 68,
     "metadata": {},
     "output_type": "execute_result"
    }
   ],
   "source": [
    "# yearly increase\n",
    "pow((revenue + 50000) / 50000, 1/5) - 1"
   ]
  },
  {
   "cell_type": "markdown",
   "metadata": {},
   "source": [
    "#### How much from perfect selection is containe in our selection?"
   ]
  },
  {
   "cell_type": "code",
   "execution_count": 69,
   "metadata": {},
   "outputs": [
    {
     "data": {
      "text/plain": [
       "0.4827586206896552"
      ]
     },
     "execution_count": 69,
     "metadata": {},
     "output_type": "execute_result"
    }
   ],
   "source": [
    "# around 70 % of the perfect selection is contained in our selection\n",
    "len(set(selection_predicted) & set(selection_perfect)) / len(selection_perfect)"
   ]
  },
  {
   "cell_type": "markdown",
   "metadata": {},
   "source": [
    "### The True Perfect Appreciation"
   ]
  },
  {
   "cell_type": "code",
   "execution_count": 70,
   "metadata": {},
   "outputs": [],
   "source": [
    "X_select_true_perfect = X_select_cl.sort_values(by=\"true_appr_basis_true\", ascending=False)"
   ]
  },
  {
   "cell_type": "code",
   "execution_count": 71,
   "metadata": {},
   "outputs": [],
   "source": [
    "X_select_true_perfect[\"cumsum_true_prior_price\"] = X_select_true_perfect.one_perc_true_prior_price.cumsum()"
   ]
  },
  {
   "cell_type": "code",
   "execution_count": 72,
   "metadata": {},
   "outputs": [
    {
     "data": {
      "text/plain": [
       "4.0775802"
      ]
     },
     "execution_count": 72,
     "metadata": {},
     "output_type": "execute_result"
    }
   ],
   "source": [
    "X_select_true_perfect[X_select_true_perfect[\"cumsum_true_prior_price\"] < 50000].one_perc_increase_basis_true.sum() / 50000"
   ]
  },
  {
   "cell_type": "code",
   "execution_count": 73,
   "metadata": {},
   "outputs": [],
   "source": [
    "# invest remaining budget (under 1 % of prior_price)\n",
    "remaining_budget = 50000 - X_select_true_perfect[X_select_true_perfect[\"cumsum_true_prior_price\"] < 50000].cumsum_prior_price.max()\n",
    "additional_index_tmp = X_select_true_perfect[X_select_true_perfect[\"cumsum_true_prior_price\"] < 50000].reset_index().index[-1] + 1\n",
    "percentage = remaining_budget / X_select_true_perfect.reset_index().loc[additional_index_tmp][\"true_prior_price\"]\n",
    "additional_revenue = X_select_true_perfect.reset_index().loc[additional_index_tmp][\"absolut_increase_basis_true\"] * percentage\n",
    "additional_revenue = additional_revenue if additional_revenue >= 0 else 0"
   ]
  },
  {
   "cell_type": "code",
   "execution_count": 74,
   "metadata": {},
   "outputs": [],
   "source": [
    "selection_true_perfect = X_select_true_perfect.iloc[:additional_index].index"
   ]
  },
  {
   "cell_type": "code",
   "execution_count": 75,
   "metadata": {},
   "outputs": [],
   "source": [
    "# combine (if negative increase is shared!!)\n",
    "revenue = X_select_true_perfect[X_select_true_perfect[\"cumsum_true_prior_price\"] < 50000].pos_one_perc_increase_basis_pred.sum() + additional_revenue"
   ]
  },
  {
   "cell_type": "code",
   "execution_count": 76,
   "metadata": {},
   "outputs": [
    {
     "data": {
      "text/plain": [
       "0.31543514585006727"
      ]
     },
     "execution_count": 76,
     "metadata": {},
     "output_type": "execute_result"
    }
   ],
   "source": [
    "# yearly increase\n",
    "pow((revenue + 50000) / 50000, 1/5) - 1"
   ]
  },
  {
   "cell_type": "markdown",
   "metadata": {},
   "source": [
    "#### How much from true perfect selection is containe in our selection?"
   ]
  },
  {
   "cell_type": "code",
   "execution_count": 77,
   "metadata": {},
   "outputs": [
    {
     "data": {
      "text/plain": [
       "0.2413793103448276"
      ]
     },
     "execution_count": 77,
     "metadata": {},
     "output_type": "execute_result"
    }
   ],
   "source": [
    "# around 38 % of the perfect selection is contained in our selection\n",
    "len(set(selection_predicted) & set(selection_true_perfect)) / len(selection_true_perfect)"
   ]
  }
 ],
 "metadata": {
  "kernelspec": {
   "display_name": "base",
   "language": "python",
   "name": "python3"
  },
  "language_info": {
   "codemirror_mode": {
    "name": "ipython",
    "version": 3
   },
   "file_extension": ".py",
   "mimetype": "text/x-python",
   "name": "python",
   "nbconvert_exporter": "python",
   "pygments_lexer": "ipython3",
   "version": "3.11.7"
  }
 },
 "nbformat": 4,
 "nbformat_minor": 2
}
