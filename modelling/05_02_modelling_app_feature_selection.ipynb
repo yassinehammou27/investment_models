{
 "cells": [
  {
   "cell_type": "markdown",
   "metadata": {},
   "source": [
    "# 05 Modelling (Feature Selection)\n",
    "\n",
    "In this notebbook, we examine the effect of feature selection."
   ]
  },
  {
   "cell_type": "code",
   "execution_count": 1,
   "metadata": {},
   "outputs": [],
   "source": [
    "import pandas as pd\n",
    "import numpy as np\n",
    "from sklearn.metrics import mean_squared_error, r2_score, mean_absolute_error, mean_absolute_percentage_error\n",
    "\n",
    "from xgboost import XGBRegressor\n",
    "import plotly.express as px\n",
    "from sklearn.preprocessing import StandardScaler\n",
    "from sklearn.decomposition import PCA\n",
    "from sklearn.cluster import KMeans\n"
   ]
  },
  {
   "cell_type": "code",
   "execution_count": 2,
   "metadata": {},
   "outputs": [],
   "source": [
    "df_train = pd.read_csv(\"data/df_train_app.csv\", index_col=0).dropna(subset=\"population\")\n",
    "df_test = pd.read_csv(\"data/df_test_app.csv\", index_col=0).dropna(subset=\"population\")\n",
    "df_val = pd.read_csv(\"data/df_val_app.csv\", index_col=0).dropna(subset=\"population\")"
   ]
  },
  {
   "cell_type": "code",
   "execution_count": 3,
   "metadata": {},
   "outputs": [],
   "source": [
    "# some loss functions\n",
    "def rmse(y_true, y_pred):\n",
    "    return np.sqrt(np.mean((y_pred - y_true) ** 2))\n",
    "\n",
    "def smape(y_true, y_pred):\n",
    "    return np.mean(200 * np.abs(y_pred - y_true) / (np.abs(y_true) + np.abs(y_pred)))\n",
    "\n",
    "def rmspe(y_true, y_pred):\n",
    "    epsilon = 1e-6  # Small constant to avoid division by zero\n",
    "    return np.sqrt(np.mean(((y_true - y_pred) / (y_true + epsilon)) ** 2))"
   ]
  },
  {
   "cell_type": "code",
   "execution_count": 4,
   "metadata": {},
   "outputs": [],
   "source": [
    "df_train_2 = df_train.dropna(subset=\"population\")\n",
    "df_test_2 = df_test.dropna(subset=\"population\")\n",
    "df_val_2 = df_val.dropna(subset=\"population\")"
   ]
  },
  {
   "cell_type": "code",
   "execution_count": 5,
   "metadata": {},
   "outputs": [],
   "source": [
    "X_train_prior = df_train_2.drop(columns=[\"appreciation\", \"price\", \"id\", \"prior_saledate\", \"prior_price\"])\n",
    "X_val_prior = df_val_2.drop(columns=[\"appreciation\",\"price\", \"id\", \"prior_saledate\", \"prior_price\"])\n",
    "X_test_prior = df_test_2.drop(columns=[\"appreciation\",\"price\", \"id\", \"prior_saledate\", \"prior_price\"])\n",
    "\n",
    "y_train = df_train_2.loc[:, \"price\"]\n",
    "y_val = df_val_2.loc[:, \"price\"]\n",
    "y_test = df_test_2.loc[:, \"price\"]"
   ]
  },
  {
   "cell_type": "code",
   "execution_count": 6,
   "metadata": {},
   "outputs": [],
   "source": [
    "y_train_prior = df_train_2.loc[:, \"prior_price\"]\n",
    "y_val_prior = df_val_2.loc[:, \"prior_price\"]\n",
    "y_test_prior = df_test_2.loc[:, \"prior_price\"]"
   ]
  },
  {
   "cell_type": "code",
   "execution_count": 7,
   "metadata": {},
   "outputs": [],
   "source": [
    "columns = ['city', 'yrblt', 'effyrblt', 'nbed', 'nbath', 'nhalfbath', 'livarea',\n",
    "       'efflivarea', 'distance_aerodrome', 'distance_ferry_terminal',\n",
    "       'distance_railway_station', 'distance_market', 'distance_hospital',\n",
    "       'distance_hotel', 'distance_museum', 'n_reli_inst', 'n_edu_fac',\n",
    "       'n_healthcare', 'n_emergency', 'n_animalcare', 'n_commu_venu',\n",
    "       'n_commu_serv', 'n_food_drink', 'n_financial', 'n_transport',\n",
    "       'n_entertainment', 'n_sports', 'n_utilities', 'n_accommodation',\n",
    "       'n_government_civic', 'n_recreational', 'year', 'hpi',\n",
    "       'household_income', 'new_housing', 'population', 'n_poverty',\n",
    "       'n_poverty_young', 'unemployment_rate', 'n_employed', 'age', 'eff_age',\n",
    "       'longitude', 'latitude', 'county_Fairfield', 'county_Litchfield',\n",
    "       'cond_desc_Average', 'cond_desc_Fair', 'cond_desc_Good',\n",
    "       'cond_desc_Poor']"
   ]
  },
  {
   "cell_type": "code",
   "execution_count": 8,
   "metadata": {},
   "outputs": [],
   "source": [
    "X_train_prior = X_train_prior[columns]\n",
    "X_test_prior = X_test_prior[columns]\n",
    "X_val_prior = X_val_prior[columns]"
   ]
  },
  {
   "cell_type": "code",
   "execution_count": 9,
   "metadata": {},
   "outputs": [
    {
     "name": "stdout",
     "output_type": "stream",
     "text": [
      "MSE: 21746812144.419926\n",
      "MAE: 58951.13992620251\n",
      "MAPE: 0.3117605798437321\n",
      "R2: 0.8255519720006514\n",
      "RMSE: 147468.00379885777\n",
      "SMAPE: 18.18318702763046\n",
      "RMSPE: 2.5544143063157345\n"
     ]
    }
   ],
   "source": [
    "# predict prior price\n",
    "parameters = {\"objective\": 'reg:squarederror',\n",
    "            \"n_estimators\":350,  # Number of boosting rounds\n",
    "            \"learning_rate\":0.1,  # Step size shrinkage\n",
    "            \"max_depth\":10,  # Maximum depth of a tree\n",
    "            }\n",
    "\n",
    "    \n",
    "model_prior = XGBRegressor(**parameters)\n",
    "model_prior.fit(X_train_prior, y_train_prior)\n",
    "y_hat_prior = model_prior.predict(X_val_prior)\n",
    "\n",
    "print(f\"MSE: {mean_squared_error(y_true=y_val_prior, y_pred=y_hat_prior)}\")\n",
    "print(f\"MAE: {mean_absolute_error(y_true=y_val_prior, y_pred=y_hat_prior)}\")\n",
    "print(f\"MAPE: {mean_absolute_percentage_error(y_true=y_val_prior, y_pred=y_hat_prior)}\")\n",
    "print(f\"R2: {r2_score(y_true=y_val_prior, y_pred=y_hat_prior)}\")\n",
    "print(f\"RMSE: {rmse(y_true=y_val_prior, y_pred=y_hat_prior)}\")\n",
    "print(f\"SMAPE: {smape(y_true=y_val_prior, y_pred=y_hat_prior)}\")\n",
    "print(f\"RMSPE: {rmspe(y_true=y_val_prior, y_pred=y_hat_prior)}\")"
   ]
  },
  {
   "cell_type": "code",
   "execution_count": 10,
   "metadata": {},
   "outputs": [],
   "source": [
    "y_hat_train = model_prior.predict(X_train_prior)\n",
    "y_hat_val = model_prior.predict(X_val_prior)\n",
    "y_hat_test = model_prior.predict(X_test_prior)"
   ]
  },
  {
   "cell_type": "code",
   "execution_count": 11,
   "metadata": {},
   "outputs": [],
   "source": [
    "X_train_appr = X_train_prior.copy()\n",
    "X_test_appr = X_test_prior.copy()\n",
    "X_val_appr = X_val_prior.copy()\n",
    "\n",
    "X_train_appr[\"pred_prior_price\"] = y_hat_train\n",
    "X_val_appr[\"pred_prior_price\"] = y_hat_val\n",
    "X_test_appr[\"pred_prior_price\"] = y_hat_test"
   ]
  },
  {
   "cell_type": "code",
   "execution_count": 12,
   "metadata": {},
   "outputs": [
    {
     "name": "stdout",
     "output_type": "stream",
     "text": [
      "MSE: 29284990823.63912\n",
      "MAE: 64543.59303165187\n",
      "MAPE: 0.1744008742591075\n",
      "R2: 0.8501895544603549\n",
      "RMSE: 171128.57979787924\n",
      "SMAPE: 13.292636477914685\n",
      "RMSPE: 0.8594061280560179\n"
     ]
    }
   ],
   "source": [
    "# predict feature price\n",
    "parameters = {\"objective\": 'reg:squarederror',\n",
    "            \"n_estimators\":350,  # Number of boosting rounds\n",
    "            \"learning_rate\":0.1,  # Step size shrinkage\n",
    "            \"max_depth\":10,  # Maximum depth of a tree\n",
    "            }\n",
    "\n",
    "    \n",
    "model = XGBRegressor(**parameters)\n",
    "model.fit(X_train_appr, y_train)\n",
    "y_hat = model.predict(X_val_appr)\n",
    "\n",
    "print(f\"MSE: {mean_squared_error(y_true=y_val, y_pred=y_hat)}\")\n",
    "print(f\"MAE: {mean_absolute_error(y_true=y_val, y_pred=y_hat)}\")\n",
    "print(f\"MAPE: {mean_absolute_percentage_error(y_true=y_val, y_pred=y_hat)}\")\n",
    "print(f\"R2: {r2_score(y_true=y_val, y_pred=y_hat)}\")\n",
    "print(f\"RMSE: {rmse(y_true=y_val, y_pred=y_hat)}\")\n",
    "print(f\"SMAPE: {smape(y_true=y_val, y_pred=y_hat)}\")\n",
    "print(f\"RMSPE: {rmspe(y_true=y_val, y_pred=y_hat)}\")"
   ]
  },
  {
   "cell_type": "code",
   "execution_count": 13,
   "metadata": {},
   "outputs": [],
   "source": [
    "y_hat_appr = (y_hat - y_hat_prior)/y_hat_prior\n",
    "y_appr = (y_val - y_hat_prior)/y_hat_prior"
   ]
  },
  {
   "cell_type": "code",
   "execution_count": 14,
   "metadata": {},
   "outputs": [
    {
     "name": "stdout",
     "output_type": "stream",
     "text": [
      "MSE: 3.878868648855498\n",
      "MAE: 0.2215503332602512\n",
      "MAPE: 2.261991425554606\n",
      "R2: 0.8219162845071375\n",
      "RMSE: 1.9694843611604278\n",
      "SMAPE: 57.94181955556445\n",
      "RMSPE: 49.98824114792523\n"
     ]
    }
   ],
   "source": [
    "print(f\"MSE: {mean_squared_error(y_true=y_appr, y_pred=y_hat_appr)}\")\n",
    "print(f\"MAE: {mean_absolute_error(y_true=y_appr, y_pred=y_hat_appr)}\")\n",
    "print(f\"MAPE: {mean_absolute_percentage_error(y_true=y_appr, y_pred=y_hat_appr)}\")\n",
    "print(f\"R2: {r2_score(y_true=y_appr, y_pred=y_hat_appr)}\")\n",
    "print(f\"RMSE: {rmse(y_true=y_appr, y_pred=y_hat_appr)}\")\n",
    "print(f\"SMAPE: {smape(y_true=y_appr, y_pred=y_hat_appr)}\")\n",
    "print(f\"RMSPE: {rmspe(y_true=y_appr, y_pred=y_hat_appr)}\")"
   ]
  },
  {
   "cell_type": "markdown",
   "metadata": {},
   "source": [
    "### Feature Extraction"
   ]
  },
  {
   "cell_type": "code",
   "execution_count": 28,
   "metadata": {},
   "outputs": [],
   "source": [
    "pca = PCA(n_components=3)"
   ]
  },
  {
   "cell_type": "code",
   "execution_count": 29,
   "metadata": {},
   "outputs": [],
   "source": [
    "X_train_prior_2 = pd.concat([X_train_prior, pd.DataFrame(pca.fit_transform(X_train_prior), index=X_train_prior.index)], axis=1)\n",
    "X_val_prior_2 = pd.concat([X_val_prior, pd.DataFrame(pca.fit_transform(X_val_prior), index=X_val_prior.index)], axis=1)\n",
    "X_test_prior_2 = pd.concat([X_test_prior, pd.DataFrame(pca.fit_transform(X_test_prior), index=X_test_prior.index)], axis=1)"
   ]
  },
  {
   "cell_type": "code",
   "execution_count": 30,
   "metadata": {},
   "outputs": [],
   "source": [
    "columns = ['longitude', 'latitude', 'county_Fairfax', 'county_Fairfield',\n",
    "       'county_Hartford', 'county_Litchfield', 'county_Middlesex',\n",
    "       'county_New Haven', 'county_New London', 'county_Tolland',\n",
    "       'county_Windham', 'state_Connecticut', 'state_Virginia',\n",
    "       'cond_desc_Average', 'cond_desc_Average Plus', 'cond_desc_Fair',\n",
    "       'cond_desc_Good', 'cond_desc_Poor']\n",
    "columns = list(set(X_train_prior_2.columns) & set(columns))\n",
    "X_train_prior_2 = X_train_prior_2.rename(columns={0:\"pca_0\", 1:\"pca_1\", 2:\"pca_2\"})\n",
    "X_test_prior_2 = X_test_prior_2.rename(columns={0:\"pca_0\", 1:\"pca_1\", 2:\"pca_2\"})\n",
    "X_val_prior_2 = X_val_prior_2.rename(columns={0:\"pca_0\", 1:\"pca_1\", 2:\"pca_2\"})\n",
    "\n",
    "\n",
    "scaler = StandardScaler()\n",
    "\n",
    "X_train_scaled = X_train_prior_2.drop(columns=columns)\n",
    "X_test_scaled = X_test_prior_2.drop(columns=columns)\n",
    "X_val_scaled = X_val_prior_2.drop(columns=columns)\n",
    "X_train_scaled = pd.DataFrame(scaler.fit_transform(X_train_scaled), columns=X_train_scaled.columns, index=X_train_scaled.index)\n",
    "X_test_scaled = pd.DataFrame(scaler.transform(X_test_scaled), columns=X_test_scaled.columns, index=X_test_scaled.index)\n",
    "X_val_scaled = pd.DataFrame(scaler.transform(X_val_scaled), columns=X_val_scaled.columns, index=X_val_scaled.index)\n",
    "X_train_scaled = pd.concat([X_train.loc[:, columns], X_train_scaled], axis=1)\n",
    "X_test_scaled = pd.concat([X_test.loc[:, columns], X_test_scaled], axis=1)\n",
    "X_val_scaled = pd.concat([X_val.loc[:, columns], X_val_scaled], axis=1)"
   ]
  },
  {
   "cell_type": "code",
   "execution_count": 31,
   "metadata": {},
   "outputs": [
    {
     "name": "stderr",
     "output_type": "stream",
     "text": [
      "/opt/anaconda3/lib/python3.11/site-packages/sklearn/cluster/_kmeans.py:870: FutureWarning: The default value of `n_init` will change from 10 to 'auto' in 1.4. Set the value of `n_init` explicitly to suppress the warning\n",
      "  warnings.warn(\n"
     ]
    },
    {
     "data": {
      "text/html": [
       "<style>#sk-container-id-1 {color: black;background-color: white;}#sk-container-id-1 pre{padding: 0;}#sk-container-id-1 div.sk-toggleable {background-color: white;}#sk-container-id-1 label.sk-toggleable__label {cursor: pointer;display: block;width: 100%;margin-bottom: 0;padding: 0.3em;box-sizing: border-box;text-align: center;}#sk-container-id-1 label.sk-toggleable__label-arrow:before {content: \"▸\";float: left;margin-right: 0.25em;color: #696969;}#sk-container-id-1 label.sk-toggleable__label-arrow:hover:before {color: black;}#sk-container-id-1 div.sk-estimator:hover label.sk-toggleable__label-arrow:before {color: black;}#sk-container-id-1 div.sk-toggleable__content {max-height: 0;max-width: 0;overflow: hidden;text-align: left;background-color: #f0f8ff;}#sk-container-id-1 div.sk-toggleable__content pre {margin: 0.2em;color: black;border-radius: 0.25em;background-color: #f0f8ff;}#sk-container-id-1 input.sk-toggleable__control:checked~div.sk-toggleable__content {max-height: 200px;max-width: 100%;overflow: auto;}#sk-container-id-1 input.sk-toggleable__control:checked~label.sk-toggleable__label-arrow:before {content: \"▾\";}#sk-container-id-1 div.sk-estimator input.sk-toggleable__control:checked~label.sk-toggleable__label {background-color: #d4ebff;}#sk-container-id-1 div.sk-label input.sk-toggleable__control:checked~label.sk-toggleable__label {background-color: #d4ebff;}#sk-container-id-1 input.sk-hidden--visually {border: 0;clip: rect(1px 1px 1px 1px);clip: rect(1px, 1px, 1px, 1px);height: 1px;margin: -1px;overflow: hidden;padding: 0;position: absolute;width: 1px;}#sk-container-id-1 div.sk-estimator {font-family: monospace;background-color: #f0f8ff;border: 1px dotted black;border-radius: 0.25em;box-sizing: border-box;margin-bottom: 0.5em;}#sk-container-id-1 div.sk-estimator:hover {background-color: #d4ebff;}#sk-container-id-1 div.sk-parallel-item::after {content: \"\";width: 100%;border-bottom: 1px solid gray;flex-grow: 1;}#sk-container-id-1 div.sk-label:hover label.sk-toggleable__label {background-color: #d4ebff;}#sk-container-id-1 div.sk-serial::before {content: \"\";position: absolute;border-left: 1px solid gray;box-sizing: border-box;top: 0;bottom: 0;left: 50%;z-index: 0;}#sk-container-id-1 div.sk-serial {display: flex;flex-direction: column;align-items: center;background-color: white;padding-right: 0.2em;padding-left: 0.2em;position: relative;}#sk-container-id-1 div.sk-item {position: relative;z-index: 1;}#sk-container-id-1 div.sk-parallel {display: flex;align-items: stretch;justify-content: center;background-color: white;position: relative;}#sk-container-id-1 div.sk-item::before, #sk-container-id-1 div.sk-parallel-item::before {content: \"\";position: absolute;border-left: 1px solid gray;box-sizing: border-box;top: 0;bottom: 0;left: 50%;z-index: -1;}#sk-container-id-1 div.sk-parallel-item {display: flex;flex-direction: column;z-index: 1;position: relative;background-color: white;}#sk-container-id-1 div.sk-parallel-item:first-child::after {align-self: flex-end;width: 50%;}#sk-container-id-1 div.sk-parallel-item:last-child::after {align-self: flex-start;width: 50%;}#sk-container-id-1 div.sk-parallel-item:only-child::after {width: 0;}#sk-container-id-1 div.sk-dashed-wrapped {border: 1px dashed gray;margin: 0 0.4em 0.5em 0.4em;box-sizing: border-box;padding-bottom: 0.4em;background-color: white;}#sk-container-id-1 div.sk-label label {font-family: monospace;font-weight: bold;display: inline-block;line-height: 1.2em;}#sk-container-id-1 div.sk-label-container {text-align: center;}#sk-container-id-1 div.sk-container {/* jupyter's `normalize.less` sets `[hidden] { display: none; }` but bootstrap.min.css set `[hidden] { display: none !important; }` so we also need the `!important` here to be able to override the default hidden behavior on the sphinx rendered scikit-learn.org. See: https://github.com/scikit-learn/scikit-learn/issues/21755 */display: inline-block !important;position: relative;}#sk-container-id-1 div.sk-text-repr-fallback {display: none;}</style><div id=\"sk-container-id-1\" class=\"sk-top-container\"><div class=\"sk-text-repr-fallback\"><pre>KMeans(n_clusters=6, random_state=42)</pre><b>In a Jupyter environment, please rerun this cell to show the HTML representation or trust the notebook. <br />On GitHub, the HTML representation is unable to render, please try loading this page with nbviewer.org.</b></div><div class=\"sk-container\" hidden><div class=\"sk-item\"><div class=\"sk-estimator sk-toggleable\"><input class=\"sk-toggleable__control sk-hidden--visually\" id=\"sk-estimator-id-1\" type=\"checkbox\" checked><label for=\"sk-estimator-id-1\" class=\"sk-toggleable__label sk-toggleable__label-arrow\">KMeans</label><div class=\"sk-toggleable__content\"><pre>KMeans(n_clusters=6, random_state=42)</pre></div></div></div></div></div>"
      ],
      "text/plain": [
       "KMeans(n_clusters=6, random_state=42)"
      ]
     },
     "execution_count": 31,
     "metadata": {},
     "output_type": "execute_result"
    }
   ],
   "source": [
    "k = 6 # You can choose the number of clusters based on your analysis\n",
    "kmeans = KMeans(n_clusters=k, random_state=42)\n",
    "kmeans.fit(X_train_scaled)"
   ]
  },
  {
   "cell_type": "code",
   "execution_count": 37,
   "metadata": {},
   "outputs": [],
   "source": [
    "X_train_prior_2 = pd.concat([X_train_prior_2, pd.DataFrame(kmeans.transform(X_train_scaled), index=X_train_prior_2.index)], axis=1)\n",
    "X_test_prior_2 = pd.concat([X_test_prior_2, pd.DataFrame(kmeans.transform(X_test_scaled), index=X_test_prior_2.index)], axis=1)\n",
    "X_val_prior_2= pd.concat([X_val_prior_2, pd.DataFrame(kmeans.transform(X_val_scaled), index=X_val_prior_2.index)], axis=1)"
   ]
  },
  {
   "cell_type": "code",
   "execution_count": 43,
   "metadata": {},
   "outputs": [
    {
     "name": "stdout",
     "output_type": "stream",
     "text": [
      "MSE: 21857016793.08298\n",
      "MAE: 59325.246938719196\n",
      "MAPE: 0.31774004512544185\n",
      "R2: 0.8246679351354798\n",
      "RMSE: 147841.18774239803\n",
      "SMAPE: 18.22856502266729\n",
      "RMSPE: 2.6964687697536567\n"
     ]
    }
   ],
   "source": [
    "# predict prior price\n",
    "parameters = {\"objective\": 'reg:squarederror',\n",
    "            \"n_estimators\":350,  # Number of boosting rounds\n",
    "            \"learning_rate\":0.1,  # Step size shrinkage\n",
    "            \"max_depth\":10,  # Maximum depth of a tree\n",
    "            }\n",
    "\n",
    "    \n",
    "model_prior = XGBRegressor(**parameters)\n",
    "model_prior.fit(X_train_prior_2, y_train_prior)\n",
    "y_hat_prior = model_prior.predict(X_val_prior_2)\n",
    "\n",
    "print(f\"MSE: {mean_squared_error(y_true=y_val_prior, y_pred=y_hat_prior)}\")\n",
    "print(f\"MAE: {mean_absolute_error(y_true=y_val_prior, y_pred=y_hat_prior)}\")\n",
    "print(f\"MAPE: {mean_absolute_percentage_error(y_true=y_val_prior, y_pred=y_hat_prior)}\")\n",
    "print(f\"R2: {r2_score(y_true=y_val_prior, y_pred=y_hat_prior)}\")\n",
    "print(f\"RMSE: {rmse(y_true=y_val_prior, y_pred=y_hat_prior)}\")\n",
    "print(f\"SMAPE: {smape(y_true=y_val_prior, y_pred=y_hat_prior)}\")\n",
    "print(f\"RMSPE: {rmspe(y_true=y_val_prior, y_pred=y_hat_prior)}\")"
   ]
  },
  {
   "cell_type": "code",
   "execution_count": 44,
   "metadata": {},
   "outputs": [],
   "source": [
    "X_train_appr_2 = X_train_prior_2.copy()\n",
    "X_test_appr_2 = X_test_prior_2.copy()\n",
    "X_val_appr_2 = X_val_prior_2.copy()"
   ]
  },
  {
   "cell_type": "code",
   "execution_count": 45,
   "metadata": {},
   "outputs": [],
   "source": [
    "y_hat_train = model_prior.predict(X_train_prior_2)\n",
    "y_hat_val = model_prior.predict(X_val_prior_2)\n",
    "y_hat_test = model_prior.predict(X_test_prior_2)"
   ]
  },
  {
   "cell_type": "code",
   "execution_count": 46,
   "metadata": {},
   "outputs": [],
   "source": [
    "X_train_appr_2[\"pred_prior_price\"] = y_hat_train\n",
    "X_val_appr_2[\"pred_prior_price\"] = y_hat_val\n",
    "X_test_appr_2[\"pred_prior_price\"] = y_hat_test"
   ]
  },
  {
   "cell_type": "code",
   "execution_count": 47,
   "metadata": {},
   "outputs": [
    {
     "name": "stdout",
     "output_type": "stream",
     "text": [
      "MSE: 28792039967.039116\n",
      "MAE: 64902.86904116897\n",
      "MAPE: 0.1748440905881417\n",
      "R2: 0.8527112963280965\n",
      "RMSE: 169682.17339201874\n",
      "SMAPE: 13.36324707048929\n",
      "RMSPE: 0.8621946952804941\n"
     ]
    }
   ],
   "source": [
    "# predict future price\n",
    "parameters = {\"objective\": 'reg:squarederror',\n",
    "            \"n_estimators\":350,  # Number of boosting rounds\n",
    "            \"learning_rate\":0.1,  # Step size shrinkage\n",
    "            \"max_depth\":10,  # Maximum depth of a tree\n",
    "            }\n",
    "\n",
    "    \n",
    "model = XGBRegressor(**parameters)\n",
    "model.fit(X_train_appr_2, y_train)\n",
    "y_hat = model.predict(X_val_appr_2)\n",
    "\n",
    "print(f\"MSE: {mean_squared_error(y_true=y_val, y_pred=y_hat)}\")\n",
    "print(f\"MAE: {mean_absolute_error(y_true=y_val, y_pred=y_hat)}\")\n",
    "print(f\"MAPE: {mean_absolute_percentage_error(y_true=y_val, y_pred=y_hat)}\")\n",
    "print(f\"R2: {r2_score(y_true=y_val, y_pred=y_hat)}\")\n",
    "print(f\"RMSE: {rmse(y_true=y_val, y_pred=y_hat)}\")\n",
    "print(f\"SMAPE: {smape(y_true=y_val, y_pred=y_hat)}\")\n",
    "print(f\"RMSPE: {rmspe(y_true=y_val, y_pred=y_hat)}\")"
   ]
  },
  {
   "cell_type": "code",
   "execution_count": 48,
   "metadata": {},
   "outputs": [],
   "source": [
    "y_hat_appr = (y_hat - y_hat_prior)/y_hat_prior\n",
    "y_appr = (y_val - y_hat_prior)/y_hat_prior"
   ]
  },
  {
   "cell_type": "code",
   "execution_count": 49,
   "metadata": {},
   "outputs": [
    {
     "name": "stdout",
     "output_type": "stream",
     "text": [
      "MSE: 0.9145181962115421\n",
      "MAE: 0.21318037303100779\n",
      "MAPE: 2.7336057415587125\n",
      "R2: 0.9192788042782525\n",
      "RMSE: 0.9563044474494208\n",
      "SMAPE: 58.119775161460424\n",
      "RMSPE: 89.26524684705142\n"
     ]
    }
   ],
   "source": [
    "print(f\"MSE: {mean_squared_error(y_true=y_appr, y_pred=y_hat_appr)}\")\n",
    "print(f\"MAE: {mean_absolute_error(y_true=y_appr, y_pred=y_hat_appr)}\")\n",
    "print(f\"MAPE: {mean_absolute_percentage_error(y_true=y_appr, y_pred=y_hat_appr)}\")\n",
    "print(f\"R2: {r2_score(y_true=y_appr, y_pred=y_hat_appr)}\")\n",
    "print(f\"RMSE: {rmse(y_true=y_appr, y_pred=y_hat_appr)}\")\n",
    "print(f\"SMAPE: {smape(y_true=y_appr, y_pred=y_hat_appr)}\")\n",
    "print(f\"RMSPE: {rmspe(y_true=y_appr, y_pred=y_hat_appr)}\")"
   ]
  }
 ],
 "metadata": {
  "kernelspec": {
   "display_name": "base",
   "language": "python",
   "name": "python3"
  },
  "language_info": {
   "codemirror_mode": {
    "name": "ipython",
    "version": 3
   },
   "file_extension": ".py",
   "mimetype": "text/x-python",
   "name": "python",
   "nbconvert_exporter": "python",
   "pygments_lexer": "ipython3",
   "version": "3.11.7"
  }
 },
 "nbformat": 4,
 "nbformat_minor": 2
}
