{
 "cells": [
  {
   "cell_type": "markdown",
   "metadata": {},
   "source": [
    "# 02 Modelling (Past Sales)\n",
    "\n",
    "In this notebook, we test the model performance with past sales in the neighborhood as an additional feature."
   ]
  },
  {
   "cell_type": "code",
   "execution_count": 1,
   "metadata": {},
   "outputs": [],
   "source": [
    "import pandas as pd\n",
    "import numpy as np\n",
    "from sklearn.metrics import mean_squared_error, r2_score, mean_absolute_error, mean_absolute_percentage_error\n",
    "\n",
    "from xgboost import XGBRegressor\n",
    "from sklearn.impute import SimpleImputer"
   ]
  },
  {
   "cell_type": "code",
   "execution_count": 2,
   "metadata": {},
   "outputs": [],
   "source": [
    "df_train = pd.read_csv(\"data/past_sales/df_train_2.csv\", index_col=0)\n",
    "df_test = pd.read_csv(\"data/past_sales/df_test_2.csv\", index_col=0)\n",
    "df_val = pd.read_csv(\"data/past_sales/df_val_2.csv\", index_col=0)"
   ]
  },
  {
   "cell_type": "code",
   "execution_count": 3,
   "metadata": {},
   "outputs": [],
   "source": [
    "X_train = df_train.drop(columns=[\"price\", \"id\"])\n",
    "X_test = df_test.drop(columns=[\"price\", \"id\"])\n",
    "X_val = df_val.drop(columns=[\"price\", \"id\"])\n",
    "\n",
    "y_train = df_train.loc[:, \"price\"]\n",
    "y_test = df_test.loc[:, \"price\"]\n",
    "y_val = df_val.loc[:, \"price\"]"
   ]
  },
  {
   "cell_type": "code",
   "execution_count": 4,
   "metadata": {},
   "outputs": [],
   "source": [
    "columns = ['city', 'yrblt', 'effyrblt', 'nbed', 'nbath', 'nhalfbath', 'livarea',\n",
    "       'efflivarea', 'distance_aerodrome', 'distance_ferry_terminal',\n",
    "       'distance_railway_station', 'distance_market', 'distance_hospital',\n",
    "       'distance_hotel', 'distance_museum', 'n_reli_inst', 'n_edu_fac',\n",
    "       'n_healthcare', 'n_emergency', 'n_animalcare', 'n_commu_venu',\n",
    "       'n_commu_serv', 'n_food_drink', 'n_financial', 'n_transport',\n",
    "       'n_entertainment', 'n_sports', 'n_utilities', 'n_accommodation',\n",
    "       'n_government_civic', 'n_recreational', 'year', 'hpi',\n",
    "       'household_income', 'new_housing', 'population', 'n_poverty',\n",
    "       'n_poverty_young', 'unemployment_rate', 'n_employed', 'age', 'eff_age',\n",
    "       'longitude', 'latitude', 'county_Fairfield', 'county_Litchfield',\n",
    "       'cond_desc_Average', 'cond_desc_Fair', 'cond_desc_Good',\n",
    "       'cond_desc_Poor', \"price_level\"]"
   ]
  },
  {
   "cell_type": "code",
   "execution_count": 5,
   "metadata": {},
   "outputs": [],
   "source": [
    "X_train = X_train[columns]\n",
    "X_test = X_test[columns]\n",
    "X_val = X_val[columns]"
   ]
  },
  {
   "cell_type": "code",
   "execution_count": 6,
   "metadata": {},
   "outputs": [],
   "source": [
    "# some loss functions\n",
    "def rmse(y_true, y_pred):\n",
    "    return np.sqrt(np.mean((y_pred - y_true) ** 2))\n",
    "\n",
    "def smape(y_true, y_pred):\n",
    "    return np.mean(200 * np.abs(y_pred - y_true) / (np.abs(y_true) + np.abs(y_pred)))\n",
    "\n",
    "def rmspe(y_true, y_pred):\n",
    "    epsilon = 1e-6  # Small constant to avoid division by zero\n",
    "    return np.sqrt(np.mean(((y_true - y_pred) / (y_true + epsilon)) ** 2))"
   ]
  },
  {
   "cell_type": "code",
   "execution_count": 7,
   "metadata": {},
   "outputs": [
    {
     "name": "stdout",
     "output_type": "stream",
     "text": [
      "MSE: 39523626576.019554\n",
      "MAE: 60203.46716044203\n",
      "MAPE: 27.44796761598017\n",
      "R2: 0.8110031081102647\n",
      "RMSE: 198805.49936060508\n",
      "SMAPE: 15.68204678658603\n",
      "RMSPE: 1855.800340763175\n"
     ]
    }
   ],
   "source": [
    "# validation performance with price level as additional feature\n",
    "\n",
    "parameters = {\"objective\": 'reg:squarederror',\n",
    "            \"n_estimators\":350,  # Number of boosting rounds\n",
    "            \"learning_rate\":0.1,  # Step size shrinkage\n",
    "            \"max_depth\":10,  # Maximum depth of a tree\n",
    "            }\n",
    "\n",
    "    \n",
    "model = XGBRegressor(**parameters)\n",
    "model.fit(X_train, y_train)\n",
    "y_hat = model.predict(X_val)\n",
    "\n",
    "print(f\"MSE: {mean_squared_error(y_true=y_val, y_pred=y_hat)}\")\n",
    "print(f\"MAE: {mean_absolute_error(y_true=y_val, y_pred=y_hat)}\")\n",
    "print(f\"MAPE: {mean_absolute_percentage_error(y_true=y_val, y_pred=y_hat)}\")\n",
    "print(f\"R2: {r2_score(y_true=y_val, y_pred=y_hat)}\")\n",
    "print(f\"RMSE: {rmse(y_true=y_val, y_pred=y_hat)}\")\n",
    "print(f\"SMAPE: {smape(y_true=y_val, y_pred=y_hat)}\")\n",
    "print(f\"RMSPE: {rmspe(y_true=y_val, y_pred=y_hat)}\")"
   ]
  },
  {
   "cell_type": "code",
   "execution_count": 8,
   "metadata": {},
   "outputs": [
    {
     "name": "stdout",
     "output_type": "stream",
     "text": [
      "MSE: 41930822339.94914\n",
      "MAE: 60553.97961016542\n",
      "MAPE: 20.488895900431487\n",
      "R2: 0.8005052320863466\n",
      "RMSE: 204770.16955589294\n",
      "SMAPE: 15.769139190387472\n",
      "RMSPE: 978.926738316452\n"
     ]
    }
   ],
   "source": [
    "# test performance with price level as additional feature\n",
    "\n",
    "parameters = {\"objective\": 'reg:squarederror',\n",
    "            \"n_estimators\":350,  # Number of boosting rounds\n",
    "            \"learning_rate\":0.1,  # Step size shrinkage\n",
    "            \"max_depth\":10,  # Maximum depth of a tree\n",
    "            }\n",
    "\n",
    "    \n",
    "model = XGBRegressor(**parameters)\n",
    "model.fit(X_train, y_train)\n",
    "y_hat = model.predict(X_test)\n",
    "\n",
    "print(f\"MSE: {mean_squared_error(y_true=y_test, y_pred=y_hat)}\")\n",
    "print(f\"MAE: {mean_absolute_error(y_true=y_test, y_pred=y_hat)}\")\n",
    "print(f\"MAPE: {mean_absolute_percentage_error(y_true=y_test, y_pred=y_hat)}\")\n",
    "print(f\"R2: {r2_score(y_true=y_test, y_pred=y_hat)}\")\n",
    "print(f\"RMSE: {rmse(y_true=y_test, y_pred=y_hat)}\")\n",
    "print(f\"SMAPE: {smape(y_true=y_test, y_pred=y_hat)}\")\n",
    "print(f\"RMSPE: {rmspe(y_true=y_test, y_pred=y_hat)}\")"
   ]
  },
  {
   "cell_type": "code",
   "execution_count": 9,
   "metadata": {},
   "outputs": [
    {
     "name": "stdout",
     "output_type": "stream",
     "text": [
      "MSE: 39043538878.83786\n",
      "MAE: 60097.73400510445\n",
      "MAPE: 26.56653750326256\n",
      "R2: 0.8132988256458841\n",
      "RMSE: 197594.37967421507\n",
      "SMAPE: 15.722447415301327\n",
      "RMSPE: 1646.08826421604\n"
     ]
    }
   ],
   "source": [
    "# validation set performance without price level as a feature\n",
    "\n",
    "parameters = {\"objective\": 'reg:squarederror',\n",
    "            \"n_estimators\":350,  # Number of boosting rounds\n",
    "            \"learning_rate\":0.1,  # Step size shrinkage\n",
    "            \"max_depth\":10,  # Maximum depth of a tree\n",
    "            }\n",
    "\n",
    "    \n",
    "model = XGBRegressor(**parameters)\n",
    "model.fit(X_train.drop(columns=\"price_level\"), y_train)\n",
    "y_hat = model.predict(X_val.drop(columns=\"price_level\"))\n",
    "\n",
    "print(f\"MSE: {mean_squared_error(y_true=y_val, y_pred=y_hat)}\")\n",
    "print(f\"MAE: {mean_absolute_error(y_true=y_val, y_pred=y_hat)}\")\n",
    "print(f\"MAPE: {mean_absolute_percentage_error(y_true=y_val, y_pred=y_hat)}\")\n",
    "print(f\"R2: {r2_score(y_true=y_val, y_pred=y_hat)}\")\n",
    "print(f\"RMSE: {rmse(y_true=y_val, y_pred=y_hat)}\")\n",
    "print(f\"SMAPE: {smape(y_true=y_val, y_pred=y_hat)}\")\n",
    "print(f\"RMSPE: {rmspe(y_true=y_val, y_pred=y_hat)}\")"
   ]
  },
  {
   "cell_type": "code",
   "execution_count": 10,
   "metadata": {},
   "outputs": [
    {
     "name": "stdout",
     "output_type": "stream",
     "text": [
      "MSE: 41510431414.36363\n",
      "MAE: 60407.92143701395\n",
      "MAPE: 20.231673589848686\n",
      "R2: 0.8025053309504413\n",
      "RMSE: 203741.08916554763\n",
      "SMAPE: 15.781087205235808\n",
      "RMSPE: 960.1953133189792\n"
     ]
    }
   ],
   "source": [
    "# test set performance without price level as a feature\n",
    "\n",
    "parameters = {\"objective\": 'reg:squarederror',\n",
    "            \"n_estimators\":350,  # Number of boosting rounds\n",
    "            \"learning_rate\":0.1,  # Step size shrinkage\n",
    "            \"max_depth\":10,  # Maximum depth of a tree\n",
    "            }\n",
    "\n",
    "    \n",
    "model = XGBRegressor(**parameters)\n",
    "model.fit(X_train.drop(columns=\"price_level\"), y_train)\n",
    "y_hat = model.predict(X_test.drop(columns=\"price_level\"))\n",
    "\n",
    "print(f\"MSE: {mean_squared_error(y_true=y_test, y_pred=y_hat)}\")\n",
    "print(f\"MAE: {mean_absolute_error(y_true=y_test, y_pred=y_hat)}\")\n",
    "print(f\"MAPE: {mean_absolute_percentage_error(y_true=y_test, y_pred=y_hat)}\")\n",
    "print(f\"R2: {r2_score(y_true=y_test, y_pred=y_hat)}\")\n",
    "print(f\"RMSE: {rmse(y_true=y_test, y_pred=y_hat)}\")\n",
    "print(f\"SMAPE: {smape(y_true=y_test, y_pred=y_hat)}\")\n",
    "print(f\"RMSPE: {rmspe(y_true=y_test, y_pred=y_hat)}\")"
   ]
  },
  {
   "cell_type": "code",
   "execution_count": 11,
   "metadata": {},
   "outputs": [],
   "source": [
    "# impute missing values for price level (only feature with missing values)\n",
    "imputer = SimpleImputer(strategy=\"mean\")\n",
    "X_train = pd.DataFrame(imputer.fit_transform(X_train), columns=X_train.columns, index=X_train.index)\n",
    "X_test = pd.DataFrame(imputer.fit_transform(X_test), columns=X_test.columns, index=X_test.index)\n",
    "X_val = pd.DataFrame(imputer.fit_transform(X_val), columns=X_val.columns, index=X_val.index)"
   ]
  },
  {
   "cell_type": "code",
   "execution_count": 12,
   "metadata": {},
   "outputs": [
    {
     "name": "stdout",
     "output_type": "stream",
     "text": [
      "MSE: 39548013288.3665\n",
      "MAE: 60096.01831473916\n",
      "MAPE: 27.68383160189674\n",
      "R2: 0.8108864939926782\n",
      "RMSE: 198866.82299560803\n",
      "SMAPE: 15.691616835526585\n",
      "RMSPE: 1825.4741667241046\n"
     ]
    }
   ],
   "source": [
    "# validation set performance with imputed price level feature\n",
    "\n",
    "parameters = {\"objective\": 'reg:squarederror',\n",
    "            \"n_estimators\":350,  # Number of boosting rounds\n",
    "            \"learning_rate\":0.1,  # Step size shrinkage\n",
    "            \"max_depth\":10,  # Maximum depth of a tree\n",
    "            }\n",
    "\n",
    "    \n",
    "model = XGBRegressor(**parameters)\n",
    "model.fit(X_train, y_train)\n",
    "y_hat = model.predict(X_val)\n",
    "\n",
    "print(f\"MSE: {mean_squared_error(y_true=y_val, y_pred=y_hat)}\")\n",
    "print(f\"MAE: {mean_absolute_error(y_true=y_val, y_pred=y_hat)}\")\n",
    "print(f\"MAPE: {mean_absolute_percentage_error(y_true=y_val, y_pred=y_hat)}\")\n",
    "print(f\"R2: {r2_score(y_true=y_val, y_pred=y_hat)}\")\n",
    "print(f\"RMSE: {rmse(y_true=y_val, y_pred=y_hat)}\")\n",
    "print(f\"SMAPE: {smape(y_true=y_val, y_pred=y_hat)}\")\n",
    "print(f\"RMSPE: {rmspe(y_true=y_val, y_pred=y_hat)}\")"
   ]
  },
  {
   "cell_type": "code",
   "execution_count": 13,
   "metadata": {},
   "outputs": [
    {
     "name": "stdout",
     "output_type": "stream",
     "text": [
      "MSE: 41982554904.44256\n",
      "MAE: 60392.5502186213\n",
      "MAPE: 20.388396771329596\n",
      "R2: 0.8002591034542029\n",
      "RMSE: 204896.44922360798\n",
      "SMAPE: 15.750586034362719\n",
      "RMSPE: 970.7285574005283\n"
     ]
    }
   ],
   "source": [
    "# test set performance with imputed price level feature\n",
    "\n",
    "parameters = {\"objective\": 'reg:squarederror',\n",
    "            \"n_estimators\":350,  # Number of boosting rounds\n",
    "            \"learning_rate\":0.1,  # Step size shrinkage\n",
    "            \"max_depth\":10,  # Maximum depth of a tree\n",
    "            }\n",
    "\n",
    "    \n",
    "model = XGBRegressor(**parameters)\n",
    "model.fit(X_train, y_train)\n",
    "y_hat = model.predict(X_test)\n",
    "\n",
    "print(f\"MSE: {mean_squared_error(y_true=y_test, y_pred=y_hat)}\")\n",
    "print(f\"MAE: {mean_absolute_error(y_true=y_test, y_pred=y_hat)}\")\n",
    "print(f\"MAPE: {mean_absolute_percentage_error(y_true=y_test, y_pred=y_hat)}\")\n",
    "print(f\"R2: {r2_score(y_true=y_test, y_pred=y_hat)}\")\n",
    "print(f\"RMSE: {rmse(y_true=y_test, y_pred=y_hat)}\")\n",
    "print(f\"SMAPE: {smape(y_true=y_test, y_pred=y_hat)}\")\n",
    "print(f\"RMSPE: {rmspe(y_true=y_test, y_pred=y_hat)}\")"
   ]
  }
 ],
 "metadata": {
  "kernelspec": {
   "display_name": "base",
   "language": "python",
   "name": "python3"
  },
  "language_info": {
   "codemirror_mode": {
    "name": "ipython",
    "version": 3
   },
   "file_extension": ".py",
   "mimetype": "text/x-python",
   "name": "python",
   "nbconvert_exporter": "python",
   "pygments_lexer": "ipython3",
   "version": "3.11.7"
  }
 },
 "nbformat": 4,
 "nbformat_minor": 2
}
