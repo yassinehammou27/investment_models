{
 "cells": [
  {
   "cell_type": "markdown",
   "metadata": {},
   "source": [
    "# 05 Modelling (Hybrid Model)\n",
    "\n",
    "In this notebook, we apply and test a hybrid model architecture (combining clustering and classification using residual error)."
   ]
  },
  {
   "cell_type": "code",
   "execution_count": 86,
   "metadata": {},
   "outputs": [],
   "source": [
    "import pandas as pd\n",
    "import numpy as np\n",
    "from sklearn.metrics import mean_squared_error, r2_score, mean_absolute_error, mean_absolute_percentage_error\n",
    "\n",
    "from xgboost import XGBRegressor\n",
    "import plotly.express as px\n",
    "from sklearn.preprocessing import StandardScaler\n",
    "from sklearn.decomposition import PCA\n",
    "from sklearn.cluster import KMeans\n",
    "from sklearn.neighbors import KNeighborsClassifier\n"
   ]
  },
  {
   "cell_type": "code",
   "execution_count": 87,
   "metadata": {},
   "outputs": [],
   "source": [
    "df_train = pd.read_csv(\"data/df_train_app.csv\", index_col=0).dropna(subset=\"population\")\n",
    "df_test = pd.read_csv(\"data/df_test_app.csv\", index_col=0).dropna(subset=\"population\")\n",
    "df_val = pd.read_csv(\"data/df_val_app.csv\", index_col=0).dropna(subset=\"population\")"
   ]
  },
  {
   "cell_type": "code",
   "execution_count": 88,
   "metadata": {},
   "outputs": [],
   "source": [
    "# some loss functions\n",
    "def rmse(y_true, y_pred):\n",
    "    return np.sqrt(np.mean((y_pred - y_true) ** 2))\n",
    "\n",
    "def smape(y_true, y_pred):\n",
    "    return np.mean(200 * np.abs(y_pred - y_true) / (np.abs(y_true) + np.abs(y_pred)))\n",
    "\n",
    "def rmspe(y_true, y_pred):\n",
    "    epsilon = 1e-6  # Small constant to avoid division by zero\n",
    "    return np.sqrt(np.mean(((y_true - y_pred) / (y_true + epsilon)) ** 2))"
   ]
  },
  {
   "cell_type": "code",
   "execution_count": 89,
   "metadata": {},
   "outputs": [],
   "source": [
    "df_train_2 = df_train.dropna(subset=\"population\")\n",
    "df_test_2 = df_test.dropna(subset=\"population\")\n",
    "df_val_2 = df_val.dropna(subset=\"population\")"
   ]
  },
  {
   "cell_type": "code",
   "execution_count": 90,
   "metadata": {},
   "outputs": [],
   "source": [
    "X_train_prior = df_train_2.drop(columns=[\"appreciation\", \"price\", \"id\", \"prior_saledate\", \"prior_price\"])\n",
    "X_val_prior = df_val_2.drop(columns=[\"appreciation\",\"price\", \"id\", \"prior_saledate\", \"prior_price\"])\n",
    "X_test_prior = df_test_2.drop(columns=[\"appreciation\",\"price\", \"id\", \"prior_saledate\", \"prior_price\"])\n",
    "\n",
    "y_train = df_train_2.loc[:, \"price\"]\n",
    "y_val = df_val_2.loc[:, \"price\"]\n",
    "y_test = df_test_2.loc[:, \"price\"]"
   ]
  },
  {
   "cell_type": "code",
   "execution_count": 91,
   "metadata": {},
   "outputs": [],
   "source": [
    "y_train_prior = df_train_2.loc[:, \"prior_price\"]\n",
    "y_val_prior = df_val_2.loc[:, \"prior_price\"]\n",
    "y_test_prior = df_test_2.loc[:, \"prior_price\"]"
   ]
  },
  {
   "cell_type": "code",
   "execution_count": 92,
   "metadata": {},
   "outputs": [],
   "source": [
    "columns = ['city', 'yrblt', 'effyrblt', 'nbed', 'nbath', 'nhalfbath', 'livarea',\n",
    "       'efflivarea', 'distance_aerodrome', 'distance_ferry_terminal',\n",
    "       'distance_railway_station', 'distance_market', 'distance_hospital',\n",
    "       'distance_hotel', 'distance_museum', 'n_reli_inst', 'n_edu_fac',\n",
    "       'n_healthcare', 'n_emergency', 'n_animalcare', 'n_commu_venu',\n",
    "       'n_commu_serv', 'n_food_drink', 'n_financial', 'n_transport',\n",
    "       'n_entertainment', 'n_sports', 'n_utilities', 'n_accommodation',\n",
    "       'n_government_civic', 'n_recreational', 'year', 'hpi',\n",
    "       'household_income', 'new_housing', 'population', 'n_poverty',\n",
    "       'n_poverty_young', 'unemployment_rate', 'n_employed', 'age', 'eff_age',\n",
    "       'longitude', 'latitude', 'county_Fairfield', 'county_Litchfield',\n",
    "       'cond_desc_Average', 'cond_desc_Fair', 'cond_desc_Good',\n",
    "       'cond_desc_Poor']"
   ]
  },
  {
   "cell_type": "code",
   "execution_count": 93,
   "metadata": {},
   "outputs": [],
   "source": [
    "X_train_prior = X_train_prior[columns]\n",
    "X_test_prior = X_test_prior[columns]\n",
    "X_val_prior = X_val_prior[columns]"
   ]
  },
  {
   "cell_type": "code",
   "execution_count": 94,
   "metadata": {},
   "outputs": [],
   "source": [
    "pca = PCA(n_components=3)"
   ]
  },
  {
   "cell_type": "code",
   "execution_count": 95,
   "metadata": {},
   "outputs": [],
   "source": [
    "X_train_prior_2 = pd.concat([X_train_prior, pd.DataFrame(pca.fit_transform(X_train_prior), index=X_train_prior.index)], axis=1)\n",
    "X_val_prior_2 = pd.concat([X_val_prior, pd.DataFrame(pca.fit_transform(X_val_prior), index=X_val_prior.index)], axis=1)\n",
    "X_test_prior_2 = pd.concat([X_test_prior, pd.DataFrame(pca.fit_transform(X_test_prior), index=X_test_prior.index)], axis=1)"
   ]
  },
  {
   "cell_type": "code",
   "execution_count": 96,
   "metadata": {},
   "outputs": [],
   "source": [
    "columns = ['longitude', 'latitude', 'county_Fairfax', 'county_Fairfield',\n",
    "       'county_Hartford', 'county_Litchfield', 'county_Middlesex',\n",
    "       'county_New Haven', 'county_New London', 'county_Tolland',\n",
    "       'county_Windham', 'state_Connecticut', 'state_Virginia',\n",
    "       'cond_desc_Average', 'cond_desc_Average Plus', 'cond_desc_Fair',\n",
    "       'cond_desc_Good', 'cond_desc_Poor']\n",
    "columns = list(set(X_train_prior_2.columns) & set(columns))\n",
    "X_train_prior_2 = X_train_prior_2.rename(columns={0:\"pca_0\", 1:\"pca_1\", 2:\"pca_2\"})\n",
    "X_test_prior_2 = X_test_prior_2.rename(columns={0:\"pca_0\", 1:\"pca_1\", 2:\"pca_2\"})\n",
    "X_val_prior_2 = X_val_prior_2.rename(columns={0:\"pca_0\", 1:\"pca_1\", 2:\"pca_2\"})\n",
    "\n",
    "\n",
    "scaler = StandardScaler()\n",
    "\n",
    "X_train_scaled = X_train_prior_2.drop(columns=columns)\n",
    "X_test_scaled = X_test_prior_2.drop(columns=columns)\n",
    "X_val_scaled = X_val_prior_2.drop(columns=columns)\n",
    "X_train_scaled = pd.DataFrame(scaler.fit_transform(X_train_scaled), columns=X_train_scaled.columns, index=X_train_scaled.index)\n",
    "X_test_scaled = pd.DataFrame(scaler.transform(X_test_scaled), columns=X_test_scaled.columns, index=X_test_scaled.index)\n",
    "X_val_scaled = pd.DataFrame(scaler.transform(X_val_scaled), columns=X_val_scaled.columns, index=X_val_scaled.index)\n",
    "X_train_scaled = pd.concat([X_train_prior.loc[:, columns], X_train_scaled], axis=1)\n",
    "X_test_scaled = pd.concat([X_test_prior.loc[:, columns], X_test_scaled], axis=1)\n",
    "X_val_scaled = pd.concat([X_val_prior.loc[:, columns], X_val_scaled], axis=1)"
   ]
  },
  {
   "cell_type": "code",
   "execution_count": 97,
   "metadata": {},
   "outputs": [
    {
     "name": "stderr",
     "output_type": "stream",
     "text": [
      "/opt/anaconda3/lib/python3.11/site-packages/sklearn/cluster/_kmeans.py:870: FutureWarning: The default value of `n_init` will change from 10 to 'auto' in 1.4. Set the value of `n_init` explicitly to suppress the warning\n",
      "  warnings.warn(\n"
     ]
    },
    {
     "data": {
      "text/html": [
       "<style>#sk-container-id-3 {color: black;background-color: white;}#sk-container-id-3 pre{padding: 0;}#sk-container-id-3 div.sk-toggleable {background-color: white;}#sk-container-id-3 label.sk-toggleable__label {cursor: pointer;display: block;width: 100%;margin-bottom: 0;padding: 0.3em;box-sizing: border-box;text-align: center;}#sk-container-id-3 label.sk-toggleable__label-arrow:before {content: \"▸\";float: left;margin-right: 0.25em;color: #696969;}#sk-container-id-3 label.sk-toggleable__label-arrow:hover:before {color: black;}#sk-container-id-3 div.sk-estimator:hover label.sk-toggleable__label-arrow:before {color: black;}#sk-container-id-3 div.sk-toggleable__content {max-height: 0;max-width: 0;overflow: hidden;text-align: left;background-color: #f0f8ff;}#sk-container-id-3 div.sk-toggleable__content pre {margin: 0.2em;color: black;border-radius: 0.25em;background-color: #f0f8ff;}#sk-container-id-3 input.sk-toggleable__control:checked~div.sk-toggleable__content {max-height: 200px;max-width: 100%;overflow: auto;}#sk-container-id-3 input.sk-toggleable__control:checked~label.sk-toggleable__label-arrow:before {content: \"▾\";}#sk-container-id-3 div.sk-estimator input.sk-toggleable__control:checked~label.sk-toggleable__label {background-color: #d4ebff;}#sk-container-id-3 div.sk-label input.sk-toggleable__control:checked~label.sk-toggleable__label {background-color: #d4ebff;}#sk-container-id-3 input.sk-hidden--visually {border: 0;clip: rect(1px 1px 1px 1px);clip: rect(1px, 1px, 1px, 1px);height: 1px;margin: -1px;overflow: hidden;padding: 0;position: absolute;width: 1px;}#sk-container-id-3 div.sk-estimator {font-family: monospace;background-color: #f0f8ff;border: 1px dotted black;border-radius: 0.25em;box-sizing: border-box;margin-bottom: 0.5em;}#sk-container-id-3 div.sk-estimator:hover {background-color: #d4ebff;}#sk-container-id-3 div.sk-parallel-item::after {content: \"\";width: 100%;border-bottom: 1px solid gray;flex-grow: 1;}#sk-container-id-3 div.sk-label:hover label.sk-toggleable__label {background-color: #d4ebff;}#sk-container-id-3 div.sk-serial::before {content: \"\";position: absolute;border-left: 1px solid gray;box-sizing: border-box;top: 0;bottom: 0;left: 50%;z-index: 0;}#sk-container-id-3 div.sk-serial {display: flex;flex-direction: column;align-items: center;background-color: white;padding-right: 0.2em;padding-left: 0.2em;position: relative;}#sk-container-id-3 div.sk-item {position: relative;z-index: 1;}#sk-container-id-3 div.sk-parallel {display: flex;align-items: stretch;justify-content: center;background-color: white;position: relative;}#sk-container-id-3 div.sk-item::before, #sk-container-id-3 div.sk-parallel-item::before {content: \"\";position: absolute;border-left: 1px solid gray;box-sizing: border-box;top: 0;bottom: 0;left: 50%;z-index: -1;}#sk-container-id-3 div.sk-parallel-item {display: flex;flex-direction: column;z-index: 1;position: relative;background-color: white;}#sk-container-id-3 div.sk-parallel-item:first-child::after {align-self: flex-end;width: 50%;}#sk-container-id-3 div.sk-parallel-item:last-child::after {align-self: flex-start;width: 50%;}#sk-container-id-3 div.sk-parallel-item:only-child::after {width: 0;}#sk-container-id-3 div.sk-dashed-wrapped {border: 1px dashed gray;margin: 0 0.4em 0.5em 0.4em;box-sizing: border-box;padding-bottom: 0.4em;background-color: white;}#sk-container-id-3 div.sk-label label {font-family: monospace;font-weight: bold;display: inline-block;line-height: 1.2em;}#sk-container-id-3 div.sk-label-container {text-align: center;}#sk-container-id-3 div.sk-container {/* jupyter's `normalize.less` sets `[hidden] { display: none; }` but bootstrap.min.css set `[hidden] { display: none !important; }` so we also need the `!important` here to be able to override the default hidden behavior on the sphinx rendered scikit-learn.org. See: https://github.com/scikit-learn/scikit-learn/issues/21755 */display: inline-block !important;position: relative;}#sk-container-id-3 div.sk-text-repr-fallback {display: none;}</style><div id=\"sk-container-id-3\" class=\"sk-top-container\"><div class=\"sk-text-repr-fallback\"><pre>KMeans(n_clusters=6, random_state=42)</pre><b>In a Jupyter environment, please rerun this cell to show the HTML representation or trust the notebook. <br />On GitHub, the HTML representation is unable to render, please try loading this page with nbviewer.org.</b></div><div class=\"sk-container\" hidden><div class=\"sk-item\"><div class=\"sk-estimator sk-toggleable\"><input class=\"sk-toggleable__control sk-hidden--visually\" id=\"sk-estimator-id-3\" type=\"checkbox\" checked><label for=\"sk-estimator-id-3\" class=\"sk-toggleable__label sk-toggleable__label-arrow\">KMeans</label><div class=\"sk-toggleable__content\"><pre>KMeans(n_clusters=6, random_state=42)</pre></div></div></div></div></div>"
      ],
      "text/plain": [
       "KMeans(n_clusters=6, random_state=42)"
      ]
     },
     "execution_count": 97,
     "metadata": {},
     "output_type": "execute_result"
    }
   ],
   "source": [
    "k = 6 # You can choose the number of clusters based on your analysis\n",
    "kmeans = KMeans(n_clusters=k, random_state=42)\n",
    "kmeans.fit(X_train_scaled)"
   ]
  },
  {
   "cell_type": "code",
   "execution_count": 98,
   "metadata": {},
   "outputs": [],
   "source": [
    "X_train_prior_2 = pd.concat([X_train_prior_2, pd.DataFrame(kmeans.transform(X_train_scaled), index=X_train_prior_2.index)], axis=1)\n",
    "X_test_prior_2 = pd.concat([X_test_prior_2, pd.DataFrame(kmeans.transform(X_test_scaled), index=X_test_prior_2.index)], axis=1)\n",
    "X_val_prior_2= pd.concat([X_val_prior_2, pd.DataFrame(kmeans.transform(X_val_scaled), index=X_val_prior_2.index)], axis=1)"
   ]
  },
  {
   "cell_type": "markdown",
   "metadata": {},
   "source": [
    "### Predict Prior Price"
   ]
  },
  {
   "cell_type": "code",
   "execution_count": 99,
   "metadata": {},
   "outputs": [
    {
     "name": "stdout",
     "output_type": "stream",
     "text": [
      "MSE: 21857016793.08298\n",
      "MAE: 59325.246938719196\n",
      "MAPE: 0.31774004512544185\n",
      "R2: 0.8246679351354798\n",
      "RMSE: 147841.18774239803\n",
      "SMAPE: 18.22856502266729\n",
      "RMSPE: 2.6964687697536567\n"
     ]
    }
   ],
   "source": [
    "# predict prior price\n",
    "parameters = {\"objective\": 'reg:squarederror',\n",
    "            \"n_estimators\":350,  # Number of boosting rounds\n",
    "            \"learning_rate\":0.1,  # Step size shrinkage\n",
    "            \"max_depth\":10,  # Maximum depth of a tree\n",
    "            }\n",
    "\n",
    "    \n",
    "model_prior = XGBRegressor(**parameters)\n",
    "model_prior.fit(X_train_prior_2, y_train_prior)\n",
    "y_hat_prior = model_prior.predict(X_val_prior_2)\n",
    "\n",
    "print(f\"MSE: {mean_squared_error(y_true=y_val_prior, y_pred=y_hat_prior)}\")\n",
    "print(f\"MAE: {mean_absolute_error(y_true=y_val_prior, y_pred=y_hat_prior)}\")\n",
    "print(f\"MAPE: {mean_absolute_percentage_error(y_true=y_val_prior, y_pred=y_hat_prior)}\")\n",
    "print(f\"R2: {r2_score(y_true=y_val_prior, y_pred=y_hat_prior)}\")\n",
    "print(f\"RMSE: {rmse(y_true=y_val_prior, y_pred=y_hat_prior)}\")\n",
    "print(f\"SMAPE: {smape(y_true=y_val_prior, y_pred=y_hat_prior)}\")\n",
    "print(f\"RMSPE: {rmspe(y_true=y_val_prior, y_pred=y_hat_prior)}\")"
   ]
  },
  {
   "cell_type": "code",
   "execution_count": 100,
   "metadata": {},
   "outputs": [],
   "source": [
    "y_hat_train = model_prior.predict(X_train_prior_2)\n",
    "y_hat_val = model_prior.predict(X_val_prior_2)\n",
    "y_hat_test = model_prior.predict(X_test_prior_2)"
   ]
  },
  {
   "cell_type": "code",
   "execution_count": 101,
   "metadata": {},
   "outputs": [],
   "source": [
    "residual = model_prior.predict(X_train_prior_2) - y_train"
   ]
  },
  {
   "cell_type": "code",
   "execution_count": 102,
   "metadata": {},
   "outputs": [],
   "source": [
    "columns = ['longitude', 'latitude', 'county_Fairfax', 'county_Fairfield',\n",
    "       'county_Hartford', 'county_Litchfield', 'county_Middlesex',\n",
    "       'county_New Haven', 'county_New London', 'county_Tolland',\n",
    "       'county_Windham', 'state_Connecticut', 'state_Virginia',\n",
    "       'cond_desc_Average', 'cond_desc_Average Plus', 'cond_desc_Fair',\n",
    "       'cond_desc_Good', 'cond_desc_Poor']\n",
    "columns = list(set(X_train_prior_2.columns) & set(columns))\n",
    "X_train_prior_2 = X_train_prior_2.rename(columns={0:\"c_0\", 1:\"c_1\", 2:\"c_2\", 3:\"c_3\", 4:\"c_4\",5:\"c_5\"})\n",
    "X_test_prior_2 = X_test_prior_2.rename(columns={0:\"c_0\", 1:\"c_1\", 2:\"c_2\", 3:\"c_3\", 4:\"c_4\",5:\"c_5\"})\n",
    "X_val_prior_2 = X_val_prior_2.rename(columns={0:\"c_0\", 1:\"c_1\", 2:\"c_2\", 3:\"c_3\", 4:\"c_4\",5:\"c_5\"})\n",
    "\n",
    "\n",
    "\n",
    "scaler = StandardScaler()\n",
    "\n",
    "X_train_scaled = X_train_prior_2.drop(columns=columns)\n",
    "X_test_scaled = X_test_prior_2.drop(columns=columns)\n",
    "X_val_scaled = X_val_prior_2.drop(columns=columns)\n",
    "X_train_scaled = pd.DataFrame(scaler.fit_transform(X_train_scaled), columns=X_train_scaled.columns, index=X_train_scaled.index)\n",
    "X_test_scaled = pd.DataFrame(scaler.transform(X_test_scaled), columns=X_test_scaled.columns, index=X_test_scaled.index)\n",
    "X_val_scaled = pd.DataFrame(scaler.transform(X_val_scaled), columns=X_val_scaled.columns, index=X_val_scaled.index)\n",
    "X_train_scaled = pd.concat([X_train_prior_2.loc[:, columns], X_train_scaled], axis=1)\n",
    "X_test_scaled = pd.concat([X_test_prior_2.loc[:, columns], X_test_scaled], axis=1)\n",
    "X_val_scaled = pd.concat([X_val_prior_2.loc[:, columns], X_val_scaled], axis=1)"
   ]
  },
  {
   "cell_type": "code",
   "execution_count": 103,
   "metadata": {},
   "outputs": [],
   "source": [
    "scaler = StandardScaler()\n",
    "scaled_residuals = scaler.fit_transform(residual.to_frame())"
   ]
  },
  {
   "cell_type": "code",
   "execution_count": 104,
   "metadata": {},
   "outputs": [],
   "source": [
    "X_train_scaled[\"residuals\"] = scaled_residuals"
   ]
  },
  {
   "cell_type": "code",
   "execution_count": 105,
   "metadata": {},
   "outputs": [
    {
     "name": "stderr",
     "output_type": "stream",
     "text": [
      "/opt/anaconda3/lib/python3.11/site-packages/sklearn/cluster/_kmeans.py:870: FutureWarning: The default value of `n_init` will change from 10 to 'auto' in 1.4. Set the value of `n_init` explicitly to suppress the warning\n",
      "  warnings.warn(\n"
     ]
    }
   ],
   "source": [
    "k = 4 # You can choose the number of clusters based on your analysis\n",
    "kmeans = KMeans(n_clusters=k, random_state=42)\n",
    "clusters = kmeans.fit_predict(X_train_scaled)"
   ]
  },
  {
   "cell_type": "code",
   "execution_count": 106,
   "metadata": {},
   "outputs": [],
   "source": [
    "X_train_scaled = X_train_scaled.drop(columns=\"residuals\")"
   ]
  },
  {
   "cell_type": "code",
   "execution_count": 107,
   "metadata": {},
   "outputs": [],
   "source": [
    "model = KNeighborsClassifier(n_neighbors=6)\n",
    "model.fit(X_train_scaled, clusters)\n",
    "test_labels = model.predict(X_test_scaled)\n",
    "val_labels = model.predict(X_val_scaled)"
   ]
  },
  {
   "cell_type": "code",
   "execution_count": 108,
   "metadata": {},
   "outputs": [],
   "source": [
    "X_train_3 = X_train_prior_2.copy()\n",
    "X_test_3 = X_test_prior_2.copy()\n",
    "X_val_3 = X_val_prior_2.copy()"
   ]
  },
  {
   "cell_type": "code",
   "execution_count": 109,
   "metadata": {},
   "outputs": [],
   "source": [
    "X_train_3[\"cluster\"] = clusters\n",
    "X_test_3[\"cluster\"] = test_labels\n",
    "X_val_3[\"cluster\"] = val_labels"
   ]
  },
  {
   "cell_type": "code",
   "execution_count": 110,
   "metadata": {},
   "outputs": [],
   "source": [
    "X_train_cl0 = X_train_3[X_train_3.cluster == 0].drop(columns=\"cluster\")\n",
    "X_test_cl0 = X_test_3[X_test_3.cluster == 0].drop(columns=\"cluster\")\n",
    "X_val_cl0 = X_val_3[X_val_3.cluster == 0].drop(columns=\"cluster\")\n",
    "\n",
    "y_train_prior_cl0 = y_train_prior[X_train_cl0.index]\n",
    "y_test_prior_cl0 = y_test_prior[X_test_cl0.index]\n",
    "y_val_prior_cl0 = y_val_prior[X_val_cl0.index]\n",
    "\n",
    "y_train_cl0 = y_train[X_train_cl0.index]\n",
    "y_test_cl0 = y_test[X_test_cl0.index]\n",
    "y_val_cl0 = y_val[X_val_cl0.index]\n",
    "\n",
    "X_train_cl1 = X_train_3[X_train_3.cluster == 1].drop(columns=\"cluster\")\n",
    "X_test_cl1 = X_test_3[X_test_3.cluster == 1].drop(columns=\"cluster\")\n",
    "X_val_cl1 = X_val_3[X_val_3.cluster == 1].drop(columns=\"cluster\")\n",
    "\n",
    "y_train_prior_cl1 = y_train_prior[X_train_cl1.index]\n",
    "y_test_prior_cl1 = y_test_prior[X_test_cl1.index]\n",
    "y_val_prior_cl1 = y_val_prior[X_val_cl1.index]\n",
    "\n",
    "y_train_cl1 = y_train[X_train_cl1.index]\n",
    "y_test_cl1 = y_test[X_test_cl1.index]\n",
    "y_val_cl1 = y_val[X_val_cl1.index]\n",
    "\n",
    "\n",
    "X_train_cl2 = X_train_3[X_train_3.cluster == 2].drop(columns=\"cluster\")\n",
    "X_test_cl2 = X_test_3[X_test_3.cluster == 2].drop(columns=\"cluster\")\n",
    "X_val_cl2 = X_val_3[X_val_3.cluster == 2].drop(columns=\"cluster\")\n",
    "\n",
    "y_train_prior_cl2 = y_train_prior[X_train_cl2.index]\n",
    "y_test_prior_cl2 = y_test_prior[X_test_cl2.index]\n",
    "y_val_prior_cl2 = y_val_prior[X_val_cl2.index]\n",
    "\n",
    "y_train_cl2 = y_train[X_train_cl2.index]\n",
    "y_test_cl2 = y_test[X_test_cl2.index]\n",
    "y_val_cl2 = y_val[X_val_cl2.index]\n",
    "\n",
    "X_train_cl3 = X_train_3[X_train_3.cluster == 3].drop(columns=\"cluster\")\n",
    "X_test_cl3 = X_test_3[X_test_3.cluster == 3].drop(columns=\"cluster\")\n",
    "X_val_cl3 = X_val_3[X_val_3.cluster == 3].drop(columns=\"cluster\")\n",
    "\n",
    "y_train_prior_cl3 = y_train_prior[X_train_cl3.index]\n",
    "y_test_prior_cl3 = y_test_prior[X_test_cl3.index]\n",
    "y_val_prior_cl3 = y_val_prior[X_val_cl3.index]\n",
    "\n",
    "y_train_cl3 = y_train[X_train_cl3.index]\n",
    "y_test_cl3 = y_test[X_test_cl3.index]\n",
    "y_val_cl3 = y_val[X_val_cl3.index]"
   ]
  },
  {
   "cell_type": "code",
   "execution_count": 111,
   "metadata": {},
   "outputs": [
    {
     "name": "stdout",
     "output_type": "stream",
     "text": [
      "MSE: 36602784109.54706\n",
      "MAE: 81192.34259111251\n",
      "MAPE: 0.4446207662748165\n",
      "R2: 0.8131663218472218\n",
      "RMSE: 191318.5409455839\n",
      "SMAPE: 24.228147716313057\n",
      "RMSPE: 3.1025060196093515\n"
     ]
    }
   ],
   "source": [
    "parameters = {\"objective\": 'reg:squarederror',\n",
    "            \"n_estimators\":350,  # Number of boosting rounds\n",
    "            \"learning_rate\":0.11,  # Step size shrinkage\n",
    "            \"max_depth\":10,  # Maximum depth of a tree\n",
    "            }\n",
    "\n",
    "    \n",
    "model = XGBRegressor(**parameters)\n",
    "model.fit(X_train_cl0, y_train_prior_cl0)\n",
    "y_hat_train_prior_0 = model.predict(X_train_cl0)\n",
    "y_hat_val_prior_0 = model.predict(X_val_cl0) \n",
    "y_hat_test_prior_0 = model.predict(X_test_cl0) \n",
    "\n",
    "print(f\"MSE: {mean_squared_error(y_true=y_val_prior_cl0, y_pred=y_hat_val_prior_0)}\")\n",
    "print(f\"MAE: {mean_absolute_error(y_true=y_val_prior_cl0, y_pred=y_hat_val_prior_0)}\")\n",
    "print(f\"MAPE: {mean_absolute_percentage_error(y_true=y_val_prior_cl0, y_pred=y_hat_val_prior_0)}\")\n",
    "print(f\"R2: {r2_score(y_true=y_val_prior_cl0, y_pred=y_hat_val_prior_0)}\")\n",
    "print(f\"RMSE: {rmse(y_true=y_val_prior_cl0, y_pred=y_hat_val_prior_0)}\")\n",
    "print(f\"SMAPE: {smape(y_true=y_val_prior_cl0, y_pred=y_hat_val_prior_0)}\")\n",
    "print(f\"RMSPE: {rmspe(y_true=y_val_prior_cl0, y_pred=y_hat_val_prior_0)}\")    "
   ]
  },
  {
   "cell_type": "code",
   "execution_count": 112,
   "metadata": {},
   "outputs": [
    {
     "name": "stdout",
     "output_type": "stream",
     "text": [
      "MSE: 6276431298.47345\n",
      "MAE: 33404.86909655906\n",
      "MAPE: 0.08137021061944143\n",
      "R2: 0.9154065543968974\n",
      "RMSE: 79223.93134951995\n",
      "SMAPE: 7.645481521342433\n",
      "RMSPE: 0.16945566854708913\n"
     ]
    }
   ],
   "source": [
    "parameters = {\"objective\": 'reg:squarederror',\n",
    "            \"n_estimators\":350,  # Number of boosting rounds\n",
    "            \"learning_rate\":0.1,  # Step size shrinkage\n",
    "            \"max_depth\":10,  # Maximum depth of a tree\n",
    "            }\n",
    "\n",
    "    \n",
    "model = XGBRegressor(**parameters)\n",
    "model.fit(X_train_cl1, y_train_prior_cl1)\n",
    "y_hat_train_prior_1 = model.predict(X_train_cl1)\n",
    "y_hat_val_prior_1 = model.predict(X_val_cl1) \n",
    "y_hat_test_prior_1 = model.predict(X_test_cl1) \n",
    "\n",
    "print(f\"MSE: {mean_squared_error(y_true=y_val_prior_cl1, y_pred=y_hat_val_prior_1)}\")\n",
    "print(f\"MAE: {mean_absolute_error(y_true=y_val_prior_cl1, y_pred=y_hat_val_prior_1)}\")\n",
    "print(f\"MAPE: {mean_absolute_percentage_error(y_true=y_val_prior_cl1, y_pred=y_hat_val_prior_1)}\")\n",
    "print(f\"R2: {r2_score(y_true=y_val_prior_cl1, y_pred=y_hat_val_prior_1)}\")\n",
    "print(f\"RMSE: {rmse(y_true=y_val_prior_cl1, y_pred=y_hat_val_prior_1)}\")\n",
    "print(f\"SMAPE: {smape(y_true=y_val_prior_cl1, y_pred=y_hat_val_prior_1)}\")\n",
    "print(f\"RMSPE: {rmspe(y_true=y_val_prior_cl1, y_pred=y_hat_val_prior_1)}\")    "
   ]
  },
  {
   "cell_type": "code",
   "execution_count": 113,
   "metadata": {},
   "outputs": [
    {
     "name": "stdout",
     "output_type": "stream",
     "text": [
      "MSE: 34944389496.12374\n",
      "MAE: 68937.85330369484\n",
      "MAPE: 0.5906724199485736\n",
      "R2: 0.6225023895376279\n",
      "RMSE: 186934.18493181962\n",
      "SMAPE: 32.33248472026234\n",
      "RMSPE: 3.3624653548484664\n"
     ]
    }
   ],
   "source": [
    "parameters = {\"objective\": 'reg:squarederror',\n",
    "            \"n_estimators\":400,  # Number of boosting rounds\n",
    "            \"learning_rate\":0.1,  # Step size shrinkage\n",
    "            \"max_depth\":7,  # Maximum depth of a tree\n",
    "            }\n",
    "\n",
    "    \n",
    "model = XGBRegressor(**parameters)\n",
    "model.fit(X_train_cl2, y_train_prior_cl2)\n",
    "y_hat_train_prior_2 = model.predict(X_train_cl2)\n",
    "y_hat_val_prior_2 = model.predict(X_val_cl2) \n",
    "y_hat_test_prior_2 = model.predict(X_test_cl2) \n",
    "\n",
    "print(f\"MSE: {mean_squared_error(y_true=y_val_prior_cl2, y_pred=y_hat_val_prior_2)}\")\n",
    "print(f\"MAE: {mean_absolute_error(y_true=y_val_prior_cl2, y_pred=y_hat_val_prior_2)}\")\n",
    "print(f\"MAPE: {mean_absolute_percentage_error(y_true=y_val_prior_cl2, y_pred=y_hat_val_prior_2)}\")\n",
    "print(f\"R2: {r2_score(y_true=y_val_prior_cl2, y_pred=y_hat_val_prior_2)}\")\n",
    "print(f\"RMSE: {rmse(y_true=y_val_prior_cl2, y_pred=y_hat_val_prior_2)}\")\n",
    "print(f\"SMAPE: {smape(y_true=y_val_prior_cl2, y_pred=y_hat_val_prior_2)}\")\n",
    "print(f\"RMSPE: {rmspe(y_true=y_val_prior_cl2, y_pred=y_hat_val_prior_2)}\")    "
   ]
  },
  {
   "cell_type": "code",
   "execution_count": 114,
   "metadata": {},
   "outputs": [
    {
     "name": "stdout",
     "output_type": "stream",
     "text": [
      "MSE: 25972250404.560394\n",
      "MAE: 74675.29088968004\n",
      "MAPE: 0.6997323102444674\n",
      "R2: 0.5798276131683539\n",
      "RMSE: 161159.08415153145\n",
      "SMAPE: 33.86389447482056\n",
      "RMSPE: 4.608707225083973\n"
     ]
    }
   ],
   "source": [
    "parameters = {\"objective\": 'reg:squarederror',\n",
    "            \"n_estimators\":400,  # Number of boosting rounds\n",
    "            \"learning_rate\":0.1,  # Step size shrinkage\n",
    "            \"max_depth\":5,  # Maximum depth of a tree\n",
    "            }\n",
    "\n",
    "    \n",
    "model = XGBRegressor(**parameters)\n",
    "model.fit(X_train_cl3, y_train_prior_cl3)\n",
    "y_hat_train_prior_3 = model.predict(X_train_cl3)\n",
    "y_hat_val_prior_3 = model.predict(X_val_cl3) \n",
    "y_hat_test_prior_3 = model.predict(X_test_cl3) \n",
    "\n",
    "print(f\"MSE: {mean_squared_error(y_true=y_val_prior_cl3, y_pred=y_hat_val_prior_3)}\")\n",
    "print(f\"MAE: {mean_absolute_error(y_true=y_val_prior_cl3, y_pred=y_hat_val_prior_3)}\")\n",
    "print(f\"MAPE: {mean_absolute_percentage_error(y_true=y_val_prior_cl3, y_pred=y_hat_val_prior_3)}\")\n",
    "print(f\"R2: {r2_score(y_true=y_val_prior_cl3, y_pred=y_hat_val_prior_3)}\")\n",
    "print(f\"RMSE: {rmse(y_true=y_val_prior_cl3, y_pred=y_hat_val_prior_3)}\")\n",
    "print(f\"SMAPE: {smape(y_true=y_val_prior_cl3, y_pred=y_hat_val_prior_3)}\")\n",
    "print(f\"RMSPE: {rmspe(y_true=y_val_prior_cl3, y_pred=y_hat_val_prior_3)}\")    "
   ]
  },
  {
   "cell_type": "code",
   "execution_count": 115,
   "metadata": {},
   "outputs": [],
   "source": [
    "y_hat_prior_cl = np.concatenate([y_hat_val_prior_0, y_hat_val_prior_1, y_hat_val_prior_2, y_hat_val_prior_3])\n",
    "y_val_prior_cl = np.concatenate([y_val_prior_cl0, y_val_prior_cl1, y_val_prior_cl2, y_val_prior_cl3])"
   ]
  },
  {
   "cell_type": "code",
   "execution_count": 116,
   "metadata": {},
   "outputs": [
    {
     "name": "stdout",
     "output_type": "stream",
     "text": [
      "MSE: 21447522050.374027\n",
      "MAE: 57950.50339881633\n",
      "MAPE: 0.30904263853707187\n",
      "R2: 0.827952809712373\n",
      "RMSE: 146449.7253338975\n",
      "SMAPE: 17.894151436580213\n",
      "RMSPE: 2.539574743484283\n"
     ]
    }
   ],
   "source": [
    "print(f\"MSE: {mean_squared_error(y_true=y_val_prior_cl, y_pred=y_hat_prior_cl)}\")\n",
    "print(f\"MAE: {mean_absolute_error(y_true=y_val_prior_cl, y_pred=y_hat_prior_cl)}\")\n",
    "print(f\"MAPE: {mean_absolute_percentage_error(y_true=y_val_prior_cl, y_pred=y_hat_prior_cl)}\")\n",
    "print(f\"R2: {r2_score(y_true=y_val_prior_cl, y_pred=y_hat_prior_cl)}\")\n",
    "print(f\"RMSE: {rmse(y_true=y_val_prior_cl, y_pred=y_hat_prior_cl)}\")\n",
    "print(f\"SMAPE: {smape(y_true=y_val_prior_cl, y_pred=y_hat_prior_cl)}\")\n",
    "print(f\"RMSPE: {rmspe(y_true=y_val_prior_cl, y_pred=y_hat_prior_cl)}\")    "
   ]
  },
  {
   "cell_type": "code",
   "execution_count": 117,
   "metadata": {},
   "outputs": [],
   "source": [
    "X_train_appr_cl0 = X_train_cl0.copy()\n",
    "X_test_appr_cl0 = X_test_cl0.copy()\n",
    "X_val_appr_cl0 = X_val_cl0.copy()\n",
    "\n",
    "X_train_appr_cl0[\"pred_prior_price\"] = y_hat_train_prior_0\n",
    "X_test_appr_cl0[\"pred_prior_price\"] = y_hat_test_prior_0\n",
    "X_val_appr_cl0[\"pred_prior_price\"] = y_hat_val_prior_0\n",
    "\n",
    "X_train_appr_cl1 = X_train_cl1.copy()\n",
    "X_test_appr_cl1 = X_test_cl1.copy()\n",
    "X_val_appr_cl1 = X_val_cl1.copy()\n",
    "\n",
    "X_train_appr_cl1[\"pred_prior_price\"] = y_hat_train_prior_1\n",
    "X_test_appr_cl1[\"pred_prior_price\"] = y_hat_test_prior_1\n",
    "X_val_appr_cl1[\"pred_prior_price\"] = y_hat_val_prior_1\n",
    "\n",
    "\n",
    "X_train_appr_cl2 = X_train_cl2.copy()\n",
    "X_test_appr_cl2 = X_test_cl2.copy()\n",
    "X_val_appr_cl2 = X_val_cl2.copy()\n",
    "\n",
    "X_train_appr_cl2[\"pred_prior_price\"] = y_hat_train_prior_2\n",
    "X_test_appr_cl2[\"pred_prior_price\"] = y_hat_test_prior_2\n",
    "X_val_appr_cl2[\"pred_prior_price\"] = y_hat_val_prior_2\n",
    "\n",
    "X_train_appr_cl3 = X_train_cl3.copy()\n",
    "X_test_appr_cl3 = X_test_cl3.copy()\n",
    "X_val_appr_cl3 = X_val_cl3.copy()\n",
    "\n",
    "X_train_appr_cl3[\"pred_prior_price\"] = y_hat_train_prior_3\n",
    "X_test_appr_cl3[\"pred_prior_price\"] = y_hat_test_prior_3\n",
    "X_val_appr_cl3[\"pred_prior_price\"] = y_hat_val_prior_3"
   ]
  },
  {
   "cell_type": "code",
   "execution_count": 118,
   "metadata": {},
   "outputs": [
    {
     "name": "stdout",
     "output_type": "stream",
     "text": [
      "MSE: 41403052151.22462\n",
      "MAE: 80511.47946441131\n",
      "MAPE: 0.23396853328194966\n",
      "R2: 0.8502142677617776\n",
      "RMSE: 203477.39960797763\n",
      "SMAPE: 17.145084850533802\n",
      "RMSPE: 1.2168591287157695\n"
     ]
    }
   ],
   "source": [
    "parameters = {\"objective\": 'reg:squarederror',\n",
    "            \"n_estimators\":350,  # Number of boosting rounds\n",
    "            \"learning_rate\":0.11,  # Step size shrinkage\n",
    "            \"max_depth\":10,  # Maximum depth of a tree\n",
    "            }\n",
    "\n",
    "    \n",
    "model = XGBRegressor(**parameters)\n",
    "model.fit(X_train_appr_cl0, y_train_cl0)\n",
    "y_hat_val_appr_0 = model.predict(X_val_appr_cl0) \n",
    "\n",
    "print(f\"MSE: {mean_squared_error(y_true=y_val_cl0, y_pred=y_hat_val_appr_0)}\")\n",
    "print(f\"MAE: {mean_absolute_error(y_true=y_val_cl0, y_pred=y_hat_val_appr_0)}\")\n",
    "print(f\"MAPE: {mean_absolute_percentage_error(y_true=y_val_cl0, y_pred=y_hat_val_appr_0)}\")\n",
    "print(f\"R2: {r2_score(y_true=y_val_cl0, y_pred=y_hat_val_appr_0)}\")\n",
    "print(f\"RMSE: {rmse(y_true=y_val_cl0, y_pred=y_hat_val_appr_0)}\")\n",
    "print(f\"SMAPE: {smape(y_true=y_val_cl0, y_pred=y_hat_val_appr_0)}\")\n",
    "print(f\"RMSPE: {rmspe(y_true=y_val_cl0, y_pred=y_hat_val_appr_0)}\")    "
   ]
  },
  {
   "cell_type": "code",
   "execution_count": 119,
   "metadata": {},
   "outputs": [
    {
     "name": "stdout",
     "output_type": "stream",
     "text": [
      "MSE: 12221633110.900297\n",
      "MAE: 44904.63342503658\n",
      "MAPE: 0.07152920622623775\n",
      "R2: 0.9074594555362846\n",
      "RMSE: 110551.49529020536\n",
      "SMAPE: 7.009758859562851\n",
      "RMSPE: 0.11004791733832704\n"
     ]
    }
   ],
   "source": [
    "parameters = {\"objective\": 'reg:squarederror',\n",
    "            \"n_estimators\":350,  # Number of boosting rounds\n",
    "            \"learning_rate\":0.1,  # Step size shrinkage\n",
    "            \"max_depth\":10,  # Maximum depth of a tree\n",
    "            }\n",
    "\n",
    "    \n",
    "model = XGBRegressor(**parameters)\n",
    "model.fit(X_train_appr_cl1, y_train_cl1)\n",
    "y_hat_val_appr_1 = model.predict(X_val_appr_cl1)\n",
    "\n",
    "print(f\"MSE: {mean_squared_error(y_true=y_val_cl1, y_pred=y_hat_val_appr_1)}\")\n",
    "print(f\"MAE: {mean_absolute_error(y_true=y_val_cl1, y_pred=y_hat_val_appr_1)}\")\n",
    "print(f\"MAPE: {mean_absolute_percentage_error(y_true=y_val_cl1, y_pred=y_hat_val_appr_1)}\")\n",
    "print(f\"R2: {r2_score(y_true=y_val_cl1, y_pred=y_hat_val_appr_1)}\")\n",
    "print(f\"RMSE: {rmse(y_true=y_val_cl1, y_pred=y_hat_val_appr_1)}\")\n",
    "print(f\"SMAPE: {smape(y_true=y_val_cl1, y_pred=y_hat_val_appr_1)}\")\n",
    "print(f\"RMSPE: {rmspe(y_true=y_val_cl1, y_pred=y_hat_val_appr_1)}\")    "
   ]
  },
  {
   "cell_type": "code",
   "execution_count": 120,
   "metadata": {},
   "outputs": [
    {
     "name": "stdout",
     "output_type": "stream",
     "text": [
      "MSE: 62332872356.49772\n",
      "MAE: 86537.12258128748\n",
      "MAPE: 0.3045684569324735\n",
      "R2: 0.6890521362998783\n",
      "RMSE: 249665.52096053975\n",
      "SMAPE: 21.932744211582904\n",
      "RMSPE: 0.8344672057435556\n"
     ]
    }
   ],
   "source": [
    "parameters = {\"objective\": 'reg:squarederror',\n",
    "            \"n_estimators\":400,  # Number of boosting rounds\n",
    "            \"learning_rate\":0.1,  # Step size shrinkage\n",
    "            \"max_depth\":7,  # Maximum depth of a tree\n",
    "            }\n",
    "\n",
    "    \n",
    "model = XGBRegressor(**parameters)\n",
    "model.fit(X_train_appr_cl2, y_train_cl2)\n",
    "y_hat_val_appr_2 = model.predict(X_val_appr_cl2) \n",
    "\n",
    "print(f\"MSE: {mean_squared_error(y_true=y_val_cl2, y_pred=y_hat_val_appr_2)}\")\n",
    "print(f\"MAE: {mean_absolute_error(y_true=y_val_cl2, y_pred=y_hat_val_appr_2)}\")\n",
    "print(f\"MAPE: {mean_absolute_percentage_error(y_true=y_val_cl2, y_pred=y_hat_val_appr_2)}\")\n",
    "print(f\"R2: {r2_score(y_true=y_val_cl2, y_pred=y_hat_val_appr_2)}\")\n",
    "print(f\"RMSE: {rmse(y_true=y_val_cl2, y_pred=y_hat_val_appr_2)}\")\n",
    "print(f\"SMAPE: {smape(y_true=y_val_cl2, y_pred=y_hat_val_appr_2)}\")\n",
    "print(f\"RMSPE: {rmspe(y_true=y_val_cl2, y_pred=y_hat_val_appr_2)}\")    "
   ]
  },
  {
   "cell_type": "code",
   "execution_count": 121,
   "metadata": {},
   "outputs": [
    {
     "name": "stdout",
     "output_type": "stream",
     "text": [
      "MSE: 41481036096.91843\n",
      "MAE: 77384.67844817598\n",
      "MAPE: 0.3383735836537267\n",
      "R2: 0.5163267621392051\n",
      "RMSE: 203668.93748659472\n",
      "SMAPE: 21.858733143697986\n",
      "RMSPE: 1.147480379700474\n"
     ]
    }
   ],
   "source": [
    "parameters = {\"objective\": 'reg:squarederror',\n",
    "            \"n_estimators\":400,  # Number of boosting rounds\n",
    "            \"learning_rate\":0.1,  # Step size shrinkage\n",
    "            \"max_depth\":5,  # Maximum depth of a tree\n",
    "            }\n",
    "\n",
    "    \n",
    "model = XGBRegressor(**parameters)\n",
    "model.fit(X_train_appr_cl3, y_train_cl3)\n",
    "y_hat_val_appr_3 = model.predict(X_val_appr_cl3)\n",
    "\n",
    "print(f\"MSE: {mean_squared_error(y_true=y_val_cl3, y_pred=y_hat_val_appr_3)}\")\n",
    "print(f\"MAE: {mean_absolute_error(y_true=y_val_cl3, y_pred=y_hat_val_appr_3)}\")\n",
    "print(f\"MAPE: {mean_absolute_percentage_error(y_true=y_val_cl3, y_pred=y_hat_val_appr_3)}\")\n",
    "print(f\"R2: {r2_score(y_true=y_val_cl3, y_pred=y_hat_val_appr_3)}\")\n",
    "print(f\"RMSE: {rmse(y_true=y_val_cl3, y_pred=y_hat_val_appr_3)}\")\n",
    "print(f\"SMAPE: {smape(y_true=y_val_cl3, y_pred=y_hat_val_appr_3)}\")\n",
    "print(f\"RMSPE: {rmspe(y_true=y_val_cl3, y_pred=y_hat_val_appr_3)}\")    "
   ]
  },
  {
   "cell_type": "code",
   "execution_count": 122,
   "metadata": {},
   "outputs": [],
   "source": [
    "y_hat_cl = np.concatenate([y_hat_val_appr_0, y_hat_val_appr_1, y_hat_val_appr_2, y_hat_val_appr_3])\n",
    "y_val_cl = np.concatenate([y_val_cl0, y_val_cl1, y_val_cl2, y_val_cl3])"
   ]
  },
  {
   "cell_type": "code",
   "execution_count": 123,
   "metadata": {},
   "outputs": [],
   "source": [
    "y_hat_appr = (y_hat_cl - y_hat_prior_cl)/y_hat_prior_cl"
   ]
  },
  {
   "cell_type": "code",
   "execution_count": 124,
   "metadata": {},
   "outputs": [],
   "source": [
    "y_appr = (y_val_cl - y_hat_prior_cl)/y_hat_prior_cl"
   ]
  },
  {
   "cell_type": "code",
   "execution_count": 125,
   "metadata": {},
   "outputs": [
    {
     "name": "stdout",
     "output_type": "stream",
     "text": [
      "MSE: 0.713839594942796\n",
      "MAE: 0.2115166235708938\n",
      "MAPE: 4.094289411880109\n",
      "R2: 0.8800447896855709\n",
      "RMSE: 0.8448902857429454\n",
      "SMAPE: 57.13114370846846\n",
      "RMSPE: 296.9851326910885\n"
     ]
    }
   ],
   "source": [
    "print(f\"MSE: {mean_squared_error(y_true=y_appr, y_pred=y_hat_appr)}\")\n",
    "print(f\"MAE: {mean_absolute_error(y_true=y_appr, y_pred=y_hat_appr)}\")\n",
    "print(f\"MAPE: {mean_absolute_percentage_error(y_true=y_appr, y_pred=y_hat_appr)}\")\n",
    "print(f\"R2: {r2_score(y_true=y_appr, y_pred=y_hat_appr)}\")\n",
    "print(f\"RMSE: {rmse(y_true=y_appr, y_pred=y_hat_appr)}\")\n",
    "print(f\"SMAPE: {smape(y_true=y_appr, y_pred=y_hat_appr)}\")\n",
    "print(f\"RMSPE: {rmspe(y_true=y_appr, y_pred=y_hat_appr)}\")"
   ]
  }
 ],
 "metadata": {
  "kernelspec": {
   "display_name": "base",
   "language": "python",
   "name": "python3"
  },
  "language_info": {
   "codemirror_mode": {
    "name": "ipython",
    "version": 3
   },
   "file_extension": ".py",
   "mimetype": "text/x-python",
   "name": "python",
   "nbconvert_exporter": "python",
   "pygments_lexer": "ipython3",
   "version": "3.11.7"
  }
 },
 "nbformat": 4,
 "nbformat_minor": 2
}
