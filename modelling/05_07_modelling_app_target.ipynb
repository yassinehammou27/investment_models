{
 "cells": [
  {
   "cell_type": "markdown",
   "metadata": {},
   "source": [
    "# 05 Modelling (Different Targets)\n",
    "\n",
    "In this notebook, we test different targets to predict for our house price appreciation task."
   ]
  },
  {
   "cell_type": "code",
   "execution_count": 1,
   "metadata": {},
   "outputs": [],
   "source": [
    "import pandas as pd\n",
    "import numpy as np\n",
    "from sklearn.metrics import mean_squared_error, r2_score, mean_absolute_error, mean_absolute_percentage_error\n",
    "\n",
    "from xgboost import XGBRegressor\n",
    "import plotly.express as px\n"
   ]
  },
  {
   "cell_type": "code",
   "execution_count": 2,
   "metadata": {},
   "outputs": [],
   "source": [
    "df_train = pd.read_csv(\"data/df_train_app.csv\", index_col=0).dropna(subset=\"population\")\n",
    "df_test = pd.read_csv(\"data/df_test_app.csv\", index_col=0).dropna(subset=\"population\")\n",
    "df_val = pd.read_csv(\"data/df_val_app.csv\", index_col=0).dropna(subset=\"population\")"
   ]
  },
  {
   "cell_type": "code",
   "execution_count": 3,
   "metadata": {},
   "outputs": [],
   "source": [
    "X_train = df_train.drop(columns=[\"appreciation\", \"price\", \"id\", \"prior_saledate\"])\n",
    "X_val = df_val.drop(columns=[\"appreciation\",\"price\", \"id\", \"prior_saledate\"])\n",
    "X_test = df_test.drop(columns=[\"appreciation\",\"price\", \"id\", \"prior_saledate\"])"
   ]
  },
  {
   "cell_type": "code",
   "execution_count": 4,
   "metadata": {},
   "outputs": [],
   "source": [
    "# some loss functions\n",
    "def rmse(y_true, y_pred):\n",
    "    return np.sqrt(np.mean((y_pred - y_true) ** 2))\n",
    "\n",
    "def smape(y_true, y_pred):\n",
    "    return np.mean(200 * np.abs(y_pred - y_true) / (np.abs(y_true) + np.abs(y_pred)))\n",
    "\n",
    "def rmspe(y_true, y_pred):\n",
    "    epsilon = 1e-6  # Small constant to avoid division by zero\n",
    "    return np.sqrt(np.mean(((y_true - y_pred) / (y_true + epsilon)) ** 2))"
   ]
  },
  {
   "cell_type": "markdown",
   "metadata": {},
   "source": [
    "### Two Models"
   ]
  },
  {
   "cell_type": "code",
   "execution_count": 5,
   "metadata": {},
   "outputs": [],
   "source": [
    "df_train_2 = df_train.dropna(subset=\"population\")\n",
    "df_test_2 = df_test.dropna(subset=\"population\")\n",
    "df_val_2 = df_val.dropna(subset=\"population\")"
   ]
  },
  {
   "cell_type": "code",
   "execution_count": 6,
   "metadata": {},
   "outputs": [],
   "source": [
    "X_train = df_train_2.drop(columns=[\"appreciation\", \"price\", \"id\", \"prior_saledate\"])\n",
    "X_val = df_val_2.drop(columns=[\"appreciation\",\"price\", \"id\", \"prior_saledate\"])\n",
    "X_test = df_test_2.drop(columns=[\"appreciation\",\"price\", \"id\", \"prior_saledate\"])\n",
    "\n",
    "y_train = df_train_2.loc[:, \"price\"]\n",
    "y_val = df_val_2.loc[:, \"price\"]\n",
    "y_test = df_test_2.loc[:, \"price\"]"
   ]
  },
  {
   "cell_type": "code",
   "execution_count": 7,
   "metadata": {},
   "outputs": [],
   "source": [
    "X_train_prior = df_train_2.drop(columns=[\"appreciation\", \"price\", \"id\", \"prior_saledate\", \"prior_price\"])\n",
    "X_val_prior= df_val_2.drop(columns=[\"appreciation\",\"price\", \"id\", \"prior_saledate\", \"prior_price\"])\n",
    "X_test_prior = df_test_2.drop(columns=[\"appreciation\",\"price\", \"id\", \"prior_saledate\", \"prior_price\"])\n",
    "\n",
    "y_train_prior = df_train_2.loc[:, \"prior_price\"]\n",
    "y_val_prior = df_val_2.loc[:, \"prior_price\"]\n",
    "y_test_prior = df_test_2.loc[:, \"prior_price\"]"
   ]
  },
  {
   "cell_type": "code",
   "execution_count": 8,
   "metadata": {},
   "outputs": [
    {
     "name": "stdout",
     "output_type": "stream",
     "text": [
      "MSE: 21704888896.82967\n",
      "MAE: 58299.635753514776\n",
      "MAPE: 0.3146561731832743\n",
      "R2: 0.8258882708485414\n",
      "RMSE: 147325.79168913251\n",
      "SMAPE: 17.919337958652473\n",
      "RMSPE: 2.6823619780099146\n"
     ]
    }
   ],
   "source": [
    "# predict prior price\n",
    "\n",
    "parameters = {\"objective\": 'reg:squarederror',\n",
    "            \"n_estimators\":350,  # Number of boosting rounds\n",
    "            \"learning_rate\":0.1,  # Step size shrinkage\n",
    "            \"max_depth\":10,  # Maximum depth of a tree\n",
    "            }\n",
    "\n",
    "    \n",
    "model_prior = XGBRegressor(**parameters)\n",
    "model_prior.fit(X_train_prior, y_train_prior)\n",
    "y_hat_prior = model_prior.predict(X_val_prior)\n",
    "\n",
    "print(f\"MSE: {mean_squared_error(y_true=y_val_prior, y_pred=y_hat_prior)}\")\n",
    "print(f\"MAE: {mean_absolute_error(y_true=y_val_prior, y_pred=y_hat_prior)}\")\n",
    "print(f\"MAPE: {mean_absolute_percentage_error(y_true=y_val_prior, y_pred=y_hat_prior)}\")\n",
    "print(f\"R2: {r2_score(y_true=y_val_prior, y_pred=y_hat_prior)}\")\n",
    "print(f\"RMSE: {rmse(y_true=y_val_prior, y_pred=y_hat_prior)}\")\n",
    "print(f\"SMAPE: {smape(y_true=y_val_prior, y_pred=y_hat_prior)}\")\n",
    "print(f\"RMSPE: {rmspe(y_true=y_val_prior, y_pred=y_hat_prior)}\")"
   ]
  },
  {
   "cell_type": "code",
   "execution_count": 9,
   "metadata": {},
   "outputs": [],
   "source": [
    "y_hat_train = model_prior.predict(X_train_prior)\n",
    "y_hat_val = model_prior.predict(X_val_prior)\n",
    "y_hat_test = model_prior.predict(X_test_prior)"
   ]
  },
  {
   "cell_type": "code",
   "execution_count": 10,
   "metadata": {},
   "outputs": [],
   "source": [
    "X_train_appr = X_train.drop(columns=\"prior_price\")\n",
    "X_test_appr = X_test.drop(columns=\"prior_price\")\n",
    "X_val_appr = X_val.drop(columns=\"prior_price\")\n",
    "\n",
    "X_train_appr[\"pred_prior_price\"] = y_hat_train\n",
    "X_val_appr[\"pred_prior_price\"] = y_hat_val\n",
    "X_test_appr[\"pred_prior_price\"] = y_hat_test"
   ]
  },
  {
   "cell_type": "code",
   "execution_count": 13,
   "metadata": {},
   "outputs": [],
   "source": [
    "y_train = (y_train - y_hat_train)/y_hat_train\n",
    "y_test = (y_test - y_hat_test)/y_hat_test\n",
    "y_val = (y_val - y_hat_val)/y_hat_val"
   ]
  },
  {
   "cell_type": "code",
   "execution_count": 14,
   "metadata": {},
   "outputs": [
    {
     "name": "stdout",
     "output_type": "stream",
     "text": [
      "MSE: 10.520264029386734\n",
      "MAE: 0.26979589066504883\n",
      "MAPE: 2.474398654486511\n",
      "R2: -0.7894539775419616\n",
      "RMSE: 3.2434956496636054\n",
      "SMAPE: 58.53926273949068\n",
      "RMSPE: 73.05214897847561\n"
     ]
    }
   ],
   "source": [
    "# predict feature price\n",
    "parameters = {\"objective\": 'reg:squarederror',\n",
    "            \"n_estimators\":350,  # Number of boosting rounds\n",
    "            \"learning_rate\":0.1,  # Step size shrinkage\n",
    "            \"max_depth\":10,  # Maximum depth of a tree\n",
    "            }\n",
    "\n",
    "    \n",
    "model = XGBRegressor(**parameters)\n",
    "model.fit(X_train_appr, y_train)\n",
    "y_hat = model.predict(X_val_appr)\n",
    "\n",
    "print(f\"MSE: {mean_squared_error(y_true=y_val, y_pred=y_hat)}\")\n",
    "print(f\"MAE: {mean_absolute_error(y_true=y_val, y_pred=y_hat)}\")\n",
    "print(f\"MAPE: {mean_absolute_percentage_error(y_true=y_val, y_pred=y_hat)}\")\n",
    "print(f\"R2: {r2_score(y_true=y_val, y_pred=y_hat)}\")\n",
    "print(f\"RMSE: {rmse(y_true=y_val, y_pred=y_hat)}\")\n",
    "print(f\"SMAPE: {smape(y_true=y_val, y_pred=y_hat)}\")\n",
    "print(f\"RMSPE: {rmspe(y_true=y_val, y_pred=y_hat)}\")"
   ]
  },
  {
   "cell_type": "markdown",
   "metadata": {},
   "source": [
    "- As expected through the insights we got through the data analysis and the fact that we have no clear correlated features with the target and non observable clear patterns between features and the target, we observe a very bad performance when trying to predict the appreciation directly. This supports our approach to first predict the future house price and then calculate appreciation manually."
   ]
  }
 ],
 "metadata": {
  "kernelspec": {
   "display_name": "base",
   "language": "python",
   "name": "python3"
  },
  "language_info": {
   "codemirror_mode": {
    "name": "ipython",
    "version": 3
   },
   "file_extension": ".py",
   "mimetype": "text/x-python",
   "name": "python",
   "nbconvert_exporter": "python",
   "pygments_lexer": "ipython3",
   "version": "3.11.7"
  }
 },
 "nbformat": 4,
 "nbformat_minor": 2
}
