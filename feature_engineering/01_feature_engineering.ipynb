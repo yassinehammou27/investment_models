{
 "cells": [
  {
   "cell_type": "code",
   "execution_count": null,
   "metadata": {},
   "outputs": [],
   "source": [
    "import pandas as pd\n",
    "import datetime"
   ]
  },
  {
   "cell_type": "code",
   "execution_count": null,
   "metadata": {},
   "outputs": [],
   "source": [
    "df_connecticut = pd.read_csv(\"data/df_connecticut_cleaned.csv\", nrows=20, index_col=[0], parse_dates=[\"saledate\"]).reset_index(drop=True)\n",
    "df_fairfax = pd.read_csv(\"data/df_fairfax_cleaned.csv\", nrows=20, index_col=[0], parse_dates=[\"saledate\"]).reset_index(drop=True)"
   ]
  },
  {
   "cell_type": "code",
   "execution_count": null,
   "metadata": {},
   "outputs": [],
   "source": [
    "df_fairfax[\"saledate\"] = pd.to_datetime(df_fairfax.saledate.dt.date)"
   ]
  },
  {
   "cell_type": "code",
   "execution_count": null,
   "metadata": {},
   "outputs": [],
   "source": [
    "df_combined = pd.concat([df_fairfax, df_connecticut], ignore_index=True)"
   ]
  },
  {
   "cell_type": "code",
   "execution_count": null,
   "metadata": {},
   "outputs": [],
   "source": [
    "df_combined.loc[:,\"year\"] = df_combined.saledate.dt.year\n",
    "df_combined.loc[:,\"month\"] = df_combined.saledate.dt.month"
   ]
  },
  {
   "cell_type": "code",
   "execution_count": null,
   "metadata": {},
   "outputs": [],
   "source": [
    "df_combined = df_combined[df_combined[\"year\"] > 1989]"
   ]
  },
  {
   "cell_type": "code",
   "execution_count": null,
   "metadata": {},
   "outputs": [],
   "source": [
    "# read in economic data\n",
    "yearly_econ = pd.read_csv(\"data/yearly_econ_data.csv\", index_col=[0], parse_dates=[\"date\"])\n",
    "monthly_econ = pd.read_csv(\"data/monthly_econ_data.csv\", index_col=[0], parse_dates=[\"date\"])"
   ]
  },
  {
   "cell_type": "code",
   "execution_count": null,
   "metadata": {},
   "outputs": [],
   "source": [
    "yearly_econ[\"year\"] = yearly_econ.date.dt.year"
   ]
  },
  {
   "cell_type": "code",
   "execution_count": null,
   "metadata": {},
   "outputs": [],
   "source": [
    "monthly_econ[\"year\"] = monthly_econ.date.dt.year\n",
    "monthly_econ[\"month\"] = monthly_econ.date.dt.month"
   ]
  },
  {
   "cell_type": "code",
   "execution_count": null,
   "metadata": {},
   "outputs": [],
   "source": [
    "monthly_econ[\"county\"] = monthly_econ.county.str.title()\n",
    "yearly_econ[\"county\"] = yearly_econ.county.str.title()"
   ]
  },
  {
   "cell_type": "code",
   "execution_count": null,
   "metadata": {},
   "outputs": [],
   "source": [
    "df_combined = (df_combined\n",
    " .merge(yearly_econ, how=\"left\", on=[\"county\", \"year\"])\n",
    " .merge(monthly_econ, how=\"left\", on=[\"county\", \"year\", \"month\"])\n",
    " ).drop(columns=[\"date_x\", \"date_y\"])\n"
   ]
  },
  {
   "cell_type": "code",
   "execution_count": null,
   "metadata": {},
   "outputs": [],
   "source": [
    "df_combined = df_combined[df_combined.yrblt > 1000]"
   ]
  },
  {
   "cell_type": "code",
   "execution_count": null,
   "metadata": {},
   "outputs": [],
   "source": [
    "df_combined.loc[:,\"age\"] = df_combined.year - df_combined.yrblt "
   ]
  },
  {
   "cell_type": "code",
   "execution_count": null,
   "metadata": {},
   "outputs": [],
   "source": [
    "year_now = datetime.datetime.now().year"
   ]
  },
  {
   "cell_type": "code",
   "execution_count": null,
   "metadata": {},
   "outputs": [],
   "source": [
    "df_combined.loc[:,\"time_to_now\"] = year_now - df_combined.year"
   ]
  },
  {
   "cell_type": "code",
   "execution_count": null,
   "metadata": {},
   "outputs": [],
   "source": [
    "df_combined.to_csv(\"df_combined_test.csv\")"
   ]
  }
 ],
 "metadata": {
  "kernelspec": {
   "display_name": "Python 3",
   "language": "python",
   "name": "python3"
  },
  "language_info": {
   "codemirror_mode": {
    "name": "ipython",
    "version": 3
   },
   "file_extension": ".py",
   "mimetype": "text/x-python",
   "name": "python",
   "nbconvert_exporter": "python",
   "pygments_lexer": "ipython3",
   "version": "3.9.0"
  }
 },
 "nbformat": 4,
 "nbformat_minor": 2
}
