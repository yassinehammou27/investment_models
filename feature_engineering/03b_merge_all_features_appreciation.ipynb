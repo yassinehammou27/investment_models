{
 "cells": [
  {
   "cell_type": "markdown",
   "metadata": {},
   "source": [
    "# 03b Feature Engineering (Merge Data)\n",
    "\n",
    "In this notebook we merge our transaction data with our geo features and economic feautures (for our house price appreciation prediction model)."
   ]
  },
  {
   "cell_type": "code",
   "execution_count": 1,
   "metadata": {},
   "outputs": [],
   "source": [
    "import pandas as pd\n",
    "import numpy as np"
   ]
  },
  {
   "cell_type": "markdown",
   "metadata": {},
   "source": [
    "We want to merge:\n",
    "1. Transaction Data\n",
    "2. Geo Features\n",
    "3. Economic Features"
   ]
  },
  {
   "cell_type": "code",
   "execution_count": 2,
   "metadata": {},
   "outputs": [],
   "source": [
    "# load the data\n",
    "df_geo = pd.read_csv(\"../data/cleaned/df_geo_features.csv\", index_col=0) # geo features\n",
    "df_econ_monthly = pd.read_csv(\"../data/cleaned/monthly_econ_data.csv\", index_col=0) # econ features\n",
    "df_econ_yearly = pd.read_csv(\"../data/cleaned/yearly_econ_data.csv\", index_col=0) # econ features\n",
    "df_fairfax_cleaned = pd.read_csv(\"../data/cleaned/df_fairfax_appreciation_cleaned.csv\", index_col=0) # transaction data\n",
    "df_connecticut_cleaned = pd.read_csv(\"../data/cleaned/df_connecticut_appreciation_cleaned.csv\", index_col=0) # transaction data"
   ]
  },
  {
   "cell_type": "code",
   "execution_count": 3,
   "metadata": {},
   "outputs": [],
   "source": [
    "df_fairfax_cleaned[\"addr\"] = df_fairfax_cleaned.addr.str.title()\n",
    "df_fairfax_cleaned[\"city\"] = df_fairfax_cleaned.city.str.title()\n",
    "df_connecticut_cleaned[\"addr\"] = df_connecticut_cleaned.addr.str.title()\n",
    "df_connecticut_cleaned[\"city\"] = df_connecticut_cleaned.city.str.title()"
   ]
  },
  {
   "cell_type": "code",
   "execution_count": 4,
   "metadata": {},
   "outputs": [],
   "source": [
    "df_merge_fairfax = df_fairfax_cleaned.merge(df_geo, how=\"inner\", on=[\"addr\", \"city\", \"county\"])\n",
    "df_merge_connecticut = df_connecticut_cleaned.merge(df_geo, how=\"inner\", on=[\"addr\", \"city\", \"county\"])"
   ]
  },
  {
   "cell_type": "code",
   "execution_count": 5,
   "metadata": {},
   "outputs": [],
   "source": [
    "df_merge_fairfax[\"saledate\"] = pd.to_datetime(df_merge_fairfax.saledate)\n",
    "df_merge_fairfax[\"saledate\"] = pd.to_datetime(df_merge_fairfax.saledate.dt.strftime(\"%Y-%m-%d\"))\n",
    "df_merge_fairfax[\"prior_saledate\"] = pd.to_datetime(df_merge_fairfax.prior_saledate)\n",
    "df_merge_fairfax[\"prior_saledate\"] = pd.to_datetime(df_merge_fairfax.prior_saledate.dt.strftime(\"%Y-%m-%d\"))"
   ]
  },
  {
   "cell_type": "code",
   "execution_count": 6,
   "metadata": {},
   "outputs": [],
   "source": [
    "change_series = pd.to_datetime(df_merge_connecticut[df_merge_connecticut.saledate.str.len() > 10][\"saledate\"]).dt.strftime(\"%Y-%m-%d\")\n",
    "df_merge_connecticut.loc[(df_merge_connecticut.saledate.str.len() > 10), \"saledate\"] = change_series\n",
    "df_merge_connecticut[\"saledate\"] = pd.to_datetime(df_merge_connecticut.saledate)"
   ]
  },
  {
   "cell_type": "code",
   "execution_count": 7,
   "metadata": {},
   "outputs": [],
   "source": [
    "change_series = pd.to_datetime(df_merge_connecticut[df_merge_connecticut.prior_saledate.str.len() > 10][\"prior_saledate\"]).dt.strftime(\"%Y-%m-%d\")\n",
    "df_merge_connecticut.loc[(df_merge_connecticut.prior_saledate.str.len() > 10), \"prior_saledate\"] = change_series\n",
    "df_merge_connecticut[\"prior_saledate\"] = pd.to_datetime(df_merge_connecticut.prior_saledate)"
   ]
  },
  {
   "cell_type": "code",
   "execution_count": 8,
   "metadata": {},
   "outputs": [],
   "source": [
    "df_merge = pd.concat([df_merge_connecticut, df_merge_fairfax])"
   ]
  },
  {
   "cell_type": "markdown",
   "metadata": {},
   "source": [
    "#### Merge Economic Data"
   ]
  },
  {
   "cell_type": "code",
   "execution_count": 9,
   "metadata": {},
   "outputs": [],
   "source": [
    "df_econ_monthly[\"date\"] = pd.to_datetime(df_econ_monthly.date)\n",
    "df_econ_yearly[\"date\"] = pd.to_datetime(df_econ_yearly.date)"
   ]
  },
  {
   "cell_type": "code",
   "execution_count": 10,
   "metadata": {},
   "outputs": [],
   "source": [
    "df_econ_monthly[\"lag_month\"] = df_econ_monthly.date.dt.month + 1 \n",
    "df_econ_monthly[\"lag_year\"] = df_econ_monthly.date.dt.year\n",
    "df_econ_monthly[\"lag_year\"] = np.where(df_econ_monthly.lag_month == 13, df_econ_monthly.lag_year +1, df_econ_monthly.lag_year)\n",
    "df_econ_monthly[\"lag_month\"] = df_econ_monthly.lag_month.replace(13, 1)"
   ]
  },
  {
   "cell_type": "code",
   "execution_count": 11,
   "metadata": {},
   "outputs": [],
   "source": [
    "df_econ_yearly[\"lag_year\"] = df_econ_yearly.date.dt.year +1 "
   ]
  },
  {
   "cell_type": "code",
   "execution_count": 12,
   "metadata": {},
   "outputs": [],
   "source": [
    "df_econ_yearly[\"county\"] = df_econ_yearly.county.str.title()"
   ]
  },
  {
   "cell_type": "code",
   "execution_count": 13,
   "metadata": {},
   "outputs": [],
   "source": [
    "df_econ_monthly[\"county\"] = df_econ_monthly.county.str.title()"
   ]
  },
  {
   "cell_type": "code",
   "execution_count": 14,
   "metadata": {},
   "outputs": [],
   "source": [
    "df_merge[\"year\"] = df_merge.saledate.dt.year\n",
    "df_merge[\"month\"] = df_merge.saledate.dt.month"
   ]
  },
  {
   "cell_type": "code",
   "execution_count": 15,
   "metadata": {},
   "outputs": [],
   "source": [
    "df_merge[\"prior_year\"] = df_merge.prior_saledate.dt.year\n",
    "df_merge[\"prior_month\"] = df_merge.prior_saledate.dt.month"
   ]
  },
  {
   "cell_type": "code",
   "execution_count": 16,
   "metadata": {},
   "outputs": [],
   "source": [
    "df_merge = df_merge.merge(df_econ_yearly, how=\"left\", left_on=[\"prior_year\", \"county\"], right_on=[\"lag_year\", \"county\"])"
   ]
  },
  {
   "cell_type": "code",
   "execution_count": 17,
   "metadata": {},
   "outputs": [],
   "source": [
    "df_merge = df_merge.merge(df_econ_monthly, how=\"left\", left_on=[\"prior_year\", \"prior_month\", \"county\"], right_on=[\"lag_year\", \"lag_month\",\"county\"])"
   ]
  },
  {
   "cell_type": "markdown",
   "metadata": {},
   "source": [
    "#### Merge Coordinates"
   ]
  },
  {
   "cell_type": "code",
   "execution_count": 18,
   "metadata": {},
   "outputs": [],
   "source": [
    "coordinates = pd.read_csv(\"../data/cleaned/final_match.csv\", index_col=0)"
   ]
  },
  {
   "cell_type": "code",
   "execution_count": 20,
   "metadata": {},
   "outputs": [],
   "source": [
    "df_merge = df_merge.merge(coordinates, how=\"left\", on=[\"addr\", \"city\", \"county\"])"
   ]
  },
  {
   "cell_type": "code",
   "execution_count": 22,
   "metadata": {},
   "outputs": [],
   "source": [
    "df_merge.to_csv(\"../data/cleaned/df_appreciation_final.csv\")"
   ]
  }
 ],
 "metadata": {
  "kernelspec": {
   "display_name": "Python 3",
   "language": "python",
   "name": "python3"
  },
  "language_info": {
   "codemirror_mode": {
    "name": "ipython",
    "version": 3
   },
   "file_extension": ".py",
   "mimetype": "text/x-python",
   "name": "python",
   "nbconvert_exporter": "python",
   "pygments_lexer": "ipython3",
   "version": "3.11.7"
  }
 },
 "nbformat": 4,
 "nbformat_minor": 2
}
